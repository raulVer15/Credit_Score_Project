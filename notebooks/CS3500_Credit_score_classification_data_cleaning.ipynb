{
 "cells": [
  {
   "cell_type": "markdown",
   "id": "b1343823",
   "metadata": {
    "jp-MarkdownHeadingCollapsed": true,
    "papermill": {
     "duration": 0.061651,
     "end_time": "2024-09-04T13:11:04.301340",
     "exception": false,
     "start_time": "2024-09-04T13:11:04.239689",
     "status": "completed"
    },
    "tags": []
   },
   "source": [
    "## Objective"
   ]
  },
  {
   "cell_type": "markdown",
   "id": "5ef80d57",
   "metadata": {
    "papermill": {
     "duration": 0.113994,
     "end_time": "2024-09-04T13:11:04.476775",
     "exception": false,
     "start_time": "2024-09-04T13:11:04.362781",
     "status": "completed"
    },
    "tags": []
   },
   "source": [
    "Do a deep dive into data cleaning of credit score dataset from perspective of predictive modelling. Explore and ponder about the standard methods used to detect problematic points."
   ]
  },
  {
   "cell_type": "markdown",
   "id": "12a230e2",
   "metadata": {
    "jp-MarkdownHeadingCollapsed": true,
    "papermill": {
     "duration": 0.061581,
     "end_time": "2024-09-04T13:11:04.600160",
     "exception": false,
     "start_time": "2024-09-04T13:11:04.538579",
     "status": "completed"
    },
    "tags": []
   },
   "source": [
    "## Summary of what you will find"
   ]
  },
  {
   "cell_type": "markdown",
   "id": "2b3719b1",
   "metadata": {
    "papermill": {
     "duration": 0.061266,
     "end_time": "2024-09-04T13:11:04.727565",
     "exception": false,
     "start_time": "2024-09-04T13:11:04.666299",
     "status": "completed"
    },
    "tags": []
   },
   "source": [
    "- In this notebook, you will able to see how an unclean data can be transformed into a clean data using not just only standard outlier detection methods or standard imputations but a thoughtful analysis of choosing the right measures for the right task depending upon the patterns existing wihtin the data.  \n",
    "- Implementation of techniques like IQR, median standardization for outlier detection and how to use the patterns or chronolgical structure within data to make better guesses.  \n",
    "- A deep dive into each column about what can be done to clean the data, fill the missing values and how can we actually implement that.  \n",
    "- Litlle bit of feature engineering from the perspective of predictive modelling.\n",
    "- Custom functions which increase resuability in other projects as well.\n",
    "- Doing outlier detections or erroneous value detections using single columns or referring multiple columns to fill or correct the values.  \n",
    "- Minor things like shuffling data and exporting it into csv will also be shown."
   ]
  },
  {
   "cell_type": "markdown",
   "id": "c3d9137d",
   "metadata": {
    "jp-MarkdownHeadingCollapsed": true,
    "papermill": {
     "duration": 0.062407,
     "end_time": "2024-09-04T13:11:05.479201",
     "exception": false,
     "start_time": "2024-09-04T13:11:05.416794",
     "status": "completed"
    },
    "tags": []
   },
   "source": [
    "## Importing Libraries"
   ]
  },
  {
   "cell_type": "code",
   "execution_count": 956,
   "id": "310333c5",
   "metadata": {
    "execution": {
     "iopub.execute_input": "2024-09-04T13:11:05.605263Z",
     "iopub.status.busy": "2024-09-04T13:11:05.604854Z",
     "iopub.status.idle": "2024-09-04T13:11:07.527475Z",
     "shell.execute_reply": "2024-09-04T13:11:07.526505Z"
    },
    "papermill": {
     "duration": 1.988641,
     "end_time": "2024-09-04T13:11:07.530005",
     "exception": false,
     "start_time": "2024-09-04T13:11:05.541364",
     "status": "completed"
    },
    "tags": []
   },
   "outputs": [
    {
     "name": "stdout",
     "output_type": "stream",
     "text": [
      "Requirement already satisfied: numpy in c:\\users\\seraf\\miniconda3\\lib\\site-packages (2.0.2)\n",
      "Requirement already satisfied: pandas in c:\\users\\seraf\\miniconda3\\lib\\site-packages (2.2.3)\n",
      "Requirement already satisfied: numpy>=1.26.0 in c:\\users\\seraf\\miniconda3\\lib\\site-packages (from pandas) (2.0.2)\n",
      "Requirement already satisfied: python-dateutil>=2.8.2 in c:\\users\\seraf\\appdata\\roaming\\python\\python312\\site-packages (from pandas) (2.9.0.post0)\n",
      "Requirement already satisfied: pytz>=2020.1 in c:\\users\\seraf\\miniconda3\\lib\\site-packages (from pandas) (2024.2)\n",
      "Requirement already satisfied: tzdata>=2022.7 in c:\\users\\seraf\\miniconda3\\lib\\site-packages (from pandas) (2024.2)\n",
      "Requirement already satisfied: six>=1.5 in c:\\users\\seraf\\appdata\\roaming\\python\\python312\\site-packages (from python-dateutil>=2.8.2->pandas) (1.16.0)\n",
      "Requirement already satisfied: matplotlib in c:\\users\\seraf\\miniconda3\\lib\\site-packages (3.9.2)\n",
      "Requirement already satisfied: contourpy>=1.0.1 in c:\\users\\seraf\\miniconda3\\lib\\site-packages (from matplotlib) (1.3.1)\n",
      "Requirement already satisfied: cycler>=0.10 in c:\\users\\seraf\\miniconda3\\lib\\site-packages (from matplotlib) (0.12.1)\n",
      "Requirement already satisfied: fonttools>=4.22.0 in c:\\users\\seraf\\miniconda3\\lib\\site-packages (from matplotlib) (4.55.0)\n",
      "Requirement already satisfied: kiwisolver>=1.3.1 in c:\\users\\seraf\\miniconda3\\lib\\site-packages (from matplotlib) (1.4.7)\n",
      "Requirement already satisfied: numpy>=1.23 in c:\\users\\seraf\\miniconda3\\lib\\site-packages (from matplotlib) (2.0.2)\n",
      "Requirement already satisfied: packaging>=20.0 in c:\\users\\seraf\\appdata\\roaming\\python\\python312\\site-packages (from matplotlib) (24.2)\n",
      "Requirement already satisfied: pillow>=8 in c:\\users\\seraf\\miniconda3\\lib\\site-packages (from matplotlib) (11.0.0)\n",
      "Requirement already satisfied: pyparsing>=2.3.1 in c:\\users\\seraf\\miniconda3\\lib\\site-packages (from matplotlib) (3.2.0)\n",
      "Requirement already satisfied: python-dateutil>=2.7 in c:\\users\\seraf\\appdata\\roaming\\python\\python312\\site-packages (from matplotlib) (2.9.0.post0)\n",
      "Requirement already satisfied: six>=1.5 in c:\\users\\seraf\\appdata\\roaming\\python\\python312\\site-packages (from python-dateutil>=2.7->matplotlib) (1.16.0)\n",
      "Requirement already satisfied: seaborn in c:\\users\\seraf\\miniconda3\\lib\\site-packages (0.13.2)\n",
      "Requirement already satisfied: numpy!=1.24.0,>=1.20 in c:\\users\\seraf\\miniconda3\\lib\\site-packages (from seaborn) (2.0.2)\n",
      "Requirement already satisfied: pandas>=1.2 in c:\\users\\seraf\\miniconda3\\lib\\site-packages (from seaborn) (2.2.3)\n",
      "Requirement already satisfied: matplotlib!=3.6.1,>=3.4 in c:\\users\\seraf\\miniconda3\\lib\\site-packages (from seaborn) (3.9.2)\n",
      "Requirement already satisfied: contourpy>=1.0.1 in c:\\users\\seraf\\miniconda3\\lib\\site-packages (from matplotlib!=3.6.1,>=3.4->seaborn) (1.3.1)\n",
      "Requirement already satisfied: cycler>=0.10 in c:\\users\\seraf\\miniconda3\\lib\\site-packages (from matplotlib!=3.6.1,>=3.4->seaborn) (0.12.1)\n",
      "Requirement already satisfied: fonttools>=4.22.0 in c:\\users\\seraf\\miniconda3\\lib\\site-packages (from matplotlib!=3.6.1,>=3.4->seaborn) (4.55.0)\n",
      "Requirement already satisfied: kiwisolver>=1.3.1 in c:\\users\\seraf\\miniconda3\\lib\\site-packages (from matplotlib!=3.6.1,>=3.4->seaborn) (1.4.7)\n",
      "Requirement already satisfied: packaging>=20.0 in c:\\users\\seraf\\appdata\\roaming\\python\\python312\\site-packages (from matplotlib!=3.6.1,>=3.4->seaborn) (24.2)\n",
      "Requirement already satisfied: pillow>=8 in c:\\users\\seraf\\miniconda3\\lib\\site-packages (from matplotlib!=3.6.1,>=3.4->seaborn) (11.0.0)\n",
      "Requirement already satisfied: pyparsing>=2.3.1 in c:\\users\\seraf\\miniconda3\\lib\\site-packages (from matplotlib!=3.6.1,>=3.4->seaborn) (3.2.0)\n",
      "Requirement already satisfied: python-dateutil>=2.7 in c:\\users\\seraf\\appdata\\roaming\\python\\python312\\site-packages (from matplotlib!=3.6.1,>=3.4->seaborn) (2.9.0.post0)\n",
      "Requirement already satisfied: pytz>=2020.1 in c:\\users\\seraf\\miniconda3\\lib\\site-packages (from pandas>=1.2->seaborn) (2024.2)\n",
      "Requirement already satisfied: tzdata>=2022.7 in c:\\users\\seraf\\miniconda3\\lib\\site-packages (from pandas>=1.2->seaborn) (2024.2)\n",
      "Requirement already satisfied: six>=1.5 in c:\\users\\seraf\\appdata\\roaming\\python\\python312\\site-packages (from python-dateutil>=2.7->matplotlib!=3.6.1,>=3.4->seaborn) (1.16.0)\n"
     ]
    }
   ],
   "source": [
    "!pip install numpy\n",
    "!pip install pandas\n",
    "!pip install matplotlib\n",
    "!pip install seaborn"
   ]
  },
  {
   "cell_type": "code",
   "execution_count": 957,
   "id": "b835644b",
   "metadata": {},
   "outputs": [],
   "source": [
    "\n",
    "# General Packages\n",
    "import os\n",
    "\n",
    "# data hanlding libraries\n",
    "import numpy as np\n",
    "import pandas as pd\n",
    "\n",
    "# visulaization libraries\n",
    "import matplotlib.pyplot as plt\n",
    "import seaborn as sns\n",
    "\n",
    "# extra libraries\n",
    "import warnings\n",
    "warnings.filterwarnings('ignore')"
   ]
  },
  {
   "cell_type": "markdown",
   "id": "19f4ce0a",
   "metadata": {
    "jp-MarkdownHeadingCollapsed": true,
    "papermill": {
     "duration": 0.061313,
     "end_time": "2024-09-04T13:11:07.653606",
     "exception": false,
     "start_time": "2024-09-04T13:11:07.592293",
     "status": "completed"
    },
    "tags": []
   },
   "source": [
    "## Loading the dataset"
   ]
  },
  {
   "cell_type": "code",
   "execution_count": 958,
   "id": "7b8ab5f0",
   "metadata": {
    "execution": {
     "iopub.execute_input": "2024-09-04T13:11:07.779484Z",
     "iopub.status.busy": "2024-09-04T13:11:07.778980Z",
     "iopub.status.idle": "2024-09-04T13:11:09.041458Z",
     "shell.execute_reply": "2024-09-04T13:11:09.040508Z"
    },
    "papermill": {
     "duration": 1.328349,
     "end_time": "2024-09-04T13:11:09.044003",
     "exception": false,
     "start_time": "2024-09-04T13:11:07.715654",
     "status": "completed"
    },
    "tags": []
   },
   "outputs": [],
   "source": [
    "# Load data from a folder called data within my project file\n",
    "#  .. my_project\n",
    "#     |\n",
    "#     |___code\n",
    "#     |   |\n",
    "#     |   |__ CS3500_Starter_Notebook.ipynb\n",
    "#     |\n",
    "#     |___data\n",
    "#         |\n",
    "#         |__ credit_score.csv\n",
    "#\n",
    "#---------------------------------------------------------------\n",
    "\n",
    "# Get the current working directory\n",
    "current_dir = os.getcwd() \n",
    "\n",
    "# Construct a path to the parent directory\n",
    "parent_dir = os.path.join(current_dir, \"..\")\n",
    "\n",
    "# Access a file in the parent directory\n",
    "file_path = os.path.abspath(os.path.join(parent_dir, \"data\", \"credit_score_data.csv\"))    #data\\credit_score_data.csv\n",
    "\n",
    "# Load Credit Score data\n",
    "df = pd.read_csv(file_path) "
   ]
  },
  {
   "cell_type": "markdown",
   "id": "c81d8df5",
   "metadata": {
    "jp-MarkdownHeadingCollapsed": true,
    "papermill": {
     "duration": 0.06216,
     "end_time": "2024-09-04T13:11:09.168358",
     "exception": false,
     "start_time": "2024-09-04T13:11:09.106198",
     "status": "completed"
    },
    "tags": []
   },
   "source": [
    "## Understanding the dataset"
   ]
  },
  {
   "cell_type": "code",
   "execution_count": 959,
   "id": "3dd4aa4b",
   "metadata": {
    "execution": {
     "iopub.execute_input": "2024-09-04T13:11:09.297513Z",
     "iopub.status.busy": "2024-09-04T13:11:09.297134Z",
     "iopub.status.idle": "2024-09-04T13:11:09.333831Z",
     "shell.execute_reply": "2024-09-04T13:11:09.332719Z"
    },
    "papermill": {
     "duration": 0.102752,
     "end_time": "2024-09-04T13:11:09.336073",
     "exception": false,
     "start_time": "2024-09-04T13:11:09.233321",
     "status": "completed"
    },
    "tags": []
   },
   "outputs": [
    {
     "data": {
      "text/html": [
       "<div>\n",
       "<style scoped>\n",
       "    .dataframe tbody tr th:only-of-type {\n",
       "        vertical-align: middle;\n",
       "    }\n",
       "\n",
       "    .dataframe tbody tr th {\n",
       "        vertical-align: top;\n",
       "    }\n",
       "\n",
       "    .dataframe thead th {\n",
       "        text-align: right;\n",
       "    }\n",
       "</style>\n",
       "<table border=\"1\" class=\"dataframe\">\n",
       "  <thead>\n",
       "    <tr style=\"text-align: right;\">\n",
       "      <th></th>\n",
       "      <th>Unnamed: 0</th>\n",
       "      <th>ID</th>\n",
       "      <th>Customer_ID</th>\n",
       "      <th>Month</th>\n",
       "      <th>Name</th>\n",
       "      <th>Age</th>\n",
       "      <th>SSN</th>\n",
       "      <th>Occupation</th>\n",
       "      <th>Annual_Income</th>\n",
       "      <th>Monthly_Inhand_Salary</th>\n",
       "      <th>...</th>\n",
       "      <th>Credit_Mix</th>\n",
       "      <th>Outstanding_Debt</th>\n",
       "      <th>Credit_Utilization_Ratio</th>\n",
       "      <th>Credit_History_Age</th>\n",
       "      <th>Payment_of_Min_Amount</th>\n",
       "      <th>Total_EMI_per_month</th>\n",
       "      <th>Amount_invested_monthly</th>\n",
       "      <th>Payment_Behaviour</th>\n",
       "      <th>Monthly_Balance</th>\n",
       "      <th>Credit_Score</th>\n",
       "    </tr>\n",
       "  </thead>\n",
       "  <tbody>\n",
       "    <tr>\n",
       "      <th>0</th>\n",
       "      <td>0</td>\n",
       "      <td>0x1602</td>\n",
       "      <td>CUS_0xd40</td>\n",
       "      <td>January</td>\n",
       "      <td>Aaron Maashoh</td>\n",
       "      <td>23</td>\n",
       "      <td>821-00-0265</td>\n",
       "      <td>Scientist</td>\n",
       "      <td>19114.12</td>\n",
       "      <td>1824.843333</td>\n",
       "      <td>...</td>\n",
       "      <td>_</td>\n",
       "      <td>809.98</td>\n",
       "      <td>26.822620</td>\n",
       "      <td>22 Years and 1 Months</td>\n",
       "      <td>No</td>\n",
       "      <td>49.574949</td>\n",
       "      <td>80.41529543900253</td>\n",
       "      <td>High_spent_Small_value_payments</td>\n",
       "      <td>312.49408867943663</td>\n",
       "      <td>Good</td>\n",
       "    </tr>\n",
       "    <tr>\n",
       "      <th>1</th>\n",
       "      <td>1</td>\n",
       "      <td>0x1603</td>\n",
       "      <td>CUS_0xd40</td>\n",
       "      <td>February</td>\n",
       "      <td>Aaron Maashoh</td>\n",
       "      <td>23</td>\n",
       "      <td>821-00-0265</td>\n",
       "      <td>Scientist</td>\n",
       "      <td>19114.12</td>\n",
       "      <td>NaN</td>\n",
       "      <td>...</td>\n",
       "      <td>Good</td>\n",
       "      <td>809.98</td>\n",
       "      <td>31.944960</td>\n",
       "      <td>NaN</td>\n",
       "      <td>No</td>\n",
       "      <td>49.574949</td>\n",
       "      <td>118.28022162236736</td>\n",
       "      <td>Low_spent_Large_value_payments</td>\n",
       "      <td>284.62916249607184</td>\n",
       "      <td>Good</td>\n",
       "    </tr>\n",
       "    <tr>\n",
       "      <th>2</th>\n",
       "      <td>2</td>\n",
       "      <td>0x1604</td>\n",
       "      <td>CUS_0xd40</td>\n",
       "      <td>March</td>\n",
       "      <td>Aaron Maashoh</td>\n",
       "      <td>-500</td>\n",
       "      <td>821-00-0265</td>\n",
       "      <td>Scientist</td>\n",
       "      <td>19114.12</td>\n",
       "      <td>NaN</td>\n",
       "      <td>...</td>\n",
       "      <td>Good</td>\n",
       "      <td>809.98</td>\n",
       "      <td>28.609352</td>\n",
       "      <td>22 Years and 3 Months</td>\n",
       "      <td>No</td>\n",
       "      <td>49.574949</td>\n",
       "      <td>81.699521264648</td>\n",
       "      <td>Low_spent_Medium_value_payments</td>\n",
       "      <td>331.2098628537912</td>\n",
       "      <td>Good</td>\n",
       "    </tr>\n",
       "    <tr>\n",
       "      <th>3</th>\n",
       "      <td>3</td>\n",
       "      <td>0x1605</td>\n",
       "      <td>CUS_0xd40</td>\n",
       "      <td>April</td>\n",
       "      <td>Aaron Maashoh</td>\n",
       "      <td>23</td>\n",
       "      <td>821-00-0265</td>\n",
       "      <td>Scientist</td>\n",
       "      <td>19114.12</td>\n",
       "      <td>NaN</td>\n",
       "      <td>...</td>\n",
       "      <td>Good</td>\n",
       "      <td>809.98</td>\n",
       "      <td>31.377862</td>\n",
       "      <td>22 Years and 4 Months</td>\n",
       "      <td>No</td>\n",
       "      <td>49.574949</td>\n",
       "      <td>199.4580743910713</td>\n",
       "      <td>Low_spent_Small_value_payments</td>\n",
       "      <td>223.45130972736786</td>\n",
       "      <td>Good</td>\n",
       "    </tr>\n",
       "    <tr>\n",
       "      <th>4</th>\n",
       "      <td>4</td>\n",
       "      <td>0x1606</td>\n",
       "      <td>CUS_0xd40</td>\n",
       "      <td>May</td>\n",
       "      <td>Aaron Maashoh</td>\n",
       "      <td>23</td>\n",
       "      <td>821-00-0265</td>\n",
       "      <td>Scientist</td>\n",
       "      <td>19114.12</td>\n",
       "      <td>1824.843333</td>\n",
       "      <td>...</td>\n",
       "      <td>Good</td>\n",
       "      <td>809.98</td>\n",
       "      <td>24.797347</td>\n",
       "      <td>22 Years and 5 Months</td>\n",
       "      <td>No</td>\n",
       "      <td>49.574949</td>\n",
       "      <td>41.420153086217326</td>\n",
       "      <td>High_spent_Medium_value_payments</td>\n",
       "      <td>341.48923103222177</td>\n",
       "      <td>Good</td>\n",
       "    </tr>\n",
       "  </tbody>\n",
       "</table>\n",
       "<p>5 rows × 29 columns</p>\n",
       "</div>"
      ],
      "text/plain": [
       "   Unnamed: 0      ID Customer_ID     Month           Name   Age          SSN  \\\n",
       "0           0  0x1602   CUS_0xd40   January  Aaron Maashoh    23  821-00-0265   \n",
       "1           1  0x1603   CUS_0xd40  February  Aaron Maashoh    23  821-00-0265   \n",
       "2           2  0x1604   CUS_0xd40     March  Aaron Maashoh  -500  821-00-0265   \n",
       "3           3  0x1605   CUS_0xd40     April  Aaron Maashoh    23  821-00-0265   \n",
       "4           4  0x1606   CUS_0xd40       May  Aaron Maashoh    23  821-00-0265   \n",
       "\n",
       "  Occupation Annual_Income  Monthly_Inhand_Salary  ...  Credit_Mix  \\\n",
       "0  Scientist      19114.12            1824.843333  ...           _   \n",
       "1  Scientist      19114.12                    NaN  ...        Good   \n",
       "2  Scientist      19114.12                    NaN  ...        Good   \n",
       "3  Scientist      19114.12                    NaN  ...        Good   \n",
       "4  Scientist      19114.12            1824.843333  ...        Good   \n",
       "\n",
       "   Outstanding_Debt  Credit_Utilization_Ratio     Credit_History_Age  \\\n",
       "0            809.98                 26.822620  22 Years and 1 Months   \n",
       "1            809.98                 31.944960                    NaN   \n",
       "2            809.98                 28.609352  22 Years and 3 Months   \n",
       "3            809.98                 31.377862  22 Years and 4 Months   \n",
       "4            809.98                 24.797347  22 Years and 5 Months   \n",
       "\n",
       "  Payment_of_Min_Amount  Total_EMI_per_month Amount_invested_monthly  \\\n",
       "0                    No            49.574949       80.41529543900253   \n",
       "1                    No            49.574949      118.28022162236736   \n",
       "2                    No            49.574949         81.699521264648   \n",
       "3                    No            49.574949       199.4580743910713   \n",
       "4                    No            49.574949      41.420153086217326   \n",
       "\n",
       "                  Payment_Behaviour     Monthly_Balance Credit_Score  \n",
       "0   High_spent_Small_value_payments  312.49408867943663         Good  \n",
       "1    Low_spent_Large_value_payments  284.62916249607184         Good  \n",
       "2   Low_spent_Medium_value_payments   331.2098628537912         Good  \n",
       "3    Low_spent_Small_value_payments  223.45130972736786         Good  \n",
       "4  High_spent_Medium_value_payments  341.48923103222177         Good  \n",
       "\n",
       "[5 rows x 29 columns]"
      ]
     },
     "execution_count": 959,
     "metadata": {},
     "output_type": "execute_result"
    }
   ],
   "source": [
    "df.head()"
   ]
  },
  {
   "cell_type": "code",
   "execution_count": 960,
   "id": "2ef9030c",
   "metadata": {
    "execution": {
     "iopub.execute_input": "2024-09-04T13:11:09.465624Z",
     "iopub.status.busy": "2024-09-04T13:11:09.464562Z",
     "iopub.status.idle": "2024-09-04T13:11:09.471510Z",
     "shell.execute_reply": "2024-09-04T13:11:09.470510Z"
    },
    "papermill": {
     "duration": 0.073861,
     "end_time": "2024-09-04T13:11:09.473564",
     "exception": false,
     "start_time": "2024-09-04T13:11:09.399703",
     "status": "completed"
    },
    "tags": []
   },
   "outputs": [
    {
     "data": {
      "text/plain": [
       "(80000, 29)"
      ]
     },
     "execution_count": 960,
     "metadata": {},
     "output_type": "execute_result"
    }
   ],
   "source": [
    "df.shape"
   ]
  },
  {
   "cell_type": "markdown",
   "id": "2ba9aca0",
   "metadata": {
    "papermill": {
     "duration": 0.06284,
     "end_time": "2024-09-04T13:11:09.599804",
     "exception": false,
     "start_time": "2024-09-04T13:11:09.536964",
     "status": "completed"
    },
    "tags": []
   },
   "source": [
    "Total 80,000 record of customers are available with 28 features(including the target feature)."
   ]
  },
  {
   "cell_type": "code",
   "execution_count": 961,
   "id": "59fc9ffc",
   "metadata": {
    "execution": {
     "iopub.execute_input": "2024-09-04T13:11:09.728787Z",
     "iopub.status.busy": "2024-09-04T13:11:09.728331Z",
     "iopub.status.idle": "2024-09-04T13:11:09.840735Z",
     "shell.execute_reply": "2024-09-04T13:11:09.839226Z"
    },
    "papermill": {
     "duration": 0.181275,
     "end_time": "2024-09-04T13:11:09.843828",
     "exception": false,
     "start_time": "2024-09-04T13:11:09.662553",
     "status": "completed"
    },
    "tags": []
   },
   "outputs": [
    {
     "name": "stdout",
     "output_type": "stream",
     "text": [
      "<class 'pandas.core.frame.DataFrame'>\n",
      "RangeIndex: 80000 entries, 0 to 79999\n",
      "Data columns (total 29 columns):\n",
      " #   Column                    Non-Null Count  Dtype  \n",
      "---  ------                    --------------  -----  \n",
      " 0   Unnamed: 0                80000 non-null  int64  \n",
      " 1   ID                        80000 non-null  object \n",
      " 2   Customer_ID               80000 non-null  object \n",
      " 3   Month                     80000 non-null  object \n",
      " 4   Name                      71988 non-null  object \n",
      " 5   Age                       80000 non-null  object \n",
      " 6   SSN                       80000 non-null  object \n",
      " 7   Occupation                80000 non-null  object \n",
      " 8   Annual_Income             80000 non-null  object \n",
      " 9   Monthly_Inhand_Salary     68024 non-null  float64\n",
      " 10  Num_Bank_Accounts         80000 non-null  int64  \n",
      " 11  Num_Credit_Card           80000 non-null  int64  \n",
      " 12  Interest_Rate             80000 non-null  int64  \n",
      " 13  Num_of_Loan               80000 non-null  object \n",
      " 14  Type_of_Loan              70984 non-null  object \n",
      " 15  Delay_from_due_date       80000 non-null  int64  \n",
      " 16  Num_of_Delayed_Payment    74456 non-null  object \n",
      " 17  Changed_Credit_Limit      80000 non-null  object \n",
      " 18  Num_Credit_Inquiries      78448 non-null  float64\n",
      " 19  Credit_Mix                80000 non-null  object \n",
      " 20  Outstanding_Debt          80000 non-null  object \n",
      " 21  Credit_Utilization_Ratio  80000 non-null  float64\n",
      " 22  Credit_History_Age        72755 non-null  object \n",
      " 23  Payment_of_Min_Amount     80000 non-null  object \n",
      " 24  Total_EMI_per_month       80000 non-null  float64\n",
      " 25  Amount_invested_monthly   76414 non-null  object \n",
      " 26  Payment_Behaviour         80000 non-null  object \n",
      " 27  Monthly_Balance           79038 non-null  object \n",
      " 28  Credit_Score              80000 non-null  object \n",
      "dtypes: float64(4), int64(5), object(20)\n",
      "memory usage: 17.7+ MB\n"
     ]
    }
   ],
   "source": [
    "df.info()"
   ]
  },
  {
   "cell_type": "markdown",
   "id": "589ee8f1",
   "metadata": {
    "papermill": {
     "duration": 0.063276,
     "end_time": "2024-09-04T13:11:10.100973",
     "exception": false,
     "start_time": "2024-09-04T13:11:10.037697",
     "status": "completed"
    },
    "tags": []
   },
   "source": [
    "Looks like the data consists of a brief history of credit score for some customers over some period of months. With each month per customer as one record."
   ]
  },
  {
   "cell_type": "markdown",
   "id": "9bd6185d",
   "metadata": {
    "papermill": {
     "duration": 0.064776,
     "end_time": "2024-09-04T13:11:10.231975",
     "exception": false,
     "start_time": "2024-09-04T13:11:10.167199",
     "status": "completed"
    },
    "tags": []
   },
   "source": [
    "Lets ask some basic questions to understand the data better."
   ]
  },
  {
   "cell_type": "code",
   "execution_count": 962,
   "id": "a2ef657a",
   "metadata": {
    "execution": {
     "iopub.execute_input": "2024-09-04T13:11:10.366332Z",
     "iopub.status.busy": "2024-09-04T13:11:10.365954Z",
     "iopub.status.idle": "2024-09-04T13:11:10.381154Z",
     "shell.execute_reply": "2024-09-04T13:11:10.379989Z"
    },
    "papermill": {
     "duration": 0.086782,
     "end_time": "2024-09-04T13:11:10.383414",
     "exception": false,
     "start_time": "2024-09-04T13:11:10.296632",
     "status": "completed"
    },
    "tags": []
   },
   "outputs": [
    {
     "data": {
      "text/plain": [
       "10000"
      ]
     },
     "execution_count": 962,
     "metadata": {},
     "output_type": "execute_result"
    }
   ],
   "source": [
    "# How many customers are present?\n",
    "df['Customer_ID'].nunique()"
   ]
  },
  {
   "cell_type": "markdown",
   "id": "30df307b",
   "metadata": {
    "papermill": {
     "duration": 0.063768,
     "end_time": "2024-09-04T13:11:10.512088",
     "exception": false,
     "start_time": "2024-09-04T13:11:10.448320",
     "status": "completed"
    },
    "tags": []
   },
   "source": [
    "There are 10,000 customers in the dataset."
   ]
  },
  {
   "cell_type": "code",
   "execution_count": 963,
   "id": "401ad508",
   "metadata": {
    "execution": {
     "iopub.execute_input": "2024-09-04T13:11:10.642381Z",
     "iopub.status.busy": "2024-09-04T13:11:10.641969Z",
     "iopub.status.idle": "2024-09-04T13:11:10.655271Z",
     "shell.execute_reply": "2024-09-04T13:11:10.654159Z"
    },
    "papermill": {
     "duration": 0.081767,
     "end_time": "2024-09-04T13:11:10.657479",
     "exception": false,
     "start_time": "2024-09-04T13:11:10.575712",
     "status": "completed"
    },
    "tags": []
   },
   "outputs": [],
   "source": [
    "# How many unique months are there?\n",
    "#df['Month'].nunique()"
   ]
  },
  {
   "cell_type": "markdown",
   "id": "0ad7df5d",
   "metadata": {
    "papermill": {
     "duration": 0.065638,
     "end_time": "2024-09-04T13:11:10.786980",
     "exception": false,
     "start_time": "2024-09-04T13:11:10.721342",
     "status": "completed"
    },
    "tags": []
   },
   "source": [
    "There are 8 unique months in there. What are the counts of each? Ideally, it should be 10000 count for each month, corresponding to each customer if the data is present for same 8-month period for each."
   ]
  },
  {
   "cell_type": "code",
   "execution_count": 964,
   "id": "f1a7d59d",
   "metadata": {
    "execution": {
     "iopub.execute_input": "2024-09-04T13:11:10.918922Z",
     "iopub.status.busy": "2024-09-04T13:11:10.918488Z",
     "iopub.status.idle": "2024-09-04T13:11:10.935214Z",
     "shell.execute_reply": "2024-09-04T13:11:10.934171Z"
    },
    "papermill": {
     "duration": 0.084489,
     "end_time": "2024-09-04T13:11:10.937303",
     "exception": false,
     "start_time": "2024-09-04T13:11:10.852814",
     "status": "completed"
    },
    "tags": []
   },
   "outputs": [],
   "source": [
    "#df['Month'].value_counts()"
   ]
  },
  {
   "cell_type": "markdown",
   "id": "3fdb9d95",
   "metadata": {
    "papermill": {
     "duration": 0.064914,
     "end_time": "2024-09-04T13:11:11.067957",
     "exception": false,
     "start_time": "2024-09-04T13:11:11.003043",
     "status": "completed"
    },
    "tags": []
   },
   "source": [
    "Ok. But this still doesn't confirm that we have data of same 8-months period for each customer? What we can do is count number of unique months for each customer after grouping by customer id. Count should be 8 for each customer."
   ]
  },
  {
   "cell_type": "code",
   "execution_count": 965,
   "id": "efb0c998",
   "metadata": {
    "execution": {
     "iopub.execute_input": "2024-09-04T13:11:11.208301Z",
     "iopub.status.busy": "2024-09-04T13:11:11.207564Z",
     "iopub.status.idle": "2024-09-04T13:11:11.251647Z",
     "shell.execute_reply": "2024-09-04T13:11:11.250618Z"
    },
    "papermill": {
     "duration": 0.11977,
     "end_time": "2024-09-04T13:11:11.254001",
     "exception": false,
     "start_time": "2024-09-04T13:11:11.134231",
     "status": "completed"
    },
    "tags": []
   },
   "outputs": [
    {
     "data": {
      "text/plain": [
       "Month\n",
       "8    10000\n",
       "Name: count, dtype: int64"
      ]
     },
     "execution_count": 965,
     "metadata": {},
     "output_type": "execute_result"
    }
   ],
   "source": [
    "df.groupby('Customer_ID')['Month'].nunique().value_counts()"
   ]
  },
  {
   "cell_type": "markdown",
   "id": "614f9b43",
   "metadata": {
    "papermill": {
     "duration": 0.073094,
     "end_time": "2024-09-04T13:11:11.403149",
     "exception": false,
     "start_time": "2024-09-04T13:11:11.330055",
     "status": "completed"
    },
    "tags": []
   },
   "source": [
    "Also, if we extract the year and month from 'Credit_History_Age' and convert it into total months then the difference in between two consecutive months should always be 1."
   ]
  },
  {
   "cell_type": "code",
   "execution_count": 966,
   "id": "4b3c59d2",
   "metadata": {
    "execution": {
     "iopub.execute_input": "2024-09-04T13:11:11.533910Z",
     "iopub.status.busy": "2024-09-04T13:11:11.533041Z",
     "iopub.status.idle": "2024-09-04T13:11:14.188161Z",
     "shell.execute_reply": "2024-09-04T13:11:14.186938Z"
    },
    "papermill": {
     "duration": 2.722854,
     "end_time": "2024-09-04T13:11:14.190623",
     "exception": false,
     "start_time": "2024-09-04T13:11:11.467769",
     "status": "completed"
    },
    "tags": []
   },
   "outputs": [
    {
     "data": {
      "text/plain": [
       "array([nan,  1.])"
      ]
     },
     "execution_count": 966,
     "metadata": {},
     "output_type": "execute_result"
    }
   ],
   "source": [
    "temp_df = df['Credit_History_Age'].str.extract('(?P<Years>\\d+) Years and (?P<Months>\\d+) Months').astype(float)\n",
    "temp_df['Customer_ID'] = df['Customer_ID'] \n",
    "temp_df['Total_months'] = temp_df['Years'] * 12 + temp_df['Months']\n",
    "temp_df.groupby('Customer_ID')['Total_months'].transform(pd.Series.diff).unique()"
   ]
  },
  {
   "cell_type": "markdown",
   "id": "43b1678b",
   "metadata": {
    "papermill": {
     "duration": 0.064068,
     "end_time": "2024-09-04T13:11:14.320330",
     "exception": false,
     "start_time": "2024-09-04T13:11:14.256262",
     "status": "completed"
    },
    "tags": []
   },
   "source": [
    "We have confirmed that each customer has a 8-month time period window for which the data is given in the dataset."
   ]
  },
  {
   "cell_type": "markdown",
   "id": "24dba810",
   "metadata": {
    "papermill": {
     "duration": 0.064613,
     "end_time": "2024-09-04T13:11:14.449596",
     "exception": false,
     "start_time": "2024-09-04T13:11:14.384983",
     "status": "completed"
    },
    "tags": []
   },
   "source": [
    "Now, lets look at whether the credit scores are same throughout the 8-month period for each customer or do they vary?"
   ]
  },
  {
   "cell_type": "code",
   "execution_count": 967,
   "id": "2f2e2054",
   "metadata": {
    "execution": {
     "iopub.execute_input": "2024-09-04T13:11:14.579284Z",
     "iopub.status.busy": "2024-09-04T13:11:14.578893Z",
     "iopub.status.idle": "2024-09-04T13:11:14.614938Z",
     "shell.execute_reply": "2024-09-04T13:11:14.613766Z"
    },
    "papermill": {
     "duration": 0.103451,
     "end_time": "2024-09-04T13:11:14.617230",
     "exception": false,
     "start_time": "2024-09-04T13:11:14.513779",
     "status": "completed"
    },
    "tags": []
   },
   "outputs": [
    {
     "data": {
      "text/plain": [
       "Credit_Score\n",
       "2    5843\n",
       "1    4135\n",
       "3      22\n",
       "Name: count, dtype: int64"
      ]
     },
     "execution_count": 967,
     "metadata": {},
     "output_type": "execute_result"
    }
   ],
   "source": [
    "df.groupby('Customer_ID')['Credit_Score'].nunique().value_counts()"
   ]
  },
  {
   "cell_type": "markdown",
   "id": "beebd50e",
   "metadata": {
    "papermill": {
     "duration": 0.064065,
     "end_time": "2024-09-04T13:11:14.746694",
     "exception": false,
     "start_time": "2024-09-04T13:11:14.682629",
     "status": "completed"
    },
    "tags": []
   },
   "source": [
    "So, throughout the 8-months period for a customer it can happen that the credit score stays the same or varies. That means depending upon any current months situation and past history as well, a customer can be classified in different credit score brackets."
   ]
  },
  {
   "cell_type": "markdown",
   "id": "48fe3357",
   "metadata": {
    "jp-MarkdownHeadingCollapsed": true,
    "papermill": {
     "duration": 0.065221,
     "end_time": "2024-09-04T13:11:14.875654",
     "exception": false,
     "start_time": "2024-09-04T13:11:14.810433",
     "status": "completed"
    },
    "tags": []
   },
   "source": [
    "## Custom Functions"
   ]
  },
  {
   "cell_type": "code",
   "execution_count": 968,
   "id": "0fddd162",
   "metadata": {
    "execution": {
     "iopub.execute_input": "2024-09-04T13:11:15.008222Z",
     "iopub.status.busy": "2024-09-04T13:11:15.007784Z",
     "iopub.status.idle": "2024-09-04T13:11:15.028791Z",
     "shell.execute_reply": "2024-09-04T13:11:15.027695Z"
    },
    "papermill": {
     "duration": 0.090762,
     "end_time": "2024-09-04T13:11:15.031138",
     "exception": false,
     "start_time": "2024-09-04T13:11:14.940376",
     "status": "completed"
    },
    "tags": []
   },
   "outputs": [],
   "source": [
    "def describe_numerical_column(series, col_name):\n",
    "    \"\"\"\n",
    "    Describe a numerical column using the describe function of a series,\n",
    "    report the number of null values, and return min, max, IQR-based\n",
    "    outlier lower range, and IQR-based outlier upper range as a dictionary.\n",
    "    \"\"\"\n",
    "    # Statistical description of the series\n",
    "    description = series.describe()\n",
    "    num_null_values = series.isnull().sum()\n",
    "\n",
    "    print(description, end='\\n\\n')\n",
    "    print(f'Number of null values: {num_null_values}', '\\n\\n')\n",
    "\n",
    "    # Calculate IQR\n",
    "    q1, q3 = series.quantile([0.25, 0.75])\n",
    "    IQR = q3 - q1\n",
    "    \n",
    "    # Return a dictionary with computed values\n",
    "    return {\n",
    "        'Min. value': series.min(),\n",
    "        'Outlier lower range': q1 - 1.5 * IQR,\n",
    "        'Outlier upper range': q3 + 1.5 * IQR,\n",
    "        'Max. value': series.max()\n",
    "    }\n",
    "\n",
    "\n",
    "def summarize_numerical_column_with_deviation(data, num_col, group_col='Customer_ID', absolute_summary=True, median_standardization_summary=False):\n",
    "    \"\"\"\n",
    "    Summarize the numerical column and its median standardization\n",
    "    based on customers using the describe_numerical_column function.\n",
    "    \"\"\"\n",
    "    Summary_dict = {}\n",
    "    \n",
    "    # Absolute summary\n",
    "    if absolute_summary:\n",
    "        print(f'Column description for {num_col}:\\n')\n",
    "        Summary_dict[num_col] = describe_numerical_column(data[num_col], num_col)\n",
    "    \n",
    "    # Median standardization summary\n",
    "    if median_standardization_summary:\n",
    "        if absolute_summary:\n",
    "            print('\\n')\n",
    "        default_MAD = return_max_MAD(data, num_col, group_col)\n",
    "        num_col_standardization = data.groupby(group_col)[num_col].apply(\n",
    "            median_standardization, default_value=default_MAD\n",
    "        )\n",
    "        print(f'Median standardization for {num_col}:\\n')\n",
    "        Summary_dict[f'Median standardization of {num_col}'] = describe_numerical_column(\n",
    "            num_col_standardization, f'Median standardization of {num_col}'\n",
    "        )\n",
    "        Summary_dict['Max. MAD'] = default_MAD\n",
    "    \n",
    "    return Summary_dict\n",
    "\n",
    "\n",
    "\n",
    "def return_max_MAD(data, num_col, group_col = 'Customer_ID'):\n",
    "    '''Return max value of median absolute devaition(MAD) from within the customers for num_col'''\n",
    "    return (data.groupby(group_col)[num_col].agg(lambda x: (x - x.median()).abs().median())).max()\n",
    "    \n",
    "def validate_age(x):\n",
    "    '''Check whether 8-months period age for a customer is logically valid or not'''\n",
    "    diff = x.diff()\n",
    "    if (diff == 0).sum() == 7:\n",
    "        return True\n",
    "    elif ((diff.isin([0, 1])).sum() == 7) and ((diff == 1).sum() == 1):\n",
    "        return True\n",
    "    else:\n",
    "        return False\n",
    "        \n",
    "def median_standardization(x, default_value):\n",
    "    '''Transform series or dataframe to its devaition from median with respect to Median absolute deviation(MAD) i.e. median standardization.'''\n",
    "    med = x.median() \n",
    "    abs = (x - med).abs()\n",
    "    MAD = abs.median()\n",
    "    if MAD == 0:\n",
    "        if ((abs == 0).sum() == abs.notnull().sum()): # When MAD is zero and all non-null values are constant in x\n",
    "            return x * 0\n",
    "        else:\n",
    "            return (x - med)/default_value # When MAD is zero but all non-values are not same in x\n",
    "    else:\n",
    "        return (x - med)/MAD # When MAD is non-zero\n",
    "\n",
    "def return_num_of_modes(x):\n",
    "    '''Return number of modes in given series or dataframe'''\n",
    "    return len(x.mode())\n",
    "\n",
    "def return_mode(x):\n",
    "    '''Return nan if no mode exists in given series or return minimum mode'''\n",
    "    modes = x.mode()\n",
    "    if len(modes) == 0:\n",
    "        return np.nan\n",
    "    return modes.min()\n",
    "\n",
    "def forward_backward_fill(x):\n",
    "    '''Perform forward fill then backward fill on given series or dataframe'''\n",
    "    return x.fillna(method='ffill').fillna(method='bfill')\n",
    "\n",
    "def return_mode_median_filled_int(x):\n",
    "    '''Return back series by filling with mode(in case there is one mode) else fill with integer part of median'''\n",
    "    modes = x.mode()\n",
    "    if len(modes) == 1:\n",
    "        return x.fillna(modes[0])\n",
    "    else:\n",
    "        return x.fillna(int(modes.median()))\n",
    "\n",
    "def return_mode_average_filled(x):\n",
    "    '''Return back series by filling with mode(in case there is one mode) else fill with average of modes'''\n",
    "    modes = x.mode()\n",
    "    if len(modes) == 1:\n",
    "        return x.fillna(modes[0])\n",
    "    else:\n",
    "        return x.fillna(modes.mean())\n",
    "\n",
    "def fill_month_history(x):\n",
    "    '''Return months filled data for 8-months period'''\n",
    "    first_non_null_idx = x.argmin()\n",
    "    first_non_null_value = x.iloc[first_non_null_idx]\n",
    "    return pd.Series(first_non_null_value + np.array(range(-first_non_null_idx, 8-first_non_null_idx)), index = x.index)"
   ]
  },
  {
   "cell_type": "markdown",
   "id": "0366c30b",
   "metadata": {
    "papermill": {
     "duration": 0.064338,
     "end_time": "2024-09-04T13:11:15.160120",
     "exception": false,
     "start_time": "2024-09-04T13:11:15.095782",
     "status": "completed"
    },
    "tags": []
   },
   "source": [
    "## Dataset pre-processing"
   ]
  },
  {
   "cell_type": "markdown",
   "id": "9daf6af3",
   "metadata": {
    "jp-MarkdownHeadingCollapsed": true,
    "papermill": {
     "duration": 0.065068,
     "end_time": "2024-09-04T13:11:15.289186",
     "exception": false,
     "start_time": "2024-09-04T13:11:15.224118",
     "status": "completed"
    },
    "tags": []
   },
   "source": [
    "### Dropping unnecessary columns, data cleaning and correcting data types"
   ]
  },
  {
   "cell_type": "markdown",
   "id": "b74067e4",
   "metadata": {
    "papermill": {
     "duration": 0.064032,
     "end_time": "2024-09-04T13:11:15.418808",
     "exception": false,
     "start_time": "2024-09-04T13:11:15.354776",
     "status": "completed"
    },
    "tags": []
   },
   "source": [
    "**Note:**  \n",
    "Ideally data cleaning should be done in parallel to discussions with domain expert to understand what values are appropriate in the columns, can they be retrieved if missing and do the columns depend upon each other. Unfortunately, such kind of support is not available in this kaggle project and therefore, we will deal with the data as per our understanding approximately."
   ]
  },
  {
   "cell_type": "markdown",
   "id": "2b95ab1a",
   "metadata": {
    "papermill": {
     "duration": 0.064013,
     "end_time": "2024-09-04T13:11:15.549608",
     "exception": false,
     "start_time": "2024-09-04T13:11:15.485595",
     "status": "completed"
    },
    "tags": []
   },
   "source": [
    "Looking at the dataset info, many of the columns in our dataset have null values within them, representing missing values. Also, some columns are not of the correct data type as per the data they hold, this means there might be some textual characters within the data indicating unclean data and maybe placeholders which describe non-existing data or missing data and therefore, that is not getting captured as null values but as strings. We need to identify these values and first change them to null values before we do any further pre-processing."
   ]
  },
  {
   "cell_type": "markdown",
   "id": "53d57c04",
   "metadata": {
    "papermill": {
     "duration": 0.118112,
     "end_time": "2024-09-04T13:11:15.732357",
     "exception": false,
     "start_time": "2024-09-04T13:11:15.614245",
     "status": "completed"
    },
    "tags": []
   },
   "source": [
    "We will look at the columns one by one. Only columns which need some cleaning will be dealt with below."
   ]
  },
  {
   "cell_type": "markdown",
   "id": "3ae77be0",
   "metadata": {
    "jp-MarkdownHeadingCollapsed": true,
    "papermill": {
     "duration": 0.06399,
     "end_time": "2024-09-04T13:11:15.861155",
     "exception": false,
     "start_time": "2024-09-04T13:11:15.797165",
     "status": "completed"
    },
    "tags": []
   },
   "source": [
    "#### 1. Customer ID"
   ]
  },
  {
   "cell_type": "code",
   "execution_count": 969,
   "id": "1f37b34f",
   "metadata": {
    "execution": {
     "iopub.execute_input": "2024-09-04T13:11:15.991529Z",
     "iopub.status.busy": "2024-09-04T13:11:15.991119Z",
     "iopub.status.idle": "2024-09-04T13:11:16.007632Z",
     "shell.execute_reply": "2024-09-04T13:11:16.006367Z"
    },
    "papermill": {
     "duration": 0.085109,
     "end_time": "2024-09-04T13:11:16.010245",
     "exception": false,
     "start_time": "2024-09-04T13:11:15.925136",
     "status": "completed"
    },
    "tags": []
   },
   "outputs": [
    {
     "data": {
      "text/plain": [
       "array(['CUS_0xd40', 'CUS_0x21b1', 'CUS_0x2dbc', ..., 'CUS_0xae4f',\n",
       "       'CUS_0x900', 'CUS_0x7753'], dtype=object)"
      ]
     },
     "execution_count": 969,
     "metadata": {},
     "output_type": "execute_result"
    }
   ],
   "source": [
    "df['Customer_ID'].unique()"
   ]
  },
  {
   "cell_type": "code",
   "execution_count": 970,
   "id": "53224fa1",
   "metadata": {
    "execution": {
     "iopub.execute_input": "2024-09-04T13:11:16.141930Z",
     "iopub.status.busy": "2024-09-04T13:11:16.141289Z",
     "iopub.status.idle": "2024-09-04T13:11:16.155817Z",
     "shell.execute_reply": "2024-09-04T13:11:16.154735Z"
    },
    "papermill": {
     "duration": 0.082949,
     "end_time": "2024-09-04T13:11:16.158034",
     "exception": false,
     "start_time": "2024-09-04T13:11:16.075085",
     "status": "completed"
    },
    "tags": []
   },
   "outputs": [
    {
     "data": {
      "text/plain": [
       "10000"
      ]
     },
     "execution_count": 970,
     "metadata": {},
     "output_type": "execute_result"
    }
   ],
   "source": [
    "df['Customer_ID'].nunique()"
   ]
  },
  {
   "cell_type": "markdown",
   "id": "502f86fb",
   "metadata": {
    "papermill": {
     "duration": 0.066481,
     "end_time": "2024-09-04T13:11:16.289490",
     "exception": false,
     "start_time": "2024-09-04T13:11:16.223009",
     "status": "completed"
    },
    "tags": []
   },
   "source": [
    "Looks like the customer IDs follow a general trend of something like CUS_0x and then followed by some characters which uniquely define the ID. Lets check if all the values are like this or not."
   ]
  },
  {
   "cell_type": "code",
   "execution_count": 971,
   "id": "1b3d87ff",
   "metadata": {
    "execution": {
     "iopub.execute_input": "2024-09-04T13:11:16.423691Z",
     "iopub.status.busy": "2024-09-04T13:11:16.423284Z",
     "iopub.status.idle": "2024-09-04T13:11:16.474006Z",
     "shell.execute_reply": "2024-09-04T13:11:16.472873Z"
    },
    "papermill": {
     "duration": 0.12015,
     "end_time": "2024-09-04T13:11:16.476411",
     "exception": false,
     "start_time": "2024-09-04T13:11:16.356261",
     "status": "completed"
    },
    "tags": []
   },
   "outputs": [
    {
     "data": {
      "text/plain": [
       "Customer_ID\n",
       "True    80000\n",
       "Name: count, dtype: int64"
      ]
     },
     "execution_count": 971,
     "metadata": {},
     "output_type": "execute_result"
    }
   ],
   "source": [
    "df['Customer_ID'].str.contains('CUS_0x').value_counts()"
   ]
  },
  {
   "cell_type": "markdown",
   "id": "c08334c6",
   "metadata": {
    "papermill": {
     "duration": 0.064445,
     "end_time": "2024-09-04T13:11:16.606319",
     "exception": false,
     "start_time": "2024-09-04T13:11:16.541874",
     "status": "completed"
    },
    "tags": []
   },
   "source": [
    "All the records follow the same pattern for customer IDs and there is no missing information or placeholders here."
   ]
  },
  {
   "cell_type": "markdown",
   "id": "8ac597ec",
   "metadata": {
    "jp-MarkdownHeadingCollapsed": true,
    "papermill": {
     "duration": 0.064332,
     "end_time": "2024-09-04T13:11:16.735778",
     "exception": false,
     "start_time": "2024-09-04T13:11:16.671446",
     "status": "completed"
    },
    "tags": []
   },
   "source": [
    "#### 2. Name"
   ]
  },
  {
   "cell_type": "markdown",
   "id": "34a85b7d",
   "metadata": {
    "papermill": {
     "duration": 0.065941,
     "end_time": "2024-09-04T13:11:16.867475",
     "exception": false,
     "start_time": "2024-09-04T13:11:16.801534",
     "status": "completed"
    },
    "tags": []
   },
   "source": [
    "Name column is of no use as names shouldn't contain any pattern related to credit score classification. It has null values but we won't deal with them as the column itself is not needed. We have customer ID as a means of uniquely identifying the customers and thus, customer name can be dropped."
   ]
  },
  {
   "cell_type": "code",
   "execution_count": 972,
   "id": "5b6d4b8b",
   "metadata": {
    "execution": {
     "iopub.execute_input": "2024-09-04T13:11:16.999184Z",
     "iopub.status.busy": "2024-09-04T13:11:16.998775Z",
     "iopub.status.idle": "2024-09-04T13:11:17.022878Z",
     "shell.execute_reply": "2024-09-04T13:11:17.021691Z"
    },
    "papermill": {
     "duration": 0.093434,
     "end_time": "2024-09-04T13:11:17.025494",
     "exception": false,
     "start_time": "2024-09-04T13:11:16.932060",
     "status": "completed"
    },
    "tags": []
   },
   "outputs": [],
   "source": [
    "df.drop(columns = ['Name'], inplace = True)"
   ]
  },
  {
   "cell_type": "markdown",
   "id": "2ac839e1",
   "metadata": {
    "jp-MarkdownHeadingCollapsed": true,
    "papermill": {
     "duration": 0.064605,
     "end_time": "2024-09-04T13:11:17.155970",
     "exception": false,
     "start_time": "2024-09-04T13:11:17.091365",
     "status": "completed"
    },
    "tags": []
   },
   "source": [
    "#### 3. Age"
   ]
  },
  {
   "cell_type": "markdown",
   "id": "5a8221ae",
   "metadata": {
    "papermill": {
     "duration": 0.068701,
     "end_time": "2024-09-04T13:11:17.289470",
     "exception": false,
     "start_time": "2024-09-04T13:11:17.220769",
     "status": "completed"
    },
    "tags": []
   },
   "source": [
    "The column is of object data type(string) while it should be a column containing only natural number usually in between 0-100, that means there should be some placeholders or errors in data entry."
   ]
  },
  {
   "cell_type": "code",
   "execution_count": 973,
   "id": "fb6f3424",
   "metadata": {
    "execution": {
     "iopub.execute_input": "2024-09-04T13:11:17.423769Z",
     "iopub.status.busy": "2024-09-04T13:11:17.423318Z",
     "iopub.status.idle": "2024-09-04T13:11:17.447139Z",
     "shell.execute_reply": "2024-09-04T13:11:17.446065Z"
    },
    "papermill": {
     "duration": 0.093215,
     "end_time": "2024-09-04T13:11:17.449517",
     "exception": false,
     "start_time": "2024-09-04T13:11:17.356302",
     "status": "completed"
    },
    "tags": []
   },
   "outputs": [
    {
     "data": {
      "text/plain": [
       "array(['-500', '28_', '34_', '30_', '24_', '33_', '35_', '31_', '40_',\n",
       "       '37_', '54_', '21_', '20_', '43_', '38_', '18_', '2111_', '46_',\n",
       "       '16_', '19_', '47_', '53_', '25_', '27_', '55_', '42_', '48_',\n",
       "       '49_', '50_', '32_', '22_', '17_', '29_', '15_', '51_', '26_',\n",
       "       '39_', '14_', '36_', '44_', '7670_', '45_', '23_', '41_', '52_',\n",
       "       '733_', '5769_', '4383_', '56_', '2650_', '3307_', '6962_',\n",
       "       '5589_', '6556_', '1447_', '8153_', '3834_', '6744_', '6471_',\n",
       "       '7723_', '7640_', '6408_', '3502_', '7316_', '1102_', '8669_',\n",
       "       '2463_', '6666_', '3055_', '1248_', '2220_', '2159_', '4583_',\n",
       "       '3988_', '2155_', '6770_', '1843_', '1367_', '3742_', '2171_',\n",
       "       '5109_', '3984_', '2474_', '5046_', '7715_', '2329_', '707_',\n",
       "       '844_', '2756_', '2037_', '902_', '8523_', '3640_', '3998_',\n",
       "       '3712_', '2097_', '8348_', '5373_', '3291_', '2994_', '3339_',\n",
       "       '2812_', '3578_', '3564_', '1794_', '737_', '4301_', '2846_',\n",
       "       '2373_', '1188_'], dtype=object)"
      ]
     },
     "execution_count": 973,
     "metadata": {},
     "output_type": "execute_result"
    }
   ],
   "source": [
    "df['Age'][~df['Age'].str.isnumeric()].unique() #extracting non-numeric textual data"
   ]
  },
  {
   "cell_type": "markdown",
   "id": "6b986b6a",
   "metadata": {
    "papermill": {
     "duration": 0.064908,
     "end_time": "2024-09-04T13:11:17.579951",
     "exception": false,
     "start_time": "2024-09-04T13:11:17.515043",
     "status": "completed"
    },
    "tags": []
   },
   "source": [
    "Looking at the above values, looks like many underscores are present in our dataset. For age, they are not needed and can be replaced with blanks. Some negative values are also present which we will handle later on."
   ]
  },
  {
   "cell_type": "code",
   "execution_count": 974,
   "id": "4b7fcc57",
   "metadata": {
    "execution": {
     "iopub.execute_input": "2024-09-04T13:11:17.714511Z",
     "iopub.status.busy": "2024-09-04T13:11:17.714088Z",
     "iopub.status.idle": "2024-09-04T13:11:17.746309Z",
     "shell.execute_reply": "2024-09-04T13:11:17.745233Z"
    },
    "papermill": {
     "duration": 0.102286,
     "end_time": "2024-09-04T13:11:17.748895",
     "exception": false,
     "start_time": "2024-09-04T13:11:17.646609",
     "status": "completed"
    },
    "tags": []
   },
   "outputs": [],
   "source": [
    "df['Age'] = df['Age'].str.replace('_', '')"
   ]
  },
  {
   "cell_type": "code",
   "execution_count": 975,
   "id": "b693385e",
   "metadata": {
    "execution": {
     "iopub.execute_input": "2024-09-04T13:11:17.882610Z",
     "iopub.status.busy": "2024-09-04T13:11:17.881695Z",
     "iopub.status.idle": "2024-09-04T13:11:17.904362Z",
     "shell.execute_reply": "2024-09-04T13:11:17.903273Z"
    },
    "papermill": {
     "duration": 0.091845,
     "end_time": "2024-09-04T13:11:17.906561",
     "exception": false,
     "start_time": "2024-09-04T13:11:17.814716",
     "status": "completed"
    },
    "tags": []
   },
   "outputs": [
    {
     "data": {
      "text/plain": [
       "array(['-500'], dtype=object)"
      ]
     },
     "execution_count": 975,
     "metadata": {},
     "output_type": "execute_result"
    }
   ],
   "source": [
    "df['Age'][~df['Age'].str.isnumeric()].unique()"
   ]
  },
  {
   "cell_type": "markdown",
   "id": "1580945d",
   "metadata": {
    "papermill": {
     "duration": 0.065566,
     "end_time": "2024-09-04T13:11:18.037818",
     "exception": false,
     "start_time": "2024-09-04T13:11:17.972252",
     "status": "completed"
    },
    "tags": []
   },
   "source": [
    "By replacing underscores, the ambiguity in age column has disappeared. But as noticed earlier there are some erroneous values in age column which are too big to be considered as normal age like 6921, 1248 etc, we will deal with these later on."
   ]
  },
  {
   "cell_type": "code",
   "execution_count": 976,
   "id": "09a6e31c",
   "metadata": {
    "execution": {
     "iopub.execute_input": "2024-09-04T13:11:18.170438Z",
     "iopub.status.busy": "2024-09-04T13:11:18.170050Z",
     "iopub.status.idle": "2024-09-04T13:11:18.184579Z",
     "shell.execute_reply": "2024-09-04T13:11:18.183503Z"
    },
    "papermill": {
     "duration": 0.083746,
     "end_time": "2024-09-04T13:11:18.186959",
     "exception": false,
     "start_time": "2024-09-04T13:11:18.103213",
     "status": "completed"
    },
    "tags": []
   },
   "outputs": [],
   "source": [
    "df['Age'] = df['Age'].astype(int)"
   ]
  },
  {
   "cell_type": "markdown",
   "id": "8023ffc9",
   "metadata": {
    "jp-MarkdownHeadingCollapsed": true,
    "papermill": {
     "duration": 0.066937,
     "end_time": "2024-09-04T13:11:18.321287",
     "exception": false,
     "start_time": "2024-09-04T13:11:18.254350",
     "status": "completed"
    },
    "tags": []
   },
   "source": [
    "#### 4. SSN"
   ]
  },
  {
   "cell_type": "markdown",
   "id": "f36d072a",
   "metadata": {
    "papermill": {
     "duration": 0.065617,
     "end_time": "2024-09-04T13:11:18.452812",
     "exception": false,
     "start_time": "2024-09-04T13:11:18.387195",
     "status": "completed"
    },
    "tags": []
   },
   "source": [
    "Social security number is another unique identifier and should not convey any particular information regarding credit score classification and thus, can be dropped as well."
   ]
  },
  {
   "cell_type": "code",
   "execution_count": 977,
   "id": "6af54a30",
   "metadata": {
    "execution": {
     "iopub.execute_input": "2024-09-04T13:11:18.637773Z",
     "iopub.status.busy": "2024-09-04T13:11:18.637328Z",
     "iopub.status.idle": "2024-09-04T13:11:18.664492Z",
     "shell.execute_reply": "2024-09-04T13:11:18.663580Z"
    },
    "papermill": {
     "duration": 0.149104,
     "end_time": "2024-09-04T13:11:18.667002",
     "exception": false,
     "start_time": "2024-09-04T13:11:18.517898",
     "status": "completed"
    },
    "tags": []
   },
   "outputs": [],
   "source": [
    "df.drop(columns = ['SSN'], inplace = True)"
   ]
  },
  {
   "cell_type": "markdown",
   "id": "d64d2cb0",
   "metadata": {
    "jp-MarkdownHeadingCollapsed": true,
    "papermill": {
     "duration": 0.06467,
     "end_time": "2024-09-04T13:11:18.796698",
     "exception": false,
     "start_time": "2024-09-04T13:11:18.732028",
     "status": "completed"
    },
    "tags": []
   },
   "source": [
    "#### 5. Occupation"
   ]
  },
  {
   "cell_type": "markdown",
   "id": "08d1d694",
   "metadata": {
    "papermill": {
     "duration": 0.065282,
     "end_time": "2024-09-04T13:11:18.927499",
     "exception": false,
     "start_time": "2024-09-04T13:11:18.862217",
     "status": "completed"
    },
    "tags": []
   },
   "source": [
    "The column looks ok in terms of the data type and also has no nulls. Lets try to look at the data distribution to make sure no placeholders are present for missing information."
   ]
  },
  {
   "cell_type": "code",
   "execution_count": 978,
   "id": "99bd673d",
   "metadata": {
    "execution": {
     "iopub.execute_input": "2024-09-04T13:11:19.060586Z",
     "iopub.status.busy": "2024-09-04T13:11:19.060167Z",
     "iopub.status.idle": "2024-09-04T13:11:19.073372Z",
     "shell.execute_reply": "2024-09-04T13:11:19.072149Z"
    },
    "papermill": {
     "duration": 0.083292,
     "end_time": "2024-09-04T13:11:19.075761",
     "exception": false,
     "start_time": "2024-09-04T13:11:18.992469",
     "status": "completed"
    },
    "tags": []
   },
   "outputs": [
    {
     "data": {
      "text/plain": [
       "array(['Scientist', '_______', 'Teacher', 'Engineer', 'Entrepreneur',\n",
       "       'Developer', 'Lawyer', 'Media_Manager', 'Doctor', 'Journalist',\n",
       "       'Manager', 'Accountant', 'Musician', 'Mechanic', 'Writer',\n",
       "       'Architect'], dtype=object)"
      ]
     },
     "execution_count": 978,
     "metadata": {},
     "output_type": "execute_result"
    }
   ],
   "source": [
    "df['Occupation'].unique()"
   ]
  },
  {
   "cell_type": "markdown",
   "id": "878f22dc",
   "metadata": {
    "papermill": {
     "duration": 0.065201,
     "end_time": "2024-09-04T13:11:19.206460",
     "exception": false,
     "start_time": "2024-09-04T13:11:19.141259",
     "status": "completed"
    },
    "tags": []
   },
   "source": [
    "There is a placeholder present. We will replace it with null for now and deal with it later."
   ]
  },
  {
   "cell_type": "code",
   "execution_count": 979,
   "id": "d004cd6f",
   "metadata": {
    "execution": {
     "iopub.execute_input": "2024-09-04T13:11:19.344415Z",
     "iopub.status.busy": "2024-09-04T13:11:19.344028Z",
     "iopub.status.idle": "2024-09-04T13:11:19.359963Z",
     "shell.execute_reply": "2024-09-04T13:11:19.359022Z"
    },
    "papermill": {
     "duration": 0.087328,
     "end_time": "2024-09-04T13:11:19.362223",
     "exception": false,
     "start_time": "2024-09-04T13:11:19.274895",
     "status": "completed"
    },
    "tags": []
   },
   "outputs": [],
   "source": [
    "df['Occupation'][df['Occupation'] == '_______'] = np.nan"
   ]
  },
  {
   "cell_type": "code",
   "execution_count": 980,
   "id": "1149aacb",
   "metadata": {
    "execution": {
     "iopub.execute_input": "2024-09-04T13:11:19.496195Z",
     "iopub.status.busy": "2024-09-04T13:11:19.495795Z",
     "iopub.status.idle": "2024-09-04T13:11:19.507174Z",
     "shell.execute_reply": "2024-09-04T13:11:19.506212Z"
    },
    "papermill": {
     "duration": 0.080561,
     "end_time": "2024-09-04T13:11:19.509204",
     "exception": false,
     "start_time": "2024-09-04T13:11:19.428643",
     "status": "completed"
    },
    "tags": []
   },
   "outputs": [
    {
     "data": {
      "text/plain": [
       "array(['Scientist', nan, 'Teacher', 'Engineer', 'Entrepreneur',\n",
       "       'Developer', 'Lawyer', 'Media_Manager', 'Doctor', 'Journalist',\n",
       "       'Manager', 'Accountant', 'Musician', 'Mechanic', 'Writer',\n",
       "       'Architect'], dtype=object)"
      ]
     },
     "execution_count": 980,
     "metadata": {},
     "output_type": "execute_result"
    }
   ],
   "source": [
    "df['Occupation'].unique()"
   ]
  },
  {
   "cell_type": "markdown",
   "id": "9955ffe6",
   "metadata": {
    "jp-MarkdownHeadingCollapsed": true,
    "papermill": {
     "duration": 0.065957,
     "end_time": "2024-09-04T13:11:19.641611",
     "exception": false,
     "start_time": "2024-09-04T13:11:19.575654",
     "status": "completed"
    },
    "tags": []
   },
   "source": [
    "#### 6. Annual Income"
   ]
  },
  {
   "cell_type": "markdown",
   "id": "b7c7d761",
   "metadata": {
    "papermill": {
     "duration": 0.065869,
     "end_time": "2024-09-04T13:11:19.774034",
     "exception": false,
     "start_time": "2024-09-04T13:11:19.708165",
     "status": "completed"
    },
    "tags": []
   },
   "source": [
    "Annual income should be positive float in nature but is of object data type(string)."
   ]
  },
  {
   "cell_type": "code",
   "execution_count": 981,
   "id": "6277b1c7",
   "metadata": {
    "execution": {
     "iopub.execute_input": "2024-09-04T13:11:19.907711Z",
     "iopub.status.busy": "2024-09-04T13:11:19.907317Z",
     "iopub.status.idle": "2024-09-04T13:11:19.976772Z",
     "shell.execute_reply": "2024-09-04T13:11:19.975743Z"
    },
    "papermill": {
     "duration": 0.139711,
     "end_time": "2024-09-04T13:11:19.979209",
     "exception": false,
     "start_time": "2024-09-04T13:11:19.839498",
     "status": "completed"
    },
    "tags": []
   },
   "outputs": [
    {
     "data": {
      "text/plain": [
       "array(['34847.84_', '30689.89_', '35547.71_', ..., '32639.9_', '7369.03_',\n",
       "       '16159.51_'], dtype=object)"
      ]
     },
     "execution_count": 981,
     "metadata": {},
     "output_type": "execute_result"
    }
   ],
   "source": [
    "df['Annual_Income'][~df['Annual_Income'].str.fullmatch('([0-9]*[.])?[0-9]+')].unique() # using regex to find values which don't follow the patern of a float"
   ]
  },
  {
   "cell_type": "markdown",
   "id": "52f94723",
   "metadata": {
    "papermill": {
     "duration": 0.065717,
     "end_time": "2024-09-04T13:11:20.111891",
     "exception": false,
     "start_time": "2024-09-04T13:11:20.046174",
     "status": "completed"
    },
    "tags": []
   },
   "source": [
    "There are a lot of float values which have underscore in the end."
   ]
  },
  {
   "cell_type": "code",
   "execution_count": 982,
   "id": "df4befac",
   "metadata": {
    "execution": {
     "iopub.execute_input": "2024-09-04T13:11:20.247353Z",
     "iopub.status.busy": "2024-09-04T13:11:20.246854Z",
     "iopub.status.idle": "2024-09-04T13:11:20.280179Z",
     "shell.execute_reply": "2024-09-04T13:11:20.279328Z"
    },
    "papermill": {
     "duration": 0.104764,
     "end_time": "2024-09-04T13:11:20.282408",
     "exception": false,
     "start_time": "2024-09-04T13:11:20.177644",
     "status": "completed"
    },
    "tags": []
   },
   "outputs": [],
   "source": [
    "df['Annual_Income'] = df['Annual_Income'].str.replace('_', '')"
   ]
  },
  {
   "cell_type": "code",
   "execution_count": 983,
   "id": "cddea109",
   "metadata": {
    "execution": {
     "iopub.execute_input": "2024-09-04T13:11:20.416780Z",
     "iopub.status.busy": "2024-09-04T13:11:20.416370Z",
     "iopub.status.idle": "2024-09-04T13:11:20.482388Z",
     "shell.execute_reply": "2024-09-04T13:11:20.481316Z"
    },
    "papermill": {
     "duration": 0.136149,
     "end_time": "2024-09-04T13:11:20.484721",
     "exception": false,
     "start_time": "2024-09-04T13:11:20.348572",
     "status": "completed"
    },
    "tags": []
   },
   "outputs": [
    {
     "data": {
      "text/plain": [
       "Series([], Name: Annual_Income, dtype: object)"
      ]
     },
     "execution_count": 983,
     "metadata": {},
     "output_type": "execute_result"
    }
   ],
   "source": [
    "df['Annual_Income'][~df['Annual_Income'].str.fullmatch('([0-9]*[.])?[0-9]+')]"
   ]
  },
  {
   "cell_type": "markdown",
   "id": "861a5033",
   "metadata": {
    "papermill": {
     "duration": 0.065599,
     "end_time": "2024-09-04T13:11:20.616368",
     "exception": false,
     "start_time": "2024-09-04T13:11:20.550769",
     "status": "completed"
    },
    "tags": []
   },
   "source": [
    "There are no problematic values present anymore. We can convert the column to type float."
   ]
  },
  {
   "cell_type": "code",
   "execution_count": 984,
   "id": "6002d3c3",
   "metadata": {
    "execution": {
     "iopub.execute_input": "2024-09-04T13:11:20.750481Z",
     "iopub.status.busy": "2024-09-04T13:11:20.750119Z",
     "iopub.status.idle": "2024-09-04T13:11:20.768092Z",
     "shell.execute_reply": "2024-09-04T13:11:20.767136Z"
    },
    "papermill": {
     "duration": 0.087418,
     "end_time": "2024-09-04T13:11:20.770159",
     "exception": false,
     "start_time": "2024-09-04T13:11:20.682741",
     "status": "completed"
    },
    "tags": []
   },
   "outputs": [],
   "source": [
    "df['Annual_Income'] = df['Annual_Income'].astype(float)"
   ]
  },
  {
   "cell_type": "markdown",
   "id": "5ee9d89f",
   "metadata": {
    "jp-MarkdownHeadingCollapsed": true,
    "papermill": {
     "duration": 0.066264,
     "end_time": "2024-09-04T13:11:20.902740",
     "exception": false,
     "start_time": "2024-09-04T13:11:20.836476",
     "status": "completed"
    },
    "tags": []
   },
   "source": [
    "#### 7. Number of Loans"
   ]
  },
  {
   "cell_type": "markdown",
   "id": "70809c43",
   "metadata": {
    "papermill": {
     "duration": 0.06667,
     "end_time": "2024-09-04T13:11:21.035092",
     "exception": false,
     "start_time": "2024-09-04T13:11:20.968422",
     "status": "completed"
    },
    "tags": []
   },
   "source": [
    "The column is of object data type(string) rather than non-negative integer."
   ]
  },
  {
   "cell_type": "code",
   "execution_count": 985,
   "id": "bf59ff8c",
   "metadata": {
    "execution": {
     "iopub.execute_input": "2024-09-04T13:11:21.169638Z",
     "iopub.status.busy": "2024-09-04T13:11:21.168778Z",
     "iopub.status.idle": "2024-09-04T13:11:21.197073Z",
     "shell.execute_reply": "2024-09-04T13:11:21.196059Z"
    },
    "papermill": {
     "duration": 0.097666,
     "end_time": "2024-09-04T13:11:21.199277",
     "exception": false,
     "start_time": "2024-09-04T13:11:21.101611",
     "status": "completed"
    },
    "tags": []
   },
   "outputs": [
    {
     "data": {
      "text/plain": [
       "array(['-100', '0_', '3_', '2_', '5_', '8_', '9_', '4_', '7_', '1_', '6_',\n",
       "       '597_', '92_', '1347_', '1185_', '235_', '1459_', '1320_', '630_',\n",
       "       '359_', '1225_', '131_', '1311_', '1129_', '785_', '143_', '1131_',\n",
       "       '27_', '1171_', '227_', '378_', '1219_'], dtype=object)"
      ]
     },
     "execution_count": 985,
     "metadata": {},
     "output_type": "execute_result"
    }
   ],
   "source": [
    "df['Num_of_Loan'][~df['Num_of_Loan'].str.isnumeric()].unique()"
   ]
  },
  {
   "cell_type": "markdown",
   "id": "a7575432",
   "metadata": {
    "papermill": {
     "duration": 0.084223,
     "end_time": "2024-09-04T13:11:21.351744",
     "exception": false,
     "start_time": "2024-09-04T13:11:21.267521",
     "status": "completed"
    },
    "tags": []
   },
   "source": [
    "Underscores are present at the end. For now, we will remove them and convert the column to type int."
   ]
  },
  {
   "cell_type": "code",
   "execution_count": 986,
   "id": "134ff9cf",
   "metadata": {
    "execution": {
     "iopub.execute_input": "2024-09-04T13:11:21.490984Z",
     "iopub.status.busy": "2024-09-04T13:11:21.490243Z",
     "iopub.status.idle": "2024-09-04T13:11:21.531329Z",
     "shell.execute_reply": "2024-09-04T13:11:21.530271Z"
    },
    "papermill": {
     "duration": 0.11189,
     "end_time": "2024-09-04T13:11:21.533875",
     "exception": false,
     "start_time": "2024-09-04T13:11:21.421985",
     "status": "completed"
    },
    "tags": []
   },
   "outputs": [],
   "source": [
    "df['Num_of_Loan'] = df['Num_of_Loan'].str.replace('_', '').astype(int)"
   ]
  },
  {
   "cell_type": "markdown",
   "id": "f33c7dda",
   "metadata": {
    "jp-MarkdownHeadingCollapsed": true,
    "papermill": {
     "duration": 0.066099,
     "end_time": "2024-09-04T13:11:21.666711",
     "exception": false,
     "start_time": "2024-09-04T13:11:21.600612",
     "status": "completed"
    },
    "tags": []
   },
   "source": [
    "#### 8. Number of delayed payments"
   ]
  },
  {
   "cell_type": "markdown",
   "id": "72fc33a6",
   "metadata": {
    "papermill": {
     "duration": 0.066385,
     "end_time": "2024-09-04T13:11:21.799156",
     "exception": false,
     "start_time": "2024-09-04T13:11:21.732771",
     "status": "completed"
    },
    "tags": []
   },
   "source": [
    "The column should be a non-negative integer but has object data type(string). This column already has some null values."
   ]
  },
  {
   "cell_type": "code",
   "execution_count": 987,
   "id": "d2276295",
   "metadata": {
    "execution": {
     "iopub.execute_input": "2024-09-04T13:11:21.934910Z",
     "iopub.status.busy": "2024-09-04T13:11:21.933994Z",
     "iopub.status.idle": "2024-09-04T13:11:21.944841Z",
     "shell.execute_reply": "2024-09-04T13:11:21.943763Z"
    },
    "papermill": {
     "duration": 0.081222,
     "end_time": "2024-09-04T13:11:21.947068",
     "exception": false,
     "start_time": "2024-09-04T13:11:21.865846",
     "status": "completed"
    },
    "tags": []
   },
   "outputs": [],
   "source": [
    "#Extracting non-null data\n",
    "temp_series = df['Num_of_Delayed_Payment'][df['Num_of_Delayed_Payment'].notnull()]"
   ]
  },
  {
   "cell_type": "code",
   "execution_count": 988,
   "id": "824e35fc",
   "metadata": {
    "execution": {
     "iopub.execute_input": "2024-09-04T13:11:22.084163Z",
     "iopub.status.busy": "2024-09-04T13:11:22.083731Z",
     "iopub.status.idle": "2024-09-04T13:11:22.107264Z",
     "shell.execute_reply": "2024-09-04T13:11:22.106114Z"
    },
    "papermill": {
     "duration": 0.095558,
     "end_time": "2024-09-04T13:11:22.109813",
     "exception": false,
     "start_time": "2024-09-04T13:11:22.014255",
     "status": "completed"
    },
    "tags": []
   },
   "outputs": [
    {
     "data": {
      "text/plain": [
       "array(['8_', '-1', '3_', '2_', '13_', '14_', '12_', '22_', '4_', '11_',\n",
       "       '21_', '10_', '183_', '9_', '19_', '24_', '17_', '23_', '20_',\n",
       "       '-3', '6_', '1_', '16_', '-2', '15_', '26_', '18_', '5_', '25_',\n",
       "       '7_', '0_', '2569_', '27_', '663_', '-2_', '28_', '-1_', '1323_',\n",
       "       '2794_', '2219_', '758_', '-3_', '848_', '2237_', '3097_', '2566_',\n",
       "       '3840_', '2278_', '1087_'], dtype=object)"
      ]
     },
     "execution_count": 988,
     "metadata": {},
     "output_type": "execute_result"
    }
   ],
   "source": [
    "temp_series[~temp_series.str.isnumeric()].unique()"
   ]
  },
  {
   "cell_type": "markdown",
   "id": "da22affb",
   "metadata": {
    "papermill": {
     "duration": 0.067066,
     "end_time": "2024-09-04T13:11:22.246220",
     "exception": false,
     "start_time": "2024-09-04T13:11:22.179154",
     "status": "completed"
    },
    "tags": []
   },
   "source": [
    "There are values with underscore and negative signs. For now, we will replace underscores with blanks and convert to float data type. Negatives will be handled later on."
   ]
  },
  {
   "cell_type": "code",
   "execution_count": 989,
   "id": "148a17c2",
   "metadata": {
    "execution": {
     "iopub.execute_input": "2024-09-04T13:11:22.387934Z",
     "iopub.status.busy": "2024-09-04T13:11:22.387007Z",
     "iopub.status.idle": "2024-09-04T13:11:22.431067Z",
     "shell.execute_reply": "2024-09-04T13:11:22.430129Z"
    },
    "papermill": {
     "duration": 0.116439,
     "end_time": "2024-09-04T13:11:22.433272",
     "exception": false,
     "start_time": "2024-09-04T13:11:22.316833",
     "status": "completed"
    },
    "tags": []
   },
   "outputs": [],
   "source": [
    "df['Num_of_Delayed_Payment'] = df['Num_of_Delayed_Payment'].str.replace('_', '').astype(float)"
   ]
  },
  {
   "cell_type": "markdown",
   "id": "b4d7afaa",
   "metadata": {
    "jp-MarkdownHeadingCollapsed": true,
    "papermill": {
     "duration": 0.068681,
     "end_time": "2024-09-04T13:11:22.568916",
     "exception": false,
     "start_time": "2024-09-04T13:11:22.500235",
     "status": "completed"
    },
    "tags": []
   },
   "source": [
    "#### 9. Changed Credit Limit"
   ]
  },
  {
   "cell_type": "markdown",
   "id": "8d212f11",
   "metadata": {
    "papermill": {
     "duration": 0.06648,
     "end_time": "2024-09-04T13:11:22.702162",
     "exception": false,
     "start_time": "2024-09-04T13:11:22.635682",
     "status": "completed"
    },
    "tags": []
   },
   "source": [
    "Column should be of type float in nature but is of object data type(string)."
   ]
  },
  {
   "cell_type": "code",
   "execution_count": 990,
   "id": "e3ba8441",
   "metadata": {
    "execution": {
     "iopub.execute_input": "2024-09-04T13:11:22.838720Z",
     "iopub.status.busy": "2024-09-04T13:11:22.838273Z",
     "iopub.status.idle": "2024-09-04T13:11:22.906181Z",
     "shell.execute_reply": "2024-09-04T13:11:22.905060Z"
    },
    "papermill": {
     "duration": 0.139472,
     "end_time": "2024-09-04T13:11:22.908844",
     "exception": false,
     "start_time": "2024-09-04T13:11:22.769372",
     "status": "completed"
    },
    "tags": []
   },
   "outputs": [
    {
     "data": {
      "text/plain": [
       "array(['_'], dtype=object)"
      ]
     },
     "execution_count": 990,
     "metadata": {},
     "output_type": "execute_result"
    }
   ],
   "source": [
    "df['Changed_Credit_Limit'][~df['Changed_Credit_Limit'].str.fullmatch('[+-]?([0-9]*[.])?[0-9]+')].unique()"
   ]
  },
  {
   "cell_type": "markdown",
   "id": "4f98e875",
   "metadata": {
    "papermill": {
     "duration": 0.068402,
     "end_time": "2024-09-04T13:11:23.099029",
     "exception": false,
     "start_time": "2024-09-04T13:11:23.030627",
     "status": "completed"
    },
    "tags": []
   },
   "source": [
    "There are underscores as placeholders. We can change them to null values and column data type to float."
   ]
  },
  {
   "cell_type": "code",
   "execution_count": 991,
   "id": "aebd1666",
   "metadata": {
    "execution": {
     "iopub.execute_input": "2024-09-04T13:11:23.236305Z",
     "iopub.status.busy": "2024-09-04T13:11:23.235226Z",
     "iopub.status.idle": "2024-09-04T13:11:23.250867Z",
     "shell.execute_reply": "2024-09-04T13:11:23.249880Z"
    },
    "papermill": {
     "duration": 0.087327,
     "end_time": "2024-09-04T13:11:23.253200",
     "exception": false,
     "start_time": "2024-09-04T13:11:23.165873",
     "status": "completed"
    },
    "tags": []
   },
   "outputs": [],
   "source": [
    "df['Changed_Credit_Limit'][df['Changed_Credit_Limit'] == '_'] = np.nan "
   ]
  },
  {
   "cell_type": "code",
   "execution_count": 992,
   "id": "a19a0d8b",
   "metadata": {
    "execution": {
     "iopub.execute_input": "2024-09-04T13:11:23.390949Z",
     "iopub.status.busy": "2024-09-04T13:11:23.390028Z",
     "iopub.status.idle": "2024-09-04T13:11:23.408918Z",
     "shell.execute_reply": "2024-09-04T13:11:23.407709Z"
    },
    "papermill": {
     "duration": 0.0896,
     "end_time": "2024-09-04T13:11:23.411300",
     "exception": false,
     "start_time": "2024-09-04T13:11:23.321700",
     "status": "completed"
    },
    "tags": []
   },
   "outputs": [],
   "source": [
    "df['Changed_Credit_Limit'] = df['Changed_Credit_Limit'].astype(float)"
   ]
  },
  {
   "cell_type": "markdown",
   "id": "0ed3ce56",
   "metadata": {
    "jp-MarkdownHeadingCollapsed": true,
    "papermill": {
     "duration": 0.06719,
     "end_time": "2024-09-04T13:11:23.546307",
     "exception": false,
     "start_time": "2024-09-04T13:11:23.479117",
     "status": "completed"
    },
    "tags": []
   },
   "source": [
    "#### 10. Credit Mix"
   ]
  },
  {
   "cell_type": "code",
   "execution_count": 993,
   "id": "13439d94",
   "metadata": {
    "execution": {
     "iopub.execute_input": "2024-09-04T13:11:23.683332Z",
     "iopub.status.busy": "2024-09-04T13:11:23.682256Z",
     "iopub.status.idle": "2024-09-04T13:11:23.695844Z",
     "shell.execute_reply": "2024-09-04T13:11:23.694753Z"
    },
    "papermill": {
     "duration": 0.08445,
     "end_time": "2024-09-04T13:11:23.698196",
     "exception": false,
     "start_time": "2024-09-04T13:11:23.613746",
     "status": "completed"
    },
    "tags": []
   },
   "outputs": [
    {
     "data": {
      "text/plain": [
       "array(['_', 'Good', 'Standard', 'Bad'], dtype=object)"
      ]
     },
     "execution_count": 993,
     "metadata": {},
     "output_type": "execute_result"
    }
   ],
   "source": [
    "df['Credit_Mix'].unique()"
   ]
  },
  {
   "cell_type": "markdown",
   "id": "20feaf0d",
   "metadata": {
    "papermill": {
     "duration": 0.066958,
     "end_time": "2024-09-04T13:11:23.832387",
     "exception": false,
     "start_time": "2024-09-04T13:11:23.765429",
     "status": "completed"
    },
    "tags": []
   },
   "source": [
    "The column contains underscores as placeholders. We will replace them with null for now."
   ]
  },
  {
   "cell_type": "code",
   "execution_count": 994,
   "id": "df2c7f2a",
   "metadata": {
    "execution": {
     "iopub.execute_input": "2024-09-04T13:11:23.969403Z",
     "iopub.status.busy": "2024-09-04T13:11:23.969040Z",
     "iopub.status.idle": "2024-09-04T13:11:23.984861Z",
     "shell.execute_reply": "2024-09-04T13:11:23.983791Z"
    },
    "papermill": {
     "duration": 0.0876,
     "end_time": "2024-09-04T13:11:23.987161",
     "exception": false,
     "start_time": "2024-09-04T13:11:23.899561",
     "status": "completed"
    },
    "tags": []
   },
   "outputs": [],
   "source": [
    "df['Credit_Mix'][df['Credit_Mix'] == '_'] = np.nan"
   ]
  },
  {
   "cell_type": "markdown",
   "id": "0c0c1dfe",
   "metadata": {
    "jp-MarkdownHeadingCollapsed": true,
    "papermill": {
     "duration": 0.067384,
     "end_time": "2024-09-04T13:11:24.124023",
     "exception": false,
     "start_time": "2024-09-04T13:11:24.056639",
     "status": "completed"
    },
    "tags": []
   },
   "source": [
    "#### 11. Outstanding debt"
   ]
  },
  {
   "cell_type": "markdown",
   "id": "9f4a4a01",
   "metadata": {
    "papermill": {
     "duration": 0.069582,
     "end_time": "2024-09-04T13:11:24.263230",
     "exception": false,
     "start_time": "2024-09-04T13:11:24.193648",
     "status": "completed"
    },
    "tags": []
   },
   "source": [
    "The column should be of type non-negative float in nature but is of object data type(string)."
   ]
  },
  {
   "cell_type": "code",
   "execution_count": 995,
   "id": "1a64df5e",
   "metadata": {
    "execution": {
     "iopub.execute_input": "2024-09-04T13:11:24.404475Z",
     "iopub.status.busy": "2024-09-04T13:11:24.404102Z",
     "iopub.status.idle": "2024-09-04T13:11:24.476655Z",
     "shell.execute_reply": "2024-09-04T13:11:24.475572Z"
    },
    "papermill": {
     "duration": 0.146777,
     "end_time": "2024-09-04T13:11:24.479121",
     "exception": false,
     "start_time": "2024-09-04T13:11:24.332344",
     "status": "completed"
    },
    "scrolled": true,
    "tags": []
   },
   "outputs": [
    {
     "data": {
      "text/plain": [
       "array(['1328.93_', '1283.37_', '2797.17_', '3818.57_', '343.84_',\n",
       "       '363.51_', '404.51_', '1755.81_', '2593.44_', '89.62_', '1054.86_',\n",
       "       '1374.23_', '1166.47_', '457.81_', '1684.06_', '1126.35_',\n",
       "       '2098.83_', '761.18_', '1343.01_', '1342.61_', '1435.94_',\n",
       "       '2354.21_', '1319.87_', '821.27_', '3271.84_', '465.04_',\n",
       "       '218.25_', '1274.59_', '1033.59_', '642.42_', '94.75_', '4145.87_',\n",
       "       '328.41_', '4813.02_', '477.41_', '165.88_', '1286.68_', '128.33_',\n",
       "       '2106.68_', '3078.82_', '634.77_', '878.19_', '2518.51_',\n",
       "       '1235.48_', '669.35_', '240.6_', '70.66_', '3099.57_', '486.48_',\n",
       "       '1124.37_', '152.6_', '1716.82_', '886.09_', '1370.48_', '640.4_',\n",
       "       '484.43_', '1417.89_', '1539.61_', '2517.0_', '539.59_', '802.47_',\n",
       "       '289.1_', '4542.88_', '590.85_', '155.2_', '697.86_', '825.25_',\n",
       "       '1644.31_', '960.38_', '282.06_', '985.01_', '1491.56_',\n",
       "       '3723.83_', '1350.6_', '1248.05_', '3531.62_', '1017.45_',\n",
       "       '60.04_', '2468.2_', '2234.83_', '1073.76_', '4972.01_',\n",
       "       '2107.76_', '3754.18_', '3656.46_', '291.71_', '281.42_',\n",
       "       '1251.25_', '47.18_', '381.06_', '174.79_', '4375.21_', '1412.35_',\n",
       "       '2296.23_', '1023.62_', '1912.96_', '221.86_', '3090.08_',\n",
       "       '1474.32_', '396.97_', '1457.54_', '479.81_', '1675.0_',\n",
       "       '3513.87_', '1202.05_', '698.05_', '83.96_', '500.24_', '50.93_',\n",
       "       '227.12_', '1172.87_', '2817.77_', '3257.62_', '1331.37_',\n",
       "       '1729.78_', '1304.45_', '1393.23_', '839.1_', '82.36_', '1042.25_',\n",
       "       '1155.94_', '2818.83_', '754.55_', '679.2_', '1393.85_',\n",
       "       '1358.96_', '1200.53_', '1721.85_', '929.51_', '1353.06_',\n",
       "       '1184.81_', '1078.95_', '321.76_', '4735.18_', '288.92_',\n",
       "       '163.11_', '1150.03_', '2589.63_', '2554.65_', '289.59_',\n",
       "       '364.35_', '328.91_', '202.68_', '1372.21_', '4010.91_',\n",
       "       '1170.65_', '664.2_', '651.92_', '1103.08_', '1275.32_',\n",
       "       '1051.51_', '3445.84_', '1052.21_', '4401.57_', '233.93_',\n",
       "       '3980.49_', '305.84_', '2550.65_', '506.93_', '1427.03_',\n",
       "       '1274.63_', '743.65_', '1438.69_', '1265.83_', '702.16_',\n",
       "       '755.17_', '3084.5_', '1619.22_', '2080.28_', '1109.03_',\n",
       "       '905.18_', '1189.51_', '684.03_', '2162.63_', '773.94_', '108.67_',\n",
       "       '3057.46_', '1398.28_', '1112.8_', '4.61_', '951.78_', '2154.6_',\n",
       "       '1279.86_', '865.3_', '65.59_', '313.97_', '880.43_', '718.95_',\n",
       "       '2680.87_', '1389.92_', '849.02_', '1216.59_', '572.55_',\n",
       "       '2549.27_', '135.37_', '891.96_', '2196.59_', '3951.34_', '656.7_',\n",
       "       '790.99_', '874.44_', '924.21_', '153.99_', '1328.9_', '2405.43_',\n",
       "       '816.95_', '2289.38_', '823.66_', '96.62_', '1477.83_', '1773.45_',\n",
       "       '695.45_', '3093.39_', '2570.66_', '1076.67_', '4525.41_',\n",
       "       '502.35_', '554.82_', '783.52_', '2550.26_', '1238.06_', '250.56_',\n",
       "       '60.25_', '1269.66_', '2447.81_', '137.68_', '3019.17_', '375.51_',\n",
       "       '2460.77_', '2393.94_', '3356.86_', '3600.06_', '678.58_',\n",
       "       '678.53_', '1366.18_', '2598.21_', '1571.84_', '1199.47_',\n",
       "       '1434.75_', '1427.36_', '4896.28_', '3665.2_', '883.9_',\n",
       "       '2444.84_', '4607.43_', '300.7_', '1382.56_', '171.45_', '529.84_',\n",
       "       '725.53_', '187.21_', '1281.77_', '405.45_', '270.42_', '647.15_',\n",
       "       '1340.52_', '1639.82_', '1287.97_', '872.16_', '1584.95_',\n",
       "       '2748.82_', '1305.12_', '1169.13_', '1289.91_', '2914.68_',\n",
       "       '4622.5_', '186.6_', '465.86_', '1552.71_', '2896.95_', '188.33_',\n",
       "       '330.68_', '182.91_', '1478.07_', '1477.46_', '822.72_', '1014.5_',\n",
       "       '884.18_', '1539.17_', '629.16_', '1490.48_', '2255.57_',\n",
       "       '113.42_', '994.53_', '4381.33_', '3523.03_', '28.15_', '1873.53_',\n",
       "       '499.1_', '1054.9_', '566.98_', '2461.32_', '2052.35_', '3421.09_',\n",
       "       '1264.42_', '1617.55_', '891.64_', '66.47_', '1324.1_', '1306.74_',\n",
       "       '1519.71_', '895.2_', '1151.7_', '484.16_', '2781.03_', '2268.36_',\n",
       "       '830.07_', '1136.85_', '2193.11_', '431.39_', '1025.3_',\n",
       "       '2170.62_', '4106.5_', '587.02_', '339.47_', '4247.2_', '3917.82_',\n",
       "       '3990.44_', '693.39_', '310.76_', '1774.51_', '1286.42_',\n",
       "       '674.41_', '1464.74_', '517.07_', '4525.71_', '393.52_', '530.96_',\n",
       "       '645.77_', '1160.42_', '3252.14_', '1746.37_', '1234.91_',\n",
       "       '3114.29_', '59.17_', '2987.02_', '1074.99_', '4974.81_',\n",
       "       '715.18_', '53.79_', '1256.67_', '922.89_', '466.36_', '533.41_',\n",
       "       '650.47_', '659.68_', '1223.0_', '281.77_', '1393.19_', '2829.78_',\n",
       "       '163.32_', '246.06_', '442.63_', '1036.4_', '1270.65_', '1319.74_',\n",
       "       '776.31_', '1032.13_', '2286.31_', '1559.16_', '577.4_', '1046.3_',\n",
       "       '446.31_', '4572.01_', '597.32_', '1255.55_', '473.15_',\n",
       "       '2694.09_', '457.32_', '1533.48_', '1290.06_', '2352.38_',\n",
       "       '369.7_', '1179.95_', '4319.35_', '1745.84_', '1422.8_', '805.95_',\n",
       "       '137.95_', '1753.33_', '1460.07_', '412.52_', '1443.54_', '810.8_',\n",
       "       '2663.62_', '2553.1_', '3777.68_', '2563.0_', '2695.77_',\n",
       "       '1078.64_', '1274.12_', '2127.78_', '3331.54_', '820.04_',\n",
       "       '4254.78_', '1261.71_', '2010.01_', '493.42_', '153.48_', '272.6_',\n",
       "       '1885.3_', '37.71_', '854.02_', '601.76_', '645.24_', '2050.42_',\n",
       "       '2483.98_', '714.54_', '653.37_', '2301.93_', '547.05_',\n",
       "       '1308.67_', '1571.26_', '28.85_', '274.48_', '1204.86_',\n",
       "       '1034.08_', '3830.47_', '2735.13_', '1364.64_', '4108.42_',\n",
       "       '990.39_', '1215.11_', '4151.04_', '1348.66_', '336.54_',\n",
       "       '1013.53_', '1472.86_', '1909.03_', '3270.39_', '860.37_',\n",
       "       '290.39_', '2866.5_', '1192.4_', '1246.97_', '711.8_', '1376.25_',\n",
       "       '3549.71_', '4598.96_', '1977.54_', '4632.72_', '655.05_',\n",
       "       '2559.02_', '453.4_', '777.89_', '864.67_', '2032.49_', '1257.27_',\n",
       "       '1171.51_', '364.08_', '3509.08_', '693.37_', '1330.29_',\n",
       "       '1200.93_', '1205.02_', '889.46_', '412.53_', '1374.76_',\n",
       "       '1020.27_', '888.02_', '586.55_', '402.23_', '124.1_', '651.79_',\n",
       "       '1463.48_', '2159.47_', '3080.03_', '809.86_', '1793.37_',\n",
       "       '447.18_', '154.63_', '98.81_', '2236.0_', '3143.12_', '176.96_',\n",
       "       '299.8_', '2563.31_', '1616.26_', '1181.13_', '245.46_',\n",
       "       '1278.12_', '3011.81_', '379.73_', '384.22_', '149.92_', '675.51_',\n",
       "       '2077.81_', '3645.73_', '1481.35_', '2813.15_', '785.19_',\n",
       "       '1811.96_', '2362.56_', '1221.11_', '1385.21_', '418.24_',\n",
       "       '1600.43_', '1075.37_', '1455.38_', '1056.32_', '639.32_',\n",
       "       '2261.01_', '1369.84_', '595.44_', '1190.45_', '74.04_',\n",
       "       '1112.47_', '3072.15_', '405.99_', '606.48_', '1603.52_',\n",
       "       '3781.47_', '881.24_', '2802.45_', '1071.33_', '2490.34_',\n",
       "       '1367.94_', '3313.55_', '1695.41_', '1080.98_', '4733.81_',\n",
       "       '1587.62_', '1948.99_', '1250.01_', '1732.94_', '899.28_',\n",
       "       '1438.65_', '1543.16_', '1883.54_', '469.39_', '968.19_', '10.55_',\n",
       "       '64.66_', '340.65_', '2918.16_', '868.83_', '814.52_', '2683.21_',\n",
       "       '1077.27_', '3346.41_', '1671.15_', '1067.77_', '757.74_',\n",
       "       '385.83_', '1496.11_', '4648.32_', '542.35_', '140.57_',\n",
       "       '1154.49_', '2575.62_', '465.88_', '159.41_', '2651.74_',\n",
       "       '3152.24_', '2074.85_', '636.43_', '911.67_', '1344.25_',\n",
       "       '1082.86_', '4709.03_', '707.43_', '201.05_', '1420.04_',\n",
       "       '1752.55_', '1326.06_', '792.46_', '297.64_', '2375.63_',\n",
       "       '1619.56_', '432.53_', '669.47_', '2654.31_', '600.66_', '724.81_',\n",
       "       '1163.48_', '1405.42_', '106.28_', '638.57_', '3051.99_', '48.42_',\n",
       "       '334.24_', '695.19_', '3530.13_', '78.41_', '2899.67_', '3659.35_',\n",
       "       '601.78_', '261.59_', '1382.94_', '780.59_', '625.84_', '1096.06_',\n",
       "       '2044.39_', '340.16_', '82.6_', '335.3_', '2115.47_', '91.34_',\n",
       "       '233.83_', '1246.99_', '1425.23_', '2245.8_', '1066.48_',\n",
       "       '3651.35_', '897.82_', '2646.26_', '771.0_', '425.17_', '1302.82_',\n",
       "       '2986.89_', '2153.66_', '1472.91_', '90.89_', '1064.61_',\n",
       "       '103.86_', '4854.6_', '1180.91_', '4770.24_', '37.21_', '838.13_',\n",
       "       '1722.61_', '758.45_', '464.4_', '2552.26_', '1150.54_', '1874.2_',\n",
       "       '1188.75_', '1231.39_', '340.22_', '1570.89_', '1116.03_',\n",
       "       '1386.36_', '239.33_', '1121.05_', '250.99_', '330.47_',\n",
       "       '2783.29_', '1549.11_', '1133.1_', '64.69_', '863.48_', '4416.93_',\n",
       "       '460.46_', '587.16_', '1625.55_', '3077.57_', '234.47_', '110.19_',\n",
       "       '459.86_', '1820.55_', '1452.74_', '4931.01_', '568.61_',\n",
       "       '1190.67_', '282.08_', '125.33_', '1023.49_', '1383.88_',\n",
       "       '2552.06_', '1140.58_', '2048.13_', '1288.02_', '1181.44_',\n",
       "       '1059.46_', '1621.69_', '954.65_', '367.77_', '1583.58_',\n",
       "       '1959.49_', '3562.24_', '1055.36_', '921.35_', '1438.18_',\n",
       "       '59.58_', '725.13_', '754.8_', '912.63_', '836.67_', '1450.15_',\n",
       "       '2660.96_', '3145.39_', '1285.51_', '2779.34_', '1268.49_',\n",
       "       '2911.44_', '1176.76_', '3991.35_', '1506.93_', '1048.02_',\n",
       "       '1751.09_', '387.39_', '307.19_', '1392.95_', '1490.29_',\n",
       "       '1039.62_', '248.71_', '157.85_', '735.75_', '605.35_', '4078.71_',\n",
       "       '1447.09_', '518.86_', '1240.45_', '1216.31_', '926.62_',\n",
       "       '695.46_', '281.84_', '1476.59_', '210.01_', '761.2_', '345.22_',\n",
       "       '1442.28_', '1080.51_', '3398.95_', '915.78_', '1708.53_',\n",
       "       '1178.78_', '2235.81_', '4417.41_', '1250.71_', '330.21_',\n",
       "       '217.5_', '27.19_', '667.56_', '953.87_', '1677.29_', '80.09_',\n",
       "       '2395.39_', '4461.39_', '1332.7_', '463.59_', '2196.5_',\n",
       "       '1061.06_', '2150.61_', '443.32_', '334.63_', '39.28_', '3783.35_',\n",
       "       '1337.34_', '1450.47_', '1161.51_', '2537.45_', '2318.76_',\n",
       "       '4106.36_', '1566.55_', '437.45_', '1151.35_', '661.03_',\n",
       "       '719.76_', '366.46_', '598.76_', '263.49_', '542.56_', '1254.45_',\n",
       "       '1457.03_', '966.07_', '996.96_', '836.95_', '1125.03_',\n",
       "       '2334.98_', '1438.91_', '438.74_', '315.39_', '382.17_',\n",
       "       '1082.56_', '300.47_', '183.3_', '4597.44_', '1179.64_',\n",
       "       '2103.16_', '52.07_', '2083.35_', '1891.76_', '418.89_', '655.52_',\n",
       "       '41.35_', '1461.64_', '954.44_', '706.22_', '1816.7_', '1254.14_'],\n",
       "      dtype=object)"
      ]
     },
     "execution_count": 995,
     "metadata": {},
     "output_type": "execute_result"
    }
   ],
   "source": [
    "df['Outstanding_Debt'][~df['Outstanding_Debt'].str.fullmatch('([0-9]*[.])?[0-9]+')].unique()"
   ]
  },
  {
   "cell_type": "markdown",
   "id": "3b9bece6",
   "metadata": {
    "papermill": {
     "duration": 0.067442,
     "end_time": "2024-09-04T13:11:24.614601",
     "exception": false,
     "start_time": "2024-09-04T13:11:24.547159",
     "status": "completed"
    },
    "tags": []
   },
   "source": [
    "Looks like a lot of values have underscore in them."
   ]
  },
  {
   "cell_type": "code",
   "execution_count": 996,
   "id": "e402827c",
   "metadata": {
    "execution": {
     "iopub.execute_input": "2024-09-04T13:11:24.752674Z",
     "iopub.status.busy": "2024-09-04T13:11:24.751701Z",
     "iopub.status.idle": "2024-09-04T13:11:24.785089Z",
     "shell.execute_reply": "2024-09-04T13:11:24.784169Z"
    },
    "papermill": {
     "duration": 0.105137,
     "end_time": "2024-09-04T13:11:24.787685",
     "exception": false,
     "start_time": "2024-09-04T13:11:24.682548",
     "status": "completed"
    },
    "tags": []
   },
   "outputs": [],
   "source": [
    "df['Outstanding_Debt'] = df['Outstanding_Debt'].str.replace('_', '')"
   ]
  },
  {
   "cell_type": "code",
   "execution_count": 997,
   "id": "dc9cdc4a",
   "metadata": {
    "execution": {
     "iopub.execute_input": "2024-09-04T13:11:24.925648Z",
     "iopub.status.busy": "2024-09-04T13:11:24.925224Z",
     "iopub.status.idle": "2024-09-04T13:11:24.989632Z",
     "shell.execute_reply": "2024-09-04T13:11:24.988519Z"
    },
    "papermill": {
     "duration": 0.136173,
     "end_time": "2024-09-04T13:11:24.992117",
     "exception": false,
     "start_time": "2024-09-04T13:11:24.855944",
     "status": "completed"
    },
    "tags": []
   },
   "outputs": [
    {
     "data": {
      "text/plain": [
       "array([], dtype=object)"
      ]
     },
     "execution_count": 997,
     "metadata": {},
     "output_type": "execute_result"
    }
   ],
   "source": [
    "df['Outstanding_Debt'][~df['Outstanding_Debt'].str.fullmatch('([0-9]*[.])?[0-9]+')].unique()"
   ]
  },
  {
   "cell_type": "code",
   "execution_count": 998,
   "id": "d5f6d1ab",
   "metadata": {
    "execution": {
     "iopub.execute_input": "2024-09-04T13:11:25.131259Z",
     "iopub.status.busy": "2024-09-04T13:11:25.130437Z",
     "iopub.status.idle": "2024-09-04T13:11:25.148025Z",
     "shell.execute_reply": "2024-09-04T13:11:25.146891Z"
    },
    "papermill": {
     "duration": 0.089531,
     "end_time": "2024-09-04T13:11:25.150395",
     "exception": false,
     "start_time": "2024-09-04T13:11:25.060864",
     "status": "completed"
    },
    "tags": []
   },
   "outputs": [],
   "source": [
    "df['Outstanding_Debt'] = df['Outstanding_Debt'].astype(float)"
   ]
  },
  {
   "cell_type": "markdown",
   "id": "1741ed6a",
   "metadata": {
    "jp-MarkdownHeadingCollapsed": true,
    "papermill": {
     "duration": 0.069028,
     "end_time": "2024-09-04T13:11:25.287625",
     "exception": false,
     "start_time": "2024-09-04T13:11:25.218597",
     "status": "completed"
    },
    "tags": []
   },
   "source": [
    "#### 12. Amount Invested Monthly"
   ]
  },
  {
   "cell_type": "markdown",
   "id": "5dc662f0",
   "metadata": {
    "papermill": {
     "duration": 0.068343,
     "end_time": "2024-09-04T13:11:25.423855",
     "exception": false,
     "start_time": "2024-09-04T13:11:25.355512",
     "status": "completed"
    },
    "tags": []
   },
   "source": [
    "The column should be of non-negative float type in nature but is of object data type(string). The column already consists null values within it."
   ]
  },
  {
   "cell_type": "code",
   "execution_count": 999,
   "id": "3004d84d",
   "metadata": {
    "execution": {
     "iopub.execute_input": "2024-09-04T13:11:25.615183Z",
     "iopub.status.busy": "2024-09-04T13:11:25.614245Z",
     "iopub.status.idle": "2024-09-04T13:11:25.626150Z",
     "shell.execute_reply": "2024-09-04T13:11:25.625148Z"
    },
    "papermill": {
     "duration": 0.083768,
     "end_time": "2024-09-04T13:11:25.628489",
     "exception": false,
     "start_time": "2024-09-04T13:11:25.544721",
     "status": "completed"
    },
    "tags": []
   },
   "outputs": [],
   "source": [
    "# Extracting non-null data\n",
    "temp_series = df['Amount_invested_monthly'][df['Amount_invested_monthly'].notnull()]"
   ]
  },
  {
   "cell_type": "code",
   "execution_count": 1000,
   "id": "332482ad",
   "metadata": {
    "execution": {
     "iopub.execute_input": "2024-09-04T13:11:25.766166Z",
     "iopub.status.busy": "2024-09-04T13:11:25.765784Z",
     "iopub.status.idle": "2024-09-04T13:11:25.830017Z",
     "shell.execute_reply": "2024-09-04T13:11:25.829013Z"
    },
    "papermill": {
     "duration": 0.135592,
     "end_time": "2024-09-04T13:11:25.832414",
     "exception": false,
     "start_time": "2024-09-04T13:11:25.696822",
     "status": "completed"
    },
    "tags": []
   },
   "outputs": [
    {
     "data": {
      "text/plain": [
       "array(['__10000__'], dtype=object)"
      ]
     },
     "execution_count": 1000,
     "metadata": {},
     "output_type": "execute_result"
    }
   ],
   "source": [
    "temp_series[~temp_series.str.fullmatch('([0-9]*[.])?[0-9]+')].unique()"
   ]
  },
  {
   "cell_type": "markdown",
   "id": "bf0724db",
   "metadata": {
    "papermill": {
     "duration": 0.069028,
     "end_time": "2024-09-04T13:11:25.969623",
     "exception": false,
     "start_time": "2024-09-04T13:11:25.900595",
     "status": "completed"
    },
    "tags": []
   },
   "source": [
    "There is one value with underscores in it. We will remove these and convert data type to float."
   ]
  },
  {
   "cell_type": "code",
   "execution_count": 1001,
   "id": "99907ce0",
   "metadata": {
    "execution": {
     "iopub.execute_input": "2024-09-04T13:11:26.111002Z",
     "iopub.status.busy": "2024-09-04T13:11:26.110596Z",
     "iopub.status.idle": "2024-09-04T13:11:26.180091Z",
     "shell.execute_reply": "2024-09-04T13:11:26.179099Z"
    },
    "papermill": {
     "duration": 0.141406,
     "end_time": "2024-09-04T13:11:26.182609",
     "exception": false,
     "start_time": "2024-09-04T13:11:26.041203",
     "status": "completed"
    },
    "tags": []
   },
   "outputs": [],
   "source": [
    "df['Amount_invested_monthly'] = df['Amount_invested_monthly'].str.replace('_', '').astype(float)"
   ]
  },
  {
   "cell_type": "markdown",
   "id": "00751f5f",
   "metadata": {
    "jp-MarkdownHeadingCollapsed": true,
    "papermill": {
     "duration": 0.071108,
     "end_time": "2024-09-04T13:11:26.321924",
     "exception": false,
     "start_time": "2024-09-04T13:11:26.250816",
     "status": "completed"
    },
    "tags": []
   },
   "source": [
    "#### 13. Payment Behaviour"
   ]
  },
  {
   "cell_type": "code",
   "execution_count": 1002,
   "id": "d4b42051",
   "metadata": {
    "execution": {
     "iopub.execute_input": "2024-09-04T13:11:26.461710Z",
     "iopub.status.busy": "2024-09-04T13:11:26.461300Z",
     "iopub.status.idle": "2024-09-04T13:11:26.476942Z",
     "shell.execute_reply": "2024-09-04T13:11:26.475861Z"
    },
    "papermill": {
     "duration": 0.088346,
     "end_time": "2024-09-04T13:11:26.479216",
     "exception": false,
     "start_time": "2024-09-04T13:11:26.390870",
     "status": "completed"
    },
    "tags": []
   },
   "outputs": [
    {
     "data": {
      "text/plain": [
       "array(['High_spent_Small_value_payments',\n",
       "       'Low_spent_Large_value_payments',\n",
       "       'Low_spent_Medium_value_payments',\n",
       "       'Low_spent_Small_value_payments',\n",
       "       'High_spent_Medium_value_payments', '!@9#%8',\n",
       "       'High_spent_Large_value_payments'], dtype=object)"
      ]
     },
     "execution_count": 1002,
     "metadata": {},
     "output_type": "execute_result"
    }
   ],
   "source": [
    "df['Payment_Behaviour'].unique()"
   ]
  },
  {
   "cell_type": "markdown",
   "id": "5c047be2",
   "metadata": {
    "papermill": {
     "duration": 0.068863,
     "end_time": "2024-09-04T13:11:26.617439",
     "exception": false,
     "start_time": "2024-09-04T13:11:26.548576",
     "status": "completed"
    },
    "tags": []
   },
   "source": [
    "There is one value that is very weird and does not make sense. We will replace it with nulls for now."
   ]
  },
  {
   "cell_type": "code",
   "execution_count": 1003,
   "id": "2c9590ba",
   "metadata": {
    "execution": {
     "iopub.execute_input": "2024-09-04T13:11:26.759071Z",
     "iopub.status.busy": "2024-09-04T13:11:26.758644Z",
     "iopub.status.idle": "2024-09-04T13:11:26.774461Z",
     "shell.execute_reply": "2024-09-04T13:11:26.773309Z"
    },
    "papermill": {
     "duration": 0.088857,
     "end_time": "2024-09-04T13:11:26.776869",
     "exception": false,
     "start_time": "2024-09-04T13:11:26.688012",
     "status": "completed"
    },
    "tags": []
   },
   "outputs": [],
   "source": [
    "df['Payment_Behaviour'][df['Payment_Behaviour'] == '!@9#%8'] = np.nan"
   ]
  },
  {
   "cell_type": "markdown",
   "id": "ad0d1edf",
   "metadata": {
    "jp-MarkdownHeadingCollapsed": true,
    "papermill": {
     "duration": 0.068875,
     "end_time": "2024-09-04T13:11:26.914363",
     "exception": false,
     "start_time": "2024-09-04T13:11:26.845488",
     "status": "completed"
    },
    "tags": []
   },
   "source": [
    "#### 14. Monthly Balance"
   ]
  },
  {
   "cell_type": "markdown",
   "id": "87099b39",
   "metadata": {
    "papermill": {
     "duration": 0.068726,
     "end_time": "2024-09-04T13:11:27.052174",
     "exception": false,
     "start_time": "2024-09-04T13:11:26.983448",
     "status": "completed"
    },
    "tags": []
   },
   "source": [
    "The column should be of float type in nature but is of object data type(string). Also, there are pre-existing null values in there."
   ]
  },
  {
   "cell_type": "code",
   "execution_count": 1004,
   "id": "634f26fc",
   "metadata": {
    "execution": {
     "iopub.execute_input": "2024-09-04T13:11:27.190682Z",
     "iopub.status.busy": "2024-09-04T13:11:27.190269Z",
     "iopub.status.idle": "2024-09-04T13:11:27.202523Z",
     "shell.execute_reply": "2024-09-04T13:11:27.201525Z"
    },
    "papermill": {
     "duration": 0.084496,
     "end_time": "2024-09-04T13:11:27.204803",
     "exception": false,
     "start_time": "2024-09-04T13:11:27.120307",
     "status": "completed"
    },
    "tags": []
   },
   "outputs": [],
   "source": [
    "# Extracting non-null data\n",
    "temp_series = df['Monthly_Balance'][df['Monthly_Balance'].notnull()]"
   ]
  },
  {
   "cell_type": "code",
   "execution_count": 1005,
   "id": "c4a279f3",
   "metadata": {
    "execution": {
     "iopub.execute_input": "2024-09-04T13:11:27.345014Z",
     "iopub.status.busy": "2024-09-04T13:11:27.344597Z",
     "iopub.status.idle": "2024-09-04T13:11:27.498503Z",
     "shell.execute_reply": "2024-09-04T13:11:27.497337Z"
    },
    "papermill": {
     "duration": 0.226134,
     "end_time": "2024-09-04T13:11:27.500900",
     "exception": false,
     "start_time": "2024-09-04T13:11:27.274766",
     "status": "completed"
    },
    "tags": []
   },
   "outputs": [
    {
     "data": {
      "text/plain": [
       "array(['__-333333333333333333333333333__'], dtype=object)"
      ]
     },
     "execution_count": 1005,
     "metadata": {},
     "output_type": "execute_result"
    }
   ],
   "source": [
    "temp_series[temp_series.str.fullmatch('[+-]*([0-9]*[.])?[0-9]+') == False].unique()"
   ]
  },
  {
   "cell_type": "markdown",
   "id": "3af7a2e0",
   "metadata": {
    "papermill": {
     "duration": 0.068541,
     "end_time": "2024-09-04T13:11:27.638711",
     "exception": false,
     "start_time": "2024-09-04T13:11:27.570170",
     "status": "completed"
    },
    "tags": []
   },
   "source": [
    "There is one value with underscore and its too big to be an actual value, we will replace it with null."
   ]
  },
  {
   "cell_type": "code",
   "execution_count": 1006,
   "id": "c3a794ba",
   "metadata": {
    "execution": {
     "iopub.execute_input": "2024-09-04T13:11:27.777207Z",
     "iopub.status.busy": "2024-09-04T13:11:27.776808Z",
     "iopub.status.idle": "2024-09-04T13:11:27.792488Z",
     "shell.execute_reply": "2024-09-04T13:11:27.791541Z"
    },
    "papermill": {
     "duration": 0.087868,
     "end_time": "2024-09-04T13:11:27.794892",
     "exception": false,
     "start_time": "2024-09-04T13:11:27.707024",
     "status": "completed"
    },
    "tags": []
   },
   "outputs": [],
   "source": [
    "df['Monthly_Balance'][df['Monthly_Balance'] == '__-333333333333333333333333333__'] = np.nan"
   ]
  },
  {
   "cell_type": "code",
   "execution_count": 1007,
   "id": "466f3dbc",
   "metadata": {
    "execution": {
     "iopub.execute_input": "2024-09-04T13:11:27.934574Z",
     "iopub.status.busy": "2024-09-04T13:11:27.934164Z",
     "iopub.status.idle": "2024-09-04T13:11:27.976316Z",
     "shell.execute_reply": "2024-09-04T13:11:27.975239Z"
    },
    "papermill": {
     "duration": 0.11509,
     "end_time": "2024-09-04T13:11:27.978773",
     "exception": false,
     "start_time": "2024-09-04T13:11:27.863683",
     "status": "completed"
    },
    "tags": []
   },
   "outputs": [],
   "source": [
    "df['Monthly_Balance'] = df['Monthly_Balance'].astype(float)"
   ]
  },
  {
   "cell_type": "markdown",
   "id": "0808ece0",
   "metadata": {
    "jp-MarkdownHeadingCollapsed": true,
    "papermill": {
     "duration": 0.068353,
     "end_time": "2024-09-04T13:11:28.116276",
     "exception": false,
     "start_time": "2024-09-04T13:11:28.047923",
     "status": "completed"
    },
    "tags": []
   },
   "source": [
    "### Handling outliers and nulls"
   ]
  },
  {
   "cell_type": "code",
   "execution_count": 1008,
   "id": "f20176a1",
   "metadata": {
    "execution": {
     "iopub.execute_input": "2024-09-04T13:11:28.257450Z",
     "iopub.status.busy": "2024-09-04T13:11:28.257055Z",
     "iopub.status.idle": "2024-09-04T13:11:28.320195Z",
     "shell.execute_reply": "2024-09-04T13:11:28.319077Z"
    },
    "papermill": {
     "duration": 0.136134,
     "end_time": "2024-09-04T13:11:28.322872",
     "exception": false,
     "start_time": "2024-09-04T13:11:28.186738",
     "status": "completed"
    },
    "tags": []
   },
   "outputs": [
    {
     "name": "stdout",
     "output_type": "stream",
     "text": [
      "<class 'pandas.core.frame.DataFrame'>\n",
      "RangeIndex: 80000 entries, 0 to 79999\n",
      "Data columns (total 27 columns):\n",
      " #   Column                    Non-Null Count  Dtype  \n",
      "---  ------                    --------------  -----  \n",
      " 0   Unnamed: 0                80000 non-null  int64  \n",
      " 1   ID                        80000 non-null  object \n",
      " 2   Customer_ID               80000 non-null  object \n",
      " 3   Month                     80000 non-null  object \n",
      " 4   Age                       80000 non-null  int64  \n",
      " 5   Occupation                74363 non-null  object \n",
      " 6   Annual_Income             80000 non-null  float64\n",
      " 7   Monthly_Inhand_Salary     68024 non-null  float64\n",
      " 8   Num_Bank_Accounts         80000 non-null  int64  \n",
      " 9   Num_Credit_Card           80000 non-null  int64  \n",
      " 10  Interest_Rate             80000 non-null  int64  \n",
      " 11  Num_of_Loan               80000 non-null  int64  \n",
      " 12  Type_of_Loan              70984 non-null  object \n",
      " 13  Delay_from_due_date       80000 non-null  int64  \n",
      " 14  Num_of_Delayed_Payment    74456 non-null  float64\n",
      " 15  Changed_Credit_Limit      78330 non-null  float64\n",
      " 16  Num_Credit_Inquiries      78448 non-null  float64\n",
      " 17  Credit_Mix                63851 non-null  object \n",
      " 18  Outstanding_Debt          80000 non-null  float64\n",
      " 19  Credit_Utilization_Ratio  80000 non-null  float64\n",
      " 20  Credit_History_Age        72755 non-null  object \n",
      " 21  Payment_of_Min_Amount     80000 non-null  object \n",
      " 22  Total_EMI_per_month       80000 non-null  float64\n",
      " 23  Amount_invested_monthly   76414 non-null  float64\n",
      " 24  Payment_Behaviour         73861 non-null  object \n",
      " 25  Monthly_Balance           79031 non-null  float64\n",
      " 26  Credit_Score              80000 non-null  object \n",
      "dtypes: float64(10), int64(7), object(10)\n",
      "memory usage: 16.5+ MB\n"
     ]
    }
   ],
   "source": [
    "df.info()"
   ]
  },
  {
   "cell_type": "markdown",
   "id": "59cbace8",
   "metadata": {
    "jp-MarkdownHeadingCollapsed": true,
    "papermill": {
     "duration": 0.068427,
     "end_time": "2024-09-04T13:11:28.460021",
     "exception": false,
     "start_time": "2024-09-04T13:11:28.391594",
     "status": "completed"
    },
    "tags": []
   },
   "source": [
    "#### The idea behind data cleaning"
   ]
  },
  {
   "cell_type": "markdown",
   "id": "df6c67c8",
   "metadata": {
    "papermill": {
     "duration": 0.069276,
     "end_time": "2024-09-04T13:11:28.598472",
     "exception": false,
     "start_time": "2024-09-04T13:11:28.529196",
     "status": "completed"
    },
    "tags": []
   },
   "source": [
    "Tree based models have the ability to handle null data and non-null data both. Looking at the given data, we have chronological data of 8-months period for all customers. It makes more sense to use this chronological order data to extract approximately accurate information to fill in the null values."
   ]
  },
  {
   "cell_type": "markdown",
   "id": "93a08268",
   "metadata": {
    "papermill": {
     "duration": 0.069599,
     "end_time": "2024-09-04T13:11:28.736586",
     "exception": false,
     "start_time": "2024-09-04T13:11:28.666987",
     "status": "completed"
    },
    "tags": []
   },
   "source": [
    "Since, we can make decent guesses about missing information in this dataset, it will be better to go ahead with correction of nulls. If there are some null values about which we can't make any guess at all then we will leave those records as it is and that can handled by the tree models."
   ]
  },
  {
   "cell_type": "markdown",
   "id": "6f2fedc1",
   "metadata": {
    "papermill": {
     "duration": 0.069213,
     "end_time": "2024-09-04T13:11:28.874381",
     "exception": false,
     "start_time": "2024-09-04T13:11:28.805168",
     "status": "completed"
    },
    "tags": []
   },
   "source": [
    "**For categorical columns:**  \n",
    "- We can find the prelevant patterns like repetition of a single mode, importance of chronological order etc. within the column and use that idea to make an educated guess about the missing values.  "
   ]
  },
  {
   "cell_type": "markdown",
   "id": "790b1881",
   "metadata": {
    "papermill": {
     "duration": 0.071014,
     "end_time": "2024-09-04T13:11:29.014773",
     "exception": false,
     "start_time": "2024-09-04T13:11:28.943759",
     "status": "completed"
    },
    "tags": []
   },
   "source": [
    "**For numerical columns:**  \n",
    "- Since there is a chronological order within the records, this can help us quantify the overall behaviour of customers and combine available data to make approximate guesses of missng data. Using deviation from median with respect to median absolute deviation(MAD) as a measure of a standardized behavioural pattern within 8-months period for a customer we can do so. After standardizing and combining these values for all customers, we can identify extreme values looking at from a behavioural persepctive rather than the exact values itself. If we suspect that these values are almost impossible to occur we can replace them with nulls.  \n",
    "- Once extreme values observed above are changed to nulls, then we can take the whole column as a sample and either rely on visualization, IQR scores or log transformation followed by IQR score to further assess any potentially problematic points."
   ]
  },
  {
   "cell_type": "markdown",
   "id": "8d22e716",
   "metadata": {
    "papermill": {
     "duration": 0.068832,
     "end_time": "2024-09-04T13:11:29.205419",
     "exception": false,
     "start_time": "2024-09-04T13:11:29.136587",
     "status": "completed"
    },
    "tags": []
   },
   "source": [
    "**Flagging potentially problematic outliers:**  \n",
    "The thing about these standard ranges of +/-3 sigma for z-score and +/-1.5 of IQR score being used for identifying outliers is that they do help us identify data points which don't follow the distribution as most of the points do but it does not mean at all that these flagged points outside these standard ranges are unreal or erroneous, they help us identify that these points might be problematic in nature and we need to further look into it. For example, in a highly skewed distribution like income distribution these measure would identify tail values as problematic but this does not mean they are unreal. Whether they follow the same pattern as rest of the data when coming to predictive modelling is totally a different case because for that we would need to visualize things with other predictor variables and target variable. For our data cleaning purpose, we will use these measures to identify potentially problmeatic points and then further assess these data points."
   ]
  },
  {
   "cell_type": "markdown",
   "id": "e487f598",
   "metadata": {
    "papermill": {
     "duration": 0.070056,
     "end_time": "2024-09-04T13:11:29.345290",
     "exception": false,
     "start_time": "2024-09-04T13:11:29.275234",
     "status": "completed"
    },
    "tags": []
   },
   "source": [
    "**About deviation from median with respect to median absolute deviation(MAD):**  \n",
    "Also, known as median standardization, we expect that there will be skewness within the data and thats why this measure is used here as its robust to skewness. Our constructed measure uses the following formula:"
   ]
  },
  {
   "cell_type": "markdown",
   "id": "aef68985",
   "metadata": {
    "papermill": {
     "duration": 0.069485,
     "end_time": "2024-09-04T13:11:29.484993",
     "exception": false,
     "start_time": "2024-09-04T13:11:29.415508",
     "status": "completed"
    },
    "tags": []
   },
   "source": [
    "**(data value - median of customer)/Median absolute deviation of customer**"
   ]
  },
  {
   "cell_type": "markdown",
   "id": "d31daa86",
   "metadata": {
    "papermill": {
     "duration": 0.068276,
     "end_time": "2024-09-04T13:11:29.622147",
     "exception": false,
     "start_time": "2024-09-04T13:11:29.553871",
     "status": "completed"
    },
    "tags": []
   },
   "source": [
    "There can be three scenarios with this equation:\n",
    "1. <u>When all values are same for a customer:</u> All non-null values are same as median then the function returns zero, indicating no deviation from median.\n",
    "2. <u> When MAD comes out to be zero but all values are not same:</u> Then the function uses maximum value of MAD out of all customers. This helps us quantify values which deviate from median via a conservative approach even though the MAD is zero for given customer. Dividing by xaro will lead to infintiy in numpy or pandas and we won't be able to differentiate in between small deviations and very huge deviations from median.   \n",
    "3. <u>When MAD is non-zero:</u> It simply returns the calculation from the equation."
   ]
  },
  {
   "cell_type": "markdown",
   "id": "b9bb2ef6",
   "metadata": {
    "papermill": {
     "duration": 0.06865,
     "end_time": "2024-09-04T13:11:29.759127",
     "exception": false,
     "start_time": "2024-09-04T13:11:29.690477",
     "status": "completed"
    },
    "tags": []
   },
   "source": [
    "There can be two types of columns when we are trying to clean extreme values in the dataset:  \n",
    "1. Extremes of target column.  \n",
    "2. Extremes of predictor columns(X columns)."
   ]
  },
  {
   "cell_type": "markdown",
   "id": "ada059de",
   "metadata": {
    "papermill": {
     "duration": 0.068406,
     "end_time": "2024-09-04T13:11:29.896311",
     "exception": false,
     "start_time": "2024-09-04T13:11:29.827905",
     "status": "completed"
    },
    "tags": []
   },
   "source": [
    "**Extremes of target column:**  \n",
    "1. <u>Classification:</u> There can be imbalance in the proportion of target variable classes and this might lead to poor predictions on the small classes if the algorithm is sensitive to imbalanced data. In that case, upsampling of minority classes, downsampling of majority classes, assinging bigger weights to minority classes , getting more data for minority classes or artificial data point generation techniques like SMOTE can be used.  \n",
    "2. <u>Regression:</u> If there is an extreme target value, then there can be two cases: either its erroneous and needs to be corrected or it is a legitimate value but is an extreme one compared to rest of the values. If its erroneous, then it needs to be handled in an appropriate way like dropping it, some sort of imputation, getting the value from the data source etc. If its a legitimate value, then there can be two case: either it follows the pattern of the rest of the data or it does not. If it follws the pattern and is extreme in y-value then it might be better to do some type of transformation which brings the y-values closer so that the algorithm does not focus too much on the extreme point and thus, deviate from general pattern. It it does not follow the pattern, then this point is called an outlier, it can be removed if the pattern that it belongs to is of no concern or will be very rare, if left there, it might affect your generalization and definitely the standard error in prediction."
   ]
  },
  {
   "cell_type": "markdown",
   "id": "5683a61e",
   "metadata": {
    "papermill": {
     "duration": 0.07203,
     "end_time": "2024-09-04T13:11:30.037649",
     "exception": false,
     "start_time": "2024-09-04T13:11:29.965619",
     "status": "completed"
    },
    "tags": []
   },
   "source": [
    "**Extremes of predictor column:**  \n",
    "- Usually, the algorithms do not demand anything from the predictor variables like they should be normally distributed or there should be balance in between the classes. But still having these standard distributions can help improve performance but there is no strict need.  \n",
    "- When considering numerical columns, records with extreme values of predictor variables are known as influential data points, there y-values or target values would have higher influence on the model equation compared to other records which have non-extreme predictor values in case of a linear regression model. If they follow the general pattern then they are not that much of a concern but if they don't then there is a problem right there and these points need to be removed if the pattern that it belongs to is of no concern or will be very rare which we don't want to account for."
   ]
  },
  {
   "cell_type": "markdown",
   "id": "90631887",
   "metadata": {
    "papermill": {
     "duration": 0.069107,
     "end_time": "2024-09-04T13:11:30.176710",
     "exception": false,
     "start_time": "2024-09-04T13:11:30.107603",
     "status": "completed"
    },
    "tags": []
   },
   "source": [
    "Identifying errorneous values is a bit easier, especially if you have domain experts by your side. But identifying outliers and influential points is tougher as it calls for looking at high dimensional data points which is very hard to do so. Either we can remove these suspected outliers and influential points if we are able to identify that these values represent rare occurences or patterns that we don't want to predict in real time or if we are not able to identify such thing its best to build predictive model on top of all the data and then observe if these data points create any issue."
   ]
  },
  {
   "cell_type": "markdown",
   "id": "8d18ec9f",
   "metadata": {
    "papermill": {
     "duration": 0.070828,
     "end_time": "2024-09-04T13:11:30.316889",
     "exception": false,
     "start_time": "2024-09-04T13:11:30.246061",
     "status": "completed"
    },
    "tags": []
   },
   "source": [
    "Since, there is obviously a chronological structure within the dataset, lets convert the months to integer based values for ease of sorting. We are not concerned about the months column because what month it is should not have any influence on credit score. We will drop it later on once we have used it to fill other columns appropriately."
   ]
  },
  {
   "cell_type": "code",
   "execution_count": 1009,
   "id": "857e82a5",
   "metadata": {
    "execution": {
     "iopub.execute_input": "2024-09-04T13:11:30.458696Z",
     "iopub.status.busy": "2024-09-04T13:11:30.458294Z",
     "iopub.status.idle": "2024-09-04T13:11:30.471233Z",
     "shell.execute_reply": "2024-09-04T13:11:30.470299Z"
    },
    "papermill": {
     "duration": 0.086163,
     "end_time": "2024-09-04T13:11:30.473461",
     "exception": false,
     "start_time": "2024-09-04T13:11:30.387298",
     "status": "completed"
    },
    "tags": []
   },
   "outputs": [],
   "source": [
    "df['Month'] = df['Month'].map({'January': 1, 'February': 2, 'March': 3, 'April': 4, 'May': 5, 'June': 6, 'July': 7, 'August': 8})"
   ]
  },
  {
   "cell_type": "markdown",
   "id": "9b70c393",
   "metadata": {
    "papermill": {
     "duration": 0.069072,
     "end_time": "2024-09-04T13:11:30.611463",
     "exception": false,
     "start_time": "2024-09-04T13:11:30.542391",
     "status": "completed"
    },
    "tags": []
   },
   "source": [
    "Now, lets sort by customer ID and months so that the records are in a structured order."
   ]
  },
  {
   "cell_type": "code",
   "execution_count": 1010,
   "id": "16b00d6b",
   "metadata": {
    "execution": {
     "iopub.execute_input": "2024-09-04T13:11:30.751966Z",
     "iopub.status.busy": "2024-09-04T13:11:30.751541Z",
     "iopub.status.idle": "2024-09-04T13:11:30.826452Z",
     "shell.execute_reply": "2024-09-04T13:11:30.825413Z"
    },
    "papermill": {
     "duration": 0.148425,
     "end_time": "2024-09-04T13:11:30.829007",
     "exception": false,
     "start_time": "2024-09-04T13:11:30.680582",
     "status": "completed"
    },
    "tags": []
   },
   "outputs": [],
   "source": [
    "df.sort_values(by = ['Customer_ID', 'Month'], ignore_index = True, inplace = True)"
   ]
  },
  {
   "cell_type": "markdown",
   "id": "fdfeecf5",
   "metadata": {
    "papermill": {
     "duration": 0.069134,
     "end_time": "2024-09-04T13:11:30.966818",
     "exception": false,
     "start_time": "2024-09-04T13:11:30.897684",
     "status": "completed"
    },
    "tags": []
   },
   "source": [
    "We can drop the ID column as that is just for unique row identification without it the customer ID and month can together uniquely identify any record."
   ]
  },
  {
   "cell_type": "code",
   "execution_count": 1011,
   "id": "23f73f67",
   "metadata": {
    "execution": {
     "iopub.execute_input": "2024-09-04T13:11:31.108357Z",
     "iopub.status.busy": "2024-09-04T13:11:31.107925Z",
     "iopub.status.idle": "2024-09-04T13:11:31.132496Z",
     "shell.execute_reply": "2024-09-04T13:11:31.131405Z"
    },
    "papermill": {
     "duration": 0.097324,
     "end_time": "2024-09-04T13:11:31.135033",
     "exception": false,
     "start_time": "2024-09-04T13:11:31.037709",
     "status": "completed"
    },
    "tags": []
   },
   "outputs": [],
   "source": [
    "df.drop(columns = 'ID', inplace = True)"
   ]
  },
  {
   "cell_type": "code",
   "execution_count": 1012,
   "id": "69de1a5a",
   "metadata": {
    "execution": {
     "iopub.execute_input": "2024-09-04T13:11:31.360734Z",
     "iopub.status.busy": "2024-09-04T13:11:31.360137Z",
     "iopub.status.idle": "2024-09-04T13:11:31.395951Z",
     "shell.execute_reply": "2024-09-04T13:11:31.394743Z"
    },
    "papermill": {
     "duration": 0.191372,
     "end_time": "2024-09-04T13:11:31.398316",
     "exception": false,
     "start_time": "2024-09-04T13:11:31.206944",
     "status": "completed"
    },
    "tags": []
   },
   "outputs": [
    {
     "data": {
      "text/html": [
       "<div>\n",
       "<style scoped>\n",
       "    .dataframe tbody tr th:only-of-type {\n",
       "        vertical-align: middle;\n",
       "    }\n",
       "\n",
       "    .dataframe tbody tr th {\n",
       "        vertical-align: top;\n",
       "    }\n",
       "\n",
       "    .dataframe thead th {\n",
       "        text-align: right;\n",
       "    }\n",
       "</style>\n",
       "<table border=\"1\" class=\"dataframe\">\n",
       "  <thead>\n",
       "    <tr style=\"text-align: right;\">\n",
       "      <th></th>\n",
       "      <th>Unnamed: 0</th>\n",
       "      <th>Customer_ID</th>\n",
       "      <th>Month</th>\n",
       "      <th>Age</th>\n",
       "      <th>Occupation</th>\n",
       "      <th>Annual_Income</th>\n",
       "      <th>Monthly_Inhand_Salary</th>\n",
       "      <th>Num_Bank_Accounts</th>\n",
       "      <th>Num_Credit_Card</th>\n",
       "      <th>Interest_Rate</th>\n",
       "      <th>...</th>\n",
       "      <th>Credit_Mix</th>\n",
       "      <th>Outstanding_Debt</th>\n",
       "      <th>Credit_Utilization_Ratio</th>\n",
       "      <th>Credit_History_Age</th>\n",
       "      <th>Payment_of_Min_Amount</th>\n",
       "      <th>Total_EMI_per_month</th>\n",
       "      <th>Amount_invested_monthly</th>\n",
       "      <th>Payment_Behaviour</th>\n",
       "      <th>Monthly_Balance</th>\n",
       "      <th>Credit_Score</th>\n",
       "    </tr>\n",
       "  </thead>\n",
       "  <tbody>\n",
       "    <tr>\n",
       "      <th>0</th>\n",
       "      <td>56752</td>\n",
       "      <td>CUS_0x1000</td>\n",
       "      <td>1</td>\n",
       "      <td>17</td>\n",
       "      <td>Lawyer</td>\n",
       "      <td>30625.94</td>\n",
       "      <td>2706.161667</td>\n",
       "      <td>6</td>\n",
       "      <td>5</td>\n",
       "      <td>27</td>\n",
       "      <td>...</td>\n",
       "      <td>Bad</td>\n",
       "      <td>1562.91</td>\n",
       "      <td>26.612093</td>\n",
       "      <td>10 Years and 2 Months</td>\n",
       "      <td>Yes</td>\n",
       "      <td>42.94109</td>\n",
       "      <td>244.750283</td>\n",
       "      <td>Low_spent_Large_value_payments</td>\n",
       "      <td>252.924793</td>\n",
       "      <td>Standard</td>\n",
       "    </tr>\n",
       "    <tr>\n",
       "      <th>1</th>\n",
       "      <td>56753</td>\n",
       "      <td>CUS_0x1000</td>\n",
       "      <td>2</td>\n",
       "      <td>17</td>\n",
       "      <td>Lawyer</td>\n",
       "      <td>30625.94</td>\n",
       "      <td>NaN</td>\n",
       "      <td>6</td>\n",
       "      <td>5</td>\n",
       "      <td>27</td>\n",
       "      <td>...</td>\n",
       "      <td>Bad</td>\n",
       "      <td>1562.91</td>\n",
       "      <td>29.439759</td>\n",
       "      <td>10 Years and 3 Months</td>\n",
       "      <td>Yes</td>\n",
       "      <td>42.94109</td>\n",
       "      <td>176.132567</td>\n",
       "      <td>High_spent_Small_value_payments</td>\n",
       "      <td>311.542510</td>\n",
       "      <td>Poor</td>\n",
       "    </tr>\n",
       "    <tr>\n",
       "      <th>2</th>\n",
       "      <td>56754</td>\n",
       "      <td>CUS_0x1000</td>\n",
       "      <td>3</td>\n",
       "      <td>17</td>\n",
       "      <td>Lawyer</td>\n",
       "      <td>30625.94</td>\n",
       "      <td>2706.161667</td>\n",
       "      <td>6</td>\n",
       "      <td>5</td>\n",
       "      <td>27</td>\n",
       "      <td>...</td>\n",
       "      <td>Bad</td>\n",
       "      <td>1562.91</td>\n",
       "      <td>38.285928</td>\n",
       "      <td>10 Years and 4 Months</td>\n",
       "      <td>Yes</td>\n",
       "      <td>42.94109</td>\n",
       "      <td>109.056519</td>\n",
       "      <td>High_spent_Medium_value_payments</td>\n",
       "      <td>368.618557</td>\n",
       "      <td>Poor</td>\n",
       "    </tr>\n",
       "    <tr>\n",
       "      <th>3</th>\n",
       "      <td>56755</td>\n",
       "      <td>CUS_0x1000</td>\n",
       "      <td>4</td>\n",
       "      <td>17</td>\n",
       "      <td>Lawyer</td>\n",
       "      <td>30625.94</td>\n",
       "      <td>2706.161667</td>\n",
       "      <td>6</td>\n",
       "      <td>5</td>\n",
       "      <td>27</td>\n",
       "      <td>...</td>\n",
       "      <td>Bad</td>\n",
       "      <td>1562.91</td>\n",
       "      <td>32.843081</td>\n",
       "      <td>10 Years and 5 Months</td>\n",
       "      <td>Yes</td>\n",
       "      <td>42.94109</td>\n",
       "      <td>87.909909</td>\n",
       "      <td>NaN</td>\n",
       "      <td>419.765167</td>\n",
       "      <td>Poor</td>\n",
       "    </tr>\n",
       "    <tr>\n",
       "      <th>4</th>\n",
       "      <td>56756</td>\n",
       "      <td>CUS_0x1000</td>\n",
       "      <td>5</td>\n",
       "      <td>17</td>\n",
       "      <td>Lawyer</td>\n",
       "      <td>30625.94</td>\n",
       "      <td>2706.161667</td>\n",
       "      <td>6</td>\n",
       "      <td>5</td>\n",
       "      <td>27</td>\n",
       "      <td>...</td>\n",
       "      <td>Bad</td>\n",
       "      <td>1562.91</td>\n",
       "      <td>32.330508</td>\n",
       "      <td>10 Years and 6 Months</td>\n",
       "      <td>Yes</td>\n",
       "      <td>42.94109</td>\n",
       "      <td>191.834767</td>\n",
       "      <td>Low_spent_Large_value_payments</td>\n",
       "      <td>305.840309</td>\n",
       "      <td>Poor</td>\n",
       "    </tr>\n",
       "    <tr>\n",
       "      <th>5</th>\n",
       "      <td>56757</td>\n",
       "      <td>CUS_0x1000</td>\n",
       "      <td>6</td>\n",
       "      <td>18</td>\n",
       "      <td>Lawyer</td>\n",
       "      <td>30625.94</td>\n",
       "      <td>2706.161667</td>\n",
       "      <td>6</td>\n",
       "      <td>5</td>\n",
       "      <td>27</td>\n",
       "      <td>...</td>\n",
       "      <td>Bad</td>\n",
       "      <td>1562.91</td>\n",
       "      <td>40.082272</td>\n",
       "      <td>10 Years and 7 Months</td>\n",
       "      <td>Yes</td>\n",
       "      <td>42.94109</td>\n",
       "      <td>114.802401</td>\n",
       "      <td>High_spent_Small_value_payments</td>\n",
       "      <td>372.872676</td>\n",
       "      <td>Poor</td>\n",
       "    </tr>\n",
       "    <tr>\n",
       "      <th>6</th>\n",
       "      <td>56758</td>\n",
       "      <td>CUS_0x1000</td>\n",
       "      <td>7</td>\n",
       "      <td>18</td>\n",
       "      <td>Lawyer</td>\n",
       "      <td>30625.94</td>\n",
       "      <td>2706.161667</td>\n",
       "      <td>6</td>\n",
       "      <td>5</td>\n",
       "      <td>27</td>\n",
       "      <td>...</td>\n",
       "      <td>Bad</td>\n",
       "      <td>1562.91</td>\n",
       "      <td>38.149539</td>\n",
       "      <td>10 Years and 8 Months</td>\n",
       "      <td>Yes</td>\n",
       "      <td>42.94109</td>\n",
       "      <td>266.597160</td>\n",
       "      <td>Low_spent_Small_value_payments</td>\n",
       "      <td>251.077916</td>\n",
       "      <td>Poor</td>\n",
       "    </tr>\n",
       "    <tr>\n",
       "      <th>7</th>\n",
       "      <td>56759</td>\n",
       "      <td>CUS_0x1000</td>\n",
       "      <td>8</td>\n",
       "      <td>18</td>\n",
       "      <td>Lawyer</td>\n",
       "      <td>30625.94</td>\n",
       "      <td>2706.161667</td>\n",
       "      <td>6</td>\n",
       "      <td>5</td>\n",
       "      <td>27</td>\n",
       "      <td>...</td>\n",
       "      <td>Bad</td>\n",
       "      <td>1562.91</td>\n",
       "      <td>30.077191</td>\n",
       "      <td>10 Years and 9 Months</td>\n",
       "      <td>Yes</td>\n",
       "      <td>42.94109</td>\n",
       "      <td>77.314276</td>\n",
       "      <td>High_spent_Medium_value_payments</td>\n",
       "      <td>400.360801</td>\n",
       "      <td>Poor</td>\n",
       "    </tr>\n",
       "  </tbody>\n",
       "</table>\n",
       "<p>8 rows × 26 columns</p>\n",
       "</div>"
      ],
      "text/plain": [
       "   Unnamed: 0 Customer_ID  Month  Age Occupation  Annual_Income  \\\n",
       "0       56752  CUS_0x1000      1   17     Lawyer       30625.94   \n",
       "1       56753  CUS_0x1000      2   17     Lawyer       30625.94   \n",
       "2       56754  CUS_0x1000      3   17     Lawyer       30625.94   \n",
       "3       56755  CUS_0x1000      4   17     Lawyer       30625.94   \n",
       "4       56756  CUS_0x1000      5   17     Lawyer       30625.94   \n",
       "5       56757  CUS_0x1000      6   18     Lawyer       30625.94   \n",
       "6       56758  CUS_0x1000      7   18     Lawyer       30625.94   \n",
       "7       56759  CUS_0x1000      8   18     Lawyer       30625.94   \n",
       "\n",
       "   Monthly_Inhand_Salary  Num_Bank_Accounts  Num_Credit_Card  Interest_Rate  \\\n",
       "0            2706.161667                  6                5             27   \n",
       "1                    NaN                  6                5             27   \n",
       "2            2706.161667                  6                5             27   \n",
       "3            2706.161667                  6                5             27   \n",
       "4            2706.161667                  6                5             27   \n",
       "5            2706.161667                  6                5             27   \n",
       "6            2706.161667                  6                5             27   \n",
       "7            2706.161667                  6                5             27   \n",
       "\n",
       "   ...  Credit_Mix Outstanding_Debt  Credit_Utilization_Ratio  \\\n",
       "0  ...         Bad          1562.91                 26.612093   \n",
       "1  ...         Bad          1562.91                 29.439759   \n",
       "2  ...         Bad          1562.91                 38.285928   \n",
       "3  ...         Bad          1562.91                 32.843081   \n",
       "4  ...         Bad          1562.91                 32.330508   \n",
       "5  ...         Bad          1562.91                 40.082272   \n",
       "6  ...         Bad          1562.91                 38.149539   \n",
       "7  ...         Bad          1562.91                 30.077191   \n",
       "\n",
       "      Credit_History_Age  Payment_of_Min_Amount  Total_EMI_per_month  \\\n",
       "0  10 Years and 2 Months                    Yes             42.94109   \n",
       "1  10 Years and 3 Months                    Yes             42.94109   \n",
       "2  10 Years and 4 Months                    Yes             42.94109   \n",
       "3  10 Years and 5 Months                    Yes             42.94109   \n",
       "4  10 Years and 6 Months                    Yes             42.94109   \n",
       "5  10 Years and 7 Months                    Yes             42.94109   \n",
       "6  10 Years and 8 Months                    Yes             42.94109   \n",
       "7  10 Years and 9 Months                    Yes             42.94109   \n",
       "\n",
       "  Amount_invested_monthly                 Payment_Behaviour  Monthly_Balance  \\\n",
       "0              244.750283    Low_spent_Large_value_payments       252.924793   \n",
       "1              176.132567   High_spent_Small_value_payments       311.542510   \n",
       "2              109.056519  High_spent_Medium_value_payments       368.618557   \n",
       "3               87.909909                               NaN       419.765167   \n",
       "4              191.834767    Low_spent_Large_value_payments       305.840309   \n",
       "5              114.802401   High_spent_Small_value_payments       372.872676   \n",
       "6              266.597160    Low_spent_Small_value_payments       251.077916   \n",
       "7               77.314276  High_spent_Medium_value_payments       400.360801   \n",
       "\n",
       "  Credit_Score  \n",
       "0     Standard  \n",
       "1         Poor  \n",
       "2         Poor  \n",
       "3         Poor  \n",
       "4         Poor  \n",
       "5         Poor  \n",
       "6         Poor  \n",
       "7         Poor  \n",
       "\n",
       "[8 rows x 26 columns]"
      ]
     },
     "execution_count": 1012,
     "metadata": {},
     "output_type": "execute_result"
    }
   ],
   "source": [
    "df.head(8)"
   ]
  },
  {
   "cell_type": "code",
   "execution_count": 1013,
   "id": "c7cbc4c4",
   "metadata": {},
   "outputs": [
    {
     "name": "stdout",
     "output_type": "stream",
     "text": [
      "<class 'pandas.core.frame.DataFrame'>\n",
      "RangeIndex: 80000 entries, 0 to 79999\n",
      "Data columns (total 26 columns):\n",
      " #   Column                    Non-Null Count  Dtype  \n",
      "---  ------                    --------------  -----  \n",
      " 0   Unnamed: 0                80000 non-null  int64  \n",
      " 1   Customer_ID               80000 non-null  object \n",
      " 2   Month                     80000 non-null  int64  \n",
      " 3   Age                       80000 non-null  int64  \n",
      " 4   Occupation                74363 non-null  object \n",
      " 5   Annual_Income             80000 non-null  float64\n",
      " 6   Monthly_Inhand_Salary     68024 non-null  float64\n",
      " 7   Num_Bank_Accounts         80000 non-null  int64  \n",
      " 8   Num_Credit_Card           80000 non-null  int64  \n",
      " 9   Interest_Rate             80000 non-null  int64  \n",
      " 10  Num_of_Loan               80000 non-null  int64  \n",
      " 11  Type_of_Loan              70984 non-null  object \n",
      " 12  Delay_from_due_date       80000 non-null  int64  \n",
      " 13  Num_of_Delayed_Payment    74456 non-null  float64\n",
      " 14  Changed_Credit_Limit      78330 non-null  float64\n",
      " 15  Num_Credit_Inquiries      78448 non-null  float64\n",
      " 16  Credit_Mix                63851 non-null  object \n",
      " 17  Outstanding_Debt          80000 non-null  float64\n",
      " 18  Credit_Utilization_Ratio  80000 non-null  float64\n",
      " 19  Credit_History_Age        72755 non-null  object \n",
      " 20  Payment_of_Min_Amount     80000 non-null  object \n",
      " 21  Total_EMI_per_month       80000 non-null  float64\n",
      " 22  Amount_invested_monthly   76414 non-null  float64\n",
      " 23  Payment_Behaviour         73861 non-null  object \n",
      " 24  Monthly_Balance           79031 non-null  float64\n",
      " 25  Credit_Score              80000 non-null  object \n",
      "dtypes: float64(10), int64(8), object(8)\n",
      "memory usage: 15.9+ MB\n"
     ]
    }
   ],
   "source": [
    "df.info()"
   ]
  },
  {
   "cell_type": "markdown",
   "id": "9787f5e9",
   "metadata": {
    "papermill": {
     "duration": 0.076968,
     "end_time": "2024-09-04T13:11:31.547992",
     "exception": false,
     "start_time": "2024-09-04T13:11:31.471024",
     "status": "completed"
    },
    "tags": []
   },
   "source": [
    "We will keep a copy of the data just in case we need it again."
   ]
  },
  {
   "cell_type": "code",
   "execution_count": 1014,
   "id": "3bf3e6a3",
   "metadata": {
    "execution": {
     "iopub.execute_input": "2024-09-04T13:11:31.700857Z",
     "iopub.status.busy": "2024-09-04T13:11:31.700030Z",
     "iopub.status.idle": "2024-09-04T13:11:31.751223Z",
     "shell.execute_reply": "2024-09-04T13:11:31.750012Z"
    },
    "papermill": {
     "duration": 0.135511,
     "end_time": "2024-09-04T13:11:31.753811",
     "exception": false,
     "start_time": "2024-09-04T13:11:31.618300",
     "status": "completed"
    },
    "tags": []
   },
   "outputs": [],
   "source": [
    "df_copy = df.copy()"
   ]
  },
  {
   "cell_type": "markdown",
   "id": "bff96781",
   "metadata": {
    "papermill": {
     "duration": 0.069335,
     "end_time": "2024-09-04T13:11:31.894248",
     "exception": false,
     "start_time": "2024-09-04T13:11:31.824913",
     "status": "completed"
    },
    "tags": []
   },
   "source": [
    "Lets look at the columns one by one to figure out how to handle each individual column the best way."
   ]
  },
  {
   "cell_type": "markdown",
   "id": "81bd5879",
   "metadata": {
    "jp-MarkdownHeadingCollapsed": true,
    "papermill": {
     "duration": 0.070715,
     "end_time": "2024-09-04T13:11:32.034781",
     "exception": false,
     "start_time": "2024-09-04T13:11:31.964066",
     "status": "completed"
    },
    "tags": []
   },
   "source": [
    "#### 1. Age "
   ]
  },
  {
   "cell_type": "markdown",
   "id": "5c5b4fe3",
   "metadata": {
    "papermill": {
     "duration": 0.07197,
     "end_time": "2024-09-04T13:11:32.176435",
     "exception": false,
     "start_time": "2024-09-04T13:11:32.104465",
     "status": "completed"
    },
    "tags": []
   },
   "source": [
    "As already noted there are many extreme values present in age column which are unrealistic in nature. Lets convert any inappropriate value which is not at all possible like negative and high positive values above 100 to null for now."
   ]
  },
  {
   "cell_type": "code",
   "execution_count": 1015,
   "id": "1ac4a096",
   "metadata": {
    "execution": {
     "iopub.execute_input": "2024-09-04T13:11:32.321007Z",
     "iopub.status.busy": "2024-09-04T13:11:32.320570Z",
     "iopub.status.idle": "2024-09-04T13:11:32.330085Z",
     "shell.execute_reply": "2024-09-04T13:11:32.328738Z"
    },
    "papermill": {
     "duration": 0.086356,
     "end_time": "2024-09-04T13:11:32.333151",
     "exception": false,
     "start_time": "2024-09-04T13:11:32.246795",
     "status": "completed"
    },
    "tags": []
   },
   "outputs": [],
   "source": [
    "df['Age'][(df['Age'] > 100) | (df['Age'] <= 0)] = np.nan "
   ]
  },
  {
   "cell_type": "code",
   "execution_count": 1016,
   "id": "366ca343",
   "metadata": {
    "execution": {
     "iopub.execute_input": "2024-09-04T13:11:32.485170Z",
     "iopub.status.busy": "2024-09-04T13:11:32.484782Z",
     "iopub.status.idle": "2024-09-04T13:11:48.517301Z",
     "shell.execute_reply": "2024-09-04T13:11:48.516248Z"
    },
    "papermill": {
     "duration": 16.1073,
     "end_time": "2024-09-04T13:11:48.519747",
     "exception": false,
     "start_time": "2024-09-04T13:11:32.412447",
     "status": "completed"
    },
    "tags": []
   },
   "outputs": [
    {
     "name": "stdout",
     "output_type": "stream",
     "text": [
      "Column description for Age:\n",
      "\n",
      "count    77772.000000\n",
      "mean        33.382644\n",
      "std         10.766415\n",
      "min         14.000000\n",
      "25%         25.000000\n",
      "50%         33.000000\n",
      "75%         42.000000\n",
      "max        100.000000\n",
      "Name: Age, dtype: float64\n",
      "\n",
      "Number of null values: 2228 \n",
      "\n",
      "\n",
      "\n",
      "\n",
      "Median standardization for Age:\n",
      "\n",
      "count    77772.000000\n",
      "mean         0.013990\n",
      "std          1.272852\n",
      "min         -2.000000\n",
      "25%          0.000000\n",
      "50%          0.000000\n",
      "75%          0.000000\n",
      "max        142.000000\n",
      "Name: Age, dtype: float64\n",
      "\n",
      "Number of null values: 2228 \n",
      "\n",
      "\n"
     ]
    }
   ],
   "source": [
    "summary_age = summarize_numerical_column_with_deviation(df, 'Age', median_standardization_summary = True)"
   ]
  },
  {
   "cell_type": "markdown",
   "id": "c695c918",
   "metadata": {
    "papermill": {
     "duration": 0.070852,
     "end_time": "2024-09-04T13:11:48.661503",
     "exception": false,
     "start_time": "2024-09-04T13:11:48.590651",
     "status": "completed"
    },
    "tags": []
   },
   "source": [
    "There are clearly some extreme values when we look at median standardization, 4 data points look very extreme compared to other ages and can be replaced with nulls for now as these deviations are unrealistic."
   ]
  },
  {
   "cell_type": "code",
   "execution_count": 1017,
   "id": "f342e287",
   "metadata": {
    "execution": {
     "iopub.execute_input": "2024-09-04T13:11:48.805785Z",
     "iopub.status.busy": "2024-09-04T13:11:48.805314Z",
     "iopub.status.idle": "2024-09-04T13:12:04.561353Z",
     "shell.execute_reply": "2024-09-04T13:12:04.560290Z"
    },
    "papermill": {
     "duration": 15.831418,
     "end_time": "2024-09-04T13:12:04.563880",
     "exception": false,
     "start_time": "2024-09-04T13:11:48.732462",
     "status": "completed"
    },
    "tags": []
   },
   "outputs": [],
   "source": [
    "df['Age'][df.groupby('Customer_ID')['Age'].transform(median_standardization, default_value = return_max_MAD(df, 'Age')) > 80] = np.nan"
   ]
  },
  {
   "cell_type": "markdown",
   "id": "90e3c186",
   "metadata": {
    "papermill": {
     "duration": 0.070466,
     "end_time": "2024-09-04T13:12:04.707223",
     "exception": false,
     "start_time": "2024-09-04T13:12:04.636757",
     "status": "completed"
    },
    "tags": []
   },
   "source": [
    "We have removed all inappropriate values and replaced them with nulls. What we have in our dataset is customer data, if some month's age data is missing then we can simply refer the other months data of same customer to replace with an appropriate value."
   ]
  },
  {
   "cell_type": "markdown",
   "id": "00b744f2",
   "metadata": {
    "papermill": {
     "duration": 0.070526,
     "end_time": "2024-09-04T13:12:04.848277",
     "exception": false,
     "start_time": "2024-09-04T13:12:04.777751",
     "status": "completed"
    },
    "tags": []
   },
   "source": [
    "Since, we don't have birth dates its not exactly always possible to determine the exact value to replace null with. For example, if a customer has 17, null, 18 as ages for three consecutive months, then we can't say whether the missing value will be 17 or 18. We can't replace with 17.5 also as that is a value that is not possible for age and might miss lead the algorithm into believing that these values can also exist. So, we will use forward fill and backward fill in any order to fill these null values as the best guess."
   ]
  },
  {
   "cell_type": "code",
   "execution_count": 1018,
   "id": "5653ea24",
   "metadata": {
    "execution": {
     "iopub.execute_input": "2024-09-04T13:12:04.991141Z",
     "iopub.status.busy": "2024-09-04T13:12:04.990726Z",
     "iopub.status.idle": "2024-09-04T13:12:08.914832Z",
     "shell.execute_reply": "2024-09-04T13:12:08.913737Z"
    },
    "papermill": {
     "duration": 3.998544,
     "end_time": "2024-09-04T13:12:08.917412",
     "exception": false,
     "start_time": "2024-09-04T13:12:04.918868",
     "status": "completed"
    },
    "tags": []
   },
   "outputs": [],
   "source": [
    "df['Age'] =  df.groupby('Customer_ID')['Age'].transform(forward_backward_fill).astype(int)"
   ]
  },
  {
   "cell_type": "markdown",
   "id": "56cb805e",
   "metadata": {
    "papermill": {
     "duration": 0.071575,
     "end_time": "2024-09-04T13:12:09.061021",
     "exception": false,
     "start_time": "2024-09-04T13:12:08.989446",
     "status": "completed"
    },
    "tags": []
   },
   "source": [
    "Two more checks that can be done is that in this 8-month time period a customer can have either one age or maximum two, not more than that:  \n",
    "1. Unique count of ages for any customer should be either 1 or 2.\n",
    "2. The ages if two in count should be consecutive integers i.e. the difference would be 1 occuring one time during 8-months period."
   ]
  },
  {
   "cell_type": "code",
   "execution_count": 1019,
   "id": "438a56e5",
   "metadata": {
    "execution": {
     "iopub.execute_input": "2024-09-04T13:12:09.204655Z",
     "iopub.status.busy": "2024-09-04T13:12:09.204266Z",
     "iopub.status.idle": "2024-09-04T13:12:09.230727Z",
     "shell.execute_reply": "2024-09-04T13:12:09.229722Z"
    },
    "papermill": {
     "duration": 0.100996,
     "end_time": "2024-09-04T13:12:09.233002",
     "exception": false,
     "start_time": "2024-09-04T13:12:09.132006",
     "status": "completed"
    },
    "tags": []
   },
   "outputs": [
    {
     "data": {
      "text/plain": [
       "Age\n",
       "2    5728\n",
       "1    4272\n",
       "Name: count, dtype: int64"
      ]
     },
     "execution_count": 1019,
     "metadata": {},
     "output_type": "execute_result"
    }
   ],
   "source": [
    "df.groupby('Customer_ID')['Age'].nunique().value_counts()"
   ]
  },
  {
   "cell_type": "code",
   "execution_count": 1020,
   "id": "0330be22",
   "metadata": {
    "execution": {
     "iopub.execute_input": "2024-09-04T13:12:09.377393Z",
     "iopub.status.busy": "2024-09-04T13:12:09.377017Z",
     "iopub.status.idle": "2024-09-04T13:12:14.398926Z",
     "shell.execute_reply": "2024-09-04T13:12:14.397915Z"
    },
    "papermill": {
     "duration": 5.097223,
     "end_time": "2024-09-04T13:12:14.401224",
     "exception": false,
     "start_time": "2024-09-04T13:12:09.304001",
     "status": "completed"
    },
    "tags": []
   },
   "outputs": [
    {
     "data": {
      "text/plain": [
       "Age\n",
       "True    10000\n",
       "Name: count, dtype: int64"
      ]
     },
     "execution_count": 1020,
     "metadata": {},
     "output_type": "execute_result"
    }
   ],
   "source": [
    "# Checking validity of ages\n",
    "df.groupby('Customer_ID')['Age'].agg(validate_age).value_counts()"
   ]
  },
  {
   "cell_type": "markdown",
   "id": "20117821",
   "metadata": {
    "papermill": {
     "duration": 0.072165,
     "end_time": "2024-09-04T13:12:14.548181",
     "exception": false,
     "start_time": "2024-09-04T13:12:14.476016",
     "status": "completed"
    },
    "tags": []
   },
   "source": [
    "This looks ok logically."
   ]
  },
  {
   "cell_type": "markdown",
   "id": "de6db9cb",
   "metadata": {
    "jp-MarkdownHeadingCollapsed": true,
    "papermill": {
     "duration": 0.071096,
     "end_time": "2024-09-04T13:12:14.692471",
     "exception": false,
     "start_time": "2024-09-04T13:12:14.621375",
     "status": "completed"
    },
    "tags": []
   },
   "source": [
    "#### 2. Occupation "
   ]
  },
  {
   "cell_type": "code",
   "execution_count": 1021,
   "id": "7f63f07a",
   "metadata": {
    "execution": {
     "iopub.execute_input": "2024-09-04T13:12:14.838191Z",
     "iopub.status.busy": "2024-09-04T13:12:14.837278Z",
     "iopub.status.idle": "2024-09-04T13:12:15.186584Z",
     "shell.execute_reply": "2024-09-04T13:12:15.185441Z"
    },
    "papermill": {
     "duration": 0.424687,
     "end_time": "2024-09-04T13:12:15.188893",
     "exception": false,
     "start_time": "2024-09-04T13:12:14.764206",
     "status": "completed"
    },
    "tags": []
   },
   "outputs": [
    {
     "data": {
      "image/png": "[encoded data removed]",
      "text/plain": [
       "<Figure size 640x480 with 1 Axes>"
      ]
     },
     "metadata": {},
     "output_type": "display_data"
    }
   ],
   "source": [
    "occupation_count = df['Occupation'].value_counts()\n",
    "sns.barplot(x = occupation_count.values, y = occupation_count.index, orient = 'h')\n",
    "plt.xlabel('Count')\n",
    "plt.ylabel('Occupation');"
   ]
  },
  {
   "cell_type": "code",
   "execution_count": 1022,
   "id": "0a14f4fc",
   "metadata": {
    "execution": {
     "iopub.execute_input": "2024-09-04T13:12:15.391225Z",
     "iopub.status.busy": "2024-09-04T13:12:15.390828Z",
     "iopub.status.idle": "2024-09-04T13:12:15.403343Z",
     "shell.execute_reply": "2024-09-04T13:12:15.402339Z"
    },
    "papermill": {
     "duration": 0.089022,
     "end_time": "2024-09-04T13:12:15.405458",
     "exception": false,
     "start_time": "2024-09-04T13:12:15.316436",
     "status": "completed"
    },
    "tags": []
   },
   "outputs": [
    {
     "data": {
      "text/plain": [
       "np.int64(5637)"
      ]
     },
     "execution_count": 1022,
     "metadata": {},
     "output_type": "execute_result"
    }
   ],
   "source": [
    "df['Occupation'].isnull().sum()"
   ]
  },
  {
   "cell_type": "markdown",
   "id": "97d5bac4",
   "metadata": {
    "papermill": {
     "duration": 0.073226,
     "end_time": "2024-09-04T13:12:15.552996",
     "exception": false,
     "start_time": "2024-09-04T13:12:15.479770",
     "status": "completed"
    },
    "tags": []
   },
   "source": [
    "Does all the customers have same occupation or multiple throughout the 8-months period?"
   ]
  },
  {
   "cell_type": "code",
   "execution_count": 1023,
   "id": "85a79417",
   "metadata": {
    "execution": {
     "iopub.execute_input": "2024-09-04T13:12:15.700422Z",
     "iopub.status.busy": "2024-09-04T13:12:15.699999Z",
     "iopub.status.idle": "2024-09-04T13:12:15.734249Z",
     "shell.execute_reply": "2024-09-04T13:12:15.733077Z"
    },
    "papermill": {
     "duration": 0.110319,
     "end_time": "2024-09-04T13:12:15.736476",
     "exception": false,
     "start_time": "2024-09-04T13:12:15.626157",
     "status": "completed"
    },
    "tags": []
   },
   "outputs": [
    {
     "data": {
      "text/plain": [
       "Occupation\n",
       "1    10000\n",
       "Name: count, dtype: int64"
      ]
     },
     "execution_count": 1023,
     "metadata": {},
     "output_type": "execute_result"
    }
   ],
   "source": [
    "df.groupby('Customer_ID')['Occupation'].nunique().value_counts()"
   ]
  },
  {
   "cell_type": "code",
   "execution_count": 1024,
   "id": "69e6af60",
   "metadata": {
    "execution": {
     "iopub.execute_input": "2024-09-04T13:12:15.885377Z",
     "iopub.status.busy": "2024-09-04T13:12:15.884953Z",
     "iopub.status.idle": "2024-09-04T13:12:15.913701Z",
     "shell.execute_reply": "2024-09-04T13:12:15.912478Z"
    },
    "papermill": {
     "duration": 0.10601,
     "end_time": "2024-09-04T13:12:15.916013",
     "exception": false,
     "start_time": "2024-09-04T13:12:15.810003",
     "status": "completed"
    },
    "tags": []
   },
   "outputs": [
    {
     "data": {
      "text/plain": [
       "Occupation\n",
       "8    5580\n",
       "7    3373\n",
       "6     892\n",
       "5     140\n",
       "4      15\n",
       "Name: count, dtype: int64"
      ]
     },
     "execution_count": 1024,
     "metadata": {},
     "output_type": "execute_result"
    }
   ],
   "source": [
    "df.groupby('Customer_ID')['Occupation'].count().value_counts()"
   ]
  },
  {
   "cell_type": "markdown",
   "id": "8d8aa580",
   "metadata": {
    "papermill": {
     "duration": 0.073693,
     "end_time": "2024-09-04T13:12:16.062634",
     "exception": false,
     "start_time": "2024-09-04T13:12:15.988941",
     "status": "completed"
    },
    "tags": []
   },
   "source": [
    "So, no one has transitioned into new role or maybe its not mentioned and is coming as null. But these possibilities we obviously can't tell until and unless we get back to the customer. We need to make the most appropriate educated guess for now."
   ]
  },
  {
   "cell_type": "markdown",
   "id": "7182d58e",
   "metadata": {
    "papermill": {
     "duration": 0.07284,
     "end_time": "2024-09-04T13:12:16.209592",
     "exception": false,
     "start_time": "2024-09-04T13:12:16.136752",
     "status": "completed"
    },
    "tags": []
   },
   "source": [
    "Transitioning to new role or leaving jobs in a count of 12500 customers during 8-month period is definitley possible but will be a relatively lower amount. For now, the best educated guess would be to take the same profession throughout the 8-months period. We can use forward fill and backward fill here."
   ]
  },
  {
   "cell_type": "code",
   "execution_count": 1025,
   "id": "50943354",
   "metadata": {
    "execution": {
     "iopub.execute_input": "2024-09-04T13:12:16.358586Z",
     "iopub.status.busy": "2024-09-04T13:12:16.358156Z",
     "iopub.status.idle": "2024-09-04T13:12:22.167215Z",
     "shell.execute_reply": "2024-09-04T13:12:22.166157Z"
    },
    "papermill": {
     "duration": 5.887077,
     "end_time": "2024-09-04T13:12:22.169793",
     "exception": false,
     "start_time": "2024-09-04T13:12:16.282716",
     "status": "completed"
    },
    "tags": []
   },
   "outputs": [],
   "source": [
    "df['Occupation'] = df.groupby('Customer_ID')['Occupation'].transform(forward_backward_fill)"
   ]
  },
  {
   "cell_type": "code",
   "execution_count": 1026,
   "id": "f30325c0",
   "metadata": {
    "execution": {
     "iopub.execute_input": "2024-09-04T13:12:22.318044Z",
     "iopub.status.busy": "2024-09-04T13:12:22.317623Z",
     "iopub.status.idle": "2024-09-04T13:12:22.330382Z",
     "shell.execute_reply": "2024-09-04T13:12:22.329263Z"
    },
    "papermill": {
     "duration": 0.090405,
     "end_time": "2024-09-04T13:12:22.332780",
     "exception": false,
     "start_time": "2024-09-04T13:12:22.242375",
     "status": "completed"
    },
    "tags": []
   },
   "outputs": [
    {
     "data": {
      "text/plain": [
       "np.int64(0)"
      ]
     },
     "execution_count": 1026,
     "metadata": {},
     "output_type": "execute_result"
    }
   ],
   "source": [
    "df['Occupation'].isnull().sum()"
   ]
  },
  {
   "cell_type": "markdown",
   "id": "5671ad45",
   "metadata": {
    "jp-MarkdownHeadingCollapsed": true,
    "papermill": {
     "duration": 0.075415,
     "end_time": "2024-09-04T13:12:22.483693",
     "exception": false,
     "start_time": "2024-09-04T13:12:22.408278",
     "status": "completed"
    },
    "tags": []
   },
   "source": [
    "#### 3. Annual Income and monthly inhand salary"
   ]
  },
  {
   "cell_type": "markdown",
   "id": "809ccf65",
   "metadata": {
    "papermill": {
     "duration": 0.075711,
     "end_time": "2024-09-04T13:12:22.634100",
     "exception": false,
     "start_time": "2024-09-04T13:12:22.558389",
     "status": "completed"
    },
    "tags": []
   },
   "source": [
    "Both annual income and monthly inhand salary go hand in hand and if there is some erroneous or missing value in one column then the other might have information on what might be the correct guess."
   ]
  },
  {
   "cell_type": "markdown",
   "id": "4fea4e86",
   "metadata": {
    "papermill": {
     "duration": 0.072727,
     "end_time": "2024-09-04T13:12:22.781015",
     "exception": false,
     "start_time": "2024-09-04T13:12:22.708288",
     "status": "completed"
    },
    "tags": []
   },
   "source": [
    "Lets look at the distribution of annual income. Right now, we don't have any null values present in this column but maybe there are extreme or erroneous values present."
   ]
  },
  {
   "cell_type": "code",
   "execution_count": 1027,
   "id": "7fce030f",
   "metadata": {
    "execution": {
     "iopub.execute_input": "2024-09-04T13:12:22.930515Z",
     "iopub.status.busy": "2024-09-04T13:12:22.929770Z",
     "iopub.status.idle": "2024-09-04T13:12:37.949554Z",
     "shell.execute_reply": "2024-09-04T13:12:37.948546Z"
    },
    "papermill": {
     "duration": 15.097646,
     "end_time": "2024-09-04T13:12:37.951849",
     "exception": false,
     "start_time": "2024-09-04T13:12:22.854203",
     "status": "completed"
    },
    "tags": []
   },
   "outputs": [
    {
     "name": "stdout",
     "output_type": "stream",
     "text": [
      "Column description for Annual_Income:\n",
      "\n",
      "count    8.000000e+04\n",
      "mean     1.772119e+05\n",
      "std      1.440363e+06\n",
      "min      7.005930e+03\n",
      "25%      1.937048e+04\n",
      "50%      3.724022e+04\n",
      "75%      7.269014e+04\n",
      "max      2.419806e+07\n",
      "Name: Annual_Income, dtype: float64\n",
      "\n",
      "Number of null values: 0 \n",
      "\n",
      "\n"
     ]
    }
   ],
   "source": [
    "summary_annual_income = summarize_numerical_column_with_deviation(df, 'Annual_Income', 'Customer_ID', True, False)"
   ]
  },
  {
   "cell_type": "markdown",
   "id": "62d075f2",
   "metadata": {
    "papermill": {
     "duration": 0.073551,
     "end_time": "2024-09-04T13:12:38.100446",
     "exception": false,
     "start_time": "2024-09-04T13:12:38.026895",
     "status": "completed"
    },
    "tags": []
   },
   "source": [
    "Looks like there are a lot of extreme values present, typically the annual income is definitely skewed but not by this much and these are therefore most probably present due to error while filling the data."
   ]
  },
  {
   "cell_type": "markdown",
   "id": "db7a47d7",
   "metadata": {
    "papermill": {
     "duration": 0.073292,
     "end_time": "2024-09-04T13:12:38.247708",
     "exception": false,
     "start_time": "2024-09-04T13:12:38.174416",
     "status": "completed"
    },
    "tags": []
   },
   "source": [
    "Lets look at some customer data to understand this better."
   ]
  },
  {
   "cell_type": "code",
   "execution_count": 1028,
   "id": "69b25640",
   "metadata": {
    "execution": {
     "iopub.execute_input": "2024-09-04T13:12:38.396129Z",
     "iopub.status.busy": "2024-09-04T13:12:38.395719Z",
     "iopub.status.idle": "2024-09-04T13:12:38.452470Z",
     "shell.execute_reply": "2024-09-04T13:12:38.451219Z"
    },
    "papermill": {
     "duration": 0.133491,
     "end_time": "2024-09-04T13:12:38.454993",
     "exception": false,
     "start_time": "2024-09-04T13:12:38.321502",
     "status": "completed"
    },
    "scrolled": true,
    "tags": []
   },
   "outputs": [
    {
     "data": {
      "text/html": [
       "<div>\n",
       "<style scoped>\n",
       "    .dataframe tbody tr th:only-of-type {\n",
       "        vertical-align: middle;\n",
       "    }\n",
       "\n",
       "    .dataframe tbody tr th {\n",
       "        vertical-align: top;\n",
       "    }\n",
       "\n",
       "    .dataframe thead th {\n",
       "        text-align: right;\n",
       "    }\n",
       "</style>\n",
       "<table border=\"1\" class=\"dataframe\">\n",
       "  <thead>\n",
       "    <tr style=\"text-align: right;\">\n",
       "      <th></th>\n",
       "      <th>Unnamed: 0</th>\n",
       "      <th>Customer_ID</th>\n",
       "      <th>Month</th>\n",
       "      <th>Age</th>\n",
       "      <th>Occupation</th>\n",
       "      <th>Annual_Income</th>\n",
       "      <th>Monthly_Inhand_Salary</th>\n",
       "      <th>Num_Bank_Accounts</th>\n",
       "      <th>Num_Credit_Card</th>\n",
       "      <th>Interest_Rate</th>\n",
       "      <th>...</th>\n",
       "      <th>Credit_Mix</th>\n",
       "      <th>Outstanding_Debt</th>\n",
       "      <th>Credit_Utilization_Ratio</th>\n",
       "      <th>Credit_History_Age</th>\n",
       "      <th>Payment_of_Min_Amount</th>\n",
       "      <th>Total_EMI_per_month</th>\n",
       "      <th>Amount_invested_monthly</th>\n",
       "      <th>Payment_Behaviour</th>\n",
       "      <th>Monthly_Balance</th>\n",
       "      <th>Credit_Score</th>\n",
       "    </tr>\n",
       "  </thead>\n",
       "  <tbody>\n",
       "    <tr>\n",
       "      <th>7448</th>\n",
       "      <td>49656</td>\n",
       "      <td>CUS_0x23a4</td>\n",
       "      <td>1</td>\n",
       "      <td>42</td>\n",
       "      <td>Lawyer</td>\n",
       "      <td>53876.88</td>\n",
       "      <td>4566.740000</td>\n",
       "      <td>8</td>\n",
       "      <td>7</td>\n",
       "      <td>19</td>\n",
       "      <td>...</td>\n",
       "      <td>Standard</td>\n",
       "      <td>1341.25</td>\n",
       "      <td>33.425033</td>\n",
       "      <td>NaN</td>\n",
       "      <td>Yes</td>\n",
       "      <td>168.709708</td>\n",
       "      <td>122.268859</td>\n",
       "      <td>High_spent_Medium_value_payments</td>\n",
       "      <td>415.695434</td>\n",
       "      <td>Poor</td>\n",
       "    </tr>\n",
       "    <tr>\n",
       "      <th>7449</th>\n",
       "      <td>49657</td>\n",
       "      <td>CUS_0x23a4</td>\n",
       "      <td>2</td>\n",
       "      <td>42</td>\n",
       "      <td>Lawyer</td>\n",
       "      <td>53876.88</td>\n",
       "      <td>4566.740000</td>\n",
       "      <td>8</td>\n",
       "      <td>7</td>\n",
       "      <td>19</td>\n",
       "      <td>...</td>\n",
       "      <td>NaN</td>\n",
       "      <td>1341.25</td>\n",
       "      <td>28.292596</td>\n",
       "      <td>19 Years and 3 Months</td>\n",
       "      <td>Yes</td>\n",
       "      <td>168.709708</td>\n",
       "      <td>409.424856</td>\n",
       "      <td>Low_spent_Small_value_payments</td>\n",
       "      <td>168.539436</td>\n",
       "      <td>Poor</td>\n",
       "    </tr>\n",
       "    <tr>\n",
       "      <th>7450</th>\n",
       "      <td>49658</td>\n",
       "      <td>CUS_0x23a4</td>\n",
       "      <td>3</td>\n",
       "      <td>42</td>\n",
       "      <td>Lawyer</td>\n",
       "      <td>53876.88</td>\n",
       "      <td>4566.740000</td>\n",
       "      <td>8</td>\n",
       "      <td>7</td>\n",
       "      <td>19</td>\n",
       "      <td>...</td>\n",
       "      <td>NaN</td>\n",
       "      <td>1341.25</td>\n",
       "      <td>35.995217</td>\n",
       "      <td>19 Years and 4 Months</td>\n",
       "      <td>Yes</td>\n",
       "      <td>168.709708</td>\n",
       "      <td>177.792261</td>\n",
       "      <td>Low_spent_Medium_value_payments</td>\n",
       "      <td>390.172032</td>\n",
       "      <td>Poor</td>\n",
       "    </tr>\n",
       "    <tr>\n",
       "      <th>7451</th>\n",
       "      <td>49659</td>\n",
       "      <td>CUS_0x23a4</td>\n",
       "      <td>4</td>\n",
       "      <td>42</td>\n",
       "      <td>Lawyer</td>\n",
       "      <td>53876.88</td>\n",
       "      <td>NaN</td>\n",
       "      <td>8</td>\n",
       "      <td>7</td>\n",
       "      <td>19</td>\n",
       "      <td>...</td>\n",
       "      <td>Standard</td>\n",
       "      <td>1341.25</td>\n",
       "      <td>37.767161</td>\n",
       "      <td>19 Years and 5 Months</td>\n",
       "      <td>NM</td>\n",
       "      <td>168.709708</td>\n",
       "      <td>199.807799</td>\n",
       "      <td>Low_spent_Small_value_payments</td>\n",
       "      <td>378.156494</td>\n",
       "      <td>Poor</td>\n",
       "    </tr>\n",
       "    <tr>\n",
       "      <th>7452</th>\n",
       "      <td>49660</td>\n",
       "      <td>CUS_0x23a4</td>\n",
       "      <td>5</td>\n",
       "      <td>42</td>\n",
       "      <td>Lawyer</td>\n",
       "      <td>53876.88</td>\n",
       "      <td>4566.740000</td>\n",
       "      <td>8</td>\n",
       "      <td>7</td>\n",
       "      <td>19</td>\n",
       "      <td>...</td>\n",
       "      <td>Standard</td>\n",
       "      <td>1341.25</td>\n",
       "      <td>32.310713</td>\n",
       "      <td>19 Years and 6 Months</td>\n",
       "      <td>NM</td>\n",
       "      <td>168.709708</td>\n",
       "      <td>83.756629</td>\n",
       "      <td>High_spent_Medium_value_payments</td>\n",
       "      <td>454.207663</td>\n",
       "      <td>Poor</td>\n",
       "    </tr>\n",
       "    <tr>\n",
       "      <th>7453</th>\n",
       "      <td>49661</td>\n",
       "      <td>CUS_0x23a4</td>\n",
       "      <td>6</td>\n",
       "      <td>42</td>\n",
       "      <td>Lawyer</td>\n",
       "      <td>53876.88</td>\n",
       "      <td>4566.740000</td>\n",
       "      <td>8</td>\n",
       "      <td>7</td>\n",
       "      <td>19</td>\n",
       "      <td>...</td>\n",
       "      <td>Standard</td>\n",
       "      <td>1341.25</td>\n",
       "      <td>34.784210</td>\n",
       "      <td>19 Years and 7 Months</td>\n",
       "      <td>Yes</td>\n",
       "      <td>168.709708</td>\n",
       "      <td>425.387629</td>\n",
       "      <td>Low_spent_Medium_value_payments</td>\n",
       "      <td>142.576663</td>\n",
       "      <td>Poor</td>\n",
       "    </tr>\n",
       "    <tr>\n",
       "      <th>7454</th>\n",
       "      <td>49662</td>\n",
       "      <td>CUS_0x23a4</td>\n",
       "      <td>7</td>\n",
       "      <td>42</td>\n",
       "      <td>Lawyer</td>\n",
       "      <td>53876.88</td>\n",
       "      <td>4566.740000</td>\n",
       "      <td>8</td>\n",
       "      <td>7</td>\n",
       "      <td>19</td>\n",
       "      <td>...</td>\n",
       "      <td>Standard</td>\n",
       "      <td>1341.25</td>\n",
       "      <td>31.017887</td>\n",
       "      <td>19 Years and 8 Months</td>\n",
       "      <td>Yes</td>\n",
       "      <td>168.709708</td>\n",
       "      <td>270.824140</td>\n",
       "      <td>High_spent_Small_value_payments</td>\n",
       "      <td>277.140153</td>\n",
       "      <td>Poor</td>\n",
       "    </tr>\n",
       "    <tr>\n",
       "      <th>7455</th>\n",
       "      <td>49663</td>\n",
       "      <td>CUS_0x23a4</td>\n",
       "      <td>8</td>\n",
       "      <td>42</td>\n",
       "      <td>Lawyer</td>\n",
       "      <td>53876.88</td>\n",
       "      <td>4566.740000</td>\n",
       "      <td>8</td>\n",
       "      <td>7</td>\n",
       "      <td>19</td>\n",
       "      <td>...</td>\n",
       "      <td>NaN</td>\n",
       "      <td>1341.25</td>\n",
       "      <td>24.002397</td>\n",
       "      <td>19 Years and 9 Months</td>\n",
       "      <td>Yes</td>\n",
       "      <td>18868.000000</td>\n",
       "      <td>221.011490</td>\n",
       "      <td>High_spent_Small_value_payments</td>\n",
       "      <td>326.952802</td>\n",
       "      <td>Poor</td>\n",
       "    </tr>\n",
       "    <tr>\n",
       "      <th>15872</th>\n",
       "      <td>32320</td>\n",
       "      <td>CUS_0x37db</td>\n",
       "      <td>1</td>\n",
       "      <td>17</td>\n",
       "      <td>Entrepreneur</td>\n",
       "      <td>19559.45</td>\n",
       "      <td>1665.954167</td>\n",
       "      <td>5</td>\n",
       "      <td>4</td>\n",
       "      <td>20</td>\n",
       "      <td>...</td>\n",
       "      <td>Standard</td>\n",
       "      <td>1115.06</td>\n",
       "      <td>39.902875</td>\n",
       "      <td>18 Years and 10 Months</td>\n",
       "      <td>Yes</td>\n",
       "      <td>38.287217</td>\n",
       "      <td>95.110353</td>\n",
       "      <td>High_spent_Small_value_payments</td>\n",
       "      <td>293.197847</td>\n",
       "      <td>Standard</td>\n",
       "    </tr>\n",
       "    <tr>\n",
       "      <th>15873</th>\n",
       "      <td>32321</td>\n",
       "      <td>CUS_0x37db</td>\n",
       "      <td>2</td>\n",
       "      <td>17</td>\n",
       "      <td>Entrepreneur</td>\n",
       "      <td>19559.45</td>\n",
       "      <td>1665.954167</td>\n",
       "      <td>5</td>\n",
       "      <td>4</td>\n",
       "      <td>20</td>\n",
       "      <td>...</td>\n",
       "      <td>Standard</td>\n",
       "      <td>1115.06</td>\n",
       "      <td>30.008105</td>\n",
       "      <td>18 Years and 11 Months</td>\n",
       "      <td>Yes</td>\n",
       "      <td>38.287217</td>\n",
       "      <td>25.741711</td>\n",
       "      <td>High_spent_Large_value_payments</td>\n",
       "      <td>342.566489</td>\n",
       "      <td>Standard</td>\n",
       "    </tr>\n",
       "    <tr>\n",
       "      <th>15874</th>\n",
       "      <td>32322</td>\n",
       "      <td>CUS_0x37db</td>\n",
       "      <td>3</td>\n",
       "      <td>17</td>\n",
       "      <td>Entrepreneur</td>\n",
       "      <td>19559.45</td>\n",
       "      <td>1665.954167</td>\n",
       "      <td>5</td>\n",
       "      <td>4</td>\n",
       "      <td>20</td>\n",
       "      <td>...</td>\n",
       "      <td>Standard</td>\n",
       "      <td>1115.06</td>\n",
       "      <td>35.504135</td>\n",
       "      <td>19 Years and 0 Months</td>\n",
       "      <td>Yes</td>\n",
       "      <td>38.287217</td>\n",
       "      <td>51.357364</td>\n",
       "      <td>High_spent_Medium_value_payments</td>\n",
       "      <td>326.950836</td>\n",
       "      <td>Standard</td>\n",
       "    </tr>\n",
       "    <tr>\n",
       "      <th>15875</th>\n",
       "      <td>32323</td>\n",
       "      <td>CUS_0x37db</td>\n",
       "      <td>4</td>\n",
       "      <td>18</td>\n",
       "      <td>Entrepreneur</td>\n",
       "      <td>19559.45</td>\n",
       "      <td>1665.954167</td>\n",
       "      <td>5</td>\n",
       "      <td>4</td>\n",
       "      <td>20</td>\n",
       "      <td>...</td>\n",
       "      <td>Standard</td>\n",
       "      <td>1115.06</td>\n",
       "      <td>38.961970</td>\n",
       "      <td>19 Years and 1 Months</td>\n",
       "      <td>Yes</td>\n",
       "      <td>38.287217</td>\n",
       "      <td>38.479540</td>\n",
       "      <td>High_spent_Large_value_payments</td>\n",
       "      <td>329.828661</td>\n",
       "      <td>Standard</td>\n",
       "    </tr>\n",
       "    <tr>\n",
       "      <th>15876</th>\n",
       "      <td>32324</td>\n",
       "      <td>CUS_0x37db</td>\n",
       "      <td>5</td>\n",
       "      <td>18</td>\n",
       "      <td>Entrepreneur</td>\n",
       "      <td>19559.45</td>\n",
       "      <td>1665.954167</td>\n",
       "      <td>5</td>\n",
       "      <td>4</td>\n",
       "      <td>20</td>\n",
       "      <td>...</td>\n",
       "      <td>Standard</td>\n",
       "      <td>1115.06</td>\n",
       "      <td>31.725615</td>\n",
       "      <td>19 Years and 2 Months</td>\n",
       "      <td>Yes</td>\n",
       "      <td>38.287217</td>\n",
       "      <td>61.931616</td>\n",
       "      <td>Low_spent_Large_value_payments</td>\n",
       "      <td>336.376584</td>\n",
       "      <td>Standard</td>\n",
       "    </tr>\n",
       "    <tr>\n",
       "      <th>15877</th>\n",
       "      <td>32325</td>\n",
       "      <td>CUS_0x37db</td>\n",
       "      <td>6</td>\n",
       "      <td>18</td>\n",
       "      <td>Entrepreneur</td>\n",
       "      <td>19559.45</td>\n",
       "      <td>1665.954167</td>\n",
       "      <td>5</td>\n",
       "      <td>4</td>\n",
       "      <td>20</td>\n",
       "      <td>...</td>\n",
       "      <td>NaN</td>\n",
       "      <td>1115.06</td>\n",
       "      <td>33.692841</td>\n",
       "      <td>19 Years and 3 Months</td>\n",
       "      <td>Yes</td>\n",
       "      <td>38.287217</td>\n",
       "      <td>51.062221</td>\n",
       "      <td>High_spent_Medium_value_payments</td>\n",
       "      <td>327.245979</td>\n",
       "      <td>Standard</td>\n",
       "    </tr>\n",
       "    <tr>\n",
       "      <th>15878</th>\n",
       "      <td>32326</td>\n",
       "      <td>CUS_0x37db</td>\n",
       "      <td>7</td>\n",
       "      <td>18</td>\n",
       "      <td>Entrepreneur</td>\n",
       "      <td>19559.45</td>\n",
       "      <td>NaN</td>\n",
       "      <td>5</td>\n",
       "      <td>4</td>\n",
       "      <td>20</td>\n",
       "      <td>...</td>\n",
       "      <td>NaN</td>\n",
       "      <td>1115.06</td>\n",
       "      <td>30.452761</td>\n",
       "      <td>19 Years and 4 Months</td>\n",
       "      <td>Yes</td>\n",
       "      <td>38.287217</td>\n",
       "      <td>108.380697</td>\n",
       "      <td>Low_spent_Small_value_payments</td>\n",
       "      <td>309.927503</td>\n",
       "      <td>Poor</td>\n",
       "    </tr>\n",
       "    <tr>\n",
       "      <th>15879</th>\n",
       "      <td>32327</td>\n",
       "      <td>CUS_0x37db</td>\n",
       "      <td>8</td>\n",
       "      <td>18</td>\n",
       "      <td>Entrepreneur</td>\n",
       "      <td>19559.45</td>\n",
       "      <td>NaN</td>\n",
       "      <td>5</td>\n",
       "      <td>4</td>\n",
       "      <td>20</td>\n",
       "      <td>...</td>\n",
       "      <td>Standard</td>\n",
       "      <td>1115.06</td>\n",
       "      <td>33.426818</td>\n",
       "      <td>19 Years and 5 Months</td>\n",
       "      <td>Yes</td>\n",
       "      <td>38.287217</td>\n",
       "      <td>99.568066</td>\n",
       "      <td>Low_spent_Small_value_payments</td>\n",
       "      <td>318.740134</td>\n",
       "      <td>Standard</td>\n",
       "    </tr>\n",
       "    <tr>\n",
       "      <th>32528</th>\n",
       "      <td>47496</td>\n",
       "      <td>CUS_0x5d4f</td>\n",
       "      <td>1</td>\n",
       "      <td>39</td>\n",
       "      <td>Architect</td>\n",
       "      <td>110398.14</td>\n",
       "      <td>NaN</td>\n",
       "      <td>4</td>\n",
       "      <td>3</td>\n",
       "      <td>11</td>\n",
       "      <td>...</td>\n",
       "      <td>Good</td>\n",
       "      <td>901.05</td>\n",
       "      <td>31.349567</td>\n",
       "      <td>29 Years and 5 Months</td>\n",
       "      <td>No</td>\n",
       "      <td>167.294788</td>\n",
       "      <td>333.694611</td>\n",
       "      <td>Low_spent_Large_value_payments</td>\n",
       "      <td>669.795101</td>\n",
       "      <td>Good</td>\n",
       "    </tr>\n",
       "    <tr>\n",
       "      <th>32529</th>\n",
       "      <td>47497</td>\n",
       "      <td>CUS_0x5d4f</td>\n",
       "      <td>2</td>\n",
       "      <td>40</td>\n",
       "      <td>Architect</td>\n",
       "      <td>110398.14</td>\n",
       "      <td>9007.845000</td>\n",
       "      <td>4</td>\n",
       "      <td>3</td>\n",
       "      <td>11</td>\n",
       "      <td>...</td>\n",
       "      <td>Good</td>\n",
       "      <td>901.05</td>\n",
       "      <td>39.919675</td>\n",
       "      <td>29 Years and 6 Months</td>\n",
       "      <td>No</td>\n",
       "      <td>167.294788</td>\n",
       "      <td>10000.000000</td>\n",
       "      <td>High_spent_Large_value_payments</td>\n",
       "      <td>882.170577</td>\n",
       "      <td>Standard</td>\n",
       "    </tr>\n",
       "    <tr>\n",
       "      <th>32530</th>\n",
       "      <td>47498</td>\n",
       "      <td>CUS_0x5d4f</td>\n",
       "      <td>3</td>\n",
       "      <td>40</td>\n",
       "      <td>Architect</td>\n",
       "      <td>110398.14</td>\n",
       "      <td>9007.845000</td>\n",
       "      <td>4</td>\n",
       "      <td>3</td>\n",
       "      <td>11</td>\n",
       "      <td>...</td>\n",
       "      <td>NaN</td>\n",
       "      <td>901.05</td>\n",
       "      <td>37.998349</td>\n",
       "      <td>29 Years and 7 Months</td>\n",
       "      <td>No</td>\n",
       "      <td>167.294788</td>\n",
       "      <td>169.177934</td>\n",
       "      <td>High_spent_Large_value_payments</td>\n",
       "      <td>804.311778</td>\n",
       "      <td>Good</td>\n",
       "    </tr>\n",
       "    <tr>\n",
       "      <th>32531</th>\n",
       "      <td>47499</td>\n",
       "      <td>CUS_0x5d4f</td>\n",
       "      <td>4</td>\n",
       "      <td>40</td>\n",
       "      <td>Architect</td>\n",
       "      <td>110398.14</td>\n",
       "      <td>9007.845000</td>\n",
       "      <td>4</td>\n",
       "      <td>3</td>\n",
       "      <td>11</td>\n",
       "      <td>...</td>\n",
       "      <td>Good</td>\n",
       "      <td>901.05</td>\n",
       "      <td>30.942760</td>\n",
       "      <td>29 Years and 8 Months</td>\n",
       "      <td>NM</td>\n",
       "      <td>167.294788</td>\n",
       "      <td>433.095546</td>\n",
       "      <td>High_spent_Small_value_payments</td>\n",
       "      <td>560.394165</td>\n",
       "      <td>Good</td>\n",
       "    </tr>\n",
       "    <tr>\n",
       "      <th>32532</th>\n",
       "      <td>47500</td>\n",
       "      <td>CUS_0x5d4f</td>\n",
       "      <td>5</td>\n",
       "      <td>40</td>\n",
       "      <td>Architect</td>\n",
       "      <td>110398.14</td>\n",
       "      <td>9007.845000</td>\n",
       "      <td>4</td>\n",
       "      <td>3</td>\n",
       "      <td>11</td>\n",
       "      <td>...</td>\n",
       "      <td>Good</td>\n",
       "      <td>901.05</td>\n",
       "      <td>34.536582</td>\n",
       "      <td>29 Years and 9 Months</td>\n",
       "      <td>No</td>\n",
       "      <td>167.294788</td>\n",
       "      <td>338.196584</td>\n",
       "      <td>High_spent_Small_value_payments</td>\n",
       "      <td>655.293128</td>\n",
       "      <td>Good</td>\n",
       "    </tr>\n",
       "    <tr>\n",
       "      <th>32533</th>\n",
       "      <td>47501</td>\n",
       "      <td>CUS_0x5d4f</td>\n",
       "      <td>6</td>\n",
       "      <td>40</td>\n",
       "      <td>Architect</td>\n",
       "      <td>110398.14</td>\n",
       "      <td>9007.845000</td>\n",
       "      <td>4</td>\n",
       "      <td>3</td>\n",
       "      <td>11</td>\n",
       "      <td>...</td>\n",
       "      <td>NaN</td>\n",
       "      <td>901.05</td>\n",
       "      <td>30.125848</td>\n",
       "      <td>29 Years and 10 Months</td>\n",
       "      <td>No</td>\n",
       "      <td>167.294788</td>\n",
       "      <td>222.751116</td>\n",
       "      <td>High_spent_Medium_value_payments</td>\n",
       "      <td>760.738595</td>\n",
       "      <td>Good</td>\n",
       "    </tr>\n",
       "    <tr>\n",
       "      <th>32534</th>\n",
       "      <td>47502</td>\n",
       "      <td>CUS_0x5d4f</td>\n",
       "      <td>7</td>\n",
       "      <td>40</td>\n",
       "      <td>Architect</td>\n",
       "      <td>110398.14</td>\n",
       "      <td>9007.845000</td>\n",
       "      <td>4</td>\n",
       "      <td>3</td>\n",
       "      <td>11</td>\n",
       "      <td>...</td>\n",
       "      <td>NaN</td>\n",
       "      <td>901.05</td>\n",
       "      <td>40.065931</td>\n",
       "      <td>29 Years and 11 Months</td>\n",
       "      <td>No</td>\n",
       "      <td>49416.000000</td>\n",
       "      <td>206.239097</td>\n",
       "      <td>High_spent_Large_value_payments</td>\n",
       "      <td>767.250614</td>\n",
       "      <td>Good</td>\n",
       "    </tr>\n",
       "    <tr>\n",
       "      <th>32535</th>\n",
       "      <td>47503</td>\n",
       "      <td>CUS_0x5d4f</td>\n",
       "      <td>8</td>\n",
       "      <td>40</td>\n",
       "      <td>Architect</td>\n",
       "      <td>110398.14</td>\n",
       "      <td>9007.845000</td>\n",
       "      <td>4</td>\n",
       "      <td>3</td>\n",
       "      <td>11</td>\n",
       "      <td>...</td>\n",
       "      <td>NaN</td>\n",
       "      <td>901.05</td>\n",
       "      <td>31.855070</td>\n",
       "      <td>30 Years and 0 Months</td>\n",
       "      <td>No</td>\n",
       "      <td>167.294788</td>\n",
       "      <td>188.840627</td>\n",
       "      <td>High_spent_Large_value_payments</td>\n",
       "      <td>784.649084</td>\n",
       "      <td>Good</td>\n",
       "    </tr>\n",
       "    <tr>\n",
       "      <th>41600</th>\n",
       "      <td>8448</td>\n",
       "      <td>CUS_0x70e8</td>\n",
       "      <td>1</td>\n",
       "      <td>37</td>\n",
       "      <td>Media_Manager</td>\n",
       "      <td>87070.00</td>\n",
       "      <td>NaN</td>\n",
       "      <td>8</td>\n",
       "      <td>7</td>\n",
       "      <td>10</td>\n",
       "      <td>...</td>\n",
       "      <td>Standard</td>\n",
       "      <td>381.06</td>\n",
       "      <td>29.693772</td>\n",
       "      <td>24 Years and 11 Months</td>\n",
       "      <td>Yes</td>\n",
       "      <td>0.000000</td>\n",
       "      <td>258.512984</td>\n",
       "      <td>Low_spent_Medium_value_payments</td>\n",
       "      <td>751.070349</td>\n",
       "      <td>Standard</td>\n",
       "    </tr>\n",
       "    <tr>\n",
       "      <th>41601</th>\n",
       "      <td>8449</td>\n",
       "      <td>CUS_0x70e8</td>\n",
       "      <td>2</td>\n",
       "      <td>37</td>\n",
       "      <td>Media_Manager</td>\n",
       "      <td>87070.00</td>\n",
       "      <td>7295.833333</td>\n",
       "      <td>8</td>\n",
       "      <td>7</td>\n",
       "      <td>10</td>\n",
       "      <td>...</td>\n",
       "      <td>Standard</td>\n",
       "      <td>381.06</td>\n",
       "      <td>31.404046</td>\n",
       "      <td>25 Years and 0 Months</td>\n",
       "      <td>Yes</td>\n",
       "      <td>0.000000</td>\n",
       "      <td>109.517063</td>\n",
       "      <td>High_spent_Large_value_payments</td>\n",
       "      <td>860.066270</td>\n",
       "      <td>Standard</td>\n",
       "    </tr>\n",
       "    <tr>\n",
       "      <th>41602</th>\n",
       "      <td>8450</td>\n",
       "      <td>CUS_0x70e8</td>\n",
       "      <td>3</td>\n",
       "      <td>37</td>\n",
       "      <td>Media_Manager</td>\n",
       "      <td>87070.00</td>\n",
       "      <td>7295.833333</td>\n",
       "      <td>8</td>\n",
       "      <td>7</td>\n",
       "      <td>10</td>\n",
       "      <td>...</td>\n",
       "      <td>NaN</td>\n",
       "      <td>381.06</td>\n",
       "      <td>26.501219</td>\n",
       "      <td>25 Years and 1 Months</td>\n",
       "      <td>Yes</td>\n",
       "      <td>0.000000</td>\n",
       "      <td>80.206648</td>\n",
       "      <td>High_spent_Large_value_payments</td>\n",
       "      <td>889.376685</td>\n",
       "      <td>Standard</td>\n",
       "    </tr>\n",
       "    <tr>\n",
       "      <th>41603</th>\n",
       "      <td>8451</td>\n",
       "      <td>CUS_0x70e8</td>\n",
       "      <td>4</td>\n",
       "      <td>37</td>\n",
       "      <td>Media_Manager</td>\n",
       "      <td>87070.00</td>\n",
       "      <td>NaN</td>\n",
       "      <td>8</td>\n",
       "      <td>7</td>\n",
       "      <td>10</td>\n",
       "      <td>...</td>\n",
       "      <td>Standard</td>\n",
       "      <td>381.06</td>\n",
       "      <td>35.553931</td>\n",
       "      <td>25 Years and 2 Months</td>\n",
       "      <td>Yes</td>\n",
       "      <td>0.000000</td>\n",
       "      <td>121.396845</td>\n",
       "      <td>NaN</td>\n",
       "      <td>848.186488</td>\n",
       "      <td>Standard</td>\n",
       "    </tr>\n",
       "    <tr>\n",
       "      <th>41604</th>\n",
       "      <td>8452</td>\n",
       "      <td>CUS_0x70e8</td>\n",
       "      <td>5</td>\n",
       "      <td>37</td>\n",
       "      <td>Media_Manager</td>\n",
       "      <td>87070.00</td>\n",
       "      <td>7295.833333</td>\n",
       "      <td>8</td>\n",
       "      <td>7</td>\n",
       "      <td>10</td>\n",
       "      <td>...</td>\n",
       "      <td>Standard</td>\n",
       "      <td>381.06</td>\n",
       "      <td>26.439197</td>\n",
       "      <td>25 Years and 3 Months</td>\n",
       "      <td>Yes</td>\n",
       "      <td>0.000000</td>\n",
       "      <td>534.281442</td>\n",
       "      <td>Low_spent_Small_value_payments</td>\n",
       "      <td>485.301891</td>\n",
       "      <td>Standard</td>\n",
       "    </tr>\n",
       "    <tr>\n",
       "      <th>41605</th>\n",
       "      <td>8453</td>\n",
       "      <td>CUS_0x70e8</td>\n",
       "      <td>6</td>\n",
       "      <td>38</td>\n",
       "      <td>Media_Manager</td>\n",
       "      <td>87070.00</td>\n",
       "      <td>7295.833333</td>\n",
       "      <td>8</td>\n",
       "      <td>7</td>\n",
       "      <td>10</td>\n",
       "      <td>...</td>\n",
       "      <td>Standard</td>\n",
       "      <td>381.06</td>\n",
       "      <td>31.421875</td>\n",
       "      <td>25 Years and 4 Months</td>\n",
       "      <td>Yes</td>\n",
       "      <td>0.000000</td>\n",
       "      <td>466.878173</td>\n",
       "      <td>Low_spent_Large_value_payments</td>\n",
       "      <td>532.705161</td>\n",
       "      <td>Standard</td>\n",
       "    </tr>\n",
       "    <tr>\n",
       "      <th>41606</th>\n",
       "      <td>8454</td>\n",
       "      <td>CUS_0x70e8</td>\n",
       "      <td>7</td>\n",
       "      <td>38</td>\n",
       "      <td>Media_Manager</td>\n",
       "      <td>87070.00</td>\n",
       "      <td>7295.833333</td>\n",
       "      <td>8</td>\n",
       "      <td>7</td>\n",
       "      <td>10</td>\n",
       "      <td>...</td>\n",
       "      <td>Standard</td>\n",
       "      <td>381.06</td>\n",
       "      <td>26.859898</td>\n",
       "      <td>25 Years and 5 Months</td>\n",
       "      <td>Yes</td>\n",
       "      <td>0.000000</td>\n",
       "      <td>165.789914</td>\n",
       "      <td>High_spent_Large_value_payments</td>\n",
       "      <td>803.793419</td>\n",
       "      <td>Standard</td>\n",
       "    </tr>\n",
       "    <tr>\n",
       "      <th>41607</th>\n",
       "      <td>8455</td>\n",
       "      <td>CUS_0x70e8</td>\n",
       "      <td>8</td>\n",
       "      <td>38</td>\n",
       "      <td>Media_Manager</td>\n",
       "      <td>87070.00</td>\n",
       "      <td>7295.833333</td>\n",
       "      <td>8</td>\n",
       "      <td>7</td>\n",
       "      <td>10</td>\n",
       "      <td>...</td>\n",
       "      <td>Standard</td>\n",
       "      <td>381.06</td>\n",
       "      <td>41.028206</td>\n",
       "      <td>25 Years and 6 Months</td>\n",
       "      <td>NM</td>\n",
       "      <td>0.000000</td>\n",
       "      <td>484.470679</td>\n",
       "      <td>Low_spent_Small_value_payments</td>\n",
       "      <td>535.112655</td>\n",
       "      <td>Standard</td>\n",
       "    </tr>\n",
       "    <tr>\n",
       "      <th>68104</th>\n",
       "      <td>69128</td>\n",
       "      <td>CUS_0xaecd</td>\n",
       "      <td>1</td>\n",
       "      <td>34</td>\n",
       "      <td>Mechanic</td>\n",
       "      <td>171462.56</td>\n",
       "      <td>14270.546667</td>\n",
       "      <td>4</td>\n",
       "      <td>7</td>\n",
       "      <td>10</td>\n",
       "      <td>...</td>\n",
       "      <td>Good</td>\n",
       "      <td>531.58</td>\n",
       "      <td>34.103330</td>\n",
       "      <td>17 Years and 7 Months</td>\n",
       "      <td>No</td>\n",
       "      <td>364.822761</td>\n",
       "      <td>801.836891</td>\n",
       "      <td>Low_spent_Medium_value_payments</td>\n",
       "      <td>540.395015</td>\n",
       "      <td>Standard</td>\n",
       "    </tr>\n",
       "    <tr>\n",
       "      <th>68105</th>\n",
       "      <td>69129</td>\n",
       "      <td>CUS_0xaecd</td>\n",
       "      <td>2</td>\n",
       "      <td>34</td>\n",
       "      <td>Mechanic</td>\n",
       "      <td>171462.56</td>\n",
       "      <td>14270.546667</td>\n",
       "      <td>4</td>\n",
       "      <td>7</td>\n",
       "      <td>10</td>\n",
       "      <td>...</td>\n",
       "      <td>NaN</td>\n",
       "      <td>531.58</td>\n",
       "      <td>26.658406</td>\n",
       "      <td>NaN</td>\n",
       "      <td>No</td>\n",
       "      <td>364.822761</td>\n",
       "      <td>1331.865759</td>\n",
       "      <td>Low_spent_Large_value_payments</td>\n",
       "      <td>0.366147</td>\n",
       "      <td>Good</td>\n",
       "    </tr>\n",
       "    <tr>\n",
       "      <th>68106</th>\n",
       "      <td>69130</td>\n",
       "      <td>CUS_0xaecd</td>\n",
       "      <td>3</td>\n",
       "      <td>34</td>\n",
       "      <td>Mechanic</td>\n",
       "      <td>171462.56</td>\n",
       "      <td>14270.546667</td>\n",
       "      <td>4</td>\n",
       "      <td>7</td>\n",
       "      <td>10</td>\n",
       "      <td>...</td>\n",
       "      <td>Good</td>\n",
       "      <td>531.58</td>\n",
       "      <td>36.143960</td>\n",
       "      <td>17 Years and 9 Months</td>\n",
       "      <td>No</td>\n",
       "      <td>364.822761</td>\n",
       "      <td>422.012016</td>\n",
       "      <td>High_spent_Small_value_payments</td>\n",
       "      <td>900.219890</td>\n",
       "      <td>Good</td>\n",
       "    </tr>\n",
       "    <tr>\n",
       "      <th>68107</th>\n",
       "      <td>69131</td>\n",
       "      <td>CUS_0xaecd</td>\n",
       "      <td>4</td>\n",
       "      <td>35</td>\n",
       "      <td>Mechanic</td>\n",
       "      <td>171462.56</td>\n",
       "      <td>NaN</td>\n",
       "      <td>4</td>\n",
       "      <td>7</td>\n",
       "      <td>10</td>\n",
       "      <td>...</td>\n",
       "      <td>NaN</td>\n",
       "      <td>531.58</td>\n",
       "      <td>30.501791</td>\n",
       "      <td>17 Years and 10 Months</td>\n",
       "      <td>No</td>\n",
       "      <td>364.822761</td>\n",
       "      <td>261.641516</td>\n",
       "      <td>High_spent_Medium_value_payments</td>\n",
       "      <td>1050.590390</td>\n",
       "      <td>Good</td>\n",
       "    </tr>\n",
       "    <tr>\n",
       "      <th>68108</th>\n",
       "      <td>69132</td>\n",
       "      <td>CUS_0xaecd</td>\n",
       "      <td>5</td>\n",
       "      <td>35</td>\n",
       "      <td>Mechanic</td>\n",
       "      <td>171462.56</td>\n",
       "      <td>14270.546667</td>\n",
       "      <td>4</td>\n",
       "      <td>7</td>\n",
       "      <td>10</td>\n",
       "      <td>...</td>\n",
       "      <td>Good</td>\n",
       "      <td>531.58</td>\n",
       "      <td>27.052713</td>\n",
       "      <td>NaN</td>\n",
       "      <td>No</td>\n",
       "      <td>364.822761</td>\n",
       "      <td>526.542056</td>\n",
       "      <td>High_spent_Medium_value_payments</td>\n",
       "      <td>785.689849</td>\n",
       "      <td>Good</td>\n",
       "    </tr>\n",
       "    <tr>\n",
       "      <th>68109</th>\n",
       "      <td>69133</td>\n",
       "      <td>CUS_0xaecd</td>\n",
       "      <td>6</td>\n",
       "      <td>35</td>\n",
       "      <td>Mechanic</td>\n",
       "      <td>171462.56</td>\n",
       "      <td>14270.546667</td>\n",
       "      <td>4</td>\n",
       "      <td>7</td>\n",
       "      <td>10</td>\n",
       "      <td>...</td>\n",
       "      <td>Good</td>\n",
       "      <td>531.58</td>\n",
       "      <td>24.970544</td>\n",
       "      <td>18 Years and 0 Months</td>\n",
       "      <td>No</td>\n",
       "      <td>364.822761</td>\n",
       "      <td>1310.692358</td>\n",
       "      <td>Low_spent_Medium_value_payments</td>\n",
       "      <td>31.539548</td>\n",
       "      <td>Good</td>\n",
       "    </tr>\n",
       "    <tr>\n",
       "      <th>68110</th>\n",
       "      <td>69134</td>\n",
       "      <td>CUS_0xaecd</td>\n",
       "      <td>7</td>\n",
       "      <td>35</td>\n",
       "      <td>Mechanic</td>\n",
       "      <td>171462.56</td>\n",
       "      <td>14270.546667</td>\n",
       "      <td>4</td>\n",
       "      <td>7</td>\n",
       "      <td>10</td>\n",
       "      <td>...</td>\n",
       "      <td>Good</td>\n",
       "      <td>531.58</td>\n",
       "      <td>32.935094</td>\n",
       "      <td>18 Years and 1 Months</td>\n",
       "      <td>No</td>\n",
       "      <td>364.822761</td>\n",
       "      <td>149.317295</td>\n",
       "      <td>High_spent_Large_value_payments</td>\n",
       "      <td>1152.914611</td>\n",
       "      <td>Good</td>\n",
       "    </tr>\n",
       "    <tr>\n",
       "      <th>68111</th>\n",
       "      <td>69135</td>\n",
       "      <td>CUS_0xaecd</td>\n",
       "      <td>8</td>\n",
       "      <td>35</td>\n",
       "      <td>Mechanic</td>\n",
       "      <td>171462.56</td>\n",
       "      <td>NaN</td>\n",
       "      <td>4</td>\n",
       "      <td>7</td>\n",
       "      <td>10</td>\n",
       "      <td>...</td>\n",
       "      <td>Good</td>\n",
       "      <td>531.58</td>\n",
       "      <td>28.974396</td>\n",
       "      <td>18 Years and 2 Months</td>\n",
       "      <td>No</td>\n",
       "      <td>364.822761</td>\n",
       "      <td>324.507829</td>\n",
       "      <td>High_spent_Large_value_payments</td>\n",
       "      <td>977.724077</td>\n",
       "      <td>Good</td>\n",
       "    </tr>\n",
       "  </tbody>\n",
       "</table>\n",
       "<p>40 rows × 26 columns</p>\n",
       "</div>"
      ],
      "text/plain": [
       "       Unnamed: 0 Customer_ID  Month  Age     Occupation  Annual_Income  \\\n",
       "7448        49656  CUS_0x23a4      1   42         Lawyer       53876.88   \n",
       "7449        49657  CUS_0x23a4      2   42         Lawyer       53876.88   \n",
       "7450        49658  CUS_0x23a4      3   42         Lawyer       53876.88   \n",
       "7451        49659  CUS_0x23a4      4   42         Lawyer       53876.88   \n",
       "7452        49660  CUS_0x23a4      5   42         Lawyer       53876.88   \n",
       "7453        49661  CUS_0x23a4      6   42         Lawyer       53876.88   \n",
       "7454        49662  CUS_0x23a4      7   42         Lawyer       53876.88   \n",
       "7455        49663  CUS_0x23a4      8   42         Lawyer       53876.88   \n",
       "15872       32320  CUS_0x37db      1   17   Entrepreneur       19559.45   \n",
       "15873       32321  CUS_0x37db      2   17   Entrepreneur       19559.45   \n",
       "15874       32322  CUS_0x37db      3   17   Entrepreneur       19559.45   \n",
       "15875       32323  CUS_0x37db      4   18   Entrepreneur       19559.45   \n",
       "15876       32324  CUS_0x37db      5   18   Entrepreneur       19559.45   \n",
       "15877       32325  CUS_0x37db      6   18   Entrepreneur       19559.45   \n",
       "15878       32326  CUS_0x37db      7   18   Entrepreneur       19559.45   \n",
       "15879       32327  CUS_0x37db      8   18   Entrepreneur       19559.45   \n",
       "32528       47496  CUS_0x5d4f      1   39      Architect      110398.14   \n",
       "32529       47497  CUS_0x5d4f      2   40      Architect      110398.14   \n",
       "32530       47498  CUS_0x5d4f      3   40      Architect      110398.14   \n",
       "32531       47499  CUS_0x5d4f      4   40      Architect      110398.14   \n",
       "32532       47500  CUS_0x5d4f      5   40      Architect      110398.14   \n",
       "32533       47501  CUS_0x5d4f      6   40      Architect      110398.14   \n",
       "32534       47502  CUS_0x5d4f      7   40      Architect      110398.14   \n",
       "32535       47503  CUS_0x5d4f      8   40      Architect      110398.14   \n",
       "41600        8448  CUS_0x70e8      1   37  Media_Manager       87070.00   \n",
       "41601        8449  CUS_0x70e8      2   37  Media_Manager       87070.00   \n",
       "41602        8450  CUS_0x70e8      3   37  Media_Manager       87070.00   \n",
       "41603        8451  CUS_0x70e8      4   37  Media_Manager       87070.00   \n",
       "41604        8452  CUS_0x70e8      5   37  Media_Manager       87070.00   \n",
       "41605        8453  CUS_0x70e8      6   38  Media_Manager       87070.00   \n",
       "41606        8454  CUS_0x70e8      7   38  Media_Manager       87070.00   \n",
       "41607        8455  CUS_0x70e8      8   38  Media_Manager       87070.00   \n",
       "68104       69128  CUS_0xaecd      1   34       Mechanic      171462.56   \n",
       "68105       69129  CUS_0xaecd      2   34       Mechanic      171462.56   \n",
       "68106       69130  CUS_0xaecd      3   34       Mechanic      171462.56   \n",
       "68107       69131  CUS_0xaecd      4   35       Mechanic      171462.56   \n",
       "68108       69132  CUS_0xaecd      5   35       Mechanic      171462.56   \n",
       "68109       69133  CUS_0xaecd      6   35       Mechanic      171462.56   \n",
       "68110       69134  CUS_0xaecd      7   35       Mechanic      171462.56   \n",
       "68111       69135  CUS_0xaecd      8   35       Mechanic      171462.56   \n",
       "\n",
       "       Monthly_Inhand_Salary  Num_Bank_Accounts  Num_Credit_Card  \\\n",
       "7448             4566.740000                  8                7   \n",
       "7449             4566.740000                  8                7   \n",
       "7450             4566.740000                  8                7   \n",
       "7451                     NaN                  8                7   \n",
       "7452             4566.740000                  8                7   \n",
       "7453             4566.740000                  8                7   \n",
       "7454             4566.740000                  8                7   \n",
       "7455             4566.740000                  8                7   \n",
       "15872            1665.954167                  5                4   \n",
       "15873            1665.954167                  5                4   \n",
       "15874            1665.954167                  5                4   \n",
       "15875            1665.954167                  5                4   \n",
       "15876            1665.954167                  5                4   \n",
       "15877            1665.954167                  5                4   \n",
       "15878                    NaN                  5                4   \n",
       "15879                    NaN                  5                4   \n",
       "32528                    NaN                  4                3   \n",
       "32529            9007.845000                  4                3   \n",
       "32530            9007.845000                  4                3   \n",
       "32531            9007.845000                  4                3   \n",
       "32532            9007.845000                  4                3   \n",
       "32533            9007.845000                  4                3   \n",
       "32534            9007.845000                  4                3   \n",
       "32535            9007.845000                  4                3   \n",
       "41600                    NaN                  8                7   \n",
       "41601            7295.833333                  8                7   \n",
       "41602            7295.833333                  8                7   \n",
       "41603                    NaN                  8                7   \n",
       "41604            7295.833333                  8                7   \n",
       "41605            7295.833333                  8                7   \n",
       "41606            7295.833333                  8                7   \n",
       "41607            7295.833333                  8                7   \n",
       "68104           14270.546667                  4                7   \n",
       "68105           14270.546667                  4                7   \n",
       "68106           14270.546667                  4                7   \n",
       "68107                    NaN                  4                7   \n",
       "68108           14270.546667                  4                7   \n",
       "68109           14270.546667                  4                7   \n",
       "68110           14270.546667                  4                7   \n",
       "68111                    NaN                  4                7   \n",
       "\n",
       "       Interest_Rate  ...  Credit_Mix Outstanding_Debt  \\\n",
       "7448              19  ...    Standard          1341.25   \n",
       "7449              19  ...         NaN          1341.25   \n",
       "7450              19  ...         NaN          1341.25   \n",
       "7451              19  ...    Standard          1341.25   \n",
       "7452              19  ...    Standard          1341.25   \n",
       "7453              19  ...    Standard          1341.25   \n",
       "7454              19  ...    Standard          1341.25   \n",
       "7455              19  ...         NaN          1341.25   \n",
       "15872             20  ...    Standard          1115.06   \n",
       "15873             20  ...    Standard          1115.06   \n",
       "15874             20  ...    Standard          1115.06   \n",
       "15875             20  ...    Standard          1115.06   \n",
       "15876             20  ...    Standard          1115.06   \n",
       "15877             20  ...         NaN          1115.06   \n",
       "15878             20  ...         NaN          1115.06   \n",
       "15879             20  ...    Standard          1115.06   \n",
       "32528             11  ...        Good           901.05   \n",
       "32529             11  ...        Good           901.05   \n",
       "32530             11  ...         NaN           901.05   \n",
       "32531             11  ...        Good           901.05   \n",
       "32532             11  ...        Good           901.05   \n",
       "32533             11  ...         NaN           901.05   \n",
       "32534             11  ...         NaN           901.05   \n",
       "32535             11  ...         NaN           901.05   \n",
       "41600             10  ...    Standard           381.06   \n",
       "41601             10  ...    Standard           381.06   \n",
       "41602             10  ...         NaN           381.06   \n",
       "41603             10  ...    Standard           381.06   \n",
       "41604             10  ...    Standard           381.06   \n",
       "41605             10  ...    Standard           381.06   \n",
       "41606             10  ...    Standard           381.06   \n",
       "41607             10  ...    Standard           381.06   \n",
       "68104             10  ...        Good           531.58   \n",
       "68105             10  ...         NaN           531.58   \n",
       "68106             10  ...        Good           531.58   \n",
       "68107             10  ...         NaN           531.58   \n",
       "68108             10  ...        Good           531.58   \n",
       "68109             10  ...        Good           531.58   \n",
       "68110             10  ...        Good           531.58   \n",
       "68111             10  ...        Good           531.58   \n",
       "\n",
       "       Credit_Utilization_Ratio      Credit_History_Age  \\\n",
       "7448                  33.425033                     NaN   \n",
       "7449                  28.292596   19 Years and 3 Months   \n",
       "7450                  35.995217   19 Years and 4 Months   \n",
       "7451                  37.767161   19 Years and 5 Months   \n",
       "7452                  32.310713   19 Years and 6 Months   \n",
       "7453                  34.784210   19 Years and 7 Months   \n",
       "7454                  31.017887   19 Years and 8 Months   \n",
       "7455                  24.002397   19 Years and 9 Months   \n",
       "15872                 39.902875  18 Years and 10 Months   \n",
       "15873                 30.008105  18 Years and 11 Months   \n",
       "15874                 35.504135   19 Years and 0 Months   \n",
       "15875                 38.961970   19 Years and 1 Months   \n",
       "15876                 31.725615   19 Years and 2 Months   \n",
       "15877                 33.692841   19 Years and 3 Months   \n",
       "15878                 30.452761   19 Years and 4 Months   \n",
       "15879                 33.426818   19 Years and 5 Months   \n",
       "32528                 31.349567   29 Years and 5 Months   \n",
       "32529                 39.919675   29 Years and 6 Months   \n",
       "32530                 37.998349   29 Years and 7 Months   \n",
       "32531                 30.942760   29 Years and 8 Months   \n",
       "32532                 34.536582   29 Years and 9 Months   \n",
       "32533                 30.125848  29 Years and 10 Months   \n",
       "32534                 40.065931  29 Years and 11 Months   \n",
       "32535                 31.855070   30 Years and 0 Months   \n",
       "41600                 29.693772  24 Years and 11 Months   \n",
       "41601                 31.404046   25 Years and 0 Months   \n",
       "41602                 26.501219   25 Years and 1 Months   \n",
       "41603                 35.553931   25 Years and 2 Months   \n",
       "41604                 26.439197   25 Years and 3 Months   \n",
       "41605                 31.421875   25 Years and 4 Months   \n",
       "41606                 26.859898   25 Years and 5 Months   \n",
       "41607                 41.028206   25 Years and 6 Months   \n",
       "68104                 34.103330   17 Years and 7 Months   \n",
       "68105                 26.658406                     NaN   \n",
       "68106                 36.143960   17 Years and 9 Months   \n",
       "68107                 30.501791  17 Years and 10 Months   \n",
       "68108                 27.052713                     NaN   \n",
       "68109                 24.970544   18 Years and 0 Months   \n",
       "68110                 32.935094   18 Years and 1 Months   \n",
       "68111                 28.974396   18 Years and 2 Months   \n",
       "\n",
       "       Payment_of_Min_Amount  Total_EMI_per_month Amount_invested_monthly  \\\n",
       "7448                     Yes           168.709708              122.268859   \n",
       "7449                     Yes           168.709708              409.424856   \n",
       "7450                     Yes           168.709708              177.792261   \n",
       "7451                      NM           168.709708              199.807799   \n",
       "7452                      NM           168.709708               83.756629   \n",
       "7453                     Yes           168.709708              425.387629   \n",
       "7454                     Yes           168.709708              270.824140   \n",
       "7455                     Yes         18868.000000              221.011490   \n",
       "15872                    Yes            38.287217               95.110353   \n",
       "15873                    Yes            38.287217               25.741711   \n",
       "15874                    Yes            38.287217               51.357364   \n",
       "15875                    Yes            38.287217               38.479540   \n",
       "15876                    Yes            38.287217               61.931616   \n",
       "15877                    Yes            38.287217               51.062221   \n",
       "15878                    Yes            38.287217              108.380697   \n",
       "15879                    Yes            38.287217               99.568066   \n",
       "32528                     No           167.294788              333.694611   \n",
       "32529                     No           167.294788            10000.000000   \n",
       "32530                     No           167.294788              169.177934   \n",
       "32531                     NM           167.294788              433.095546   \n",
       "32532                     No           167.294788              338.196584   \n",
       "32533                     No           167.294788              222.751116   \n",
       "32534                     No         49416.000000              206.239097   \n",
       "32535                     No           167.294788              188.840627   \n",
       "41600                    Yes             0.000000              258.512984   \n",
       "41601                    Yes             0.000000              109.517063   \n",
       "41602                    Yes             0.000000               80.206648   \n",
       "41603                    Yes             0.000000              121.396845   \n",
       "41604                    Yes             0.000000              534.281442   \n",
       "41605                    Yes             0.000000              466.878173   \n",
       "41606                    Yes             0.000000              165.789914   \n",
       "41607                     NM             0.000000              484.470679   \n",
       "68104                     No           364.822761              801.836891   \n",
       "68105                     No           364.822761             1331.865759   \n",
       "68106                     No           364.822761              422.012016   \n",
       "68107                     No           364.822761              261.641516   \n",
       "68108                     No           364.822761              526.542056   \n",
       "68109                     No           364.822761             1310.692358   \n",
       "68110                     No           364.822761              149.317295   \n",
       "68111                     No           364.822761              324.507829   \n",
       "\n",
       "                      Payment_Behaviour  Monthly_Balance Credit_Score  \n",
       "7448   High_spent_Medium_value_payments       415.695434         Poor  \n",
       "7449     Low_spent_Small_value_payments       168.539436         Poor  \n",
       "7450    Low_spent_Medium_value_payments       390.172032         Poor  \n",
       "7451     Low_spent_Small_value_payments       378.156494         Poor  \n",
       "7452   High_spent_Medium_value_payments       454.207663         Poor  \n",
       "7453    Low_spent_Medium_value_payments       142.576663         Poor  \n",
       "7454    High_spent_Small_value_payments       277.140153         Poor  \n",
       "7455    High_spent_Small_value_payments       326.952802         Poor  \n",
       "15872   High_spent_Small_value_payments       293.197847     Standard  \n",
       "15873   High_spent_Large_value_payments       342.566489     Standard  \n",
       "15874  High_spent_Medium_value_payments       326.950836     Standard  \n",
       "15875   High_spent_Large_value_payments       329.828661     Standard  \n",
       "15876    Low_spent_Large_value_payments       336.376584     Standard  \n",
       "15877  High_spent_Medium_value_payments       327.245979     Standard  \n",
       "15878    Low_spent_Small_value_payments       309.927503         Poor  \n",
       "15879    Low_spent_Small_value_payments       318.740134     Standard  \n",
       "32528    Low_spent_Large_value_payments       669.795101         Good  \n",
       "32529   High_spent_Large_value_payments       882.170577     Standard  \n",
       "32530   High_spent_Large_value_payments       804.311778         Good  \n",
       "32531   High_spent_Small_value_payments       560.394165         Good  \n",
       "32532   High_spent_Small_value_payments       655.293128         Good  \n",
       "32533  High_spent_Medium_value_payments       760.738595         Good  \n",
       "32534   High_spent_Large_value_payments       767.250614         Good  \n",
       "32535   High_spent_Large_value_payments       784.649084         Good  \n",
       "41600   Low_spent_Medium_value_payments       751.070349     Standard  \n",
       "41601   High_spent_Large_value_payments       860.066270     Standard  \n",
       "41602   High_spent_Large_value_payments       889.376685     Standard  \n",
       "41603                               NaN       848.186488     Standard  \n",
       "41604    Low_spent_Small_value_payments       485.301891     Standard  \n",
       "41605    Low_spent_Large_value_payments       532.705161     Standard  \n",
       "41606   High_spent_Large_value_payments       803.793419     Standard  \n",
       "41607    Low_spent_Small_value_payments       535.112655     Standard  \n",
       "68104   Low_spent_Medium_value_payments       540.395015     Standard  \n",
       "68105    Low_spent_Large_value_payments         0.366147         Good  \n",
       "68106   High_spent_Small_value_payments       900.219890         Good  \n",
       "68107  High_spent_Medium_value_payments      1050.590390         Good  \n",
       "68108  High_spent_Medium_value_payments       785.689849         Good  \n",
       "68109   Low_spent_Medium_value_payments        31.539548         Good  \n",
       "68110   High_spent_Large_value_payments      1152.914611         Good  \n",
       "68111   High_spent_Large_value_payments       977.724077         Good  \n",
       "\n",
       "[40 rows x 26 columns]"
      ]
     },
     "execution_count": 1028,
     "metadata": {},
     "output_type": "execute_result"
    }
   ],
   "source": [
    "np.random.seed(41)\n",
    "df[df['Customer_ID'].isin(np.random.choice(df['Customer_ID'].unique(), 5))]"
   ]
  },
  {
   "cell_type": "markdown",
   "id": "34c03b2a",
   "metadata": {
    "papermill": {
     "duration": 0.075796,
     "end_time": "2024-09-04T13:12:38.606404",
     "exception": false,
     "start_time": "2024-09-04T13:12:38.530608",
     "status": "completed"
    },
    "tags": []
   },
   "source": [
    "Looking at the data, looks like in some places the annual income is wrongly given as a very huge value even though the monthly inhand salary is same as other months. Also, in some places the monthly inhand salary is missing while annual income is given either same or different than some other months."
   ]
  },
  {
   "cell_type": "markdown",
   "id": "6280222f",
   "metadata": {
    "papermill": {
     "duration": 0.074737,
     "end_time": "2024-09-04T13:12:38.756390",
     "exception": false,
     "start_time": "2024-09-04T13:12:38.681653",
     "status": "completed"
    },
    "tags": []
   },
   "source": [
    "Lets look at distriubtion of monthly inhand salary now."
   ]
  },
  {
   "cell_type": "code",
   "execution_count": 1029,
   "id": "26ee676e",
   "metadata": {
    "execution": {
     "iopub.execute_input": "2024-09-04T13:12:38.908162Z",
     "iopub.status.busy": "2024-09-04T13:12:38.907159Z",
     "iopub.status.idle": "2024-09-04T13:12:55.094043Z",
     "shell.execute_reply": "2024-09-04T13:12:55.092853Z"
    },
    "papermill": {
     "duration": 16.265521,
     "end_time": "2024-09-04T13:12:55.096551",
     "exception": false,
     "start_time": "2024-09-04T13:12:38.831030",
     "status": "completed"
    },
    "tags": []
   },
   "outputs": [
    {
     "name": "stdout",
     "output_type": "stream",
     "text": [
      "Column description for Monthly_Inhand_Salary:\n",
      "\n",
      "count    68024.000000\n",
      "mean      4187.986857\n",
      "std       3189.454847\n",
      "min        319.556250\n",
      "25%       1623.555417\n",
      "50%       3068.576667\n",
      "75%       5954.646667\n",
      "max      15204.633333\n",
      "Name: Monthly_Inhand_Salary, dtype: float64\n",
      "\n",
      "Number of null values: 11976 \n",
      "\n",
      "\n",
      "\n",
      "\n",
      "Median standardization for Monthly_Inhand_Salary:\n",
      "\n",
      "count    68024.000000\n",
      "mean         0.000098\n",
      "std          0.108418\n",
      "min         -2.057073\n",
      "25%          0.000000\n",
      "50%          0.000000\n",
      "75%          0.000000\n",
      "max          2.221375\n",
      "Name: Monthly_Inhand_Salary, dtype: float64\n",
      "\n",
      "Number of null values: 11976 \n",
      "\n",
      "\n"
     ]
    }
   ],
   "source": [
    "summary_monthly_inhand_salary = summarize_numerical_column_with_deviation(df, 'Monthly_Inhand_Salary', 'Customer_ID', True, True)"
   ]
  },
  {
   "cell_type": "markdown",
   "id": "4ecc72fe",
   "metadata": {
    "papermill": {
     "duration": 0.076123,
     "end_time": "2024-09-04T13:12:55.251345",
     "exception": false,
     "start_time": "2024-09-04T13:12:55.175222",
     "status": "completed"
    },
    "tags": []
   },
   "source": [
    "This indicates that monthly inhand salary is mostly same but sometimes changes, which looks normal as salary may change due to shift allowances based on months and shifts, promotions, appraisals, other type of allowances and based on varying tax deduction. But as noted earlier monthly inhand salary column has null values which need to be handled."
   ]
  },
  {
   "cell_type": "markdown",
   "id": "8c47ee80",
   "metadata": {
    "papermill": {
     "duration": 0.076008,
     "end_time": "2024-09-04T13:12:55.404891",
     "exception": false,
     "start_time": "2024-09-04T13:12:55.328883",
     "status": "completed"
    },
    "tags": []
   },
   "source": [
    "Since monthly inhand salary looks correct, we can use the non-null data of monthly inhand salary and group it with customer id, then fill all the annual incomes with the mode of annual income. Lets hope the data doesn't contain multiple modes for each groupy by of customer id and monthly inhand salary value, we will check that below."
   ]
  },
  {
   "cell_type": "code",
   "execution_count": 1030,
   "id": "0a2d85d4",
   "metadata": {
    "execution": {
     "iopub.execute_input": "2024-09-04T13:12:55.560945Z",
     "iopub.status.busy": "2024-09-04T13:12:55.559860Z",
     "iopub.status.idle": "2024-09-04T13:12:59.317969Z",
     "shell.execute_reply": "2024-09-04T13:12:59.316881Z"
    },
    "papermill": {
     "duration": 3.838372,
     "end_time": "2024-09-04T13:12:59.320392",
     "exception": false,
     "start_time": "2024-09-04T13:12:55.482020",
     "status": "completed"
    },
    "tags": []
   },
   "outputs": [
    {
     "data": {
      "text/plain": [
       "Annual_Income\n",
       "1.0    68016\n",
       "2.0        8\n",
       "Name: count, dtype: int64"
      ]
     },
     "execution_count": 1030,
     "metadata": {},
     "output_type": "execute_result"
    }
   ],
   "source": [
    "df.groupby(['Customer_ID', 'Monthly_Inhand_Salary'], group_keys = False)['Annual_Income'].transform(return_num_of_modes).value_counts()"
   ]
  },
  {
   "cell_type": "markdown",
   "id": "0371c3be",
   "metadata": {
    "papermill": {
     "duration": 0.078077,
     "end_time": "2024-09-04T13:12:59.475983",
     "exception": false,
     "start_time": "2024-09-04T13:12:59.397906",
     "status": "completed"
    },
    "tags": []
   },
   "source": [
    "Looks like there are some monthly inhand salaries which have 2 modes, this is problematic. How do we decide which mode to use in this case? Lets look at the data as the number is relatively very low."
   ]
  },
  {
   "cell_type": "code",
   "execution_count": 1031,
   "id": "f1f146cf",
   "metadata": {
    "execution": {
     "iopub.execute_input": "2024-09-04T13:12:59.632524Z",
     "iopub.status.busy": "2024-09-04T13:12:59.632142Z",
     "iopub.status.idle": "2024-09-04T13:13:02.469774Z",
     "shell.execute_reply": "2024-09-04T13:13:02.468679Z"
    },
    "papermill": {
     "duration": 2.918889,
     "end_time": "2024-09-04T13:13:02.472009",
     "exception": false,
     "start_time": "2024-09-04T13:12:59.553120",
     "status": "completed"
    },
    "tags": []
   },
   "outputs": [
    {
     "data": {
      "text/html": [
       "<div>\n",
       "<style scoped>\n",
       "    .dataframe tbody tr th:only-of-type {\n",
       "        vertical-align: middle;\n",
       "    }\n",
       "\n",
       "    .dataframe tbody tr th {\n",
       "        vertical-align: top;\n",
       "    }\n",
       "\n",
       "    .dataframe thead th {\n",
       "        text-align: right;\n",
       "    }\n",
       "</style>\n",
       "<table border=\"1\" class=\"dataframe\">\n",
       "  <thead>\n",
       "    <tr style=\"text-align: right;\">\n",
       "      <th></th>\n",
       "      <th>Unnamed: 0</th>\n",
       "      <th>Customer_ID</th>\n",
       "      <th>Month</th>\n",
       "      <th>Age</th>\n",
       "      <th>Occupation</th>\n",
       "      <th>Annual_Income</th>\n",
       "      <th>Monthly_Inhand_Salary</th>\n",
       "      <th>Num_Bank_Accounts</th>\n",
       "      <th>Num_Credit_Card</th>\n",
       "      <th>Interest_Rate</th>\n",
       "      <th>...</th>\n",
       "      <th>Credit_Mix</th>\n",
       "      <th>Outstanding_Debt</th>\n",
       "      <th>Credit_Utilization_Ratio</th>\n",
       "      <th>Credit_History_Age</th>\n",
       "      <th>Payment_of_Min_Amount</th>\n",
       "      <th>Total_EMI_per_month</th>\n",
       "      <th>Amount_invested_monthly</th>\n",
       "      <th>Payment_Behaviour</th>\n",
       "      <th>Monthly_Balance</th>\n",
       "      <th>Credit_Score</th>\n",
       "    </tr>\n",
       "  </thead>\n",
       "  <tbody>\n",
       "    <tr>\n",
       "      <th>38216</th>\n",
       "      <td>5976</td>\n",
       "      <td>CUS_0x697</td>\n",
       "      <td>1</td>\n",
       "      <td>18</td>\n",
       "      <td>Musician</td>\n",
       "      <td>4866540.00</td>\n",
       "      <td>1735.450000</td>\n",
       "      <td>7</td>\n",
       "      <td>7</td>\n",
       "      <td>26</td>\n",
       "      <td>...</td>\n",
       "      <td>Bad</td>\n",
       "      <td>3724.85</td>\n",
       "      <td>34.347809</td>\n",
       "      <td>13 Years and 2 Months</td>\n",
       "      <td>Yes</td>\n",
       "      <td>58.485433</td>\n",
       "      <td>59.345795</td>\n",
       "      <td>High_spent_Medium_value_payments</td>\n",
       "      <td>305.713772</td>\n",
       "      <td>Standard</td>\n",
       "    </tr>\n",
       "    <tr>\n",
       "      <th>38217</th>\n",
       "      <td>5977</td>\n",
       "      <td>CUS_0x697</td>\n",
       "      <td>2</td>\n",
       "      <td>18</td>\n",
       "      <td>Musician</td>\n",
       "      <td>17993.40</td>\n",
       "      <td>1735.450000</td>\n",
       "      <td>7</td>\n",
       "      <td>7</td>\n",
       "      <td>26</td>\n",
       "      <td>...</td>\n",
       "      <td>NaN</td>\n",
       "      <td>3724.85</td>\n",
       "      <td>37.227689</td>\n",
       "      <td>13 Years and 3 Months</td>\n",
       "      <td>Yes</td>\n",
       "      <td>58.485433</td>\n",
       "      <td>74.392646</td>\n",
       "      <td>Low_spent_Large_value_payments</td>\n",
       "      <td>310.666921</td>\n",
       "      <td>Standard</td>\n",
       "    </tr>\n",
       "    <tr>\n",
       "      <th>39912</th>\n",
       "      <td>70272</td>\n",
       "      <td>CUS_0x6d3c</td>\n",
       "      <td>1</td>\n",
       "      <td>19</td>\n",
       "      <td>Accountant</td>\n",
       "      <td>29167.68</td>\n",
       "      <td>2138.640000</td>\n",
       "      <td>8</td>\n",
       "      <td>9</td>\n",
       "      <td>21</td>\n",
       "      <td>...</td>\n",
       "      <td>Bad</td>\n",
       "      <td>2091.98</td>\n",
       "      <td>25.569235</td>\n",
       "      <td>11 Years and 9 Months</td>\n",
       "      <td>Yes</td>\n",
       "      <td>49.619467</td>\n",
       "      <td>134.744160</td>\n",
       "      <td>Low_spent_Large_value_payments</td>\n",
       "      <td>299.500373</td>\n",
       "      <td>Poor</td>\n",
       "    </tr>\n",
       "    <tr>\n",
       "      <th>39913</th>\n",
       "      <td>70273</td>\n",
       "      <td>CUS_0x6d3c</td>\n",
       "      <td>2</td>\n",
       "      <td>20</td>\n",
       "      <td>Accountant</td>\n",
       "      <td>23070456.00</td>\n",
       "      <td>2138.640000</td>\n",
       "      <td>8</td>\n",
       "      <td>9</td>\n",
       "      <td>21</td>\n",
       "      <td>...</td>\n",
       "      <td>Bad</td>\n",
       "      <td>2091.98</td>\n",
       "      <td>37.993483</td>\n",
       "      <td>11 Years and 10 Months</td>\n",
       "      <td>Yes</td>\n",
       "      <td>49.619467</td>\n",
       "      <td>194.307409</td>\n",
       "      <td>Low_spent_Large_value_payments</td>\n",
       "      <td>239.937124</td>\n",
       "      <td>Poor</td>\n",
       "    </tr>\n",
       "    <tr>\n",
       "      <th>67622</th>\n",
       "      <td>8414</td>\n",
       "      <td>CUS_0xadc8</td>\n",
       "      <td>7</td>\n",
       "      <td>30</td>\n",
       "      <td>Mechanic</td>\n",
       "      <td>84374.12</td>\n",
       "      <td>6605.370947</td>\n",
       "      <td>8</td>\n",
       "      <td>7</td>\n",
       "      <td>9</td>\n",
       "      <td>...</td>\n",
       "      <td>Standard</td>\n",
       "      <td>1000.76</td>\n",
       "      <td>34.411201</td>\n",
       "      <td>NaN</td>\n",
       "      <td>Yes</td>\n",
       "      <td>744.037446</td>\n",
       "      <td>625.907159</td>\n",
       "      <td>Low_spent_Small_value_payments</td>\n",
       "      <td>239.278782</td>\n",
       "      <td>Standard</td>\n",
       "    </tr>\n",
       "    <tr>\n",
       "      <th>67623</th>\n",
       "      <td>8415</td>\n",
       "      <td>CUS_0xadc8</td>\n",
       "      <td>8</td>\n",
       "      <td>30</td>\n",
       "      <td>Mechanic</td>\n",
       "      <td>18884777.00</td>\n",
       "      <td>6605.370947</td>\n",
       "      <td>8</td>\n",
       "      <td>7</td>\n",
       "      <td>9</td>\n",
       "      <td>...</td>\n",
       "      <td>NaN</td>\n",
       "      <td>1000.76</td>\n",
       "      <td>31.424325</td>\n",
       "      <td>22 Years and 5 Months</td>\n",
       "      <td>Yes</td>\n",
       "      <td>744.037446</td>\n",
       "      <td>124.428583</td>\n",
       "      <td>High_spent_Large_value_payments</td>\n",
       "      <td>690.757357</td>\n",
       "      <td>Good</td>\n",
       "    </tr>\n",
       "    <tr>\n",
       "      <th>76584</th>\n",
       "      <td>10824</td>\n",
       "      <td>CUS_0xc2a4</td>\n",
       "      <td>1</td>\n",
       "      <td>49</td>\n",
       "      <td>Writer</td>\n",
       "      <td>22378557.00</td>\n",
       "      <td>10018.500000</td>\n",
       "      <td>4</td>\n",
       "      <td>3</td>\n",
       "      <td>9</td>\n",
       "      <td>...</td>\n",
       "      <td>NaN</td>\n",
       "      <td>584.61</td>\n",
       "      <td>39.991332</td>\n",
       "      <td>21 Years and 8 Months</td>\n",
       "      <td>No</td>\n",
       "      <td>128.927351</td>\n",
       "      <td>429.200991</td>\n",
       "      <td>Low_spent_Large_value_payments</td>\n",
       "      <td>713.721658</td>\n",
       "      <td>Good</td>\n",
       "    </tr>\n",
       "    <tr>\n",
       "      <th>76586</th>\n",
       "      <td>10826</td>\n",
       "      <td>CUS_0xc2a4</td>\n",
       "      <td>3</td>\n",
       "      <td>50</td>\n",
       "      <td>Writer</td>\n",
       "      <td>122322.00</td>\n",
       "      <td>10018.500000</td>\n",
       "      <td>4</td>\n",
       "      <td>3</td>\n",
       "      <td>9</td>\n",
       "      <td>...</td>\n",
       "      <td>Good</td>\n",
       "      <td>584.61</td>\n",
       "      <td>38.974569</td>\n",
       "      <td>21 Years and 10 Months</td>\n",
       "      <td>No</td>\n",
       "      <td>128.927351</td>\n",
       "      <td>1015.108832</td>\n",
       "      <td>Low_spent_Medium_value_payments</td>\n",
       "      <td>137.813817</td>\n",
       "      <td>Good</td>\n",
       "    </tr>\n",
       "  </tbody>\n",
       "</table>\n",
       "<p>8 rows × 26 columns</p>\n",
       "</div>"
      ],
      "text/plain": [
       "       Unnamed: 0 Customer_ID  Month  Age  Occupation  Annual_Income  \\\n",
       "38216        5976   CUS_0x697      1   18    Musician     4866540.00   \n",
       "38217        5977   CUS_0x697      2   18    Musician       17993.40   \n",
       "39912       70272  CUS_0x6d3c      1   19  Accountant       29167.68   \n",
       "39913       70273  CUS_0x6d3c      2   20  Accountant    23070456.00   \n",
       "67622        8414  CUS_0xadc8      7   30    Mechanic       84374.12   \n",
       "67623        8415  CUS_0xadc8      8   30    Mechanic    18884777.00   \n",
       "76584       10824  CUS_0xc2a4      1   49      Writer    22378557.00   \n",
       "76586       10826  CUS_0xc2a4      3   50      Writer      122322.00   \n",
       "\n",
       "       Monthly_Inhand_Salary  Num_Bank_Accounts  Num_Credit_Card  \\\n",
       "38216            1735.450000                  7                7   \n",
       "38217            1735.450000                  7                7   \n",
       "39912            2138.640000                  8                9   \n",
       "39913            2138.640000                  8                9   \n",
       "67622            6605.370947                  8                7   \n",
       "67623            6605.370947                  8                7   \n",
       "76584           10018.500000                  4                3   \n",
       "76586           10018.500000                  4                3   \n",
       "\n",
       "       Interest_Rate  ...  Credit_Mix Outstanding_Debt  \\\n",
       "38216             26  ...         Bad          3724.85   \n",
       "38217             26  ...         NaN          3724.85   \n",
       "39912             21  ...         Bad          2091.98   \n",
       "39913             21  ...         Bad          2091.98   \n",
       "67622              9  ...    Standard          1000.76   \n",
       "67623              9  ...         NaN          1000.76   \n",
       "76584              9  ...         NaN           584.61   \n",
       "76586              9  ...        Good           584.61   \n",
       "\n",
       "       Credit_Utilization_Ratio      Credit_History_Age  \\\n",
       "38216                 34.347809   13 Years and 2 Months   \n",
       "38217                 37.227689   13 Years and 3 Months   \n",
       "39912                 25.569235   11 Years and 9 Months   \n",
       "39913                 37.993483  11 Years and 10 Months   \n",
       "67622                 34.411201                     NaN   \n",
       "67623                 31.424325   22 Years and 5 Months   \n",
       "76584                 39.991332   21 Years and 8 Months   \n",
       "76586                 38.974569  21 Years and 10 Months   \n",
       "\n",
       "       Payment_of_Min_Amount  Total_EMI_per_month Amount_invested_monthly  \\\n",
       "38216                    Yes            58.485433               59.345795   \n",
       "38217                    Yes            58.485433               74.392646   \n",
       "39912                    Yes            49.619467              134.744160   \n",
       "39913                    Yes            49.619467              194.307409   \n",
       "67622                    Yes           744.037446              625.907159   \n",
       "67623                    Yes           744.037446              124.428583   \n",
       "76584                     No           128.927351              429.200991   \n",
       "76586                     No           128.927351             1015.108832   \n",
       "\n",
       "                      Payment_Behaviour  Monthly_Balance Credit_Score  \n",
       "38216  High_spent_Medium_value_payments       305.713772     Standard  \n",
       "38217    Low_spent_Large_value_payments       310.666921     Standard  \n",
       "39912    Low_spent_Large_value_payments       299.500373         Poor  \n",
       "39913    Low_spent_Large_value_payments       239.937124         Poor  \n",
       "67622    Low_spent_Small_value_payments       239.278782     Standard  \n",
       "67623   High_spent_Large_value_payments       690.757357         Good  \n",
       "76584    Low_spent_Large_value_payments       713.721658         Good  \n",
       "76586   Low_spent_Medium_value_payments       137.813817         Good  \n",
       "\n",
       "[8 rows x 26 columns]"
      ]
     },
     "execution_count": 1031,
     "metadata": {},
     "output_type": "execute_result"
    }
   ],
   "source": [
    "df[df.groupby(['Customer_ID', 'Monthly_Inhand_Salary'], group_keys = False)['Annual_Income'].transform(return_num_of_modes) == 2]"
   ]
  },
  {
   "cell_type": "markdown",
   "id": "d299b15c",
   "metadata": {
    "papermill": {
     "duration": 0.077325,
     "end_time": "2024-09-04T13:13:02.627588",
     "exception": false,
     "start_time": "2024-09-04T13:13:02.550263",
     "status": "completed"
    },
    "tags": []
   },
   "source": [
    "This double mode situation is happening for 14 records and what we can notice is that there are too extreme values which are not suitable as annual income. We can just choose the minimum mode in these cases where two modes exist for same monthly inhand salary."
   ]
  },
  {
   "cell_type": "code",
   "execution_count": 1032,
   "id": "b9bc4f67",
   "metadata": {
    "execution": {
     "iopub.execute_input": "2024-09-04T13:13:02.787807Z",
     "iopub.status.busy": "2024-09-04T13:13:02.787393Z",
     "iopub.status.idle": "2024-09-04T13:13:06.343691Z",
     "shell.execute_reply": "2024-09-04T13:13:06.342721Z"
    },
    "papermill": {
     "duration": 3.638166,
     "end_time": "2024-09-04T13:13:06.346323",
     "exception": false,
     "start_time": "2024-09-04T13:13:02.708157",
     "status": "completed"
    },
    "tags": []
   },
   "outputs": [],
   "source": [
    "df['Annual_Income'][df['Monthly_Inhand_Salary'].notnull()] = df[df['Monthly_Inhand_Salary'].notnull()].groupby(['Customer_ID', 'Monthly_Inhand_Salary'], group_keys = False)['Annual_Income'].transform(return_mode)"
   ]
  },
  {
   "cell_type": "markdown",
   "id": "0bb21eac",
   "metadata": {
    "papermill": {
     "duration": 0.135348,
     "end_time": "2024-09-04T13:13:06.560173",
     "exception": false,
     "start_time": "2024-09-04T13:13:06.424825",
     "status": "completed"
    },
    "tags": []
   },
   "source": [
    "This has handled all records for which monthly inhand salary is not null. Lets look at the distribution of Annual Income again."
   ]
  },
  {
   "cell_type": "code",
   "execution_count": 1033,
   "id": "959b1ad1",
   "metadata": {
    "execution": {
     "iopub.execute_input": "2024-09-04T13:13:06.721611Z",
     "iopub.status.busy": "2024-09-04T13:13:06.721233Z",
     "iopub.status.idle": "2024-09-04T13:13:21.775203Z",
     "shell.execute_reply": "2024-09-04T13:13:21.774120Z"
    },
    "papermill": {
     "duration": 15.138876,
     "end_time": "2024-09-04T13:13:21.777568",
     "exception": false,
     "start_time": "2024-09-04T13:13:06.638692",
     "status": "completed"
    },
    "tags": []
   },
   "outputs": [
    {
     "name": "stdout",
     "output_type": "stream",
     "text": [
      "Column description for Annual_Income:\n",
      "\n",
      "count    8.000000e+04\n",
      "mean     6.972199e+04\n",
      "std      5.671541e+05\n",
      "min      7.005930e+03\n",
      "25%      1.929580e+04\n",
      "50%      3.686268e+04\n",
      "75%      7.173548e+04\n",
      "max      2.388456e+07\n",
      "Name: Annual_Income, dtype: float64\n",
      "\n",
      "Number of null values: 0 \n",
      "\n",
      "\n"
     ]
    }
   ],
   "source": [
    "summary_annual_income = summarize_numerical_column_with_deviation(df, 'Annual_Income', 'Customer_ID', True, False)"
   ]
  },
  {
   "cell_type": "markdown",
   "id": "c4194088",
   "metadata": {
    "papermill": {
     "duration": 0.079209,
     "end_time": "2024-09-04T13:13:21.935808",
     "exception": false,
     "start_time": "2024-09-04T13:13:21.856599",
     "status": "completed"
    },
    "tags": []
   },
   "source": [
    "Still some values are very high but it has reduced from before. These high values should exist in records which have null as monthly inhand salary."
   ]
  },
  {
   "cell_type": "markdown",
   "id": "25982cbf",
   "metadata": {
    "papermill": {
     "duration": 0.077962,
     "end_time": "2024-09-04T13:13:22.093191",
     "exception": false,
     "start_time": "2024-09-04T13:13:22.015229",
     "status": "completed"
    },
    "tags": []
   },
   "source": [
    "Now, lets take care of monthly inhand salary as well, in a similar way as annual income. We can replace null values by looking at nearby monthly inhand salary of a same annual income value for given customer. It might have happened that monthly inhand salary changed because of some tax changes even though the annual income remained same."
   ]
  },
  {
   "cell_type": "code",
   "execution_count": 1034,
   "id": "4011ba07",
   "metadata": {
    "execution": {
     "iopub.execute_input": "2024-09-04T13:13:22.252569Z",
     "iopub.status.busy": "2024-09-04T13:13:22.251616Z",
     "iopub.status.idle": "2024-09-04T13:13:26.574857Z",
     "shell.execute_reply": "2024-09-04T13:13:26.573707Z"
    },
    "papermill": {
     "duration": 4.405249,
     "end_time": "2024-09-04T13:13:26.577622",
     "exception": false,
     "start_time": "2024-09-04T13:13:22.172373",
     "status": "completed"
    },
    "tags": []
   },
   "outputs": [],
   "source": [
    "df['Monthly_Inhand_Salary'] = df.groupby(['Customer_ID', 'Annual_Income'], group_keys = False)['Monthly_Inhand_Salary'].transform(forward_backward_fill)"
   ]
  },
  {
   "cell_type": "code",
   "execution_count": 1035,
   "id": "9e4144aa",
   "metadata": {
    "execution": {
     "iopub.execute_input": "2024-09-04T13:13:26.739050Z",
     "iopub.status.busy": "2024-09-04T13:13:26.738033Z",
     "iopub.status.idle": "2024-09-04T13:13:26.746207Z",
     "shell.execute_reply": "2024-09-04T13:13:26.745061Z"
    },
    "papermill": {
     "duration": 0.091588,
     "end_time": "2024-09-04T13:13:26.748419",
     "exception": false,
     "start_time": "2024-09-04T13:13:26.656831",
     "status": "completed"
    },
    "tags": []
   },
   "outputs": [
    {
     "data": {
      "text/plain": [
       "np.int64(117)"
      ]
     },
     "execution_count": 1035,
     "metadata": {},
     "output_type": "execute_result"
    }
   ],
   "source": [
    "df['Monthly_Inhand_Salary'].isnull().sum()"
   ]
  },
  {
   "cell_type": "markdown",
   "id": "ea1aa22d",
   "metadata": {
    "papermill": {
     "duration": 0.078648,
     "end_time": "2024-09-04T13:13:26.905058",
     "exception": false,
     "start_time": "2024-09-04T13:13:26.826410",
     "status": "completed"
    },
    "tags": []
   },
   "source": [
    "Still 147 records exist which have null values in monthly inhand salary and correpsonding annual income is different from other month data. These values might probably be erroneous values. Lets look at the deviation with respect to median for these annual incomes only."
   ]
  },
  {
   "cell_type": "code",
   "execution_count": 1036,
   "id": "281fc09a",
   "metadata": {
    "execution": {
     "iopub.execute_input": "2024-09-04T13:13:27.065788Z",
     "iopub.status.busy": "2024-09-04T13:13:27.065363Z",
     "iopub.status.idle": "2024-09-04T13:13:34.021039Z",
     "shell.execute_reply": "2024-09-04T13:13:34.020034Z"
    },
    "papermill": {
     "duration": 7.038712,
     "end_time": "2024-09-04T13:13:34.023552",
     "exception": false,
     "start_time": "2024-09-04T13:13:26.984840",
     "status": "completed"
    },
    "tags": []
   },
   "outputs": [],
   "source": [
    "Annual_Income_deviation = df.groupby('Customer_ID', group_keys = False)['Annual_Income'].apply(lambda x: (x - x.median())/x.median())"
   ]
  },
  {
   "cell_type": "code",
   "execution_count": 1037,
   "id": "0970fa71",
   "metadata": {
    "execution": {
     "iopub.execute_input": "2024-09-04T13:13:34.183739Z",
     "iopub.status.busy": "2024-09-04T13:13:34.183293Z",
     "iopub.status.idle": "2024-09-04T13:13:34.365906Z",
     "shell.execute_reply": "2024-09-04T13:13:34.364721Z"
    },
    "papermill": {
     "duration": 0.265905,
     "end_time": "2024-09-04T13:13:34.368118",
     "exception": false,
     "start_time": "2024-09-04T13:13:34.102213",
     "status": "completed"
    },
    "tags": []
   },
   "outputs": [
    {
     "data": {
      "image/png": "[encoded data removed]",
      "text/plain": [
       "<Figure size 640x480 with 1 Axes>"
      ]
     },
     "metadata": {},
     "output_type": "display_data"
    }
   ],
   "source": [
    "temp = Annual_Income_deviation[df['Monthly_Inhand_Salary'].isnull()]\n",
    "sns.boxplot(temp.values)\n",
    "plt.title('Boxplot of relative deviation wrt median')\n",
    "plt.ylabel('Annual Income deviation');"
   ]
  },
  {
   "cell_type": "code",
   "execution_count": 1038,
   "id": "ef8a9eb8",
   "metadata": {
    "execution": {
     "iopub.execute_input": "2024-09-04T13:13:34.528752Z",
     "iopub.status.busy": "2024-09-04T13:13:34.528314Z",
     "iopub.status.idle": "2024-09-04T13:13:34.537834Z",
     "shell.execute_reply": "2024-09-04T13:13:34.536620Z"
    },
    "papermill": {
     "duration": 0.093326,
     "end_time": "2024-09-04T13:13:34.540213",
     "exception": false,
     "start_time": "2024-09-04T13:13:34.446887",
     "status": "completed"
    },
    "tags": []
   },
   "outputs": [
    {
     "name": "stdout",
     "output_type": "stream",
     "text": [
      "count     117.000000\n",
      "mean      456.865500\n",
      "std       452.055047\n",
      "min        13.095392\n",
      "25%       141.239862\n",
      "50%       267.837824\n",
      "75%       727.391533\n",
      "max      2712.464587\n",
      "Name: Annual_Income, dtype: float64\n"
     ]
    }
   ],
   "source": [
    "print(temp.describe())"
   ]
  },
  {
   "cell_type": "markdown",
   "id": "cda59a90",
   "metadata": {
    "papermill": {
     "duration": 0.08057,
     "end_time": "2024-09-04T13:13:34.700621",
     "exception": false,
     "start_time": "2024-09-04T13:13:34.620051",
     "status": "completed"
    },
    "tags": []
   },
   "source": [
    "Minimum is 3 i.e. the given extreme annual incomes are around 4 times the median annual income of the customer, these all are very very rare cases and most probably are present due to error in data entry. We will remove these values and fill them by neighbour records using fills."
   ]
  },
  {
   "cell_type": "code",
   "execution_count": 1039,
   "id": "253f0619",
   "metadata": {
    "execution": {
     "iopub.execute_input": "2024-09-04T13:13:34.868218Z",
     "iopub.status.busy": "2024-09-04T13:13:34.867069Z",
     "iopub.status.idle": "2024-09-04T13:13:34.874786Z",
     "shell.execute_reply": "2024-09-04T13:13:34.873691Z"
    },
    "papermill": {
     "duration": 0.093904,
     "end_time": "2024-09-04T13:13:34.877056",
     "exception": false,
     "start_time": "2024-09-04T13:13:34.783152",
     "status": "completed"
    },
    "tags": []
   },
   "outputs": [],
   "source": [
    "df['Annual_Income'][df['Monthly_Inhand_Salary'].isnull()] = np.nan"
   ]
  },
  {
   "cell_type": "markdown",
   "id": "81f89b5a",
   "metadata": {
    "papermill": {
     "duration": 0.080553,
     "end_time": "2024-09-04T13:13:35.038615",
     "exception": false,
     "start_time": "2024-09-04T13:13:34.958062",
     "status": "completed"
    },
    "tags": []
   },
   "source": [
    "Lets look at the annual income deviation to see if it is now free of outliers or not."
   ]
  },
  {
   "cell_type": "code",
   "execution_count": 1040,
   "id": "d7314d8b",
   "metadata": {
    "execution": {
     "iopub.execute_input": "2024-09-04T13:13:35.206410Z",
     "iopub.status.busy": "2024-09-04T13:13:35.205648Z",
     "iopub.status.idle": "2024-09-04T13:13:41.449707Z",
     "shell.execute_reply": "2024-09-04T13:13:41.448766Z"
    },
    "papermill": {
     "duration": 6.331796,
     "end_time": "2024-09-04T13:13:41.452394",
     "exception": false,
     "start_time": "2024-09-04T13:13:35.120598",
     "status": "completed"
    },
    "tags": []
   },
   "outputs": [],
   "source": [
    "Annual_Income_deviation = df.groupby('Customer_ID', group_keys = False)['Annual_Income'].apply(lambda x: (x - x.median())/x.median())"
   ]
  },
  {
   "cell_type": "code",
   "execution_count": 1041,
   "id": "5c344ada",
   "metadata": {
    "execution": {
     "iopub.execute_input": "2024-09-04T13:13:41.615637Z",
     "iopub.status.busy": "2024-09-04T13:13:41.615210Z",
     "iopub.status.idle": "2024-09-04T13:13:41.855229Z",
     "shell.execute_reply": "2024-09-04T13:13:41.854088Z"
    },
    "papermill": {
     "duration": 0.323956,
     "end_time": "2024-09-04T13:13:41.857328",
     "exception": false,
     "start_time": "2024-09-04T13:13:41.533372",
     "status": "completed"
    },
    "tags": []
   },
   "outputs": [
    {
     "data": {
      "image/png": "[encoded data removed]",
      "text/plain": [
       "<Figure size 640x480 with 1 Axes>"
      ]
     },
     "metadata": {},
     "output_type": "display_data"
    }
   ],
   "source": [
    "sns.boxplot(Annual_Income_deviation.values)\n",
    "plt.title('Boxplot of relative deviation wrt median')\n",
    "plt.ylabel('Annual Income deviation');"
   ]
  },
  {
   "cell_type": "markdown",
   "id": "e08f7d94",
   "metadata": {
    "papermill": {
     "duration": 0.081392,
     "end_time": "2024-09-04T13:13:42.074499",
     "exception": false,
     "start_time": "2024-09-04T13:13:41.993107",
     "status": "completed"
    },
    "tags": []
   },
   "source": [
    "There are still two values. Lets extract and see their customer data."
   ]
  },
  {
   "cell_type": "code",
   "execution_count": 1042,
   "id": "a4d880b1",
   "metadata": {
    "execution": {
     "iopub.execute_input": "2024-09-04T13:13:42.240382Z",
     "iopub.status.busy": "2024-09-04T13:13:42.239988Z",
     "iopub.status.idle": "2024-09-04T13:13:42.248904Z",
     "shell.execute_reply": "2024-09-04T13:13:42.247695Z"
    },
    "papermill": {
     "duration": 0.094486,
     "end_time": "2024-09-04T13:13:42.251138",
     "exception": false,
     "start_time": "2024-09-04T13:13:42.156652",
     "status": "completed"
    },
    "tags": []
   },
   "outputs": [
    {
     "data": {
      "text/plain": [
       "34042    3201.76901\n",
       "Name: Annual_Income, dtype: float64"
      ]
     },
     "execution_count": 1042,
     "metadata": {},
     "output_type": "execute_result"
    }
   ],
   "source": [
    "Annual_Income_deviation[Annual_Income_deviation > 500]"
   ]
  },
  {
   "cell_type": "code",
   "execution_count": 1043,
   "id": "5d7dfcd7",
   "metadata": {
    "execution": {
     "iopub.execute_input": "2024-09-04T13:13:42.416649Z",
     "iopub.status.busy": "2024-09-04T13:13:42.416255Z",
     "iopub.status.idle": "2024-09-04T13:13:42.440949Z",
     "shell.execute_reply": "2024-09-04T13:13:42.439727Z"
    },
    "papermill": {
     "duration": 0.109637,
     "end_time": "2024-09-04T13:13:42.443180",
     "exception": false,
     "start_time": "2024-09-04T13:13:42.333543",
     "status": "completed"
    },
    "tags": []
   },
   "outputs": [
    {
     "data": {
      "text/html": [
       "<div>\n",
       "<style scoped>\n",
       "    .dataframe tbody tr th:only-of-type {\n",
       "        vertical-align: middle;\n",
       "    }\n",
       "\n",
       "    .dataframe tbody tr th {\n",
       "        vertical-align: top;\n",
       "    }\n",
       "\n",
       "    .dataframe thead th {\n",
       "        text-align: right;\n",
       "    }\n",
       "</style>\n",
       "<table border=\"1\" class=\"dataframe\">\n",
       "  <thead>\n",
       "    <tr style=\"text-align: right;\">\n",
       "      <th></th>\n",
       "      <th>Unnamed: 0</th>\n",
       "      <th>Customer_ID</th>\n",
       "      <th>Month</th>\n",
       "      <th>Age</th>\n",
       "      <th>Occupation</th>\n",
       "      <th>Annual_Income</th>\n",
       "      <th>Monthly_Inhand_Salary</th>\n",
       "      <th>Num_Bank_Accounts</th>\n",
       "      <th>Num_Credit_Card</th>\n",
       "      <th>Interest_Rate</th>\n",
       "      <th>...</th>\n",
       "      <th>Credit_Mix</th>\n",
       "      <th>Outstanding_Debt</th>\n",
       "      <th>Credit_Utilization_Ratio</th>\n",
       "      <th>Credit_History_Age</th>\n",
       "      <th>Payment_of_Min_Amount</th>\n",
       "      <th>Total_EMI_per_month</th>\n",
       "      <th>Amount_invested_monthly</th>\n",
       "      <th>Payment_Behaviour</th>\n",
       "      <th>Monthly_Balance</th>\n",
       "      <th>Credit_Score</th>\n",
       "    </tr>\n",
       "  </thead>\n",
       "  <tbody>\n",
       "    <tr>\n",
       "      <th>34028</th>\n",
       "      <td>27732</td>\n",
       "      <td>CUS_0x6075</td>\n",
       "      <td>5</td>\n",
       "      <td>19</td>\n",
       "      <td>Musician</td>\n",
       "      <td>29223.35</td>\n",
       "      <td>2611.279167</td>\n",
       "      <td>5</td>\n",
       "      <td>3</td>\n",
       "      <td>18</td>\n",
       "      <td>...</td>\n",
       "      <td>NaN</td>\n",
       "      <td>436.64</td>\n",
       "      <td>25.343923</td>\n",
       "      <td>26 Years and 8 Months</td>\n",
       "      <td>No</td>\n",
       "      <td>64.130268</td>\n",
       "      <td>304.979535</td>\n",
       "      <td>Low_spent_Small_value_payments</td>\n",
       "      <td>182.018113</td>\n",
       "      <td>Standard</td>\n",
       "    </tr>\n",
       "  </tbody>\n",
       "</table>\n",
       "<p>1 rows × 26 columns</p>\n",
       "</div>"
      ],
      "text/plain": [
       "       Unnamed: 0 Customer_ID  Month  Age Occupation  Annual_Income  \\\n",
       "34028       27732  CUS_0x6075      5   19   Musician       29223.35   \n",
       "\n",
       "       Monthly_Inhand_Salary  Num_Bank_Accounts  Num_Credit_Card  \\\n",
       "34028            2611.279167                  5                3   \n",
       "\n",
       "       Interest_Rate  ...  Credit_Mix Outstanding_Debt  \\\n",
       "34028             18  ...         NaN           436.64   \n",
       "\n",
       "       Credit_Utilization_Ratio     Credit_History_Age  Payment_of_Min_Amount  \\\n",
       "34028                 25.343923  26 Years and 8 Months                     No   \n",
       "\n",
       "       Total_EMI_per_month Amount_invested_monthly  \\\n",
       "34028            64.130268              304.979535   \n",
       "\n",
       "                    Payment_Behaviour  Monthly_Balance Credit_Score  \n",
       "34028  Low_spent_Small_value_payments       182.018113     Standard  \n",
       "\n",
       "[1 rows x 26 columns]"
      ]
     },
     "execution_count": 1043,
     "metadata": {},
     "output_type": "execute_result"
    }
   ],
   "source": [
    "df.iloc[[34028]]"
   ]
  },
  {
   "cell_type": "code",
   "execution_count": 1044,
   "id": "a13df713",
   "metadata": {
    "execution": {
     "iopub.execute_input": "2024-09-04T13:13:42.605440Z",
     "iopub.status.busy": "2024-09-04T13:13:42.605026Z",
     "iopub.status.idle": "2024-09-04T13:13:42.641945Z",
     "shell.execute_reply": "2024-09-04T13:13:42.640778Z"
    },
    "papermill": {
     "duration": 0.120221,
     "end_time": "2024-09-04T13:13:42.644351",
     "exception": false,
     "start_time": "2024-09-04T13:13:42.524130",
     "status": "completed"
    },
    "tags": []
   },
   "outputs": [
    {
     "data": {
      "text/html": [
       "<div>\n",
       "<style scoped>\n",
       "    .dataframe tbody tr th:only-of-type {\n",
       "        vertical-align: middle;\n",
       "    }\n",
       "\n",
       "    .dataframe tbody tr th {\n",
       "        vertical-align: top;\n",
       "    }\n",
       "\n",
       "    .dataframe thead th {\n",
       "        text-align: right;\n",
       "    }\n",
       "</style>\n",
       "<table border=\"1\" class=\"dataframe\">\n",
       "  <thead>\n",
       "    <tr style=\"text-align: right;\">\n",
       "      <th></th>\n",
       "      <th>Unnamed: 0</th>\n",
       "      <th>Customer_ID</th>\n",
       "      <th>Month</th>\n",
       "      <th>Age</th>\n",
       "      <th>Occupation</th>\n",
       "      <th>Annual_Income</th>\n",
       "      <th>Monthly_Inhand_Salary</th>\n",
       "      <th>Num_Bank_Accounts</th>\n",
       "      <th>Num_Credit_Card</th>\n",
       "      <th>Interest_Rate</th>\n",
       "      <th>...</th>\n",
       "      <th>Credit_Mix</th>\n",
       "      <th>Outstanding_Debt</th>\n",
       "      <th>Credit_Utilization_Ratio</th>\n",
       "      <th>Credit_History_Age</th>\n",
       "      <th>Payment_of_Min_Amount</th>\n",
       "      <th>Total_EMI_per_month</th>\n",
       "      <th>Amount_invested_monthly</th>\n",
       "      <th>Payment_Behaviour</th>\n",
       "      <th>Monthly_Balance</th>\n",
       "      <th>Credit_Score</th>\n",
       "    </tr>\n",
       "  </thead>\n",
       "  <tbody>\n",
       "    <tr>\n",
       "      <th>34024</th>\n",
       "      <td>27728</td>\n",
       "      <td>CUS_0x6075</td>\n",
       "      <td>1</td>\n",
       "      <td>19</td>\n",
       "      <td>Musician</td>\n",
       "      <td>29223.35</td>\n",
       "      <td>2611.279167</td>\n",
       "      <td>5</td>\n",
       "      <td>3</td>\n",
       "      <td>18</td>\n",
       "      <td>...</td>\n",
       "      <td>NaN</td>\n",
       "      <td>436.64</td>\n",
       "      <td>37.804486</td>\n",
       "      <td>26 Years and 4 Months</td>\n",
       "      <td>NM</td>\n",
       "      <td>64.130268</td>\n",
       "      <td>222.848131</td>\n",
       "      <td>Low_spent_Large_value_payments</td>\n",
       "      <td>244.149518</td>\n",
       "      <td>Standard</td>\n",
       "    </tr>\n",
       "    <tr>\n",
       "      <th>34025</th>\n",
       "      <td>27729</td>\n",
       "      <td>CUS_0x6075</td>\n",
       "      <td>2</td>\n",
       "      <td>19</td>\n",
       "      <td>Musician</td>\n",
       "      <td>29223.35</td>\n",
       "      <td>2611.279167</td>\n",
       "      <td>5</td>\n",
       "      <td>3</td>\n",
       "      <td>18</td>\n",
       "      <td>...</td>\n",
       "      <td>Standard</td>\n",
       "      <td>436.64</td>\n",
       "      <td>35.657598</td>\n",
       "      <td>26 Years and 5 Months</td>\n",
       "      <td>No</td>\n",
       "      <td>64.130268</td>\n",
       "      <td>79.783191</td>\n",
       "      <td>Low_spent_Large_value_payments</td>\n",
       "      <td>387.214458</td>\n",
       "      <td>Standard</td>\n",
       "    </tr>\n",
       "    <tr>\n",
       "      <th>34026</th>\n",
       "      <td>27730</td>\n",
       "      <td>CUS_0x6075</td>\n",
       "      <td>3</td>\n",
       "      <td>19</td>\n",
       "      <td>Musician</td>\n",
       "      <td>29223.35</td>\n",
       "      <td>2611.279167</td>\n",
       "      <td>5</td>\n",
       "      <td>3</td>\n",
       "      <td>18</td>\n",
       "      <td>...</td>\n",
       "      <td>Standard</td>\n",
       "      <td>436.64</td>\n",
       "      <td>35.362003</td>\n",
       "      <td>26 Years and 6 Months</td>\n",
       "      <td>No</td>\n",
       "      <td>64.130268</td>\n",
       "      <td>217.382779</td>\n",
       "      <td>Low_spent_Small_value_payments</td>\n",
       "      <td>269.614870</td>\n",
       "      <td>Standard</td>\n",
       "    </tr>\n",
       "    <tr>\n",
       "      <th>34027</th>\n",
       "      <td>27731</td>\n",
       "      <td>CUS_0x6075</td>\n",
       "      <td>4</td>\n",
       "      <td>19</td>\n",
       "      <td>Musician</td>\n",
       "      <td>29223.35</td>\n",
       "      <td>2611.279167</td>\n",
       "      <td>5</td>\n",
       "      <td>3</td>\n",
       "      <td>18</td>\n",
       "      <td>...</td>\n",
       "      <td>Standard</td>\n",
       "      <td>436.64</td>\n",
       "      <td>37.342998</td>\n",
       "      <td>26 Years and 7 Months</td>\n",
       "      <td>No</td>\n",
       "      <td>64.130268</td>\n",
       "      <td>98.545589</td>\n",
       "      <td>High_spent_Medium_value_payments</td>\n",
       "      <td>348.452059</td>\n",
       "      <td>Standard</td>\n",
       "    </tr>\n",
       "    <tr>\n",
       "      <th>34028</th>\n",
       "      <td>27732</td>\n",
       "      <td>CUS_0x6075</td>\n",
       "      <td>5</td>\n",
       "      <td>19</td>\n",
       "      <td>Musician</td>\n",
       "      <td>29223.35</td>\n",
       "      <td>2611.279167</td>\n",
       "      <td>5</td>\n",
       "      <td>3</td>\n",
       "      <td>18</td>\n",
       "      <td>...</td>\n",
       "      <td>NaN</td>\n",
       "      <td>436.64</td>\n",
       "      <td>25.343923</td>\n",
       "      <td>26 Years and 8 Months</td>\n",
       "      <td>No</td>\n",
       "      <td>64.130268</td>\n",
       "      <td>304.979535</td>\n",
       "      <td>Low_spent_Small_value_payments</td>\n",
       "      <td>182.018113</td>\n",
       "      <td>Standard</td>\n",
       "    </tr>\n",
       "    <tr>\n",
       "      <th>34029</th>\n",
       "      <td>27733</td>\n",
       "      <td>CUS_0x6075</td>\n",
       "      <td>6</td>\n",
       "      <td>19</td>\n",
       "      <td>Musician</td>\n",
       "      <td>29223.35</td>\n",
       "      <td>2611.279167</td>\n",
       "      <td>5</td>\n",
       "      <td>3</td>\n",
       "      <td>18</td>\n",
       "      <td>...</td>\n",
       "      <td>NaN</td>\n",
       "      <td>436.64</td>\n",
       "      <td>38.811039</td>\n",
       "      <td>26 Years and 9 Months</td>\n",
       "      <td>No</td>\n",
       "      <td>64.130268</td>\n",
       "      <td>NaN</td>\n",
       "      <td>High_spent_Medium_value_payments</td>\n",
       "      <td>354.397950</td>\n",
       "      <td>Standard</td>\n",
       "    </tr>\n",
       "    <tr>\n",
       "      <th>34030</th>\n",
       "      <td>27734</td>\n",
       "      <td>CUS_0x6075</td>\n",
       "      <td>7</td>\n",
       "      <td>19</td>\n",
       "      <td>Musician</td>\n",
       "      <td>29223.35</td>\n",
       "      <td>2611.279167</td>\n",
       "      <td>5</td>\n",
       "      <td>3</td>\n",
       "      <td>18</td>\n",
       "      <td>...</td>\n",
       "      <td>Standard</td>\n",
       "      <td>436.64</td>\n",
       "      <td>38.671912</td>\n",
       "      <td>NaN</td>\n",
       "      <td>No</td>\n",
       "      <td>64.130268</td>\n",
       "      <td>211.488959</td>\n",
       "      <td>Low_spent_Small_value_payments</td>\n",
       "      <td>275.508690</td>\n",
       "      <td>Standard</td>\n",
       "    </tr>\n",
       "    <tr>\n",
       "      <th>34031</th>\n",
       "      <td>27735</td>\n",
       "      <td>CUS_0x6075</td>\n",
       "      <td>8</td>\n",
       "      <td>19</td>\n",
       "      <td>Musician</td>\n",
       "      <td>29223.35</td>\n",
       "      <td>2611.279167</td>\n",
       "      <td>5</td>\n",
       "      <td>3</td>\n",
       "      <td>18</td>\n",
       "      <td>...</td>\n",
       "      <td>Standard</td>\n",
       "      <td>436.64</td>\n",
       "      <td>36.691142</td>\n",
       "      <td>NaN</td>\n",
       "      <td>No</td>\n",
       "      <td>64.130268</td>\n",
       "      <td>167.455467</td>\n",
       "      <td>Low_spent_Large_value_payments</td>\n",
       "      <td>299.542182</td>\n",
       "      <td>Standard</td>\n",
       "    </tr>\n",
       "  </tbody>\n",
       "</table>\n",
       "<p>8 rows × 26 columns</p>\n",
       "</div>"
      ],
      "text/plain": [
       "       Unnamed: 0 Customer_ID  Month  Age Occupation  Annual_Income  \\\n",
       "34024       27728  CUS_0x6075      1   19   Musician       29223.35   \n",
       "34025       27729  CUS_0x6075      2   19   Musician       29223.35   \n",
       "34026       27730  CUS_0x6075      3   19   Musician       29223.35   \n",
       "34027       27731  CUS_0x6075      4   19   Musician       29223.35   \n",
       "34028       27732  CUS_0x6075      5   19   Musician       29223.35   \n",
       "34029       27733  CUS_0x6075      6   19   Musician       29223.35   \n",
       "34030       27734  CUS_0x6075      7   19   Musician       29223.35   \n",
       "34031       27735  CUS_0x6075      8   19   Musician       29223.35   \n",
       "\n",
       "       Monthly_Inhand_Salary  Num_Bank_Accounts  Num_Credit_Card  \\\n",
       "34024            2611.279167                  5                3   \n",
       "34025            2611.279167                  5                3   \n",
       "34026            2611.279167                  5                3   \n",
       "34027            2611.279167                  5                3   \n",
       "34028            2611.279167                  5                3   \n",
       "34029            2611.279167                  5                3   \n",
       "34030            2611.279167                  5                3   \n",
       "34031            2611.279167                  5                3   \n",
       "\n",
       "       Interest_Rate  ...  Credit_Mix Outstanding_Debt  \\\n",
       "34024             18  ...         NaN           436.64   \n",
       "34025             18  ...    Standard           436.64   \n",
       "34026             18  ...    Standard           436.64   \n",
       "34027             18  ...    Standard           436.64   \n",
       "34028             18  ...         NaN           436.64   \n",
       "34029             18  ...         NaN           436.64   \n",
       "34030             18  ...    Standard           436.64   \n",
       "34031             18  ...    Standard           436.64   \n",
       "\n",
       "       Credit_Utilization_Ratio     Credit_History_Age  Payment_of_Min_Amount  \\\n",
       "34024                 37.804486  26 Years and 4 Months                     NM   \n",
       "34025                 35.657598  26 Years and 5 Months                     No   \n",
       "34026                 35.362003  26 Years and 6 Months                     No   \n",
       "34027                 37.342998  26 Years and 7 Months                     No   \n",
       "34028                 25.343923  26 Years and 8 Months                     No   \n",
       "34029                 38.811039  26 Years and 9 Months                     No   \n",
       "34030                 38.671912                    NaN                     No   \n",
       "34031                 36.691142                    NaN                     No   \n",
       "\n",
       "       Total_EMI_per_month Amount_invested_monthly  \\\n",
       "34024            64.130268              222.848131   \n",
       "34025            64.130268               79.783191   \n",
       "34026            64.130268              217.382779   \n",
       "34027            64.130268               98.545589   \n",
       "34028            64.130268              304.979535   \n",
       "34029            64.130268                     NaN   \n",
       "34030            64.130268              211.488959   \n",
       "34031            64.130268              167.455467   \n",
       "\n",
       "                      Payment_Behaviour  Monthly_Balance Credit_Score  \n",
       "34024    Low_spent_Large_value_payments       244.149518     Standard  \n",
       "34025    Low_spent_Large_value_payments       387.214458     Standard  \n",
       "34026    Low_spent_Small_value_payments       269.614870     Standard  \n",
       "34027  High_spent_Medium_value_payments       348.452059     Standard  \n",
       "34028    Low_spent_Small_value_payments       182.018113     Standard  \n",
       "34029  High_spent_Medium_value_payments       354.397950     Standard  \n",
       "34030    Low_spent_Small_value_payments       275.508690     Standard  \n",
       "34031    Low_spent_Large_value_payments       299.542182     Standard  \n",
       "\n",
       "[8 rows x 26 columns]"
      ]
     },
     "execution_count": 1044,
     "metadata": {},
     "output_type": "execute_result"
    }
   ],
   "source": [
    "df[df['Customer_ID'].isin(['CUS_0x6075'])]"
   ]
  },
  {
   "cell_type": "code",
   "execution_count": 1045,
   "id": "4eedb00e",
   "metadata": {
    "execution": {
     "iopub.execute_input": "2024-09-04T13:13:42.972511Z",
     "iopub.status.busy": "2024-09-04T13:13:42.972111Z",
     "iopub.status.idle": "2024-09-04T13:13:42.980047Z",
     "shell.execute_reply": "2024-09-04T13:13:42.978762Z"
    },
    "papermill": {
     "duration": 0.093607,
     "end_time": "2024-09-04T13:13:42.982436",
     "exception": false,
     "start_time": "2024-09-04T13:13:42.888829",
     "status": "completed"
    },
    "tags": []
   },
   "outputs": [],
   "source": [
    "df.loc[[34028], ['Annual_Income', 'Monthly_Inhand_Salary']] = np.nan"
   ]
  },
  {
   "cell_type": "markdown",
   "id": "25ef31e5",
   "metadata": {
    "papermill": {
     "duration": 0.082648,
     "end_time": "2024-09-04T13:13:42.808382",
     "exception": false,
     "start_time": "2024-09-04T13:13:42.725734",
     "status": "completed"
    },
    "tags": []
   },
   "source": [
    "There are records which have very high annual income and monthly inhand salary is comparable but not same as other months. Rest of the data is same for other months and we can make it same after making them null."
   ]
  },
  {
   "cell_type": "code",
   "execution_count": 1046,
   "id": "6e845e9e",
   "metadata": {
    "execution": {
     "iopub.execute_input": "2024-09-04T13:13:43.149056Z",
     "iopub.status.busy": "2024-09-04T13:13:43.148625Z",
     "iopub.status.idle": "2024-09-04T13:13:51.284052Z",
     "shell.execute_reply": "2024-09-04T13:13:51.282679Z"
    },
    "papermill": {
     "duration": 8.22237,
     "end_time": "2024-09-04T13:13:51.287422",
     "exception": false,
     "start_time": "2024-09-04T13:13:43.065052",
     "status": "completed"
    },
    "tags": []
   },
   "outputs": [],
   "source": [
    "df['Annual_Income'] = df.groupby('Customer_ID')['Annual_Income'].transform(forward_backward_fill)\n",
    "df['Monthly_Inhand_Salary'] = df.groupby('Customer_ID')['Monthly_Inhand_Salary'].transform(forward_backward_fill)"
   ]
  },
  {
   "cell_type": "code",
   "execution_count": 1047,
   "id": "be06c962",
   "metadata": {
    "execution": {
     "iopub.execute_input": "2024-09-04T13:13:51.473615Z",
     "iopub.status.busy": "2024-09-04T13:13:51.472883Z",
     "iopub.status.idle": "2024-09-04T13:13:52.004218Z",
     "shell.execute_reply": "2024-09-04T13:13:52.002990Z"
    },
    "papermill": {
     "duration": 0.617373,
     "end_time": "2024-09-04T13:13:52.006748",
     "exception": false,
     "start_time": "2024-09-04T13:13:51.389375",
     "status": "completed"
    },
    "tags": []
   },
   "outputs": [
    {
     "name": "stdout",
     "output_type": "stream",
     "text": [
      "Column description for Annual_Income:\n",
      "\n",
      "count    8.000000e+04\n",
      "mean     5.076891e+04\n",
      "std      9.101956e+04\n",
      "min      7.005930e+03\n",
      "25%      1.928073e+04\n",
      "50%      3.682100e+04\n",
      "75%      7.167600e+04\n",
      "max      2.339320e+07\n",
      "Name: Annual_Income, dtype: float64\n",
      "\n",
      "Number of null values: 0 \n",
      "\n",
      "\n"
     ]
    }
   ],
   "source": [
    "summary_annual_income = summarize_numerical_column_with_deviation(df, 'Annual_Income', 'Customer_ID', True, False)"
   ]
  },
  {
   "cell_type": "code",
   "execution_count": 1048,
   "id": "811ce6b4",
   "metadata": {
    "execution": {
     "iopub.execute_input": "2024-09-04T13:13:52.174176Z",
     "iopub.status.busy": "2024-09-04T13:13:52.173777Z",
     "iopub.status.idle": "2024-09-04T13:13:52.829739Z",
     "shell.execute_reply": "2024-09-04T13:13:52.828723Z"
    },
    "papermill": {
     "duration": 0.742451,
     "end_time": "2024-09-04T13:13:52.832230",
     "exception": false,
     "start_time": "2024-09-04T13:13:52.089779",
     "status": "completed"
    },
    "tags": []
   },
   "outputs": [
    {
     "name": "stdout",
     "output_type": "stream",
     "text": [
      "Column description for Monthly_Inhand_Salary:\n",
      "\n",
      "count    80000.000000\n",
      "mean      4196.339376\n",
      "std       3193.986148\n",
      "min        319.556250\n",
      "25%       1626.525000\n",
      "50%       3074.046250\n",
      "75%       5957.715000\n",
      "max      15204.633333\n",
      "Name: Monthly_Inhand_Salary, dtype: float64\n",
      "\n",
      "Number of null values: 0 \n",
      "\n",
      "\n"
     ]
    }
   ],
   "source": [
    "summary_monthly_inhand_salary = summarize_numerical_column_with_deviation(df, 'Monthly_Inhand_Salary', 'Customer_ID', True, False)"
   ]
  },
  {
   "cell_type": "markdown",
   "id": "127fa8e7",
   "metadata": {
    "papermill": {
     "duration": 0.082364,
     "end_time": "2024-09-04T13:13:52.996711",
     "exception": false,
     "start_time": "2024-09-04T13:13:52.914347",
     "status": "completed"
    },
    "tags": []
   },
   "source": [
    "Both the distributions look ok now."
   ]
  },
  {
   "cell_type": "markdown",
   "id": "95847fba",
   "metadata": {
    "jp-MarkdownHeadingCollapsed": true,
    "papermill": {
     "duration": 0.08436,
     "end_time": "2024-09-04T13:13:53.163906",
     "exception": false,
     "start_time": "2024-09-04T13:13:53.079546",
     "status": "completed"
    },
    "tags": []
   },
   "source": [
    "#### 4. Number of Bank Accounts"
   ]
  },
  {
   "cell_type": "code",
   "execution_count": 1049,
   "id": "dfba908b",
   "metadata": {
    "execution": {
     "iopub.execute_input": "2024-09-04T13:13:53.332308Z",
     "iopub.status.busy": "2024-09-04T13:13:53.331919Z",
     "iopub.status.idle": "2024-09-04T13:14:23.568398Z",
     "shell.execute_reply": "2024-09-04T13:14:23.567398Z"
    },
    "papermill": {
     "duration": 30.406527,
     "end_time": "2024-09-04T13:14:23.653923",
     "exception": false,
     "start_time": "2024-09-04T13:13:53.247396",
     "status": "completed"
    },
    "tags": []
   },
   "outputs": [
    {
     "name": "stdout",
     "output_type": "stream",
     "text": [
      "Column description for Num_Bank_Accounts:\n",
      "\n",
      "count    80000.000000\n",
      "mean        17.062275\n",
      "std        117.657776\n",
      "min         -1.000000\n",
      "25%          3.000000\n",
      "50%          6.000000\n",
      "75%          7.000000\n",
      "max       1798.000000\n",
      "Name: Num_Bank_Accounts, dtype: float64\n",
      "\n",
      "Number of null values: 0 \n",
      "\n",
      "\n",
      "\n",
      "\n",
      "Median standardization for Num_Bank_Accounts:\n",
      "\n",
      "count    80000.000000\n",
      "mean        11.815637\n",
      "std        119.276867\n",
      "min         -2.000000\n",
      "25%          0.000000\n",
      "50%          0.000000\n",
      "75%          0.000000\n",
      "max       2971.000000\n",
      "Name: Num_Bank_Accounts, dtype: float64\n",
      "\n",
      "Number of null values: 0 \n",
      "\n",
      "\n"
     ]
    }
   ],
   "source": [
    "summary_num_bank_accounts = summarize_numerical_column_with_deviation(df, 'Num_Bank_Accounts', median_standardization_summary = True)"
   ]
  },
  {
   "cell_type": "code",
   "execution_count": 1050,
   "id": "5cfd794f",
   "metadata": {
    "execution": {
     "iopub.execute_input": "2024-09-04T13:14:23.824398Z",
     "iopub.status.busy": "2024-09-04T13:14:23.823511Z",
     "iopub.status.idle": "2024-09-04T13:14:23.830889Z",
     "shell.execute_reply": "2024-09-04T13:14:23.829739Z"
    },
    "papermill": {
     "duration": 0.09499,
     "end_time": "2024-09-04T13:14:23.833175",
     "exception": false,
     "start_time": "2024-09-04T13:14:23.738185",
     "status": "completed"
    },
    "tags": []
   },
   "outputs": [
    {
     "data": {
      "text/plain": [
       "{'Num_Bank_Accounts': {'Min. value': np.int64(-1),\n",
       "  'Outlier lower range': -3.0,\n",
       "  'Outlier upper range': 13.0,\n",
       "  'Max. value': np.int64(1798)},\n",
       " 'Median standardization of Num_Bank_Accounts': {'Min. value': np.float64(-2.0),\n",
       "  'Outlier lower range': 0.0,\n",
       "  'Outlier upper range': 0.0,\n",
       "  'Max. value': np.float64(2971.0)},\n",
       " 'Max. MAD': np.float64(1.0)}"
      ]
     },
     "execution_count": 1050,
     "metadata": {},
     "output_type": "execute_result"
    }
   ],
   "source": [
    "summary_num_bank_accounts"
   ]
  },
  {
   "cell_type": "markdown",
   "id": "9be1c22b",
   "metadata": {
    "papermill": {
     "duration": 0.086121,
     "end_time": "2024-09-04T13:14:24.005303",
     "exception": false,
     "start_time": "2024-09-04T13:14:23.919182",
     "status": "completed"
    },
    "tags": []
   },
   "source": [
    "There are some negative values which are not possible. Lets convert them to null for now."
   ]
  },
  {
   "cell_type": "code",
   "execution_count": 1051,
   "id": "07e56d88",
   "metadata": {
    "execution": {
     "iopub.execute_input": "2024-09-04T13:14:24.176472Z",
     "iopub.status.busy": "2024-09-04T13:14:24.175510Z",
     "iopub.status.idle": "2024-09-04T13:14:24.183628Z",
     "shell.execute_reply": "2024-09-04T13:14:24.182650Z"
    },
    "papermill": {
     "duration": 0.096309,
     "end_time": "2024-09-04T13:14:24.185958",
     "exception": false,
     "start_time": "2024-09-04T13:14:24.089649",
     "status": "completed"
    },
    "tags": []
   },
   "outputs": [],
   "source": [
    "df['Num_Bank_Accounts'][df['Num_Bank_Accounts'] < 0] = np.nan"
   ]
  },
  {
   "cell_type": "markdown",
   "id": "e0dab1d7",
   "metadata": {
    "papermill": {
     "duration": 0.084617,
     "end_time": "2024-09-04T13:14:24.355833",
     "exception": false,
     "start_time": "2024-09-04T13:14:24.271216",
     "status": "completed"
    },
    "tags": []
   },
   "source": [
    "Max. MAD value is 1, this means MAD  can take values like 0, 0.5 or 1 given the nature of data. Lets try to observe the median standardization data."
   ]
  },
  {
   "cell_type": "code",
   "execution_count": 1052,
   "id": "76ba6fdc",
   "metadata": {
    "execution": {
     "iopub.execute_input": "2024-09-04T13:14:24.528049Z",
     "iopub.status.busy": "2024-09-04T13:14:24.527606Z",
     "iopub.status.idle": "2024-09-04T13:14:40.780515Z",
     "shell.execute_reply": "2024-09-04T13:14:40.779294Z"
    },
    "papermill": {
     "duration": 16.342194,
     "end_time": "2024-09-04T13:14:40.782956",
     "exception": false,
     "start_time": "2024-09-04T13:14:24.440762",
     "status": "completed"
    },
    "tags": []
   },
   "outputs": [
    {
     "data": {
      "text/plain": [
       "Num_Bank_Accounts\n",
       " 0.0       78280\n",
       "-1.0         345\n",
       " 1.0         289\n",
       "-2.0          21\n",
       " 516.0         4\n",
       "           ...  \n",
       " 1013.0        1\n",
       " 484.0         1\n",
       " 977.0         1\n",
       " 48.0          1\n",
       " 109.0         1\n",
       "Name: count, Length: 787, dtype: int64"
      ]
     },
     "execution_count": 1052,
     "metadata": {},
     "output_type": "execute_result"
    }
   ],
   "source": [
    "df.groupby('Customer_ID')['Num_Bank_Accounts'].transform(median_standardization, default_value = return_max_MAD(df, 'Num_Bank_Accounts')).value_counts()"
   ]
  },
  {
   "cell_type": "code",
   "execution_count": 1053,
   "id": "3c886a9b",
   "metadata": {
    "execution": {
     "iopub.execute_input": "2024-09-04T13:14:40.952796Z",
     "iopub.status.busy": "2024-09-04T13:14:40.951988Z",
     "iopub.status.idle": "2024-09-04T13:14:56.332033Z",
     "shell.execute_reply": "2024-09-04T13:14:56.331025Z"
    },
    "papermill": {
     "duration": 15.467493,
     "end_time": "2024-09-04T13:14:56.334389",
     "exception": false,
     "start_time": "2024-09-04T13:14:40.866896",
     "status": "completed"
    },
    "scrolled": true,
    "tags": []
   },
   "outputs": [
    {
     "data": {
      "text/plain": [
       "array([-2., -1.,  0.,  1., 12., 20., 21., 22., 23., 27.])"
      ]
     },
     "execution_count": 1053,
     "metadata": {},
     "output_type": "execute_result"
    }
   ],
   "source": [
    "np.sort((df.groupby('Customer_ID')['Num_Bank_Accounts'].transform(median_standardization, default_value = return_max_MAD(df, 'Num_Bank_Accounts'))).unique())[:10]"
   ]
  },
  {
   "cell_type": "markdown",
   "id": "d6e06cec",
   "metadata": {
    "papermill": {
     "duration": 0.084582,
     "end_time": "2024-09-04T13:14:56.505401",
     "exception": false,
     "start_time": "2024-09-04T13:14:56.420819",
     "status": "completed"
    },
    "tags": []
   },
   "source": [
    "The first four values look ok as median standardization should be usually small only. But after that the values look too big to be real and thus, can be changed to nulls."
   ]
  },
  {
   "cell_type": "code",
   "execution_count": 1054,
   "id": "82b48f0b",
   "metadata": {
    "execution": {
     "iopub.execute_input": "2024-09-04T13:14:56.674881Z",
     "iopub.status.busy": "2024-09-04T13:14:56.674461Z",
     "iopub.status.idle": "2024-09-04T13:15:11.913577Z",
     "shell.execute_reply": "2024-09-04T13:15:11.912575Z"
    },
    "papermill": {
     "duration": 15.326964,
     "end_time": "2024-09-04T13:15:11.916129",
     "exception": false,
     "start_time": "2024-09-04T13:14:56.589165",
     "status": "completed"
    },
    "tags": []
   },
   "outputs": [],
   "source": [
    "df['Num_Bank_Accounts'][df.groupby('Customer_ID')['Num_Bank_Accounts'].transform(median_standardization, default_value = return_max_MAD(df, 'Num_Bank_Accounts')).abs() > 2] = np.nan"
   ]
  },
  {
   "cell_type": "code",
   "execution_count": 1055,
   "id": "3b413eba",
   "metadata": {
    "execution": {
     "iopub.execute_input": "2024-09-04T13:15:12.090111Z",
     "iopub.status.busy": "2024-09-04T13:15:12.089301Z",
     "iopub.status.idle": "2024-09-04T13:15:27.801938Z",
     "shell.execute_reply": "2024-09-04T13:15:27.800862Z"
    },
    "papermill": {
     "duration": 15.802102,
     "end_time": "2024-09-04T13:15:27.804454",
     "exception": false,
     "start_time": "2024-09-04T13:15:12.002352",
     "status": "completed"
    },
    "tags": []
   },
   "outputs": [
    {
     "name": "stdout",
     "output_type": "stream",
     "text": [
      "Column description for Num_Bank_Accounts:\n",
      "\n",
      "count    78935.000000\n",
      "mean         5.365972\n",
      "std          2.582345\n",
      "min          0.000000\n",
      "25%          3.000000\n",
      "50%          6.000000\n",
      "75%          7.000000\n",
      "max         11.000000\n",
      "Name: Num_Bank_Accounts, dtype: float64\n",
      "\n",
      "Number of null values: 1065 \n",
      "\n",
      "\n",
      "\n",
      "\n",
      "Median standardization for Num_Bank_Accounts:\n",
      "\n",
      "count    78935.000000\n",
      "mean        -0.001520\n",
      "std          0.152005\n",
      "min         -2.000000\n",
      "25%          0.000000\n",
      "50%          0.000000\n",
      "75%          0.000000\n",
      "max          2.000000\n",
      "Name: Num_Bank_Accounts, dtype: float64\n",
      "\n",
      "Number of null values: 1065 \n",
      "\n",
      "\n"
     ]
    }
   ],
   "source": [
    "summary_num_bank_accounts = summarize_numerical_column_with_deviation(df, 'Num_Bank_Accounts', median_standardization_summary = True)"
   ]
  },
  {
   "cell_type": "markdown",
   "id": "29ad558a",
   "metadata": {
    "papermill": {
     "duration": 0.085715,
     "end_time": "2024-09-04T13:15:27.978987",
     "exception": false,
     "start_time": "2024-09-04T13:15:27.893272",
     "status": "completed"
    },
    "tags": []
   },
   "source": [
    "For the null values as an educated guess we can just take the forward and backward fills."
   ]
  },
  {
   "cell_type": "code",
   "execution_count": 1056,
   "id": "47d21d8e",
   "metadata": {
    "execution": {
     "iopub.execute_input": "2024-09-04T13:15:28.153853Z",
     "iopub.status.busy": "2024-09-04T13:15:28.153397Z",
     "iopub.status.idle": "2024-09-04T13:15:32.174836Z",
     "shell.execute_reply": "2024-09-04T13:15:32.173573Z"
    },
    "papermill": {
     "duration": 4.112303,
     "end_time": "2024-09-04T13:15:32.177478",
     "exception": false,
     "start_time": "2024-09-04T13:15:28.065175",
     "status": "completed"
    },
    "tags": []
   },
   "outputs": [],
   "source": [
    "df['Num_Bank_Accounts'] = df.groupby('Customer_ID')['Num_Bank_Accounts'].transform(forward_backward_fill).astype(int)"
   ]
  },
  {
   "cell_type": "markdown",
   "id": "fcf0d807",
   "metadata": {
    "papermill": {
     "duration": 0.146512,
     "end_time": "2024-09-04T13:15:32.412526",
     "exception": false,
     "start_time": "2024-09-04T13:15:32.266014",
     "status": "completed"
    },
    "tags": []
   },
   "source": [
    "What if we take one level difference at customer level? The difference can be 0, negative or positive but shouldn't be too high as the number of bank accounts shouldnt usually jump or decrease too much suddenly."
   ]
  },
  {
   "cell_type": "code",
   "execution_count": 1057,
   "id": "5ae19dd5",
   "metadata": {
    "execution": {
     "iopub.execute_input": "2024-09-04T13:15:32.588183Z",
     "iopub.status.busy": "2024-09-04T13:15:32.587793Z",
     "iopub.status.idle": "2024-09-04T13:15:35.041570Z",
     "shell.execute_reply": "2024-09-04T13:15:35.040486Z"
    },
    "papermill": {
     "duration": 2.544678,
     "end_time": "2024-09-04T13:15:35.044001",
     "exception": false,
     "start_time": "2024-09-04T13:15:32.499323",
     "status": "completed"
    },
    "tags": []
   },
   "outputs": [
    {
     "data": {
      "text/plain": [
       "Num_Bank_Accounts\n",
       " 0.0    69771\n",
       " 1.0      122\n",
       "-1.0      107\n",
       "Name: count, dtype: int64"
      ]
     },
     "execution_count": 1057,
     "metadata": {},
     "output_type": "execute_result"
    }
   ],
   "source": [
    "df.groupby('Customer_ID')['Num_Bank_Accounts'].transform(pd.Series.diff).value_counts()"
   ]
  },
  {
   "cell_type": "markdown",
   "id": "c6c836f5",
   "metadata": {
    "papermill": {
     "duration": 0.085597,
     "end_time": "2024-09-04T13:15:35.215979",
     "exception": false,
     "start_time": "2024-09-04T13:15:35.130382",
     "status": "completed"
    },
    "tags": []
   },
   "source": [
    "Mostly, the number of bank accounts remain same across months but rarely it can increase or decrease by one. This is understandable and looks ok."
   ]
  },
  {
   "cell_type": "code",
   "execution_count": 1058,
   "id": "efc57290",
   "metadata": {
    "execution": {
     "iopub.execute_input": "2024-09-04T13:15:35.392444Z",
     "iopub.status.busy": "2024-09-04T13:15:35.392066Z",
     "iopub.status.idle": "2024-09-04T13:15:37.213376Z",
     "shell.execute_reply": "2024-09-04T13:15:37.212134Z"
    },
    "papermill": {
     "duration": 1.911586,
     "end_time": "2024-09-04T13:15:37.215806",
     "exception": false,
     "start_time": "2024-09-04T13:15:35.304220",
     "status": "completed"
    },
    "tags": []
   },
   "outputs": [
    {
     "data": {
      "text/plain": [
       "Num_Bank_Accounts\n",
       " 0.0    9771\n",
       " 1.0     122\n",
       "-1.0     107\n",
       "Name: count, dtype: int64"
      ]
     },
     "execution_count": 1058,
     "metadata": {},
     "output_type": "execute_result"
    }
   ],
   "source": [
    "df.groupby('Customer_ID')['Num_Bank_Accounts'].agg(lambda x: x.diff().sum()).value_counts()"
   ]
  },
  {
   "cell_type": "markdown",
   "id": "39191813",
   "metadata": {
    "papermill": {
     "duration": 0.087623,
     "end_time": "2024-09-04T13:15:37.393091",
     "exception": false,
     "start_time": "2024-09-04T13:15:37.305468",
     "status": "completed"
    },
    "tags": []
   },
   "source": [
    "The number of 1 and -1 are same as above. This is only possible when all these 1 and -1 belong to different customers i.e. in 8-months period either number of bank account remains same, increases by 1 or decreases by 1 in between the months for a customer. No weird patterns exist in here."
   ]
  },
  {
   "cell_type": "markdown",
   "id": "09c2f211",
   "metadata": {
    "jp-MarkdownHeadingCollapsed": true,
    "papermill": {
     "duration": 0.086271,
     "end_time": "2024-09-04T13:15:37.565107",
     "exception": false,
     "start_time": "2024-09-04T13:15:37.478836",
     "status": "completed"
    },
    "tags": []
   },
   "source": [
    "#### 5. Number of credit cards"
   ]
  },
  {
   "cell_type": "markdown",
   "id": "f8cbfb74",
   "metadata": {
    "papermill": {
     "duration": 0.085456,
     "end_time": "2024-09-04T13:15:37.736393",
     "exception": false,
     "start_time": "2024-09-04T13:15:37.650937",
     "status": "completed"
    },
    "tags": []
   },
   "source": [
    "The same procedure as number of bank accounts can be followed for number of credit cards."
   ]
  },
  {
   "cell_type": "code",
   "execution_count": 1059,
   "id": "22ccf3e1",
   "metadata": {
    "execution": {
     "iopub.execute_input": "2024-09-04T13:15:37.910815Z",
     "iopub.status.busy": "2024-09-04T13:15:37.910390Z",
     "iopub.status.idle": "2024-09-04T13:16:11.505996Z",
     "shell.execute_reply": "2024-09-04T13:16:11.505001Z"
    },
    "papermill": {
     "duration": 33.685847,
     "end_time": "2024-09-04T13:16:11.508465",
     "exception": false,
     "start_time": "2024-09-04T13:15:37.822618",
     "status": "completed"
    },
    "tags": []
   },
   "outputs": [
    {
     "name": "stdout",
     "output_type": "stream",
     "text": [
      "Column description for Num_Credit_Card:\n",
      "\n",
      "count    80000.000000\n",
      "mean        22.765950\n",
      "std        130.612063\n",
      "min          0.000000\n",
      "25%          4.000000\n",
      "50%          6.000000\n",
      "75%          7.000000\n",
      "max       1499.000000\n",
      "Name: Num_Credit_Card, dtype: float64\n",
      "\n",
      "Number of null values: 0 \n",
      "\n",
      "\n",
      "\n",
      "\n",
      "Median standardization for Num_Credit_Card:\n",
      "\n",
      "count    80000.000000\n",
      "mean        34.446700\n",
      "std        261.189289\n",
      "min         -2.000000\n",
      "25%          0.000000\n",
      "50%          0.000000\n",
      "75%          0.000000\n",
      "max       2992.000000\n",
      "Name: Num_Credit_Card, dtype: float64\n",
      "\n",
      "Number of null values: 0 \n",
      "\n",
      "\n"
     ]
    }
   ],
   "source": [
    "summary_num_credit_cards = summarize_numerical_column_with_deviation(df, 'Num_Credit_Card', median_standardization_summary = True)"
   ]
  },
  {
   "cell_type": "code",
   "execution_count": 1060,
   "id": "570ee928",
   "metadata": {
    "execution": {
     "iopub.execute_input": "2024-09-04T13:16:11.686870Z",
     "iopub.status.busy": "2024-09-04T13:16:11.686448Z",
     "iopub.status.idle": "2024-09-04T13:16:11.693501Z",
     "shell.execute_reply": "2024-09-04T13:16:11.692432Z"
    },
    "papermill": {
     "duration": 0.098223,
     "end_time": "2024-09-04T13:16:11.695876",
     "exception": false,
     "start_time": "2024-09-04T13:16:11.597653",
     "status": "completed"
    },
    "tags": []
   },
   "outputs": [
    {
     "data": {
      "text/plain": [
       "{'Num_Credit_Card': {'Min. value': np.int64(0),\n",
       "  'Outlier lower range': -0.5,\n",
       "  'Outlier upper range': 11.5,\n",
       "  'Max. value': np.int64(1499)},\n",
       " 'Median standardization of Num_Credit_Card': {'Min. value': np.float64(-2.0),\n",
       "  'Outlier lower range': 0.0,\n",
       "  'Outlier upper range': 0.0,\n",
       "  'Max. value': np.float64(2992.0)},\n",
       " 'Max. MAD': np.float64(0.5)}"
      ]
     },
     "execution_count": 1060,
     "metadata": {},
     "output_type": "execute_result"
    }
   ],
   "source": [
    "summary_num_credit_cards"
   ]
  },
  {
   "cell_type": "markdown",
   "id": "1e816250",
   "metadata": {
    "papermill": {
     "duration": 0.087394,
     "end_time": "2024-09-04T13:16:11.870982",
     "exception": false,
     "start_time": "2024-09-04T13:16:11.783588",
     "status": "completed"
    },
    "tags": []
   },
   "source": [
    "Max. MAD value is 1, this means MAD  can take values like 0, 0.5 or 1 given the nature of data. Lets try to observe the median standardization data."
   ]
  },
  {
   "cell_type": "code",
   "execution_count": 1061,
   "id": "3a4f05cb",
   "metadata": {
    "execution": {
     "iopub.execute_input": "2024-09-04T13:16:12.051572Z",
     "iopub.status.busy": "2024-09-04T13:16:12.051173Z",
     "iopub.status.idle": "2024-09-04T13:16:28.060382Z",
     "shell.execute_reply": "2024-09-04T13:16:28.059027Z"
    },
    "papermill": {
     "duration": 16.102954,
     "end_time": "2024-09-04T13:16:28.063078",
     "exception": false,
     "start_time": "2024-09-04T13:16:11.960124",
     "status": "completed"
    },
    "tags": []
   },
   "outputs": [
    {
     "data": {
      "text/plain": [
       "Num_Credit_Card\n",
       " 0.0       77520\n",
       "-2.0         239\n",
       " 2.0         156\n",
       "-1.0         136\n",
       " 1.0         130\n",
       "           ...  \n",
       " 2895.0        1\n",
       " 478.0         1\n",
       " 2852.0        1\n",
       " 1608.0        1\n",
       " 2118.0        1\n",
       "Name: count, Length: 1050, dtype: int64"
      ]
     },
     "execution_count": 1061,
     "metadata": {},
     "output_type": "execute_result"
    }
   ],
   "source": [
    "df.groupby('Customer_ID')['Num_Credit_Card'].transform(median_standardization, default_value = return_max_MAD(df, 'Num_Credit_Card')).value_counts()"
   ]
  },
  {
   "cell_type": "code",
   "execution_count": 1062,
   "id": "776b29a8",
   "metadata": {
    "execution": {
     "iopub.execute_input": "2024-09-04T13:16:28.245252Z",
     "iopub.status.busy": "2024-09-04T13:16:28.244867Z",
     "iopub.status.idle": "2024-09-04T13:16:44.122377Z",
     "shell.execute_reply": "2024-09-04T13:16:44.121320Z"
    },
    "papermill": {
     "duration": 15.969708,
     "end_time": "2024-09-04T13:16:44.124870",
     "exception": false,
     "start_time": "2024-09-04T13:16:28.155162",
     "status": "completed"
    },
    "scrolled": true,
    "tags": []
   },
   "outputs": [
    {
     "data": {
      "text/plain": [
       "array([-2., -1.,  0.,  1.,  2., 12., 16., 20., 22., 28.])"
      ]
     },
     "execution_count": 1062,
     "metadata": {},
     "output_type": "execute_result"
    }
   ],
   "source": [
    "np.sort((df.groupby('Customer_ID')['Num_Credit_Card'].transform(median_standardization, default_value = return_max_MAD(df, 'Num_Credit_Card'))).unique())[:10]"
   ]
  },
  {
   "cell_type": "markdown",
   "id": "907ad3b8",
   "metadata": {
    "papermill": {
     "duration": 0.089551,
     "end_time": "2024-09-04T13:16:44.303130",
     "exception": false,
     "start_time": "2024-09-04T13:16:44.213579",
     "status": "completed"
    },
    "tags": []
   },
   "source": [
    "The first four values look ok as median standardization should be usually small only. But after that the values look too big to be real and thus, can be changed to nulls."
   ]
  },
  {
   "cell_type": "code",
   "execution_count": 1063,
   "id": "8a84b1ab",
   "metadata": {
    "execution": {
     "iopub.execute_input": "2024-09-04T13:16:44.482892Z",
     "iopub.status.busy": "2024-09-04T13:16:44.482444Z",
     "iopub.status.idle": "2024-09-04T13:17:00.061304Z",
     "shell.execute_reply": "2024-09-04T13:17:00.060154Z"
    },
    "papermill": {
     "duration": 15.671096,
     "end_time": "2024-09-04T13:17:00.064118",
     "exception": false,
     "start_time": "2024-09-04T13:16:44.393022",
     "status": "completed"
    },
    "tags": []
   },
   "outputs": [],
   "source": [
    "df['Num_Credit_Card'][df.groupby('Customer_ID')['Num_Credit_Card'].transform(median_standardization, default_value = return_max_MAD(df, 'Num_Credit_Card')).abs() > 2] = np.nan"
   ]
  },
  {
   "cell_type": "code",
   "execution_count": 1064,
   "id": "a4c4cc21",
   "metadata": {
    "execution": {
     "iopub.execute_input": "2024-09-04T13:17:00.241825Z",
     "iopub.status.busy": "2024-09-04T13:17:00.241314Z",
     "iopub.status.idle": "2024-09-04T13:17:16.052174Z",
     "shell.execute_reply": "2024-09-04T13:17:16.051091Z"
    },
    "papermill": {
     "duration": 15.902256,
     "end_time": "2024-09-04T13:17:16.054612",
     "exception": false,
     "start_time": "2024-09-04T13:17:00.152356",
     "status": "completed"
    },
    "tags": []
   },
   "outputs": [
    {
     "name": "stdout",
     "output_type": "stream",
     "text": [
      "Column description for Num_Credit_Card:\n",
      "\n",
      "count    78181.000000\n",
      "mean         5.541372\n",
      "std          2.063055\n",
      "min          0.000000\n",
      "25%          4.000000\n",
      "50%          5.000000\n",
      "75%          7.000000\n",
      "max         11.000000\n",
      "Name: Num_Credit_Card, dtype: float64\n",
      "\n",
      "Number of null values: 1819 \n",
      "\n",
      "\n",
      "\n",
      "\n",
      "Median standardization for Num_Credit_Card:\n",
      "\n",
      "count    78181.000000\n",
      "mean        -0.001765\n",
      "std          0.154565\n",
      "min         -2.000000\n",
      "25%          0.000000\n",
      "50%          0.000000\n",
      "75%          0.000000\n",
      "max          2.000000\n",
      "Name: Num_Credit_Card, dtype: float64\n",
      "\n",
      "Number of null values: 1819 \n",
      "\n",
      "\n"
     ]
    }
   ],
   "source": [
    "summary_num_credit_cards = summarize_numerical_column_with_deviation(df, 'Num_Credit_Card', median_standardization_summary = True)"
   ]
  },
  {
   "cell_type": "markdown",
   "id": "fc710cfe",
   "metadata": {
    "papermill": {
     "duration": 0.090955,
     "end_time": "2024-09-04T13:17:16.236428",
     "exception": false,
     "start_time": "2024-09-04T13:17:16.145473",
     "status": "completed"
    },
    "tags": []
   },
   "source": [
    "For the null values as an educated guess we can just take the forward and backward fills."
   ]
  },
  {
   "cell_type": "code",
   "execution_count": 1065,
   "id": "9310c361",
   "metadata": {
    "execution": {
     "iopub.execute_input": "2024-09-04T13:17:16.422404Z",
     "iopub.status.busy": "2024-09-04T13:17:16.421476Z",
     "iopub.status.idle": "2024-09-04T13:17:20.444150Z",
     "shell.execute_reply": "2024-09-04T13:17:20.443024Z"
    },
    "papermill": {
     "duration": 4.119068,
     "end_time": "2024-09-04T13:17:20.446655",
     "exception": false,
     "start_time": "2024-09-04T13:17:16.327587",
     "status": "completed"
    },
    "tags": []
   },
   "outputs": [],
   "source": [
    "df['Num_Credit_Card'] = df.groupby('Customer_ID')['Num_Credit_Card'].transform(forward_backward_fill).astype(int)"
   ]
  },
  {
   "cell_type": "markdown",
   "id": "a150529a",
   "metadata": {
    "papermill": {
     "duration": 0.08891,
     "end_time": "2024-09-04T13:17:20.625491",
     "exception": false,
     "start_time": "2024-09-04T13:17:20.536581",
     "status": "completed"
    },
    "tags": []
   },
   "source": [
    "What if we take one level difference at customer level? The difference can be 0, negative or positive but shouldn't be too high as the number of bank accountscredit cards shouldnt usually jump or decrease too much suddenly."
   ]
  },
  {
   "cell_type": "code",
   "execution_count": 1066,
   "id": "cfbf3b51",
   "metadata": {
    "execution": {
     "iopub.execute_input": "2024-09-04T13:17:20.807153Z",
     "iopub.status.busy": "2024-09-04T13:17:20.806758Z",
     "iopub.status.idle": "2024-09-04T13:17:23.318496Z",
     "shell.execute_reply": "2024-09-04T13:17:23.317326Z"
    },
    "papermill": {
     "duration": 2.605111,
     "end_time": "2024-09-04T13:17:23.321448",
     "exception": false,
     "start_time": "2024-09-04T13:17:20.716337",
     "status": "completed"
    },
    "tags": []
   },
   "outputs": [
    {
     "data": {
      "text/plain": [
       "Num_Credit_Card\n",
       " 0.0    69766\n",
       " 1.0      123\n",
       "-1.0      111\n",
       "Name: count, dtype: int64"
      ]
     },
     "execution_count": 1066,
     "metadata": {},
     "output_type": "execute_result"
    }
   ],
   "source": [
    "df.groupby('Customer_ID')['Num_Credit_Card'].transform(pd.Series.diff).value_counts()"
   ]
  },
  {
   "cell_type": "markdown",
   "id": "3071b311",
   "metadata": {
    "papermill": {
     "duration": 0.090716,
     "end_time": "2024-09-04T13:17:23.507366",
     "exception": false,
     "start_time": "2024-09-04T13:17:23.416650",
     "status": "completed"
    },
    "tags": []
   },
   "source": [
    "Mostly, the number of credit cards remain same across months but rarely it can increase or decrease by one. This is understandable and looks ok."
   ]
  },
  {
   "cell_type": "code",
   "execution_count": 1067,
   "id": "418b8a96",
   "metadata": {
    "execution": {
     "iopub.execute_input": "2024-09-04T13:17:23.692703Z",
     "iopub.status.busy": "2024-09-04T13:17:23.691656Z",
     "iopub.status.idle": "2024-09-04T13:17:25.523719Z",
     "shell.execute_reply": "2024-09-04T13:17:25.522567Z"
    },
    "papermill": {
     "duration": 1.927866,
     "end_time": "2024-09-04T13:17:25.526216",
     "exception": false,
     "start_time": "2024-09-04T13:17:23.598350",
     "status": "completed"
    },
    "tags": []
   },
   "outputs": [
    {
     "data": {
      "text/plain": [
       "Num_Credit_Card\n",
       " 0.0    9766\n",
       " 1.0     123\n",
       "-1.0     111\n",
       "Name: count, dtype: int64"
      ]
     },
     "execution_count": 1067,
     "metadata": {},
     "output_type": "execute_result"
    }
   ],
   "source": [
    "df.groupby('Customer_ID')['Num_Credit_Card'].agg(lambda x: x.diff().sum()).value_counts()"
   ]
  },
  {
   "cell_type": "markdown",
   "id": "f198fb5a",
   "metadata": {
    "papermill": {
     "duration": 0.090762,
     "end_time": "2024-09-04T13:17:25.708234",
     "exception": false,
     "start_time": "2024-09-04T13:17:25.617472",
     "status": "completed"
    },
    "tags": []
   },
   "source": [
    "The number of 1 and -1 are same as above. This is only possible when all these 1 and -1 belong to different customers i.e. in 8-months period either number of bank account remains same, increases by 1 or decreases by 1 in between somewhere. No weird patterns exist in there."
   ]
  },
  {
   "cell_type": "markdown",
   "id": "02e8c43b",
   "metadata": {
    "jp-MarkdownHeadingCollapsed": true,
    "papermill": {
     "duration": 0.089512,
     "end_time": "2024-09-04T13:17:25.887119",
     "exception": false,
     "start_time": "2024-09-04T13:17:25.797607",
     "status": "completed"
    },
    "tags": []
   },
   "source": [
    "#### 6. Interest Rate"
   ]
  },
  {
   "cell_type": "code",
   "execution_count": 1068,
   "id": "12e9894b",
   "metadata": {
    "execution": {
     "iopub.execute_input": "2024-09-04T13:17:26.126811Z",
     "iopub.status.busy": "2024-09-04T13:17:26.126393Z",
     "iopub.status.idle": "2024-09-04T13:17:57.804701Z",
     "shell.execute_reply": "2024-09-04T13:17:57.803553Z"
    },
    "papermill": {
     "duration": 31.773295,
     "end_time": "2024-09-04T13:17:57.807558",
     "exception": false,
     "start_time": "2024-09-04T13:17:26.034263",
     "status": "completed"
    },
    "tags": []
   },
   "outputs": [
    {
     "name": "stdout",
     "output_type": "stream",
     "text": [
      "Column description for Interest_Rate:\n",
      "\n",
      "count    80000.000000\n",
      "mean        71.971700\n",
      "std        463.809393\n",
      "min          1.000000\n",
      "25%          8.000000\n",
      "50%         14.000000\n",
      "75%         20.000000\n",
      "max       5797.000000\n",
      "Name: Interest_Rate, dtype: float64\n",
      "\n",
      "Number of null values: 0 \n",
      "\n",
      "\n",
      "\n",
      "\n",
      "Median standardization for Interest_Rate:\n",
      "\n",
      "count    69400.0\n",
      "mean         inf\n",
      "std          NaN\n",
      "min          0.0\n",
      "25%          0.0\n",
      "50%          0.0\n",
      "75%          0.0\n",
      "max          inf\n",
      "Name: Interest_Rate, dtype: float64\n",
      "\n",
      "Number of null values: 10600 \n",
      "\n",
      "\n"
     ]
    }
   ],
   "source": [
    "summary_interest_rate = summarize_numerical_column_with_deviation(df, 'Interest_Rate', median_standardization_summary = True)"
   ]
  },
  {
   "cell_type": "code",
   "execution_count": 1069,
   "id": "74c4fe01",
   "metadata": {
    "execution": {
     "iopub.execute_input": "2024-09-04T13:17:57.991928Z",
     "iopub.status.busy": "2024-09-04T13:17:57.991484Z",
     "iopub.status.idle": "2024-09-04T13:17:57.998845Z",
     "shell.execute_reply": "2024-09-04T13:17:57.997678Z"
    },
    "papermill": {
     "duration": 0.10183,
     "end_time": "2024-09-04T13:17:58.001191",
     "exception": false,
     "start_time": "2024-09-04T13:17:57.899361",
     "status": "completed"
    },
    "tags": []
   },
   "outputs": [
    {
     "data": {
      "text/plain": [
       "{'Interest_Rate': {'Min. value': np.int64(1),\n",
       "  'Outlier lower range': -10.0,\n",
       "  'Outlier upper range': 38.0,\n",
       "  'Max. value': np.int64(5797)},\n",
       " 'Median standardization of Interest_Rate': {'Min. value': np.float64(0.0),\n",
       "  'Outlier lower range': 0.0,\n",
       "  'Outlier upper range': 0.0,\n",
       "  'Max. value': np.float64(inf)},\n",
       " 'Max. MAD': np.float64(0.0)}"
      ]
     },
     "execution_count": 1069,
     "metadata": {},
     "output_type": "execute_result"
    }
   ],
   "source": [
    "summary_interest_rate"
   ]
  },
  {
   "cell_type": "code",
   "execution_count": 1070,
   "id": "d9735a1c",
   "metadata": {
    "execution": {
     "iopub.execute_input": "2024-09-04T13:17:58.188397Z",
     "iopub.status.busy": "2024-09-04T13:17:58.187589Z",
     "iopub.status.idle": "2024-09-04T13:17:58.214900Z",
     "shell.execute_reply": "2024-09-04T13:17:58.213832Z"
    },
    "papermill": {
     "duration": 0.122934,
     "end_time": "2024-09-04T13:17:58.217356",
     "exception": false,
     "start_time": "2024-09-04T13:17:58.094422",
     "status": "completed"
    },
    "tags": []
   },
   "outputs": [
    {
     "data": {
      "text/plain": [
       "Interest_Rate\n",
       "1    8472\n",
       "2    1435\n",
       "3      90\n",
       "4       3\n",
       "Name: count, dtype: int64"
      ]
     },
     "execution_count": 1070,
     "metadata": {},
     "output_type": "execute_result"
    }
   ],
   "source": [
    "df.groupby('Customer_ID')['Interest_Rate'].nunique().value_counts()"
   ]
  },
  {
   "cell_type": "markdown",
   "id": "906a03ae",
   "metadata": {
    "papermill": {
     "duration": 0.093986,
     "end_time": "2024-09-04T13:17:58.403746",
     "exception": false,
     "start_time": "2024-09-04T13:17:58.309760",
     "status": "completed"
    },
    "tags": []
   },
   "source": [
    "What we observe is MAD is 0(since max. MAD is 0) for each customer. Thus, it is hard to look at median standardization and assess points using this. Lets try to look at deviation from median. Since interest rate is not a feature whose median should deviate too much in scale from customer to customer."
   ]
  },
  {
   "cell_type": "code",
   "execution_count": 1071,
   "id": "804163be",
   "metadata": {
    "execution": {
     "iopub.execute_input": "2024-09-04T13:17:58.594767Z",
     "iopub.status.busy": "2024-09-04T13:17:58.594312Z",
     "iopub.status.idle": "2024-09-04T13:18:04.050355Z",
     "shell.execute_reply": "2024-09-04T13:18:04.048674Z"
    },
    "papermill": {
     "duration": 5.553694,
     "end_time": "2024-09-04T13:18:04.053281",
     "exception": false,
     "start_time": "2024-09-04T13:17:58.499587",
     "status": "completed"
    },
    "tags": []
   },
   "outputs": [],
   "source": [
    "deviation_from_median = df.groupby('Customer_ID')['Interest_Rate'].transform(lambda x: (x - x.median()))"
   ]
  },
  {
   "cell_type": "code",
   "execution_count": 1072,
   "id": "f44a80f7",
   "metadata": {
    "execution": {
     "iopub.execute_input": "2024-09-04T13:18:04.242358Z",
     "iopub.status.busy": "2024-09-04T13:18:04.241793Z",
     "iopub.status.idle": "2024-09-04T13:18:04.255762Z",
     "shell.execute_reply": "2024-09-04T13:18:04.254419Z"
    },
    "papermill": {
     "duration": 0.11144,
     "end_time": "2024-09-04T13:18:04.258165",
     "exception": false,
     "start_time": "2024-09-04T13:18:04.146725",
     "status": "completed"
    },
    "tags": []
   },
   "outputs": [
    {
     "data": {
      "text/plain": [
       "count    80000.000000\n",
       "mean        57.411600\n",
       "std        463.717505\n",
       "min          0.000000\n",
       "25%          0.000000\n",
       "50%          0.000000\n",
       "75%          0.000000\n",
       "max       5788.000000\n",
       "Name: Interest_Rate, dtype: float64"
      ]
     },
     "execution_count": 1072,
     "metadata": {},
     "output_type": "execute_result"
    }
   ],
   "source": [
    "deviation_from_median.describe()"
   ]
  },
  {
   "cell_type": "code",
   "execution_count": 1073,
   "id": "c6785051",
   "metadata": {
    "execution": {
     "iopub.execute_input": "2024-09-04T13:18:04.449633Z",
     "iopub.status.busy": "2024-09-04T13:18:04.449246Z",
     "iopub.status.idle": "2024-09-04T13:18:04.654032Z",
     "shell.execute_reply": "2024-09-04T13:18:04.652934Z"
    },
    "papermill": {
     "duration": 0.303103,
     "end_time": "2024-09-04T13:18:04.656447",
     "exception": false,
     "start_time": "2024-09-04T13:18:04.353344",
     "status": "completed"
    },
    "tags": []
   },
   "outputs": [
    {
     "data": {
      "image/png": "[encoded data removed]",
      "text/plain": [
       "<Figure size 640x480 with 1 Axes>"
      ]
     },
     "metadata": {},
     "output_type": "display_data"
    }
   ],
   "source": [
    "sns.boxplot(deviation_from_median)\n",
    "plt.title('Boxplot of interest rate deviation from customers median')\n",
    "plt.ylabel('Deviation');"
   ]
  },
  {
   "cell_type": "code",
   "execution_count": 1074,
   "id": "a7e5af15",
   "metadata": {
    "execution": {
     "iopub.execute_input": "2024-09-04T13:18:04.845363Z",
     "iopub.status.busy": "2024-09-04T13:18:04.844920Z",
     "iopub.status.idle": "2024-09-04T13:18:04.856042Z",
     "shell.execute_reply": "2024-09-04T13:18:04.854849Z"
    },
    "papermill": {
     "duration": 0.10986,
     "end_time": "2024-09-04T13:18:04.859108",
     "exception": false,
     "start_time": "2024-09-04T13:18:04.749248",
     "status": "completed"
    },
    "tags": []
   },
   "outputs": [
    {
     "data": {
      "text/plain": [
       "Interest_Rate\n",
       "0.0       78376\n",
       "3548.0        3\n",
       "2853.0        3\n",
       "1880.0        3\n",
       "906.0         3\n",
       "          ...  \n",
       "5756.0        1\n",
       "2710.0        1\n",
       "3496.0        1\n",
       "3468.0        1\n",
       "369.0         1\n",
       "Name: count, Length: 1409, dtype: int64"
      ]
     },
     "execution_count": 1074,
     "metadata": {},
     "output_type": "execute_result"
    }
   ],
   "source": [
    "deviation_from_median.value_counts()"
   ]
  },
  {
   "cell_type": "code",
   "execution_count": 1075,
   "id": "0b48368e",
   "metadata": {
    "execution": {
     "iopub.execute_input": "2024-09-04T13:18:05.049734Z",
     "iopub.status.busy": "2024-09-04T13:18:05.049297Z",
     "iopub.status.idle": "2024-09-04T13:18:05.057130Z",
     "shell.execute_reply": "2024-09-04T13:18:05.055943Z"
    },
    "papermill": {
     "duration": 0.105756,
     "end_time": "2024-09-04T13:18:05.059402",
     "exception": false,
     "start_time": "2024-09-04T13:18:04.953646",
     "status": "completed"
    },
    "tags": []
   },
   "outputs": [
    {
     "data": {
      "text/plain": [
       "array([   0.,   37.,   41., ..., 5778., 5780., 5788.])"
      ]
     },
     "execution_count": 1075,
     "metadata": {},
     "output_type": "execute_result"
    }
   ],
   "source": [
    "np.sort(deviation_from_median.unique())"
   ]
  },
  {
   "cell_type": "markdown",
   "id": "27ec3e70",
   "metadata": {
    "papermill": {
     "duration": 0.093609,
     "end_time": "2024-09-04T13:18:05.248241",
     "exception": false,
     "start_time": "2024-09-04T13:18:05.154632",
     "status": "completed"
    },
    "tags": []
   },
   "source": [
    "Looking at the above data indicates that either interest rate is same as median or varies by at least 37% difference or more which is almost never seen in real life. We will fill all the records of customer with customer's median."
   ]
  },
  {
   "cell_type": "code",
   "execution_count": 1076,
   "id": "77892ffb",
   "metadata": {
    "execution": {
     "iopub.execute_input": "2024-09-04T13:18:05.439483Z",
     "iopub.status.busy": "2024-09-04T13:18:05.439081Z",
     "iopub.status.idle": "2024-09-04T13:18:08.173709Z",
     "shell.execute_reply": "2024-09-04T13:18:08.172617Z"
    },
    "papermill": {
     "duration": 2.832423,
     "end_time": "2024-09-04T13:18:08.176248",
     "exception": false,
     "start_time": "2024-09-04T13:18:05.343825",
     "status": "completed"
    },
    "tags": []
   },
   "outputs": [],
   "source": [
    "df['Interest_Rate'] = df.groupby('Customer_ID')['Interest_Rate'].transform(lambda x: x.median())"
   ]
  },
  {
   "cell_type": "markdown",
   "id": "42b1c41c",
   "metadata": {
    "jp-MarkdownHeadingCollapsed": true,
    "papermill": {
     "duration": 0.093368,
     "end_time": "2024-09-04T13:18:08.362607",
     "exception": false,
     "start_time": "2024-09-04T13:18:08.269239",
     "status": "completed"
    },
    "tags": []
   },
   "source": [
    "#### 7. Number of loans"
   ]
  },
  {
   "cell_type": "code",
   "execution_count": 1077,
   "id": "671a06c6",
   "metadata": {
    "execution": {
     "iopub.execute_input": "2024-09-04T13:18:08.553357Z",
     "iopub.status.busy": "2024-09-04T13:18:08.552934Z",
     "iopub.status.idle": "2024-09-04T13:18:21.862177Z",
     "shell.execute_reply": "2024-09-04T13:18:21.861077Z"
    },
    "papermill": {
     "duration": 13.407681,
     "end_time": "2024-09-04T13:18:21.864840",
     "exception": false,
     "start_time": "2024-09-04T13:18:08.457159",
     "status": "completed"
    },
    "tags": []
   },
   "outputs": [
    {
     "name": "stdout",
     "output_type": "stream",
     "text": [
      "Column description for Num_of_Loan:\n",
      "\n",
      "count    80000.000000\n",
      "mean         3.111512\n",
      "std         63.460074\n",
      "min       -100.000000\n",
      "25%          1.000000\n",
      "50%          3.000000\n",
      "75%          5.000000\n",
      "max       1496.000000\n",
      "Name: Num_of_Loan, dtype: float64\n",
      "\n",
      "Number of null values: 0 \n",
      "\n",
      "\n"
     ]
    }
   ],
   "source": [
    "summary_num_of_loans = summarize_numerical_column_with_deviation(df, 'Num_of_Loan')"
   ]
  },
  {
   "cell_type": "markdown",
   "id": "a81c1bd6",
   "metadata": {
    "papermill": {
     "duration": 0.095753,
     "end_time": "2024-09-04T13:18:22.116788",
     "exception": false,
     "start_time": "2024-09-04T13:18:22.021035",
     "status": "completed"
    },
    "tags": []
   },
   "source": [
    "There are clearly some outliers as the number of loans can't be these many."
   ]
  },
  {
   "cell_type": "markdown",
   "id": "6f604daa",
   "metadata": {
    "papermill": {
     "duration": 0.094076,
     "end_time": "2024-09-04T13:18:22.305304",
     "exception": false,
     "start_time": "2024-09-04T13:18:22.211228",
     "status": "completed"
    },
    "tags": []
   },
   "source": [
    "The type of loans column can be used to extract this information accurately as the loans taken, their order and the count is embedded inside type of loan column."
   ]
  },
  {
   "cell_type": "code",
   "execution_count": 1078,
   "id": "3033ba60",
   "metadata": {
    "execution": {
     "iopub.execute_input": "2024-09-04T13:18:22.498641Z",
     "iopub.status.busy": "2024-09-04T13:18:22.498182Z",
     "iopub.status.idle": "2024-09-04T13:18:22.511976Z",
     "shell.execute_reply": "2024-09-04T13:18:22.510763Z"
    },
    "papermill": {
     "duration": 0.114798,
     "end_time": "2024-09-04T13:18:22.514431",
     "exception": false,
     "start_time": "2024-09-04T13:18:22.399633",
     "status": "completed"
    },
    "tags": []
   },
   "outputs": [
    {
     "data": {
      "text/plain": [
       "np.int64(9016)"
      ]
     },
     "execution_count": 1078,
     "metadata": {},
     "output_type": "execute_result"
    }
   ],
   "source": [
    "df['Type_of_Loan'].isnull().sum()"
   ]
  },
  {
   "cell_type": "markdown",
   "id": "2dab60d1",
   "metadata": {
    "papermill": {
     "duration": 0.094477,
     "end_time": "2024-09-04T13:18:22.703204",
     "exception": false,
     "start_time": "2024-09-04T13:18:22.608727",
     "status": "completed"
    },
    "tags": []
   },
   "source": [
    "There are 11408 null values inside type of loan column which were added by us after replacing the placeholder. Maybe these represent no loans. Lets extract the loans count from type of loan column and fill it in num of loans column."
   ]
  },
  {
   "cell_type": "code",
   "execution_count": 1079,
   "id": "fa084ac7",
   "metadata": {
    "execution": {
     "iopub.execute_input": "2024-09-04T13:18:22.894348Z",
     "iopub.status.busy": "2024-09-04T13:18:22.893633Z",
     "iopub.status.idle": "2024-09-04T13:18:23.021849Z",
     "shell.execute_reply": "2024-09-04T13:18:23.020729Z"
    },
    "papermill": {
     "duration": 0.227242,
     "end_time": "2024-09-04T13:18:23.024420",
     "exception": false,
     "start_time": "2024-09-04T13:18:22.797178",
     "status": "completed"
    },
    "tags": []
   },
   "outputs": [],
   "source": [
    "num_of_loans = df['Type_of_Loan'].str.split(', ').str.len()"
   ]
  },
  {
   "cell_type": "code",
   "execution_count": 1080,
   "id": "56538299",
   "metadata": {
    "execution": {
     "iopub.execute_input": "2024-09-04T13:18:23.216436Z",
     "iopub.status.busy": "2024-09-04T13:18:23.216028Z",
     "iopub.status.idle": "2024-09-04T13:18:23.227220Z",
     "shell.execute_reply": "2024-09-04T13:18:23.225988Z"
    },
    "papermill": {
     "duration": 0.110337,
     "end_time": "2024-09-04T13:18:23.229750",
     "exception": false,
     "start_time": "2024-09-04T13:18:23.119413",
     "status": "completed"
    },
    "tags": []
   },
   "outputs": [],
   "source": [
    "df['Num_of_Loan'][num_of_loans.notnull()] = num_of_loans[num_of_loans.notnull()]"
   ]
  },
  {
   "cell_type": "markdown",
   "id": "d636e72f",
   "metadata": {
    "papermill": {
     "duration": 0.093704,
     "end_time": "2024-09-04T13:18:23.417639",
     "exception": false,
     "start_time": "2024-09-04T13:18:23.323935",
     "status": "completed"
    },
    "tags": []
   },
   "source": [
    "We have changed the values of number of loans columns for which we had valid data from type of loan column. Lets look at the values in number of loans column which were not touched."
   ]
  },
  {
   "cell_type": "code",
   "execution_count": 1081,
   "id": "07083e51",
   "metadata": {
    "execution": {
     "iopub.execute_input": "2024-09-04T13:18:23.608263Z",
     "iopub.status.busy": "2024-09-04T13:18:23.607836Z",
     "iopub.status.idle": "2024-09-04T13:18:23.617598Z",
     "shell.execute_reply": "2024-09-04T13:18:23.616615Z"
    },
    "papermill": {
     "duration": 0.107138,
     "end_time": "2024-09-04T13:18:23.619757",
     "exception": false,
     "start_time": "2024-09-04T13:18:23.512619",
     "status": "completed"
    },
    "tags": []
   },
   "outputs": [
    {
     "data": {
      "text/plain": [
       "Num_of_Loan\n",
       " 0       8638\n",
       "-100      331\n",
       " 911        2\n",
       " 193        1\n",
       " 995        1\n",
       " 1447       1\n",
       " 621        1\n",
       " 1296       1\n",
       " 238        1\n",
       " 33         1\n",
       " 439        1\n",
       " 252        1\n",
       " 1035       1\n",
       " 372        1\n",
       " 143        1\n",
       " 103        1\n",
       " 652        1\n",
       " 1416       1\n",
       " 999        1\n",
       " 1451       1\n",
       " 501        1\n",
       " 654        1\n",
       " 773        1\n",
       " 437        1\n",
       " 336        1\n",
       " 288        1\n",
       " 1227       1\n",
       " 153        1\n",
       " 1369       1\n",
       " 1444       1\n",
       " 831        1\n",
       " 1384       1\n",
       " 394        1\n",
       " 330        1\n",
       " 1419       1\n",
       " 859        1\n",
       " 378        1\n",
       " 1430       1\n",
       " 126        1\n",
       " 50         1\n",
       " 940        1\n",
       " 1382       1\n",
       " 538        1\n",
       " 172        1\n",
       " 1347       1\n",
       " 881        1\n",
       " 1074       1\n",
       " 1070       1\n",
       "Name: count, dtype: int64"
      ]
     },
     "execution_count": 1081,
     "metadata": {},
     "output_type": "execute_result"
    }
   ],
   "source": [
    "df['Num_of_Loan'][num_of_loans.isnull()].value_counts()"
   ]
  },
  {
   "cell_type": "code",
   "execution_count": 1082,
   "id": "15370ae5",
   "metadata": {
    "execution": {
     "iopub.execute_input": "2024-09-04T13:18:23.810728Z",
     "iopub.status.busy": "2024-09-04T13:18:23.810309Z",
     "iopub.status.idle": "2024-09-04T13:18:23.818887Z",
     "shell.execute_reply": "2024-09-04T13:18:23.817731Z"
    },
    "papermill": {
     "duration": 0.106516,
     "end_time": "2024-09-04T13:18:23.821168",
     "exception": false,
     "start_time": "2024-09-04T13:18:23.714652",
     "status": "completed"
    },
    "tags": []
   },
   "outputs": [
    {
     "data": {
      "text/plain": [
       "array([-100,    0,   33,   50,  103,  126,  143,  153,  172,  193,  238,\n",
       "        252,  288,  330,  336,  372,  378,  394,  437,  439,  501,  538,\n",
       "        621,  652,  654,  773,  831,  859,  881,  911,  940,  995,  999,\n",
       "       1035, 1070, 1074, 1227, 1296, 1347, 1369, 1382, 1384, 1416, 1419,\n",
       "       1430, 1444, 1447, 1451])"
      ]
     },
     "execution_count": 1082,
     "metadata": {},
     "output_type": "execute_result"
    }
   ],
   "source": [
    "np.sort(df['Num_of_Loan'][num_of_loans.isnull()].value_counts().index)"
   ]
  },
  {
   "cell_type": "markdown",
   "id": "fb76ff52",
   "metadata": {
    "papermill": {
     "duration": 0.096058,
     "end_time": "2024-09-04T13:18:24.012787",
     "exception": false,
     "start_time": "2024-09-04T13:18:23.916729",
     "status": "completed"
    },
    "tags": []
   },
   "source": [
    "Mostly these are 0 which represent no loans. Other than this there are either negative values or too high values to be representing real count for number of loans. Looking at the data, we can assume here that all these are erroneous values and should actually be 0 i.e. specifying no loans."
   ]
  },
  {
   "cell_type": "code",
   "execution_count": 1083,
   "id": "f2af5053",
   "metadata": {
    "execution": {
     "iopub.execute_input": "2024-09-04T13:18:24.204772Z",
     "iopub.status.busy": "2024-09-04T13:18:24.204337Z",
     "iopub.status.idle": "2024-09-04T13:18:24.211579Z",
     "shell.execute_reply": "2024-09-04T13:18:24.210598Z"
    },
    "papermill": {
     "duration": 0.105878,
     "end_time": "2024-09-04T13:18:24.214143",
     "exception": false,
     "start_time": "2024-09-04T13:18:24.108265",
     "status": "completed"
    },
    "tags": []
   },
   "outputs": [],
   "source": [
    "df['Num_of_Loan'][num_of_loans.isnull()] = 0"
   ]
  },
  {
   "cell_type": "code",
   "execution_count": 1084,
   "id": "96f9692e",
   "metadata": {
    "execution": {
     "iopub.execute_input": "2024-09-04T13:18:24.410037Z",
     "iopub.status.busy": "2024-09-04T13:18:24.409585Z",
     "iopub.status.idle": "2024-09-04T13:18:28.336249Z",
     "shell.execute_reply": "2024-09-04T13:18:28.335292Z"
    },
    "papermill": {
     "duration": 4.026984,
     "end_time": "2024-09-04T13:18:28.338803",
     "exception": false,
     "start_time": "2024-09-04T13:18:24.311819",
     "status": "completed"
    },
    "tags": []
   },
   "outputs": [],
   "source": [
    "df['Num_of_Loan'] = df.groupby('Customer_ID')['Num_of_Loan'].transform(forward_backward_fill).astype(int)"
   ]
  },
  {
   "cell_type": "markdown",
   "id": "8c76ab19",
   "metadata": {
    "papermill": {
     "duration": 0.097836,
     "end_time": "2024-09-04T13:18:28.534130",
     "exception": false,
     "start_time": "2024-09-04T13:18:28.436294",
     "status": "completed"
    },
    "tags": []
   },
   "source": [
    "What if we take one level difference at customer level? The difference can be 0, negative or positive but shouldn't be too high."
   ]
  },
  {
   "cell_type": "code",
   "execution_count": 1085,
   "id": "d8d13d1b",
   "metadata": {
    "execution": {
     "iopub.execute_input": "2024-09-04T13:18:28.731727Z",
     "iopub.status.busy": "2024-09-04T13:18:28.731298Z",
     "iopub.status.idle": "2024-09-04T13:18:31.212890Z",
     "shell.execute_reply": "2024-09-04T13:18:31.211852Z"
    },
    "papermill": {
     "duration": 2.583245,
     "end_time": "2024-09-04T13:18:31.215111",
     "exception": false,
     "start_time": "2024-09-04T13:18:28.631866",
     "status": "completed"
    },
    "tags": []
   },
   "outputs": [
    {
     "data": {
      "text/plain": [
       "Num_of_Loan\n",
       "0.0    70000\n",
       "Name: count, dtype: int64"
      ]
     },
     "execution_count": 1085,
     "metadata": {},
     "output_type": "execute_result"
    }
   ],
   "source": [
    "df.groupby('Customer_ID')['Num_of_Loan'].transform(pd.Series.diff).value_counts()"
   ]
  },
  {
   "cell_type": "markdown",
   "id": "c8906500",
   "metadata": {
    "papermill": {
     "duration": 0.107795,
     "end_time": "2024-09-04T13:18:31.429027",
     "exception": false,
     "start_time": "2024-09-04T13:18:31.321232",
     "status": "completed"
    },
    "tags": []
   },
   "source": [
    "This means that number of loans remain same throughout the 8-months period for each customer."
   ]
  },
  {
   "cell_type": "markdown",
   "id": "afd1deec",
   "metadata": {
    "jp-MarkdownHeadingCollapsed": true,
    "papermill": {
     "duration": 0.094485,
     "end_time": "2024-09-04T13:18:31.618890",
     "exception": false,
     "start_time": "2024-09-04T13:18:31.524405",
     "status": "completed"
    },
    "tags": []
   },
   "source": [
    "#### 8. Type of loan"
   ]
  },
  {
   "cell_type": "code",
   "execution_count": 1086,
   "id": "37f277ea",
   "metadata": {
    "execution": {
     "iopub.execute_input": "2024-09-04T13:18:31.810767Z",
     "iopub.status.busy": "2024-09-04T13:18:31.810331Z",
     "iopub.status.idle": "2024-09-04T13:18:31.830297Z",
     "shell.execute_reply": "2024-09-04T13:18:31.829229Z"
    },
    "papermill": {
     "duration": 0.118958,
     "end_time": "2024-09-04T13:18:31.832541",
     "exception": false,
     "start_time": "2024-09-04T13:18:31.713583",
     "status": "completed"
    },
    "tags": []
   },
   "outputs": [
    {
     "data": {
      "text/plain": [
       "Type_of_Loan\n",
       "Not Specified                                                                                                                                                         1104\n",
       "Personal Loan                                                                                                                                                         1016\n",
       "Credit-Builder Loan                                                                                                                                                   1016\n",
       "Debt Consolidation Loan                                                                                                                                               1000\n",
       "Mortgage Loan                                                                                                                                                          960\n",
       "                                                                                                                                                                      ... \n",
       "Credit-Builder Loan, Not Specified, Mortgage Loan, Payday Loan, Credit-Builder Loan, and Personal Loan                                                                   8\n",
       "Mortgage Loan, Personal Loan, Mortgage Loan, Mortgage Loan, Payday Loan, Home Equity Loan, and Debt Consolidation Loan                                                   8\n",
       "Credit-Builder Loan, Debt Consolidation Loan, Debt Consolidation Loan, Debt Consolidation Loan, Debt Consolidation Loan, Credit-Builder Loan, and Home Equity Loan       8\n",
       "Not Specified, Student Loan, Student Loan, Credit-Builder Loan, and Auto Loan                                                                                            8\n",
       "Mortgage Loan, Debt Consolidation Loan, Payday Loan, Home Equity Loan, Home Equity Loan, and Credit-Builder Loan                                                         8\n",
       "Name: count, Length: 5214, dtype: int64"
      ]
     },
     "execution_count": 1086,
     "metadata": {},
     "output_type": "execute_result"
    }
   ],
   "source": [
    "df['Type_of_Loan'].value_counts()"
   ]
  },
  {
   "cell_type": "markdown",
   "id": "525d65e7",
   "metadata": {
    "papermill": {
     "duration": 0.097642,
     "end_time": "2024-09-04T13:18:32.082757",
     "exception": false,
     "start_time": "2024-09-04T13:18:31.985115",
     "status": "completed"
    },
    "tags": []
   },
   "source": [
    "Here we see that the placeholder 'Not Specified' has been used as a way of indicating that the type of loan has not been specified by the customer. "
   ]
  },
  {
   "cell_type": "code",
   "execution_count": 1087,
   "id": "fddd9b59",
   "metadata": {
    "execution": {
     "iopub.execute_input": "2024-09-04T13:18:32.275046Z",
     "iopub.status.busy": "2024-09-04T13:18:32.274607Z",
     "iopub.status.idle": "2024-09-04T13:18:32.287751Z",
     "shell.execute_reply": "2024-09-04T13:18:32.286635Z"
    },
    "papermill": {
     "duration": 0.111599,
     "end_time": "2024-09-04T13:18:32.290084",
     "exception": false,
     "start_time": "2024-09-04T13:18:32.178485",
     "status": "completed"
    },
    "tags": []
   },
   "outputs": [
    {
     "data": {
      "text/plain": [
       "5214"
      ]
     },
     "execution_count": 1087,
     "metadata": {},
     "output_type": "execute_result"
    }
   ],
   "source": [
    "df['Type_of_Loan'].nunique()"
   ]
  },
  {
   "cell_type": "code",
   "execution_count": 1088,
   "id": "8f4c0627",
   "metadata": {
    "execution": {
     "iopub.execute_input": "2024-09-04T13:18:32.482913Z",
     "iopub.status.busy": "2024-09-04T13:18:32.482479Z",
     "iopub.status.idle": "2024-09-04T13:18:32.495104Z",
     "shell.execute_reply": "2024-09-04T13:18:32.493978Z"
    },
    "papermill": {
     "duration": 0.112209,
     "end_time": "2024-09-04T13:18:32.497352",
     "exception": false,
     "start_time": "2024-09-04T13:18:32.385143",
     "status": "completed"
    },
    "tags": []
   },
   "outputs": [
    {
     "data": {
      "text/plain": [
       "np.int64(9016)"
      ]
     },
     "execution_count": 1088,
     "metadata": {},
     "output_type": "execute_result"
    }
   ],
   "source": [
    "df['Type_of_Loan'].isnull().sum()"
   ]
  },
  {
   "cell_type": "markdown",
   "id": "bb27918e",
   "metadata": {
    "papermill": {
     "duration": 0.09612,
     "end_time": "2024-09-04T13:18:32.689572",
     "exception": false,
     "start_time": "2024-09-04T13:18:32.593452",
     "status": "completed"
    },
    "tags": []
   },
   "source": [
    "Total 11408 null values. As noted earlier with number of loans these most probably represent no loans."
   ]
  },
  {
   "cell_type": "markdown",
   "id": "95ab20ad",
   "metadata": {
    "papermill": {
     "duration": 0.094443,
     "end_time": "2024-09-04T13:18:32.878391",
     "exception": false,
     "start_time": "2024-09-04T13:18:32.783948",
     "status": "completed"
    },
    "tags": []
   },
   "source": [
    "We can replace the same with our own placeholder for that - 'No Loan'."
   ]
  },
  {
   "cell_type": "code",
   "execution_count": 1089,
   "id": "502ad09e",
   "metadata": {
    "execution": {
     "iopub.execute_input": "2024-09-04T13:18:33.073419Z",
     "iopub.status.busy": "2024-09-04T13:18:33.072466Z",
     "iopub.status.idle": "2024-09-04T13:18:33.085643Z",
     "shell.execute_reply": "2024-09-04T13:18:33.084587Z"
    },
    "papermill": {
     "duration": 0.113505,
     "end_time": "2024-09-04T13:18:33.088083",
     "exception": false,
     "start_time": "2024-09-04T13:18:32.974578",
     "status": "completed"
    },
    "tags": []
   },
   "outputs": [],
   "source": [
    "df['Type_of_Loan'].fillna('No Loan', inplace = True)"
   ]
  },
  {
   "cell_type": "markdown",
   "id": "bf4b053d",
   "metadata": {
    "papermill": {
     "duration": 0.096324,
     "end_time": "2024-09-04T13:18:33.280129",
     "exception": false,
     "start_time": "2024-09-04T13:18:33.183805",
     "status": "completed"
    },
    "tags": []
   },
   "source": [
    "Lets seen what and how many unique type of loans we have."
   ]
  },
  {
   "cell_type": "code",
   "execution_count": 1090,
   "id": "1173241b",
   "metadata": {
    "execution": {
     "iopub.execute_input": "2024-09-04T13:18:33.476323Z",
     "iopub.status.busy": "2024-09-04T13:18:33.475535Z",
     "iopub.status.idle": "2024-09-04T13:18:33.480362Z",
     "shell.execute_reply": "2024-09-04T13:18:33.479328Z"
    },
    "papermill": {
     "duration": 0.104693,
     "end_time": "2024-09-04T13:18:33.482738",
     "exception": false,
     "start_time": "2024-09-04T13:18:33.378045",
     "status": "completed"
    },
    "tags": []
   },
   "outputs": [],
   "source": [
    "temp_series = df['Type_of_Loan']"
   ]
  },
  {
   "cell_type": "code",
   "execution_count": 1091,
   "id": "ddb96ccd",
   "metadata": {
    "execution": {
     "iopub.execute_input": "2024-09-04T13:18:33.679178Z",
     "iopub.status.busy": "2024-09-04T13:18:33.678768Z",
     "iopub.status.idle": "2024-09-04T13:18:33.911202Z",
     "shell.execute_reply": "2024-09-04T13:18:33.910075Z"
    },
    "papermill": {
     "duration": 0.33107,
     "end_time": "2024-09-04T13:18:33.913806",
     "exception": false,
     "start_time": "2024-09-04T13:18:33.582736",
     "status": "completed"
    },
    "tags": []
   },
   "outputs": [],
   "source": [
    "temp_lengths = temp_series.str.split(', ').str.len().astype(int) # Number of loans"
   ]
  },
  {
   "cell_type": "code",
   "execution_count": 1092,
   "id": "45d942be",
   "metadata": {
    "execution": {
     "iopub.execute_input": "2024-09-04T13:18:34.109215Z",
     "iopub.status.busy": "2024-09-04T13:18:34.108827Z",
     "iopub.status.idle": "2024-09-04T13:18:34.113845Z",
     "shell.execute_reply": "2024-09-04T13:18:34.112745Z"
    },
    "papermill": {
     "duration": 0.104943,
     "end_time": "2024-09-04T13:18:34.115932",
     "exception": false,
     "start_time": "2024-09-04T13:18:34.010989",
     "status": "completed"
    },
    "tags": []
   },
   "outputs": [],
   "source": [
    "temp_lengths_max = temp_lengths.max()"
   ]
  },
  {
   "cell_type": "code",
   "execution_count": 1093,
   "id": "f3bdfebc",
   "metadata": {
    "execution": {
     "iopub.execute_input": "2024-09-04T13:18:34.309888Z",
     "iopub.status.busy": "2024-09-04T13:18:34.309465Z",
     "iopub.status.idle": "2024-09-04T13:18:35.552261Z",
     "shell.execute_reply": "2024-09-04T13:18:35.551187Z"
    },
    "papermill": {
     "duration": 1.342764,
     "end_time": "2024-09-04T13:18:35.554921",
     "exception": false,
     "start_time": "2024-09-04T13:18:34.212157",
     "status": "completed"
    },
    "tags": []
   },
   "outputs": [],
   "source": [
    "for index, val in temp_lengths.items():\n",
    "    temp_series[index] = (temp_lengths_max - val) * 'No Loan, ' + temp_series[index]"
   ]
  },
  {
   "cell_type": "code",
   "execution_count": 1094,
   "id": "af2af6b6",
   "metadata": {
    "execution": {
     "iopub.execute_input": "2024-09-04T13:18:35.747523Z",
     "iopub.status.busy": "2024-09-04T13:18:35.747067Z",
     "iopub.status.idle": "2024-09-04T13:18:35.755381Z",
     "shell.execute_reply": "2024-09-04T13:18:35.754219Z"
    },
    "papermill": {
     "duration": 0.107449,
     "end_time": "2024-09-04T13:18:35.757707",
     "exception": false,
     "start_time": "2024-09-04T13:18:35.650258",
     "status": "completed"
    },
    "tags": []
   },
   "outputs": [
    {
     "data": {
      "text/plain": [
       "0    No Loan, No Loan, No Loan, No Loan, No Loan, N...\n",
       "1    No Loan, No Loan, No Loan, No Loan, No Loan, N...\n",
       "2    No Loan, No Loan, No Loan, No Loan, No Loan, N...\n",
       "3    No Loan, No Loan, No Loan, No Loan, No Loan, N...\n",
       "4    No Loan, No Loan, No Loan, No Loan, No Loan, N...\n",
       "Name: Type_of_Loan, dtype: object"
      ]
     },
     "execution_count": 1094,
     "metadata": {},
     "output_type": "execute_result"
    }
   ],
   "source": [
    "temp_series.head()"
   ]
  },
  {
   "cell_type": "code",
   "execution_count": 1095,
   "id": "249c43fa",
   "metadata": {
    "execution": {
     "iopub.execute_input": "2024-09-04T13:18:35.952329Z",
     "iopub.status.busy": "2024-09-04T13:18:35.951934Z",
     "iopub.status.idle": "2024-09-04T13:18:36.921798Z",
     "shell.execute_reply": "2024-09-04T13:18:36.920369Z"
    },
    "papermill": {
     "duration": 1.070648,
     "end_time": "2024-09-04T13:18:36.924000",
     "exception": false,
     "start_time": "2024-09-04T13:18:35.853352",
     "status": "completed"
    },
    "tags": []
   },
   "outputs": [
    {
     "name": "stdout",
     "output_type": "stream",
     "text": [
      "{'Student Loan', 'Personal Loan', 'Debt Consolidation Loan', 'Home Equity Loan', 'Not Specified', 'Auto Loan', 'Payday Loan', 'Mortgage Loan', 'Credit-Builder Loan', 'No Loan'}\n"
     ]
    }
   ],
   "source": [
    "temp = temp_series.str.split(pat = ', ', expand = True)\n",
    "unique_loans = set()\n",
    "for col in temp.columns:\n",
    "    temp[col] = temp[col].str.lstrip('and ')\n",
    "    unique_loans.update(temp[col].unique())\n",
    "print(unique_loans)"
   ]
  },
  {
   "cell_type": "code",
   "execution_count": 1096,
   "id": "c0d263f7",
   "metadata": {
    "execution": {
     "iopub.execute_input": "2024-09-04T13:18:37.177246Z",
     "iopub.status.busy": "2024-09-04T13:18:37.176306Z",
     "iopub.status.idle": "2024-09-04T13:18:37.183253Z",
     "shell.execute_reply": "2024-09-04T13:18:37.182193Z"
    },
    "papermill": {
     "duration": 0.162082,
     "end_time": "2024-09-04T13:18:37.185413",
     "exception": false,
     "start_time": "2024-09-04T13:18:37.023331",
     "status": "completed"
    },
    "tags": []
   },
   "outputs": [
    {
     "data": {
      "text/plain": [
       "10"
      ]
     },
     "execution_count": 1096,
     "metadata": {},
     "output_type": "execute_result"
    }
   ],
   "source": [
    "len(unique_loans)"
   ]
  },
  {
   "cell_type": "markdown",
   "id": "e0b1dcc0",
   "metadata": {
    "papermill": {
     "duration": 0.095115,
     "end_time": "2024-09-04T13:18:37.376039",
     "exception": false,
     "start_time": "2024-09-04T13:18:37.280924",
     "status": "completed"
    },
    "tags": []
   },
   "source": [
    "There are total 8 unique type of loans, one placeholder for no specification of loan type and one placeholder added by us to specify there is no loan."
   ]
  },
  {
   "cell_type": "markdown",
   "id": "a72804c3",
   "metadata": {
    "papermill": {
     "duration": 0.096168,
     "end_time": "2024-09-04T13:18:37.568316",
     "exception": false,
     "start_time": "2024-09-04T13:18:37.472148",
     "status": "completed"
    },
    "tags": []
   },
   "source": [
    "When we are working with tree based models usually they don't need the categorical columns to be encoded to numerical data type like we need for linear regression, logistic regression etc. as the model can handle these. But scikit learn uses CART algorithm and there is no functionality of using categorical variables directly and thus, for modelling with scikit-learn they need to be numerically encoded. Right now in this column we have 6260 unique categories which is too much to search for at one node. as at each node, a decision tree will look at all possible values of the categorical column to figure out what value produces the best split based on gini impurity or entropy decrease on splitting. We can do some pre-prcoessing on this column to split it into multiple columns. Intutively, it feels like the lastest loan should have high influence on your credit score because if the loan is heavy in nature then it might lead to poor credit score if unable to pay while if it is light then the credit score should remain almost same as before. We can split the column in following format: Latest loan1, latest loan2 etc. This way we will have 9 columns corresponding to maximum number of loans for any customer and each column can have maximum 10 categorical values corresponding to the unqiue loans calculated above. "
   ]
  },
  {
   "cell_type": "markdown",
   "id": "5a1cd4ab",
   "metadata": {
    "papermill": {
     "duration": 0.097528,
     "end_time": "2024-09-04T13:18:37.762825",
     "exception": false,
     "start_time": "2024-09-04T13:18:37.665297",
     "status": "completed"
    },
    "tags": []
   },
   "source": [
    "This approach will have following benefits:  \n",
    "1. Preserves the order of loans even after splitting.\n",
    "2. Easier to visualize and understand patterns since number of categories per column reduces.    \n",
    "3. Algorithm can focus more on information contained within the loan sequence. For example, if second last and third last loan contain critical information in classifying credit score than focussing on whole sequence of loans is not worthwhile and this inturn might lead to smaller decision trees and faster training compared to if we didn't split.  \n",
    "4. At each node for 9 of the splitted columns only total 90(9 columns * 10 categories) comparisons need to be made after one-hot encoding rather than 6260 comparisons for one non-splitted column."
   ]
  },
  {
   "cell_type": "markdown",
   "id": "72ef5e6a",
   "metadata": {
    "papermill": {
     "duration": 0.095979,
     "end_time": "2024-09-04T13:18:37.955919",
     "exception": false,
     "start_time": "2024-09-04T13:18:37.859940",
     "status": "completed"
    },
    "tags": []
   },
   "source": [
    "Another possible approach could be to split columns as first loan, second loan etc. as a way of splitting but the pre-processing mentioned above feels more effective for now. We will maybe look at these two modeling startegies whn we do EDA and modeling."
   ]
  },
  {
   "cell_type": "code",
   "execution_count": 1097,
   "id": "c3b29e31",
   "metadata": {
    "execution": {
     "iopub.execute_input": "2024-09-04T13:18:38.149984Z",
     "iopub.status.busy": "2024-09-04T13:18:38.149499Z",
     "iopub.status.idle": "2024-09-04T13:18:38.155927Z",
     "shell.execute_reply": "2024-09-04T13:18:38.154951Z"
    },
    "papermill": {
     "duration": 0.106011,
     "end_time": "2024-09-04T13:18:38.158346",
     "exception": false,
     "start_time": "2024-09-04T13:18:38.052335",
     "status": "completed"
    },
    "tags": []
   },
   "outputs": [],
   "source": [
    "temp.columns = [f'Last_Loan_{i}' for i in range(int(df['Num_of_Loan'].max()), 0, -1)]"
   ]
  },
  {
   "cell_type": "code",
   "execution_count": 1098,
   "id": "24436dbc",
   "metadata": {
    "execution": {
     "iopub.execute_input": "2024-09-04T13:18:38.354859Z",
     "iopub.status.busy": "2024-09-04T13:18:38.353933Z",
     "iopub.status.idle": "2024-09-04T13:18:38.367721Z",
     "shell.execute_reply": "2024-09-04T13:18:38.366711Z"
    },
    "papermill": {
     "duration": 0.114125,
     "end_time": "2024-09-04T13:18:38.369892",
     "exception": false,
     "start_time": "2024-09-04T13:18:38.255767",
     "status": "completed"
    },
    "tags": []
   },
   "outputs": [
    {
     "data": {
      "text/html": [
       "<div>\n",
       "<style scoped>\n",
       "    .dataframe tbody tr th:only-of-type {\n",
       "        vertical-align: middle;\n",
       "    }\n",
       "\n",
       "    .dataframe tbody tr th {\n",
       "        vertical-align: top;\n",
       "    }\n",
       "\n",
       "    .dataframe thead th {\n",
       "        text-align: right;\n",
       "    }\n",
       "</style>\n",
       "<table border=\"1\" class=\"dataframe\">\n",
       "  <thead>\n",
       "    <tr style=\"text-align: right;\">\n",
       "      <th></th>\n",
       "      <th>Last_Loan_9</th>\n",
       "      <th>Last_Loan_8</th>\n",
       "      <th>Last_Loan_7</th>\n",
       "      <th>Last_Loan_6</th>\n",
       "      <th>Last_Loan_5</th>\n",
       "      <th>Last_Loan_4</th>\n",
       "      <th>Last_Loan_3</th>\n",
       "      <th>Last_Loan_2</th>\n",
       "      <th>Last_Loan_1</th>\n",
       "    </tr>\n",
       "  </thead>\n",
       "  <tbody>\n",
       "    <tr>\n",
       "      <th>0</th>\n",
       "      <td>No Loan</td>\n",
       "      <td>No Loan</td>\n",
       "      <td>No Loan</td>\n",
       "      <td>No Loan</td>\n",
       "      <td>No Loan</td>\n",
       "      <td>No Loan</td>\n",
       "      <td>No Loan</td>\n",
       "      <td>Credit-Builder Loan</td>\n",
       "      <td>Home Equity Loan</td>\n",
       "    </tr>\n",
       "    <tr>\n",
       "      <th>1</th>\n",
       "      <td>No Loan</td>\n",
       "      <td>No Loan</td>\n",
       "      <td>No Loan</td>\n",
       "      <td>No Loan</td>\n",
       "      <td>No Loan</td>\n",
       "      <td>No Loan</td>\n",
       "      <td>No Loan</td>\n",
       "      <td>Credit-Builder Loan</td>\n",
       "      <td>Home Equity Loan</td>\n",
       "    </tr>\n",
       "    <tr>\n",
       "      <th>2</th>\n",
       "      <td>No Loan</td>\n",
       "      <td>No Loan</td>\n",
       "      <td>No Loan</td>\n",
       "      <td>No Loan</td>\n",
       "      <td>No Loan</td>\n",
       "      <td>No Loan</td>\n",
       "      <td>No Loan</td>\n",
       "      <td>Credit-Builder Loan</td>\n",
       "      <td>Home Equity Loan</td>\n",
       "    </tr>\n",
       "    <tr>\n",
       "      <th>3</th>\n",
       "      <td>No Loan</td>\n",
       "      <td>No Loan</td>\n",
       "      <td>No Loan</td>\n",
       "      <td>No Loan</td>\n",
       "      <td>No Loan</td>\n",
       "      <td>No Loan</td>\n",
       "      <td>No Loan</td>\n",
       "      <td>Credit-Builder Loan</td>\n",
       "      <td>Home Equity Loan</td>\n",
       "    </tr>\n",
       "    <tr>\n",
       "      <th>4</th>\n",
       "      <td>No Loan</td>\n",
       "      <td>No Loan</td>\n",
       "      <td>No Loan</td>\n",
       "      <td>No Loan</td>\n",
       "      <td>No Loan</td>\n",
       "      <td>No Loan</td>\n",
       "      <td>No Loan</td>\n",
       "      <td>Credit-Builder Loan</td>\n",
       "      <td>Home Equity Loan</td>\n",
       "    </tr>\n",
       "  </tbody>\n",
       "</table>\n",
       "</div>"
      ],
      "text/plain": [
       "  Last_Loan_9 Last_Loan_8 Last_Loan_7 Last_Loan_6 Last_Loan_5 Last_Loan_4  \\\n",
       "0     No Loan     No Loan     No Loan     No Loan     No Loan     No Loan   \n",
       "1     No Loan     No Loan     No Loan     No Loan     No Loan     No Loan   \n",
       "2     No Loan     No Loan     No Loan     No Loan     No Loan     No Loan   \n",
       "3     No Loan     No Loan     No Loan     No Loan     No Loan     No Loan   \n",
       "4     No Loan     No Loan     No Loan     No Loan     No Loan     No Loan   \n",
       "\n",
       "  Last_Loan_3          Last_Loan_2       Last_Loan_1  \n",
       "0     No Loan  Credit-Builder Loan  Home Equity Loan  \n",
       "1     No Loan  Credit-Builder Loan  Home Equity Loan  \n",
       "2     No Loan  Credit-Builder Loan  Home Equity Loan  \n",
       "3     No Loan  Credit-Builder Loan  Home Equity Loan  \n",
       "4     No Loan  Credit-Builder Loan  Home Equity Loan  "
      ]
     },
     "execution_count": 1098,
     "metadata": {},
     "output_type": "execute_result"
    }
   ],
   "source": [
    "temp.head()"
   ]
  },
  {
   "cell_type": "code",
   "execution_count": 1099,
   "id": "bb5a7fbf",
   "metadata": {
    "execution": {
     "iopub.execute_input": "2024-09-04T13:18:38.563223Z",
     "iopub.status.busy": "2024-09-04T13:18:38.562536Z",
     "iopub.status.idle": "2024-09-04T13:18:38.695705Z",
     "shell.execute_reply": "2024-09-04T13:18:38.694824Z"
    },
    "papermill": {
     "duration": 0.232872,
     "end_time": "2024-09-04T13:18:38.698197",
     "exception": false,
     "start_time": "2024-09-04T13:18:38.465325",
     "status": "completed"
    },
    "tags": []
   },
   "outputs": [],
   "source": [
    "df = pd.merge(df, temp, left_index = True, right_index = True)"
   ]
  },
  {
   "cell_type": "code",
   "execution_count": 1100,
   "id": "0ca4746b",
   "metadata": {
    "execution": {
     "iopub.execute_input": "2024-09-04T13:18:38.893244Z",
     "iopub.status.busy": "2024-09-04T13:18:38.892833Z",
     "iopub.status.idle": "2024-09-04T13:18:38.915905Z",
     "shell.execute_reply": "2024-09-04T13:18:38.914753Z"
    },
    "papermill": {
     "duration": 0.123414,
     "end_time": "2024-09-04T13:18:38.918140",
     "exception": false,
     "start_time": "2024-09-04T13:18:38.794726",
     "status": "completed"
    },
    "tags": []
   },
   "outputs": [
    {
     "data": {
      "text/html": [
       "<div>\n",
       "<style scoped>\n",
       "    .dataframe tbody tr th:only-of-type {\n",
       "        vertical-align: middle;\n",
       "    }\n",
       "\n",
       "    .dataframe tbody tr th {\n",
       "        vertical-align: top;\n",
       "    }\n",
       "\n",
       "    .dataframe thead th {\n",
       "        text-align: right;\n",
       "    }\n",
       "</style>\n",
       "<table border=\"1\" class=\"dataframe\">\n",
       "  <thead>\n",
       "    <tr style=\"text-align: right;\">\n",
       "      <th></th>\n",
       "      <th>Unnamed: 0</th>\n",
       "      <th>Customer_ID</th>\n",
       "      <th>Month</th>\n",
       "      <th>Age</th>\n",
       "      <th>Occupation</th>\n",
       "      <th>Annual_Income</th>\n",
       "      <th>Monthly_Inhand_Salary</th>\n",
       "      <th>Num_Bank_Accounts</th>\n",
       "      <th>Num_Credit_Card</th>\n",
       "      <th>Interest_Rate</th>\n",
       "      <th>...</th>\n",
       "      <th>Credit_Score</th>\n",
       "      <th>Last_Loan_9</th>\n",
       "      <th>Last_Loan_8</th>\n",
       "      <th>Last_Loan_7</th>\n",
       "      <th>Last_Loan_6</th>\n",
       "      <th>Last_Loan_5</th>\n",
       "      <th>Last_Loan_4</th>\n",
       "      <th>Last_Loan_3</th>\n",
       "      <th>Last_Loan_2</th>\n",
       "      <th>Last_Loan_1</th>\n",
       "    </tr>\n",
       "  </thead>\n",
       "  <tbody>\n",
       "    <tr>\n",
       "      <th>0</th>\n",
       "      <td>56752</td>\n",
       "      <td>CUS_0x1000</td>\n",
       "      <td>1</td>\n",
       "      <td>17</td>\n",
       "      <td>Lawyer</td>\n",
       "      <td>30625.94</td>\n",
       "      <td>2706.161667</td>\n",
       "      <td>6</td>\n",
       "      <td>5</td>\n",
       "      <td>27.0</td>\n",
       "      <td>...</td>\n",
       "      <td>Standard</td>\n",
       "      <td>No Loan</td>\n",
       "      <td>No Loan</td>\n",
       "      <td>No Loan</td>\n",
       "      <td>No Loan</td>\n",
       "      <td>No Loan</td>\n",
       "      <td>No Loan</td>\n",
       "      <td>No Loan</td>\n",
       "      <td>Credit-Builder Loan</td>\n",
       "      <td>Home Equity Loan</td>\n",
       "    </tr>\n",
       "    <tr>\n",
       "      <th>1</th>\n",
       "      <td>56753</td>\n",
       "      <td>CUS_0x1000</td>\n",
       "      <td>2</td>\n",
       "      <td>17</td>\n",
       "      <td>Lawyer</td>\n",
       "      <td>30625.94</td>\n",
       "      <td>2706.161667</td>\n",
       "      <td>6</td>\n",
       "      <td>5</td>\n",
       "      <td>27.0</td>\n",
       "      <td>...</td>\n",
       "      <td>Poor</td>\n",
       "      <td>No Loan</td>\n",
       "      <td>No Loan</td>\n",
       "      <td>No Loan</td>\n",
       "      <td>No Loan</td>\n",
       "      <td>No Loan</td>\n",
       "      <td>No Loan</td>\n",
       "      <td>No Loan</td>\n",
       "      <td>Credit-Builder Loan</td>\n",
       "      <td>Home Equity Loan</td>\n",
       "    </tr>\n",
       "    <tr>\n",
       "      <th>2</th>\n",
       "      <td>56754</td>\n",
       "      <td>CUS_0x1000</td>\n",
       "      <td>3</td>\n",
       "      <td>17</td>\n",
       "      <td>Lawyer</td>\n",
       "      <td>30625.94</td>\n",
       "      <td>2706.161667</td>\n",
       "      <td>6</td>\n",
       "      <td>5</td>\n",
       "      <td>27.0</td>\n",
       "      <td>...</td>\n",
       "      <td>Poor</td>\n",
       "      <td>No Loan</td>\n",
       "      <td>No Loan</td>\n",
       "      <td>No Loan</td>\n",
       "      <td>No Loan</td>\n",
       "      <td>No Loan</td>\n",
       "      <td>No Loan</td>\n",
       "      <td>No Loan</td>\n",
       "      <td>Credit-Builder Loan</td>\n",
       "      <td>Home Equity Loan</td>\n",
       "    </tr>\n",
       "    <tr>\n",
       "      <th>3</th>\n",
       "      <td>56755</td>\n",
       "      <td>CUS_0x1000</td>\n",
       "      <td>4</td>\n",
       "      <td>17</td>\n",
       "      <td>Lawyer</td>\n",
       "      <td>30625.94</td>\n",
       "      <td>2706.161667</td>\n",
       "      <td>6</td>\n",
       "      <td>5</td>\n",
       "      <td>27.0</td>\n",
       "      <td>...</td>\n",
       "      <td>Poor</td>\n",
       "      <td>No Loan</td>\n",
       "      <td>No Loan</td>\n",
       "      <td>No Loan</td>\n",
       "      <td>No Loan</td>\n",
       "      <td>No Loan</td>\n",
       "      <td>No Loan</td>\n",
       "      <td>No Loan</td>\n",
       "      <td>Credit-Builder Loan</td>\n",
       "      <td>Home Equity Loan</td>\n",
       "    </tr>\n",
       "    <tr>\n",
       "      <th>4</th>\n",
       "      <td>56756</td>\n",
       "      <td>CUS_0x1000</td>\n",
       "      <td>5</td>\n",
       "      <td>17</td>\n",
       "      <td>Lawyer</td>\n",
       "      <td>30625.94</td>\n",
       "      <td>2706.161667</td>\n",
       "      <td>6</td>\n",
       "      <td>5</td>\n",
       "      <td>27.0</td>\n",
       "      <td>...</td>\n",
       "      <td>Poor</td>\n",
       "      <td>No Loan</td>\n",
       "      <td>No Loan</td>\n",
       "      <td>No Loan</td>\n",
       "      <td>No Loan</td>\n",
       "      <td>No Loan</td>\n",
       "      <td>No Loan</td>\n",
       "      <td>No Loan</td>\n",
       "      <td>Credit-Builder Loan</td>\n",
       "      <td>Home Equity Loan</td>\n",
       "    </tr>\n",
       "  </tbody>\n",
       "</table>\n",
       "<p>5 rows × 35 columns</p>\n",
       "</div>"
      ],
      "text/plain": [
       "   Unnamed: 0 Customer_ID  Month  Age Occupation  Annual_Income  \\\n",
       "0       56752  CUS_0x1000      1   17     Lawyer       30625.94   \n",
       "1       56753  CUS_0x1000      2   17     Lawyer       30625.94   \n",
       "2       56754  CUS_0x1000      3   17     Lawyer       30625.94   \n",
       "3       56755  CUS_0x1000      4   17     Lawyer       30625.94   \n",
       "4       56756  CUS_0x1000      5   17     Lawyer       30625.94   \n",
       "\n",
       "   Monthly_Inhand_Salary  Num_Bank_Accounts  Num_Credit_Card  Interest_Rate  \\\n",
       "0            2706.161667                  6                5           27.0   \n",
       "1            2706.161667                  6                5           27.0   \n",
       "2            2706.161667                  6                5           27.0   \n",
       "3            2706.161667                  6                5           27.0   \n",
       "4            2706.161667                  6                5           27.0   \n",
       "\n",
       "   ...  Credit_Score Last_Loan_9  Last_Loan_8  Last_Loan_7  Last_Loan_6  \\\n",
       "0  ...      Standard     No Loan      No Loan      No Loan      No Loan   \n",
       "1  ...          Poor     No Loan      No Loan      No Loan      No Loan   \n",
       "2  ...          Poor     No Loan      No Loan      No Loan      No Loan   \n",
       "3  ...          Poor     No Loan      No Loan      No Loan      No Loan   \n",
       "4  ...          Poor     No Loan      No Loan      No Loan      No Loan   \n",
       "\n",
       "   Last_Loan_5 Last_Loan_4  Last_Loan_3          Last_Loan_2       Last_Loan_1  \n",
       "0      No Loan     No Loan      No Loan  Credit-Builder Loan  Home Equity Loan  \n",
       "1      No Loan     No Loan      No Loan  Credit-Builder Loan  Home Equity Loan  \n",
       "2      No Loan     No Loan      No Loan  Credit-Builder Loan  Home Equity Loan  \n",
       "3      No Loan     No Loan      No Loan  Credit-Builder Loan  Home Equity Loan  \n",
       "4      No Loan     No Loan      No Loan  Credit-Builder Loan  Home Equity Loan  \n",
       "\n",
       "[5 rows x 35 columns]"
      ]
     },
     "execution_count": 1100,
     "metadata": {},
     "output_type": "execute_result"
    }
   ],
   "source": [
    "df.head()"
   ]
  },
  {
   "cell_type": "markdown",
   "id": "460ced8b",
   "metadata": {
    "papermill": {
     "duration": 0.098403,
     "end_time": "2024-09-04T13:18:39.115990",
     "exception": false,
     "start_time": "2024-09-04T13:18:39.017587",
     "status": "completed"
    },
    "tags": []
   },
   "source": [
    "We can drop the type of loan column from dataset."
   ]
  },
  {
   "cell_type": "code",
   "execution_count": 1101,
   "id": "a40149db",
   "metadata": {
    "execution": {
     "iopub.execute_input": "2024-09-04T13:18:39.313314Z",
     "iopub.status.busy": "2024-09-04T13:18:39.312928Z",
     "iopub.status.idle": "2024-09-04T13:18:39.350152Z",
     "shell.execute_reply": "2024-09-04T13:18:39.349064Z"
    },
    "papermill": {
     "duration": 0.138675,
     "end_time": "2024-09-04T13:18:39.352694",
     "exception": false,
     "start_time": "2024-09-04T13:18:39.214019",
     "status": "completed"
    },
    "tags": []
   },
   "outputs": [],
   "source": [
    "df.drop(columns = 'Type_of_Loan', inplace = True)"
   ]
  },
  {
   "cell_type": "markdown",
   "id": "f0447a63",
   "metadata": {
    "jp-MarkdownHeadingCollapsed": true,
    "papermill": {
     "duration": 0.095872,
     "end_time": "2024-09-04T13:18:39.545120",
     "exception": false,
     "start_time": "2024-09-04T13:18:39.449248",
     "status": "completed"
    },
    "tags": []
   },
   "source": [
    "#### 9. Delay from due date"
   ]
  },
  {
   "cell_type": "code",
   "execution_count": 1102,
   "id": "8226c384",
   "metadata": {
    "execution": {
     "iopub.execute_input": "2024-09-04T13:18:39.741379Z",
     "iopub.status.busy": "2024-09-04T13:18:39.740998Z",
     "iopub.status.idle": "2024-09-04T13:18:56.366449Z",
     "shell.execute_reply": "2024-09-04T13:18:56.365429Z"
    },
    "papermill": {
     "duration": 16.726061,
     "end_time": "2024-09-04T13:18:56.368946",
     "exception": false,
     "start_time": "2024-09-04T13:18:39.642885",
     "status": "completed"
    },
    "tags": []
   },
   "outputs": [
    {
     "name": "stdout",
     "output_type": "stream",
     "text": [
      "Column description for Delay_from_due_date:\n",
      "\n",
      "count    80000.000000\n",
      "mean        21.104625\n",
      "std         14.875335\n",
      "min         -5.000000\n",
      "25%         10.000000\n",
      "50%         18.000000\n",
      "75%         28.000000\n",
      "max         67.000000\n",
      "Name: Delay_from_due_date, dtype: float64\n",
      "\n",
      "Number of null values: 0 \n",
      "\n",
      "\n",
      "\n",
      "\n",
      "Median standardization for Delay_from_due_date:\n",
      "\n",
      "count    80000.000000\n",
      "mean         0.000605\n",
      "std          1.307092\n",
      "min        -10.000000\n",
      "25%          0.000000\n",
      "50%          0.000000\n",
      "75%          0.000000\n",
      "max         11.000000\n",
      "Name: Delay_from_due_date, dtype: float64\n",
      "\n",
      "Number of null values: 0 \n",
      "\n",
      "\n"
     ]
    }
   ],
   "source": [
    "summary_due_date = summarize_numerical_column_with_deviation(df, 'Delay_from_due_date', median_standardization_summary = True)"
   ]
  },
  {
   "cell_type": "code",
   "execution_count": 1103,
   "id": "d8d6efc3",
   "metadata": {
    "execution": {
     "iopub.execute_input": "2024-09-04T13:18:56.624707Z",
     "iopub.status.busy": "2024-09-04T13:18:56.623558Z",
     "iopub.status.idle": "2024-09-04T13:18:56.631148Z",
     "shell.execute_reply": "2024-09-04T13:18:56.630038Z"
    },
    "papermill": {
     "duration": 0.165546,
     "end_time": "2024-09-04T13:18:56.633451",
     "exception": false,
     "start_time": "2024-09-04T13:18:56.467905",
     "status": "completed"
    },
    "tags": []
   },
   "outputs": [
    {
     "data": {
      "text/plain": [
       "{'Delay_from_due_date': {'Min. value': np.int64(-5),\n",
       "  'Outlier lower range': -17.0,\n",
       "  'Outlier upper range': 55.0,\n",
       "  'Max. value': np.int64(67)},\n",
       " 'Median standardization of Delay_from_due_date': {'Min. value': np.float64(-10.0),\n",
       "  'Outlier lower range': 0.0,\n",
       "  'Outlier upper range': 0.0,\n",
       "  'Max. value': np.float64(11.0)},\n",
       " 'Max. MAD': np.float64(4.0)}"
      ]
     },
     "execution_count": 1103,
     "metadata": {},
     "output_type": "execute_result"
    }
   ],
   "source": [
    "summary_due_date"
   ]
  },
  {
   "cell_type": "markdown",
   "id": "6e671e63",
   "metadata": {
    "papermill": {
     "duration": 0.097121,
     "end_time": "2024-09-04T13:18:56.829406",
     "exception": false,
     "start_time": "2024-09-04T13:18:56.732285",
     "status": "completed"
    },
    "tags": []
   },
   "source": [
    "The median standardization varies quite a bit going from -10 to 11. "
   ]
  },
  {
   "cell_type": "code",
   "execution_count": 1104,
   "id": "9023caba",
   "metadata": {
    "execution": {
     "iopub.execute_input": "2024-09-04T13:18:57.033628Z",
     "iopub.status.busy": "2024-09-04T13:18:57.033209Z",
     "iopub.status.idle": "2024-09-04T13:19:13.363292Z",
     "shell.execute_reply": "2024-09-04T13:19:13.362309Z"
    },
    "papermill": {
     "duration": 16.437309,
     "end_time": "2024-09-04T13:19:13.365848",
     "exception": false,
     "start_time": "2024-09-04T13:18:56.928539",
     "status": "completed"
    },
    "tags": []
   },
   "outputs": [],
   "source": [
    "due_date_deviation = df.groupby('Customer_ID')['Delay_from_due_date'].transform(median_standardization, default_value = return_max_MAD(df, 'Delay_from_due_date'))"
   ]
  },
  {
   "cell_type": "markdown",
   "id": "e4e83ef1",
   "metadata": {
    "papermill": {
     "duration": 0.09872,
     "end_time": "2024-09-04T13:19:13.563198",
     "exception": false,
     "start_time": "2024-09-04T13:19:13.464478",
     "status": "completed"
    },
    "tags": []
   },
   "source": [
    "Looking at the fact that overall distribution of delay from due date is not too extreme and delay from due date can vary a lot as well unlike number of credit cards or number of bank accounts. We will move forward with the data as it is. Having a domain expert by your side would have helped make this more clearer."
   ]
  },
  {
   "cell_type": "markdown",
   "id": "77bd1c92",
   "metadata": {
    "jp-MarkdownHeadingCollapsed": true,
    "papermill": {
     "duration": 0.097813,
     "end_time": "2024-09-04T13:19:13.760303",
     "exception": false,
     "start_time": "2024-09-04T13:19:13.662490",
     "status": "completed"
    },
    "tags": []
   },
   "source": [
    "#### 10. Number of delayed payments"
   ]
  },
  {
   "cell_type": "code",
   "execution_count": 1105,
   "id": "37cdb816",
   "metadata": {
    "execution": {
     "iopub.execute_input": "2024-09-04T13:19:13.959631Z",
     "iopub.status.busy": "2024-09-04T13:19:13.959155Z",
     "iopub.status.idle": "2024-09-04T13:19:45.887755Z",
     "shell.execute_reply": "2024-09-04T13:19:45.886630Z"
    },
    "papermill": {
     "duration": 32.031043,
     "end_time": "2024-09-04T13:19:45.890377",
     "exception": false,
     "start_time": "2024-09-04T13:19:13.859334",
     "status": "completed"
    },
    "tags": []
   },
   "outputs": [
    {
     "name": "stdout",
     "output_type": "stream",
     "text": [
      "Column description for Num_of_Delayed_Payment:\n",
      "\n",
      "count    74456.000000\n",
      "mean        30.458298\n",
      "std        222.114889\n",
      "min         -3.000000\n",
      "25%          9.000000\n",
      "50%         14.000000\n",
      "75%         18.000000\n",
      "max       4397.000000\n",
      "Name: Num_of_Delayed_Payment, dtype: float64\n",
      "\n",
      "Number of null values: 5544 \n",
      "\n",
      "\n",
      "\n",
      "\n",
      "Median standardization for Num_of_Delayed_Payment:\n",
      "\n",
      "count    74456.000000\n",
      "mean        11.110887\n",
      "std        183.266893\n",
      "min         -8.000000\n",
      "25%          0.000000\n",
      "50%          0.000000\n",
      "75%          0.000000\n",
      "max       8388.000000\n",
      "Name: Num_of_Delayed_Payment, dtype: float64\n",
      "\n",
      "Number of null values: 5544 \n",
      "\n",
      "\n"
     ]
    }
   ],
   "source": [
    "summary_num_delayed_payments = summarize_numerical_column_with_deviation(df, 'Num_of_Delayed_Payment', median_standardization_summary = True)"
   ]
  },
  {
   "cell_type": "code",
   "execution_count": 1106,
   "id": "149f812e",
   "metadata": {
    "execution": {
     "iopub.execute_input": "2024-09-04T13:19:46.095414Z",
     "iopub.status.busy": "2024-09-04T13:19:46.095000Z",
     "iopub.status.idle": "2024-09-04T13:19:46.102259Z",
     "shell.execute_reply": "2024-09-04T13:19:46.101098Z"
    },
    "papermill": {
     "duration": 0.113132,
     "end_time": "2024-09-04T13:19:46.104530",
     "exception": false,
     "start_time": "2024-09-04T13:19:45.991398",
     "status": "completed"
    },
    "tags": []
   },
   "outputs": [
    {
     "data": {
      "text/plain": [
       "{'Num_of_Delayed_Payment': {'Min. value': np.float64(-3.0),\n",
       "  'Outlier lower range': -4.5,\n",
       "  'Outlier upper range': 31.5,\n",
       "  'Max. value': np.float64(4397.0)},\n",
       " 'Median standardization of Num_of_Delayed_Payment': {'Min. value': np.float64(-8.0),\n",
       "  'Outlier lower range': 0.0,\n",
       "  'Outlier upper range': 0.0,\n",
       "  'Max. value': np.float64(8388.0)},\n",
       " 'Max. MAD': np.float64(3.0)}"
      ]
     },
     "execution_count": 1106,
     "metadata": {},
     "output_type": "execute_result"
    }
   ],
   "source": [
    "summary_num_delayed_payments"
   ]
  },
  {
   "cell_type": "markdown",
   "id": "9f6d6a0f",
   "metadata": {
    "papermill": {
     "duration": 0.101358,
     "end_time": "2024-09-04T13:19:46.306205",
     "exception": false,
     "start_time": "2024-09-04T13:19:46.204847",
     "status": "completed"
    },
    "tags": []
   },
   "source": [
    "Judging from median standardization, almost all of the values are same as median and this is leading to 0 median standardization. Median standardization should definitely should be like this and should be skewed in nature but its hard to assess what threshold to use without a domain expert. We will use the full column as a sample and judge based on that here."
   ]
  },
  {
   "cell_type": "markdown",
   "id": "8bd30fa6",
   "metadata": {
    "papermill": {
     "duration": 0.099827,
     "end_time": "2024-09-04T13:19:46.506179",
     "exception": false,
     "start_time": "2024-09-04T13:19:46.406352",
     "status": "completed"
    },
    "tags": []
   },
   "source": [
    "The number of delayed payments can't be too much and can not be negative as well. We will set negative values and values greater than upper range of oultiers to null."
   ]
  },
  {
   "cell_type": "code",
   "execution_count": 1107,
   "id": "33a80492",
   "metadata": {
    "execution": {
     "iopub.execute_input": "2024-09-04T13:19:46.708800Z",
     "iopub.status.busy": "2024-09-04T13:19:46.708340Z",
     "iopub.status.idle": "2024-09-04T13:19:46.716829Z",
     "shell.execute_reply": "2024-09-04T13:19:46.715710Z"
    },
    "papermill": {
     "duration": 0.113527,
     "end_time": "2024-09-04T13:19:46.719460",
     "exception": false,
     "start_time": "2024-09-04T13:19:46.605933",
     "status": "completed"
    },
    "tags": []
   },
   "outputs": [],
   "source": [
    "df['Num_of_Delayed_Payment'][(df['Num_of_Delayed_Payment'] > summary_num_delayed_payments['Num_of_Delayed_Payment']['Outlier upper range']) | (df['Num_of_Delayed_Payment'] < 0)] = np.nan"
   ]
  },
  {
   "cell_type": "code",
   "execution_count": 1108,
   "id": "3081652e",
   "metadata": {
    "execution": {
     "iopub.execute_input": "2024-09-04T13:19:46.924476Z",
     "iopub.status.busy": "2024-09-04T13:19:46.923503Z",
     "iopub.status.idle": "2024-09-04T13:19:46.931979Z",
     "shell.execute_reply": "2024-09-04T13:19:46.930774Z"
    },
    "papermill": {
     "duration": 0.114488,
     "end_time": "2024-09-04T13:19:46.934113",
     "exception": false,
     "start_time": "2024-09-04T13:19:46.819625",
     "status": "completed"
    },
    "tags": []
   },
   "outputs": [
    {
     "data": {
      "text/plain": [
       "np.int64(6645)"
      ]
     },
     "execution_count": 1108,
     "metadata": {},
     "output_type": "execute_result"
    }
   ],
   "source": [
    "df['Num_of_Delayed_Payment'].isnull().sum()"
   ]
  },
  {
   "cell_type": "markdown",
   "id": "b5d481c0",
   "metadata": {
    "papermill": {
     "duration": 0.103202,
     "end_time": "2024-09-04T13:19:47.139982",
     "exception": false,
     "start_time": "2024-09-04T13:19:47.036780",
     "status": "completed"
    },
    "tags": []
   },
   "source": [
    "There are 8382 null values. Lets observe the count of diff in between consecutive months and observe if we can identify some pattern exising there which can help us make some educated guess about the null values."
   ]
  },
  {
   "cell_type": "code",
   "execution_count": 1109,
   "id": "65646df3",
   "metadata": {
    "execution": {
     "iopub.execute_input": "2024-09-04T13:19:47.343637Z",
     "iopub.status.busy": "2024-09-04T13:19:47.343217Z",
     "iopub.status.idle": "2024-09-04T13:19:50.686585Z",
     "shell.execute_reply": "2024-09-04T13:19:50.685562Z"
    },
    "papermill": {
     "duration": 3.44699,
     "end_time": "2024-09-04T13:19:50.689048",
     "exception": false,
     "start_time": "2024-09-04T13:19:47.242058",
     "status": "completed"
    },
    "tags": []
   },
   "outputs": [
    {
     "data": {
      "text/plain": [
       "Num_of_Delayed_Payment\n",
       " 0.0    0.457106\n",
       "-1.0    0.085992\n",
       " 2.0    0.085550\n",
       " 1.0    0.085347\n",
       "-2.0    0.084379\n",
       "-3.0    0.082274\n",
       " 3.0    0.081696\n",
       "-4.0    0.009558\n",
       " 4.0    0.009270\n",
       " 5.0    0.006536\n",
       "-5.0    0.005959\n",
       "-6.0    0.003175\n",
       " 6.0    0.003158\n",
       "Name: proportion, dtype: float64"
      ]
     },
     "execution_count": 1109,
     "metadata": {},
     "output_type": "execute_result"
    }
   ],
   "source": [
    "df.groupby('Customer_ID')['Num_of_Delayed_Payment'].transform(pd.Series.diff).value_counts(normalize = True)"
   ]
  },
  {
   "cell_type": "markdown",
   "id": "886c81a7",
   "metadata": {
    "papermill": {
     "duration": 0.103434,
     "end_time": "2024-09-04T13:19:50.893559",
     "exception": false,
     "start_time": "2024-09-04T13:19:50.790125",
     "status": "completed"
    },
    "tags": []
   },
   "source": [
    "Around 45.6% of time it remains same across months but rest of the time it varies i.e more than 50% of the time it varies across months."
   ]
  },
  {
   "cell_type": "code",
   "execution_count": 1110,
   "id": "9945f0b4",
   "metadata": {
    "execution": {
     "iopub.execute_input": "2024-09-04T13:19:51.155406Z",
     "iopub.status.busy": "2024-09-04T13:19:51.154989Z",
     "iopub.status.idle": "2024-09-04T13:19:51.178015Z",
     "shell.execute_reply": "2024-09-04T13:19:51.176931Z"
    },
    "papermill": {
     "duration": 0.128524,
     "end_time": "2024-09-04T13:19:51.180456",
     "exception": false,
     "start_time": "2024-09-04T13:19:51.051932",
     "status": "completed"
    },
    "scrolled": true,
    "tags": []
   },
   "outputs": [
    {
     "data": {
      "text/html": [
       "<div>\n",
       "<style scoped>\n",
       "    .dataframe tbody tr th:only-of-type {\n",
       "        vertical-align: middle;\n",
       "    }\n",
       "\n",
       "    .dataframe tbody tr th {\n",
       "        vertical-align: top;\n",
       "    }\n",
       "\n",
       "    .dataframe thead th {\n",
       "        text-align: right;\n",
       "    }\n",
       "</style>\n",
       "<table border=\"1\" class=\"dataframe\">\n",
       "  <thead>\n",
       "    <tr style=\"text-align: right;\">\n",
       "      <th></th>\n",
       "      <th>Customer_ID</th>\n",
       "      <th>Num_of_Delayed_Payment</th>\n",
       "    </tr>\n",
       "  </thead>\n",
       "  <tbody>\n",
       "    <tr>\n",
       "      <th>0</th>\n",
       "      <td>CUS_0x1000</td>\n",
       "      <td>25.0</td>\n",
       "    </tr>\n",
       "    <tr>\n",
       "      <th>1</th>\n",
       "      <td>CUS_0x1000</td>\n",
       "      <td>23.0</td>\n",
       "    </tr>\n",
       "    <tr>\n",
       "      <th>2</th>\n",
       "      <td>CUS_0x1000</td>\n",
       "      <td>28.0</td>\n",
       "    </tr>\n",
       "    <tr>\n",
       "      <th>3</th>\n",
       "      <td>CUS_0x1000</td>\n",
       "      <td>25.0</td>\n",
       "    </tr>\n",
       "    <tr>\n",
       "      <th>4</th>\n",
       "      <td>CUS_0x1000</td>\n",
       "      <td>25.0</td>\n",
       "    </tr>\n",
       "    <tr>\n",
       "      <th>5</th>\n",
       "      <td>CUS_0x1000</td>\n",
       "      <td>23.0</td>\n",
       "    </tr>\n",
       "    <tr>\n",
       "      <th>6</th>\n",
       "      <td>CUS_0x1000</td>\n",
       "      <td>25.0</td>\n",
       "    </tr>\n",
       "    <tr>\n",
       "      <th>7</th>\n",
       "      <td>CUS_0x1000</td>\n",
       "      <td>26.0</td>\n",
       "    </tr>\n",
       "    <tr>\n",
       "      <th>8</th>\n",
       "      <td>CUS_0x1009</td>\n",
       "      <td>NaN</td>\n",
       "    </tr>\n",
       "    <tr>\n",
       "      <th>9</th>\n",
       "      <td>CUS_0x1009</td>\n",
       "      <td>16.0</td>\n",
       "    </tr>\n",
       "    <tr>\n",
       "      <th>10</th>\n",
       "      <td>CUS_0x1009</td>\n",
       "      <td>18.0</td>\n",
       "    </tr>\n",
       "    <tr>\n",
       "      <th>11</th>\n",
       "      <td>CUS_0x1009</td>\n",
       "      <td>18.0</td>\n",
       "    </tr>\n",
       "    <tr>\n",
       "      <th>12</th>\n",
       "      <td>CUS_0x1009</td>\n",
       "      <td>19.0</td>\n",
       "    </tr>\n",
       "    <tr>\n",
       "      <th>13</th>\n",
       "      <td>CUS_0x1009</td>\n",
       "      <td>18.0</td>\n",
       "    </tr>\n",
       "    <tr>\n",
       "      <th>14</th>\n",
       "      <td>CUS_0x1009</td>\n",
       "      <td>18.0</td>\n",
       "    </tr>\n",
       "    <tr>\n",
       "      <th>15</th>\n",
       "      <td>CUS_0x1009</td>\n",
       "      <td>18.0</td>\n",
       "    </tr>\n",
       "    <tr>\n",
       "      <th>16</th>\n",
       "      <td>CUS_0x100b</td>\n",
       "      <td>7.0</td>\n",
       "    </tr>\n",
       "    <tr>\n",
       "      <th>17</th>\n",
       "      <td>CUS_0x100b</td>\n",
       "      <td>9.0</td>\n",
       "    </tr>\n",
       "    <tr>\n",
       "      <th>18</th>\n",
       "      <td>CUS_0x100b</td>\n",
       "      <td>7.0</td>\n",
       "    </tr>\n",
       "    <tr>\n",
       "      <th>19</th>\n",
       "      <td>CUS_0x100b</td>\n",
       "      <td>7.0</td>\n",
       "    </tr>\n",
       "    <tr>\n",
       "      <th>20</th>\n",
       "      <td>CUS_0x100b</td>\n",
       "      <td>7.0</td>\n",
       "    </tr>\n",
       "    <tr>\n",
       "      <th>21</th>\n",
       "      <td>CUS_0x100b</td>\n",
       "      <td>7.0</td>\n",
       "    </tr>\n",
       "    <tr>\n",
       "      <th>22</th>\n",
       "      <td>CUS_0x100b</td>\n",
       "      <td>7.0</td>\n",
       "    </tr>\n",
       "    <tr>\n",
       "      <th>23</th>\n",
       "      <td>CUS_0x100b</td>\n",
       "      <td>8.0</td>\n",
       "    </tr>\n",
       "    <tr>\n",
       "      <th>24</th>\n",
       "      <td>CUS_0x1011</td>\n",
       "      <td>12.0</td>\n",
       "    </tr>\n",
       "    <tr>\n",
       "      <th>25</th>\n",
       "      <td>CUS_0x1011</td>\n",
       "      <td>NaN</td>\n",
       "    </tr>\n",
       "    <tr>\n",
       "      <th>26</th>\n",
       "      <td>CUS_0x1011</td>\n",
       "      <td>17.0</td>\n",
       "    </tr>\n",
       "    <tr>\n",
       "      <th>27</th>\n",
       "      <td>CUS_0x1011</td>\n",
       "      <td>15.0</td>\n",
       "    </tr>\n",
       "    <tr>\n",
       "      <th>28</th>\n",
       "      <td>CUS_0x1011</td>\n",
       "      <td>NaN</td>\n",
       "    </tr>\n",
       "    <tr>\n",
       "      <th>29</th>\n",
       "      <td>CUS_0x1011</td>\n",
       "      <td>15.0</td>\n",
       "    </tr>\n",
       "    <tr>\n",
       "      <th>30</th>\n",
       "      <td>CUS_0x1011</td>\n",
       "      <td>15.0</td>\n",
       "    </tr>\n",
       "    <tr>\n",
       "      <th>31</th>\n",
       "      <td>CUS_0x1011</td>\n",
       "      <td>13.0</td>\n",
       "    </tr>\n",
       "    <tr>\n",
       "      <th>32</th>\n",
       "      <td>CUS_0x1015</td>\n",
       "      <td>10.0</td>\n",
       "    </tr>\n",
       "    <tr>\n",
       "      <th>33</th>\n",
       "      <td>CUS_0x1015</td>\n",
       "      <td>9.0</td>\n",
       "    </tr>\n",
       "    <tr>\n",
       "      <th>34</th>\n",
       "      <td>CUS_0x1015</td>\n",
       "      <td>9.0</td>\n",
       "    </tr>\n",
       "    <tr>\n",
       "      <th>35</th>\n",
       "      <td>CUS_0x1015</td>\n",
       "      <td>9.0</td>\n",
       "    </tr>\n",
       "    <tr>\n",
       "      <th>36</th>\n",
       "      <td>CUS_0x1015</td>\n",
       "      <td>9.0</td>\n",
       "    </tr>\n",
       "    <tr>\n",
       "      <th>37</th>\n",
       "      <td>CUS_0x1015</td>\n",
       "      <td>9.0</td>\n",
       "    </tr>\n",
       "    <tr>\n",
       "      <th>38</th>\n",
       "      <td>CUS_0x1015</td>\n",
       "      <td>9.0</td>\n",
       "    </tr>\n",
       "    <tr>\n",
       "      <th>39</th>\n",
       "      <td>CUS_0x1015</td>\n",
       "      <td>9.0</td>\n",
       "    </tr>\n",
       "  </tbody>\n",
       "</table>\n",
       "</div>"
      ],
      "text/plain": [
       "   Customer_ID  Num_of_Delayed_Payment\n",
       "0   CUS_0x1000                    25.0\n",
       "1   CUS_0x1000                    23.0\n",
       "2   CUS_0x1000                    28.0\n",
       "3   CUS_0x1000                    25.0\n",
       "4   CUS_0x1000                    25.0\n",
       "5   CUS_0x1000                    23.0\n",
       "6   CUS_0x1000                    25.0\n",
       "7   CUS_0x1000                    26.0\n",
       "8   CUS_0x1009                     NaN\n",
       "9   CUS_0x1009                    16.0\n",
       "10  CUS_0x1009                    18.0\n",
       "11  CUS_0x1009                    18.0\n",
       "12  CUS_0x1009                    19.0\n",
       "13  CUS_0x1009                    18.0\n",
       "14  CUS_0x1009                    18.0\n",
       "15  CUS_0x1009                    18.0\n",
       "16  CUS_0x100b                     7.0\n",
       "17  CUS_0x100b                     9.0\n",
       "18  CUS_0x100b                     7.0\n",
       "19  CUS_0x100b                     7.0\n",
       "20  CUS_0x100b                     7.0\n",
       "21  CUS_0x100b                     7.0\n",
       "22  CUS_0x100b                     7.0\n",
       "23  CUS_0x100b                     8.0\n",
       "24  CUS_0x1011                    12.0\n",
       "25  CUS_0x1011                     NaN\n",
       "26  CUS_0x1011                    17.0\n",
       "27  CUS_0x1011                    15.0\n",
       "28  CUS_0x1011                     NaN\n",
       "29  CUS_0x1011                    15.0\n",
       "30  CUS_0x1011                    15.0\n",
       "31  CUS_0x1011                    13.0\n",
       "32  CUS_0x1015                    10.0\n",
       "33  CUS_0x1015                     9.0\n",
       "34  CUS_0x1015                     9.0\n",
       "35  CUS_0x1015                     9.0\n",
       "36  CUS_0x1015                     9.0\n",
       "37  CUS_0x1015                     9.0\n",
       "38  CUS_0x1015                     9.0\n",
       "39  CUS_0x1015                     9.0"
      ]
     },
     "execution_count": 1110,
     "metadata": {},
     "output_type": "execute_result"
    }
   ],
   "source": [
    "df[['Customer_ID', 'Num_of_Delayed_Payment']].head(40)"
   ]
  },
  {
   "cell_type": "markdown",
   "id": "282c7453",
   "metadata": {
    "papermill": {
     "duration": 0.119034,
     "end_time": "2024-09-04T13:19:51.406011",
     "exception": false,
     "start_time": "2024-09-04T13:19:51.286977",
     "status": "completed"
    },
    "tags": []
   },
   "source": [
    "Looking at the data it looks like usually a single value repeats more often across months i.e. mode might be a suitable choice here. But first lets see that usually how many times the mode occurs for any customer."
   ]
  },
  {
   "cell_type": "code",
   "execution_count": 1111,
   "id": "978517b0",
   "metadata": {
    "execution": {
     "iopub.execute_input": "2024-09-04T13:19:51.609520Z",
     "iopub.status.busy": "2024-09-04T13:19:51.609109Z",
     "iopub.status.idle": "2024-09-04T13:19:57.700715Z",
     "shell.execute_reply": "2024-09-04T13:19:57.699722Z"
    },
    "papermill": {
     "duration": 6.195785,
     "end_time": "2024-09-04T13:19:57.703225",
     "exception": false,
     "start_time": "2024-09-04T13:19:51.507440",
     "status": "completed"
    },
    "tags": []
   },
   "outputs": [],
   "source": [
    "# Ratio of frequency of mode and number of non-null data per customer\n",
    "temp = df.groupby('Customer_ID')['Num_of_Delayed_Payment'].transform(lambda x: (x == x.mode()[0]).sum()/x.notnull().sum()).value_counts(normalize = True)"
   ]
  },
  {
   "cell_type": "code",
   "execution_count": 1112,
   "id": "b01a9d8a",
   "metadata": {
    "execution": {
     "iopub.execute_input": "2024-09-04T13:19:57.906891Z",
     "iopub.status.busy": "2024-09-04T13:19:57.906474Z",
     "iopub.status.idle": "2024-09-04T13:19:57.914044Z",
     "shell.execute_reply": "2024-09-04T13:19:57.912898Z"
    },
    "papermill": {
     "duration": 0.112926,
     "end_time": "2024-09-04T13:19:57.916310",
     "exception": false,
     "start_time": "2024-09-04T13:19:57.803384",
     "status": "completed"
    },
    "tags": []
   },
   "outputs": [
    {
     "data": {
      "text/plain": [
       "np.float64(0.7575000000000001)"
      ]
     },
     "execution_count": 1112,
     "metadata": {},
     "output_type": "execute_result"
    }
   ],
   "source": [
    "temp[temp.index > 0.5].sum() # Idenitfying how many times the mode occurs in more than 50% of non-null data per customer"
   ]
  },
  {
   "cell_type": "markdown",
   "id": "bb344dd3",
   "metadata": {
    "papermill": {
     "duration": 0.100936,
     "end_time": "2024-09-04T13:19:58.119911",
     "exception": false,
     "start_time": "2024-09-04T13:19:58.018975",
     "status": "completed"
    },
    "tags": []
   },
   "source": [
    "That is within given data for around 75.8% of the customers the mode occurs more than 50% of the time within 8-months period for whatever data we have available. This means the mode might be a suitable imputation here."
   ]
  },
  {
   "cell_type": "markdown",
   "id": "54dc9952",
   "metadata": {
    "papermill": {
     "duration": 0.103662,
     "end_time": "2024-09-04T13:19:58.326198",
     "exception": false,
     "start_time": "2024-09-04T13:19:58.222536",
     "status": "completed"
    },
    "tags": []
   },
   "source": [
    "What if there are multiple modes per customer? Lets check the data if such thing exists."
   ]
  },
  {
   "cell_type": "code",
   "execution_count": 1113,
   "id": "6581159c",
   "metadata": {
    "execution": {
     "iopub.execute_input": "2024-09-04T13:19:58.533184Z",
     "iopub.status.busy": "2024-09-04T13:19:58.532769Z",
     "iopub.status.idle": "2024-09-04T13:19:59.989896Z",
     "shell.execute_reply": "2024-09-04T13:19:59.988865Z"
    },
    "papermill": {
     "duration": 1.562695,
     "end_time": "2024-09-04T13:19:59.992186",
     "exception": false,
     "start_time": "2024-09-04T13:19:58.429491",
     "status": "completed"
    },
    "tags": []
   },
   "outputs": [
    {
     "data": {
      "text/plain": [
       "Num_of_Delayed_Payment\n",
       "1    9620\n",
       "2     292\n",
       "3      77\n",
       "6       5\n",
       "5       3\n",
       "4       3\n",
       "Name: count, dtype: int64"
      ]
     },
     "execution_count": 1113,
     "metadata": {},
     "output_type": "execute_result"
    }
   ],
   "source": [
    "df.groupby('Customer_ID')['Num_of_Delayed_Payment'].agg(lambda x: len(x.mode())).value_counts()"
   ]
  },
  {
   "cell_type": "markdown",
   "id": "93f76dc7",
   "metadata": {
    "papermill": {
     "duration": 0.102949,
     "end_time": "2024-09-04T13:20:00.198689",
     "exception": false,
     "start_time": "2024-09-04T13:20:00.095740",
     "status": "completed"
    },
    "tags": []
   },
   "source": [
    "Mostly, we observe one mode but sometimes it can be more than one as well. What to do in multiple modes case? We can take some average or median of modes in that case, in case there is skewness within the modes, median would be a better guess and in case where medians come out to be floating point number we can just take the integer part as an approximation."
   ]
  },
  {
   "cell_type": "code",
   "execution_count": 1114,
   "id": "c1c9f032",
   "metadata": {
    "execution": {
     "iopub.execute_input": "2024-09-04T13:20:00.406962Z",
     "iopub.status.busy": "2024-09-04T13:20:00.406528Z",
     "iopub.status.idle": "2024-09-04T13:20:04.950129Z",
     "shell.execute_reply": "2024-09-04T13:20:04.948862Z"
    },
    "papermill": {
     "duration": 4.650396,
     "end_time": "2024-09-04T13:20:04.952772",
     "exception": false,
     "start_time": "2024-09-04T13:20:00.302376",
     "status": "completed"
    },
    "tags": []
   },
   "outputs": [],
   "source": [
    "df['Num_of_Delayed_Payment'] = df.groupby('Customer_ID')['Num_of_Delayed_Payment'].transform(return_mode_median_filled_int).astype(int)"
   ]
  },
  {
   "cell_type": "markdown",
   "id": "64d693d3",
   "metadata": {
    "papermill": {
     "duration": 0.101906,
     "end_time": "2024-09-04T13:20:05.158549",
     "exception": false,
     "start_time": "2024-09-04T13:20:05.056643",
     "status": "completed"
    },
    "tags": []
   },
   "source": [
    "Number of delayed payments is something that can vary from month to month its not like it has monotically increasing pattern or so which we can use as a sanity check. What we can try to observe is the relative devaition from median for this cleaned column."
   ]
  },
  {
   "cell_type": "code",
   "execution_count": 1115,
   "id": "fe1d355b",
   "metadata": {
    "execution": {
     "iopub.execute_input": "2024-09-04T13:20:05.366422Z",
     "iopub.status.busy": "2024-09-04T13:20:05.365994Z",
     "iopub.status.idle": "2024-09-04T13:20:21.556011Z",
     "shell.execute_reply": "2024-09-04T13:20:21.554940Z"
    },
    "papermill": {
     "duration": 16.297483,
     "end_time": "2024-09-04T13:20:21.558645",
     "exception": false,
     "start_time": "2024-09-04T13:20:05.261162",
     "status": "completed"
    },
    "tags": []
   },
   "outputs": [
    {
     "name": "stdout",
     "output_type": "stream",
     "text": [
      "Column description for Num_of_Delayed_Payment:\n",
      "\n",
      "count    80000.000000\n",
      "mean        13.333825\n",
      "std          6.266640\n",
      "min          0.000000\n",
      "25%          9.000000\n",
      "50%         14.000000\n",
      "75%         18.000000\n",
      "max         28.000000\n",
      "Name: Num_of_Delayed_Payment, dtype: float64\n",
      "\n",
      "Number of null values: 0 \n",
      "\n",
      "\n",
      "\n",
      "\n",
      "Median standardization for Num_of_Delayed_Payment:\n",
      "\n",
      "count    80000.000000\n",
      "mean         0.010526\n",
      "std          1.163537\n",
      "min        -10.000000\n",
      "25%          0.000000\n",
      "50%          0.000000\n",
      "75%          0.000000\n",
      "max          8.000000\n",
      "Name: Num_of_Delayed_Payment, dtype: float64\n",
      "\n",
      "Number of null values: 0 \n",
      "\n",
      "\n"
     ]
    },
    {
     "data": {
      "text/plain": [
       "{'Num_of_Delayed_Payment': {'Min. value': np.int64(0),\n",
       "  'Outlier lower range': -4.5,\n",
       "  'Outlier upper range': 31.5,\n",
       "  'Max. value': np.int64(28)},\n",
       " 'Median standardization of Num_of_Delayed_Payment': {'Min. value': np.float64(-10.0),\n",
       "  'Outlier lower range': 0.0,\n",
       "  'Outlier upper range': 0.0,\n",
       "  'Max. value': np.float64(8.0)},\n",
       " 'Max. MAD': np.float64(2.5)}"
      ]
     },
     "execution_count": 1115,
     "metadata": {},
     "output_type": "execute_result"
    }
   ],
   "source": [
    "summarize_numerical_column_with_deviation(df, 'Num_of_Delayed_Payment', median_standardization_summary = True)"
   ]
  },
  {
   "cell_type": "markdown",
   "id": "d926fc39",
   "metadata": {
    "jp-MarkdownHeadingCollapsed": true,
    "papermill": {
     "duration": 0.105125,
     "end_time": "2024-09-04T13:20:21.768430",
     "exception": false,
     "start_time": "2024-09-04T13:20:21.663305",
     "status": "completed"
    },
    "tags": []
   },
   "source": [
    "#### 11. Changed credit limit"
   ]
  },
  {
   "cell_type": "code",
   "execution_count": 1116,
   "id": "996931c4",
   "metadata": {
    "execution": {
     "iopub.execute_input": "2024-09-04T13:20:21.986537Z",
     "iopub.status.busy": "2024-09-04T13:20:21.986100Z",
     "iopub.status.idle": "2024-09-04T13:20:39.181375Z",
     "shell.execute_reply": "2024-09-04T13:20:39.180348Z"
    },
    "papermill": {
     "duration": 17.3084,
     "end_time": "2024-09-04T13:20:39.183845",
     "exception": false,
     "start_time": "2024-09-04T13:20:21.875445",
     "status": "completed"
    },
    "tags": []
   },
   "outputs": [
    {
     "name": "stdout",
     "output_type": "stream",
     "text": [
      "Column description for Changed_Credit_Limit:\n",
      "\n",
      "count    78330.000000\n",
      "mean        10.355606\n",
      "std          6.784688\n",
      "min         -6.490000\n",
      "25%          5.280000\n",
      "50%          9.370000\n",
      "75%         14.870000\n",
      "max         36.970000\n",
      "Name: Changed_Credit_Limit, dtype: float64\n",
      "\n",
      "Number of null values: 1670 \n",
      "\n",
      "\n",
      "\n",
      "\n",
      "Median standardization for Changed_Credit_Limit:\n",
      "\n",
      "count    78330.000000\n",
      "mean        -0.001555\n",
      "std          0.863465\n",
      "min        -14.000000\n",
      "25%          0.000000\n",
      "50%          0.000000\n",
      "75%          0.000000\n",
      "max         14.000000\n",
      "Name: Changed_Credit_Limit, dtype: float64\n",
      "\n",
      "Number of null values: 1670 \n",
      "\n",
      "\n"
     ]
    }
   ],
   "source": [
    "summary_changed_credit_limit = summarize_numerical_column_with_deviation(df, 'Changed_Credit_Limit', median_standardization_summary = True)"
   ]
  },
  {
   "cell_type": "markdown",
   "id": "893dd20f",
   "metadata": {
    "papermill": {
     "duration": 0.163037,
     "end_time": "2024-09-04T13:20:39.454540",
     "exception": false,
     "start_time": "2024-09-04T13:20:39.291503",
     "status": "completed"
    },
    "tags": []
   },
   "source": [
    "Credit card limit is dependent upon the users usage patterns. If the lender trusts the customer then it can increase also and if customer is late on payments, low activity etc. then the credit lmit can decrease as well. Thus, both negative and positive values are understandable."
   ]
  },
  {
   "cell_type": "markdown",
   "id": "2469bcc0",
   "metadata": {
    "papermill": {
     "duration": 0.105978,
     "end_time": "2024-09-04T13:20:39.666969",
     "exception": false,
     "start_time": "2024-09-04T13:20:39.560991",
     "status": "completed"
    },
    "tags": []
   },
   "source": [
    "The upper range for outliers for full column doesn't significantly deviate from the max value and its difficult to judge here what threshold should be placed on credit limit median standardization. Thus, we leave non-null values as it is for now."
   ]
  },
  {
   "cell_type": "code",
   "execution_count": 1117,
   "id": "e7da1856",
   "metadata": {
    "execution": {
     "iopub.execute_input": "2024-09-04T13:20:39.885204Z",
     "iopub.status.busy": "2024-09-04T13:20:39.884164Z",
     "iopub.status.idle": "2024-09-04T13:20:39.901228Z",
     "shell.execute_reply": "2024-09-04T13:20:39.900053Z"
    },
    "papermill": {
     "duration": 0.129209,
     "end_time": "2024-09-04T13:20:39.903687",
     "exception": false,
     "start_time": "2024-09-04T13:20:39.774478",
     "status": "completed"
    },
    "scrolled": true,
    "tags": []
   },
   "outputs": [
    {
     "data": {
      "text/html": [
       "<div>\n",
       "<style scoped>\n",
       "    .dataframe tbody tr th:only-of-type {\n",
       "        vertical-align: middle;\n",
       "    }\n",
       "\n",
       "    .dataframe tbody tr th {\n",
       "        vertical-align: top;\n",
       "    }\n",
       "\n",
       "    .dataframe thead th {\n",
       "        text-align: right;\n",
       "    }\n",
       "</style>\n",
       "<table border=\"1\" class=\"dataframe\">\n",
       "  <thead>\n",
       "    <tr style=\"text-align: right;\">\n",
       "      <th></th>\n",
       "      <th>Customer_ID</th>\n",
       "      <th>Changed_Credit_Limit</th>\n",
       "    </tr>\n",
       "  </thead>\n",
       "  <tbody>\n",
       "    <tr>\n",
       "      <th>0</th>\n",
       "      <td>CUS_0x1000</td>\n",
       "      <td>1.63</td>\n",
       "    </tr>\n",
       "    <tr>\n",
       "      <th>1</th>\n",
       "      <td>CUS_0x1000</td>\n",
       "      <td>1.63</td>\n",
       "    </tr>\n",
       "    <tr>\n",
       "      <th>2</th>\n",
       "      <td>CUS_0x1000</td>\n",
       "      <td>1.63</td>\n",
       "    </tr>\n",
       "    <tr>\n",
       "      <th>3</th>\n",
       "      <td>CUS_0x1000</td>\n",
       "      <td>1.63</td>\n",
       "    </tr>\n",
       "    <tr>\n",
       "      <th>4</th>\n",
       "      <td>CUS_0x1000</td>\n",
       "      <td>2.63</td>\n",
       "    </tr>\n",
       "    <tr>\n",
       "      <th>5</th>\n",
       "      <td>CUS_0x1000</td>\n",
       "      <td>1.63</td>\n",
       "    </tr>\n",
       "    <tr>\n",
       "      <th>6</th>\n",
       "      <td>CUS_0x1000</td>\n",
       "      <td>2.63</td>\n",
       "    </tr>\n",
       "    <tr>\n",
       "      <th>7</th>\n",
       "      <td>CUS_0x1000</td>\n",
       "      <td>1.63</td>\n",
       "    </tr>\n",
       "    <tr>\n",
       "      <th>8</th>\n",
       "      <td>CUS_0x1009</td>\n",
       "      <td>9.73</td>\n",
       "    </tr>\n",
       "    <tr>\n",
       "      <th>9</th>\n",
       "      <td>CUS_0x1009</td>\n",
       "      <td>9.73</td>\n",
       "    </tr>\n",
       "    <tr>\n",
       "      <th>10</th>\n",
       "      <td>CUS_0x1009</td>\n",
       "      <td>9.73</td>\n",
       "    </tr>\n",
       "    <tr>\n",
       "      <th>11</th>\n",
       "      <td>CUS_0x1009</td>\n",
       "      <td>9.73</td>\n",
       "    </tr>\n",
       "    <tr>\n",
       "      <th>12</th>\n",
       "      <td>CUS_0x1009</td>\n",
       "      <td>9.73</td>\n",
       "    </tr>\n",
       "    <tr>\n",
       "      <th>13</th>\n",
       "      <td>CUS_0x1009</td>\n",
       "      <td>9.73</td>\n",
       "    </tr>\n",
       "    <tr>\n",
       "      <th>14</th>\n",
       "      <td>CUS_0x1009</td>\n",
       "      <td>9.73</td>\n",
       "    </tr>\n",
       "    <tr>\n",
       "      <th>15</th>\n",
       "      <td>CUS_0x1009</td>\n",
       "      <td>9.73</td>\n",
       "    </tr>\n",
       "    <tr>\n",
       "      <th>16</th>\n",
       "      <td>CUS_0x100b</td>\n",
       "      <td>11.34</td>\n",
       "    </tr>\n",
       "    <tr>\n",
       "      <th>17</th>\n",
       "      <td>CUS_0x100b</td>\n",
       "      <td>11.34</td>\n",
       "    </tr>\n",
       "    <tr>\n",
       "      <th>18</th>\n",
       "      <td>CUS_0x100b</td>\n",
       "      <td>11.34</td>\n",
       "    </tr>\n",
       "    <tr>\n",
       "      <th>19</th>\n",
       "      <td>CUS_0x100b</td>\n",
       "      <td>NaN</td>\n",
       "    </tr>\n",
       "    <tr>\n",
       "      <th>20</th>\n",
       "      <td>CUS_0x100b</td>\n",
       "      <td>11.34</td>\n",
       "    </tr>\n",
       "    <tr>\n",
       "      <th>21</th>\n",
       "      <td>CUS_0x100b</td>\n",
       "      <td>11.34</td>\n",
       "    </tr>\n",
       "    <tr>\n",
       "      <th>22</th>\n",
       "      <td>CUS_0x100b</td>\n",
       "      <td>11.34</td>\n",
       "    </tr>\n",
       "    <tr>\n",
       "      <th>23</th>\n",
       "      <td>CUS_0x100b</td>\n",
       "      <td>8.34</td>\n",
       "    </tr>\n",
       "    <tr>\n",
       "      <th>24</th>\n",
       "      <td>CUS_0x1011</td>\n",
       "      <td>14.42</td>\n",
       "    </tr>\n",
       "    <tr>\n",
       "      <th>25</th>\n",
       "      <td>CUS_0x1011</td>\n",
       "      <td>14.42</td>\n",
       "    </tr>\n",
       "    <tr>\n",
       "      <th>26</th>\n",
       "      <td>CUS_0x1011</td>\n",
       "      <td>13.42</td>\n",
       "    </tr>\n",
       "    <tr>\n",
       "      <th>27</th>\n",
       "      <td>CUS_0x1011</td>\n",
       "      <td>14.42</td>\n",
       "    </tr>\n",
       "    <tr>\n",
       "      <th>28</th>\n",
       "      <td>CUS_0x1011</td>\n",
       "      <td>14.42</td>\n",
       "    </tr>\n",
       "    <tr>\n",
       "      <th>29</th>\n",
       "      <td>CUS_0x1011</td>\n",
       "      <td>13.42</td>\n",
       "    </tr>\n",
       "    <tr>\n",
       "      <th>30</th>\n",
       "      <td>CUS_0x1011</td>\n",
       "      <td>14.42</td>\n",
       "    </tr>\n",
       "    <tr>\n",
       "      <th>31</th>\n",
       "      <td>CUS_0x1011</td>\n",
       "      <td>14.42</td>\n",
       "    </tr>\n",
       "    <tr>\n",
       "      <th>32</th>\n",
       "      <td>CUS_0x1015</td>\n",
       "      <td>NaN</td>\n",
       "    </tr>\n",
       "    <tr>\n",
       "      <th>33</th>\n",
       "      <td>CUS_0x1015</td>\n",
       "      <td>15.83</td>\n",
       "    </tr>\n",
       "    <tr>\n",
       "      <th>34</th>\n",
       "      <td>CUS_0x1015</td>\n",
       "      <td>19.83</td>\n",
       "    </tr>\n",
       "    <tr>\n",
       "      <th>35</th>\n",
       "      <td>CUS_0x1015</td>\n",
       "      <td>15.83</td>\n",
       "    </tr>\n",
       "    <tr>\n",
       "      <th>36</th>\n",
       "      <td>CUS_0x1015</td>\n",
       "      <td>15.83</td>\n",
       "    </tr>\n",
       "    <tr>\n",
       "      <th>37</th>\n",
       "      <td>CUS_0x1015</td>\n",
       "      <td>15.83</td>\n",
       "    </tr>\n",
       "    <tr>\n",
       "      <th>38</th>\n",
       "      <td>CUS_0x1015</td>\n",
       "      <td>15.83</td>\n",
       "    </tr>\n",
       "    <tr>\n",
       "      <th>39</th>\n",
       "      <td>CUS_0x1015</td>\n",
       "      <td>15.83</td>\n",
       "    </tr>\n",
       "  </tbody>\n",
       "</table>\n",
       "</div>"
      ],
      "text/plain": [
       "   Customer_ID  Changed_Credit_Limit\n",
       "0   CUS_0x1000                  1.63\n",
       "1   CUS_0x1000                  1.63\n",
       "2   CUS_0x1000                  1.63\n",
       "3   CUS_0x1000                  1.63\n",
       "4   CUS_0x1000                  2.63\n",
       "5   CUS_0x1000                  1.63\n",
       "6   CUS_0x1000                  2.63\n",
       "7   CUS_0x1000                  1.63\n",
       "8   CUS_0x1009                  9.73\n",
       "9   CUS_0x1009                  9.73\n",
       "10  CUS_0x1009                  9.73\n",
       "11  CUS_0x1009                  9.73\n",
       "12  CUS_0x1009                  9.73\n",
       "13  CUS_0x1009                  9.73\n",
       "14  CUS_0x1009                  9.73\n",
       "15  CUS_0x1009                  9.73\n",
       "16  CUS_0x100b                 11.34\n",
       "17  CUS_0x100b                 11.34\n",
       "18  CUS_0x100b                 11.34\n",
       "19  CUS_0x100b                   NaN\n",
       "20  CUS_0x100b                 11.34\n",
       "21  CUS_0x100b                 11.34\n",
       "22  CUS_0x100b                 11.34\n",
       "23  CUS_0x100b                  8.34\n",
       "24  CUS_0x1011                 14.42\n",
       "25  CUS_0x1011                 14.42\n",
       "26  CUS_0x1011                 13.42\n",
       "27  CUS_0x1011                 14.42\n",
       "28  CUS_0x1011                 14.42\n",
       "29  CUS_0x1011                 13.42\n",
       "30  CUS_0x1011                 14.42\n",
       "31  CUS_0x1011                 14.42\n",
       "32  CUS_0x1015                   NaN\n",
       "33  CUS_0x1015                 15.83\n",
       "34  CUS_0x1015                 19.83\n",
       "35  CUS_0x1015                 15.83\n",
       "36  CUS_0x1015                 15.83\n",
       "37  CUS_0x1015                 15.83\n",
       "38  CUS_0x1015                 15.83\n",
       "39  CUS_0x1015                 15.83"
      ]
     },
     "execution_count": 1117,
     "metadata": {},
     "output_type": "execute_result"
    }
   ],
   "source": [
    "df[['Customer_ID', 'Changed_Credit_Limit']].head(40)"
   ]
  },
  {
   "cell_type": "markdown",
   "id": "fde93d96",
   "metadata": {
    "papermill": {
     "duration": 0.108235,
     "end_time": "2024-09-04T13:20:40.121401",
     "exception": false,
     "start_time": "2024-09-04T13:20:40.013166",
     "status": "completed"
    },
    "tags": []
   },
   "source": [
    "Looking at the data usually the credit limit occurs with the same value across months i.e. the mode might be an appropriate value to imputate. Lets do some checks first though."
   ]
  },
  {
   "cell_type": "code",
   "execution_count": 1118,
   "id": "63f6a7a9",
   "metadata": {
    "execution": {
     "iopub.execute_input": "2024-09-04T13:20:40.337858Z",
     "iopub.status.busy": "2024-09-04T13:20:40.336569Z",
     "iopub.status.idle": "2024-09-04T13:20:41.902867Z",
     "shell.execute_reply": "2024-09-04T13:20:41.901527Z"
    },
    "papermill": {
     "duration": 1.676763,
     "end_time": "2024-09-04T13:20:41.905380",
     "exception": false,
     "start_time": "2024-09-04T13:20:40.228617",
     "status": "completed"
    },
    "tags": []
   },
   "outputs": [
    {
     "data": {
      "text/plain": [
       "Changed_Credit_Limit\n",
       "1    9992\n",
       "2       8\n",
       "Name: count, dtype: int64"
      ]
     },
     "execution_count": 1118,
     "metadata": {},
     "output_type": "execute_result"
    }
   ],
   "source": [
    "df.groupby('Customer_ID')['Changed_Credit_Limit'].agg(lambda x: len(x.mode())).value_counts()"
   ]
  },
  {
   "cell_type": "markdown",
   "id": "ca39f168",
   "metadata": {
    "papermill": {
     "duration": 0.110638,
     "end_time": "2024-09-04T13:20:42.123584",
     "exception": false,
     "start_time": "2024-09-04T13:20:42.012946",
     "status": "completed"
    },
    "tags": []
   },
   "source": [
    "Almost all the time only one mode appears. But sometimes two mode can occur as well, since this is a floating point type feature and there are only two mode values we will choose average of both which will be same as median in this case."
   ]
  },
  {
   "cell_type": "code",
   "execution_count": 1119,
   "id": "19ac38d7",
   "metadata": {
    "execution": {
     "iopub.execute_input": "2024-09-04T13:20:42.343707Z",
     "iopub.status.busy": "2024-09-04T13:20:42.342571Z",
     "iopub.status.idle": "2024-09-04T13:20:46.526473Z",
     "shell.execute_reply": "2024-09-04T13:20:46.525222Z"
    },
    "papermill": {
     "duration": 4.296509,
     "end_time": "2024-09-04T13:20:46.529605",
     "exception": false,
     "start_time": "2024-09-04T13:20:42.233096",
     "status": "completed"
    },
    "tags": []
   },
   "outputs": [],
   "source": [
    "df['Changed_Credit_Limit'] = df.groupby('Customer_ID')['Changed_Credit_Limit'].transform(return_mode_average_filled)"
   ]
  },
  {
   "cell_type": "code",
   "execution_count": 1120,
   "id": "a16b50a4",
   "metadata": {
    "execution": {
     "iopub.execute_input": "2024-09-04T13:20:46.749459Z",
     "iopub.status.busy": "2024-09-04T13:20:46.749063Z",
     "iopub.status.idle": "2024-09-04T13:20:46.757243Z",
     "shell.execute_reply": "2024-09-04T13:20:46.756137Z"
    },
    "papermill": {
     "duration": 0.11994,
     "end_time": "2024-09-04T13:20:46.759396",
     "exception": false,
     "start_time": "2024-09-04T13:20:46.639456",
     "status": "completed"
    },
    "tags": []
   },
   "outputs": [
    {
     "data": {
      "text/plain": [
       "np.int64(0)"
      ]
     },
     "execution_count": 1120,
     "metadata": {},
     "output_type": "execute_result"
    }
   ],
   "source": [
    "df['Changed_Credit_Limit'].isnull().sum()"
   ]
  },
  {
   "cell_type": "markdown",
   "id": "2de081d4",
   "metadata": {
    "jp-MarkdownHeadingCollapsed": true,
    "papermill": {
     "duration": 0.10896,
     "end_time": "2024-09-04T13:20:46.981366",
     "exception": false,
     "start_time": "2024-09-04T13:20:46.872406",
     "status": "completed"
    },
    "tags": []
   },
   "source": [
    "#### 12. Number of credit card inquiries"
   ]
  },
  {
   "cell_type": "code",
   "execution_count": 1121,
   "id": "2110acaa",
   "metadata": {
    "execution": {
     "iopub.execute_input": "2024-09-04T13:20:47.204567Z",
     "iopub.status.busy": "2024-09-04T13:20:47.204167Z",
     "iopub.status.idle": "2024-09-04T13:21:17.663407Z",
     "shell.execute_reply": "2024-09-04T13:21:17.662154Z"
    },
    "papermill": {
     "duration": 30.574351,
     "end_time": "2024-09-04T13:21:17.666219",
     "exception": false,
     "start_time": "2024-09-04T13:20:47.091868",
     "status": "completed"
    },
    "tags": []
   },
   "outputs": [
    {
     "name": "stdout",
     "output_type": "stream",
     "text": [
      "Column description for Num_Credit_Inquiries:\n",
      "\n",
      "count    78448.000000\n",
      "mean        27.365949\n",
      "std        190.354604\n",
      "min          0.000000\n",
      "25%          3.000000\n",
      "50%          6.000000\n",
      "75%          9.000000\n",
      "max       2597.000000\n",
      "Name: Num_Credit_Inquiries, dtype: float64\n",
      "\n",
      "Number of null values: 1552 \n",
      "\n",
      "\n",
      "\n",
      "\n",
      "Median standardization for Num_Credit_Inquiries:\n",
      "\n",
      "count    78448.000000\n",
      "mean         6.996741\n",
      "std         93.884334\n",
      "min         -2.000000\n",
      "25%          0.000000\n",
      "50%          0.000000\n",
      "75%          0.000000\n",
      "max       5070.000000\n",
      "Name: Num_Credit_Inquiries, dtype: float64\n",
      "\n",
      "Number of null values: 1552 \n",
      "\n",
      "\n"
     ]
    }
   ],
   "source": [
    "summary_num_credit_inquiries = summarize_numerical_column_with_deviation(df, 'Num_Credit_Inquiries', median_standardization_summary = True)"
   ]
  },
  {
   "cell_type": "markdown",
   "id": "2f40dca7",
   "metadata": {
    "papermill": {
     "duration": 0.110815,
     "end_time": "2024-09-04T13:21:17.889181",
     "exception": false,
     "start_time": "2024-09-04T13:21:17.778366",
     "status": "completed"
    },
    "tags": []
   },
   "source": [
    "Judging from median standardization almost all of the values are same as median and this is leading to 0 median standardization. median standardization definitely should be like this and should be skewed in nature but its hard to assess what threshold to use without a domain expert. We will use the full column as a sample and judge based on that here."
   ]
  },
  {
   "cell_type": "markdown",
   "id": "ab115385",
   "metadata": {
    "papermill": {
     "duration": 0.111205,
     "end_time": "2024-09-04T13:21:18.110450",
     "exception": false,
     "start_time": "2024-09-04T13:21:17.999245",
     "status": "completed"
    },
    "tags": []
   },
   "source": [
    "Number of credit card inquiries cant be negative and can't be too extreme as well. We will replace those values with null for now."
   ]
  },
  {
   "cell_type": "code",
   "execution_count": 1122,
   "id": "a3afbc93",
   "metadata": {
    "execution": {
     "iopub.execute_input": "2024-09-04T13:21:18.331950Z",
     "iopub.status.busy": "2024-09-04T13:21:18.331529Z",
     "iopub.status.idle": "2024-09-04T13:21:18.340430Z",
     "shell.execute_reply": "2024-09-04T13:21:18.339305Z"
    },
    "papermill": {
     "duration": 0.1218,
     "end_time": "2024-09-04T13:21:18.342979",
     "exception": false,
     "start_time": "2024-09-04T13:21:18.221179",
     "status": "completed"
    },
    "tags": []
   },
   "outputs": [],
   "source": [
    "df['Num_Credit_Inquiries'][(df['Num_Credit_Inquiries'] > summary_num_credit_inquiries['Num_Credit_Inquiries']['Outlier upper range']) | (df['Num_Credit_Inquiries'] < 0)] = np.nan"
   ]
  },
  {
   "cell_type": "code",
   "execution_count": 1123,
   "id": "c0b8644d",
   "metadata": {
    "execution": {
     "iopub.execute_input": "2024-09-04T13:21:18.625702Z",
     "iopub.status.busy": "2024-09-04T13:21:18.624518Z",
     "iopub.status.idle": "2024-09-04T13:21:18.632602Z",
     "shell.execute_reply": "2024-09-04T13:21:18.631384Z"
    },
    "papermill": {
     "duration": 0.123862,
     "end_time": "2024-09-04T13:21:18.635036",
     "exception": false,
     "start_time": "2024-09-04T13:21:18.511174",
     "status": "completed"
    },
    "tags": []
   },
   "outputs": [
    {
     "data": {
      "text/plain": [
       "np.int64(2859)"
      ]
     },
     "execution_count": 1123,
     "metadata": {},
     "output_type": "execute_result"
    }
   ],
   "source": [
    "df['Num_Credit_Inquiries'].isnull().sum()"
   ]
  },
  {
   "cell_type": "markdown",
   "id": "767d02fe",
   "metadata": {
    "papermill": {
     "duration": 0.11032,
     "end_time": "2024-09-04T13:21:18.854543",
     "exception": false,
     "start_time": "2024-09-04T13:21:18.744223",
     "status": "completed"
    },
    "tags": []
   },
   "source": [
    "Lets look at some data."
   ]
  },
  {
   "cell_type": "code",
   "execution_count": 1124,
   "id": "6f1c22db",
   "metadata": {
    "execution": {
     "iopub.execute_input": "2024-09-04T13:21:19.076290Z",
     "iopub.status.busy": "2024-09-04T13:21:19.075851Z",
     "iopub.status.idle": "2024-09-04T13:21:19.093449Z",
     "shell.execute_reply": "2024-09-04T13:21:19.092405Z"
    },
    "papermill": {
     "duration": 0.131832,
     "end_time": "2024-09-04T13:21:19.095729",
     "exception": false,
     "start_time": "2024-09-04T13:21:18.963897",
     "status": "completed"
    },
    "scrolled": true,
    "tags": []
   },
   "outputs": [
    {
     "data": {
      "text/html": [
       "<div>\n",
       "<style scoped>\n",
       "    .dataframe tbody tr th:only-of-type {\n",
       "        vertical-align: middle;\n",
       "    }\n",
       "\n",
       "    .dataframe tbody tr th {\n",
       "        vertical-align: top;\n",
       "    }\n",
       "\n",
       "    .dataframe thead th {\n",
       "        text-align: right;\n",
       "    }\n",
       "</style>\n",
       "<table border=\"1\" class=\"dataframe\">\n",
       "  <thead>\n",
       "    <tr style=\"text-align: right;\">\n",
       "      <th></th>\n",
       "      <th>Customer_ID</th>\n",
       "      <th>Num_Credit_Inquiries</th>\n",
       "    </tr>\n",
       "  </thead>\n",
       "  <tbody>\n",
       "    <tr>\n",
       "      <th>0</th>\n",
       "      <td>CUS_0x1000</td>\n",
       "      <td>10.0</td>\n",
       "    </tr>\n",
       "    <tr>\n",
       "      <th>1</th>\n",
       "      <td>CUS_0x1000</td>\n",
       "      <td>11.0</td>\n",
       "    </tr>\n",
       "    <tr>\n",
       "      <th>2</th>\n",
       "      <td>CUS_0x1000</td>\n",
       "      <td>11.0</td>\n",
       "    </tr>\n",
       "    <tr>\n",
       "      <th>3</th>\n",
       "      <td>CUS_0x1000</td>\n",
       "      <td>11.0</td>\n",
       "    </tr>\n",
       "    <tr>\n",
       "      <th>4</th>\n",
       "      <td>CUS_0x1000</td>\n",
       "      <td>11.0</td>\n",
       "    </tr>\n",
       "    <tr>\n",
       "      <th>5</th>\n",
       "      <td>CUS_0x1000</td>\n",
       "      <td>11.0</td>\n",
       "    </tr>\n",
       "    <tr>\n",
       "      <th>6</th>\n",
       "      <td>CUS_0x1000</td>\n",
       "      <td>11.0</td>\n",
       "    </tr>\n",
       "    <tr>\n",
       "      <th>7</th>\n",
       "      <td>CUS_0x1000</td>\n",
       "      <td>11.0</td>\n",
       "    </tr>\n",
       "    <tr>\n",
       "      <th>8</th>\n",
       "      <td>CUS_0x1009</td>\n",
       "      <td>2.0</td>\n",
       "    </tr>\n",
       "    <tr>\n",
       "      <th>9</th>\n",
       "      <td>CUS_0x1009</td>\n",
       "      <td>2.0</td>\n",
       "    </tr>\n",
       "    <tr>\n",
       "      <th>10</th>\n",
       "      <td>CUS_0x1009</td>\n",
       "      <td>2.0</td>\n",
       "    </tr>\n",
       "    <tr>\n",
       "      <th>11</th>\n",
       "      <td>CUS_0x1009</td>\n",
       "      <td>2.0</td>\n",
       "    </tr>\n",
       "    <tr>\n",
       "      <th>12</th>\n",
       "      <td>CUS_0x1009</td>\n",
       "      <td>4.0</td>\n",
       "    </tr>\n",
       "    <tr>\n",
       "      <th>13</th>\n",
       "      <td>CUS_0x1009</td>\n",
       "      <td>4.0</td>\n",
       "    </tr>\n",
       "    <tr>\n",
       "      <th>14</th>\n",
       "      <td>CUS_0x1009</td>\n",
       "      <td>4.0</td>\n",
       "    </tr>\n",
       "    <tr>\n",
       "      <th>15</th>\n",
       "      <td>CUS_0x1009</td>\n",
       "      <td>4.0</td>\n",
       "    </tr>\n",
       "    <tr>\n",
       "      <th>16</th>\n",
       "      <td>CUS_0x100b</td>\n",
       "      <td>1.0</td>\n",
       "    </tr>\n",
       "    <tr>\n",
       "      <th>17</th>\n",
       "      <td>CUS_0x100b</td>\n",
       "      <td>NaN</td>\n",
       "    </tr>\n",
       "    <tr>\n",
       "      <th>18</th>\n",
       "      <td>CUS_0x100b</td>\n",
       "      <td>1.0</td>\n",
       "    </tr>\n",
       "    <tr>\n",
       "      <th>19</th>\n",
       "      <td>CUS_0x100b</td>\n",
       "      <td>1.0</td>\n",
       "    </tr>\n",
       "    <tr>\n",
       "      <th>20</th>\n",
       "      <td>CUS_0x100b</td>\n",
       "      <td>1.0</td>\n",
       "    </tr>\n",
       "    <tr>\n",
       "      <th>21</th>\n",
       "      <td>CUS_0x100b</td>\n",
       "      <td>1.0</td>\n",
       "    </tr>\n",
       "    <tr>\n",
       "      <th>22</th>\n",
       "      <td>CUS_0x100b</td>\n",
       "      <td>4.0</td>\n",
       "    </tr>\n",
       "    <tr>\n",
       "      <th>23</th>\n",
       "      <td>CUS_0x100b</td>\n",
       "      <td>4.0</td>\n",
       "    </tr>\n",
       "    <tr>\n",
       "      <th>24</th>\n",
       "      <td>CUS_0x1011</td>\n",
       "      <td>7.0</td>\n",
       "    </tr>\n",
       "    <tr>\n",
       "      <th>25</th>\n",
       "      <td>CUS_0x1011</td>\n",
       "      <td>7.0</td>\n",
       "    </tr>\n",
       "    <tr>\n",
       "      <th>26</th>\n",
       "      <td>CUS_0x1011</td>\n",
       "      <td>7.0</td>\n",
       "    </tr>\n",
       "    <tr>\n",
       "      <th>27</th>\n",
       "      <td>CUS_0x1011</td>\n",
       "      <td>7.0</td>\n",
       "    </tr>\n",
       "    <tr>\n",
       "      <th>28</th>\n",
       "      <td>CUS_0x1011</td>\n",
       "      <td>NaN</td>\n",
       "    </tr>\n",
       "    <tr>\n",
       "      <th>29</th>\n",
       "      <td>CUS_0x1011</td>\n",
       "      <td>7.0</td>\n",
       "    </tr>\n",
       "    <tr>\n",
       "      <th>30</th>\n",
       "      <td>CUS_0x1011</td>\n",
       "      <td>7.0</td>\n",
       "    </tr>\n",
       "    <tr>\n",
       "      <th>31</th>\n",
       "      <td>CUS_0x1011</td>\n",
       "      <td>7.0</td>\n",
       "    </tr>\n",
       "    <tr>\n",
       "      <th>32</th>\n",
       "      <td>CUS_0x1015</td>\n",
       "      <td>4.0</td>\n",
       "    </tr>\n",
       "    <tr>\n",
       "      <th>33</th>\n",
       "      <td>CUS_0x1015</td>\n",
       "      <td>4.0</td>\n",
       "    </tr>\n",
       "    <tr>\n",
       "      <th>34</th>\n",
       "      <td>CUS_0x1015</td>\n",
       "      <td>9.0</td>\n",
       "    </tr>\n",
       "    <tr>\n",
       "      <th>35</th>\n",
       "      <td>CUS_0x1015</td>\n",
       "      <td>9.0</td>\n",
       "    </tr>\n",
       "    <tr>\n",
       "      <th>36</th>\n",
       "      <td>CUS_0x1015</td>\n",
       "      <td>9.0</td>\n",
       "    </tr>\n",
       "    <tr>\n",
       "      <th>37</th>\n",
       "      <td>CUS_0x1015</td>\n",
       "      <td>9.0</td>\n",
       "    </tr>\n",
       "    <tr>\n",
       "      <th>38</th>\n",
       "      <td>CUS_0x1015</td>\n",
       "      <td>9.0</td>\n",
       "    </tr>\n",
       "    <tr>\n",
       "      <th>39</th>\n",
       "      <td>CUS_0x1015</td>\n",
       "      <td>9.0</td>\n",
       "    </tr>\n",
       "  </tbody>\n",
       "</table>\n",
       "</div>"
      ],
      "text/plain": [
       "   Customer_ID  Num_Credit_Inquiries\n",
       "0   CUS_0x1000                  10.0\n",
       "1   CUS_0x1000                  11.0\n",
       "2   CUS_0x1000                  11.0\n",
       "3   CUS_0x1000                  11.0\n",
       "4   CUS_0x1000                  11.0\n",
       "5   CUS_0x1000                  11.0\n",
       "6   CUS_0x1000                  11.0\n",
       "7   CUS_0x1000                  11.0\n",
       "8   CUS_0x1009                   2.0\n",
       "9   CUS_0x1009                   2.0\n",
       "10  CUS_0x1009                   2.0\n",
       "11  CUS_0x1009                   2.0\n",
       "12  CUS_0x1009                   4.0\n",
       "13  CUS_0x1009                   4.0\n",
       "14  CUS_0x1009                   4.0\n",
       "15  CUS_0x1009                   4.0\n",
       "16  CUS_0x100b                   1.0\n",
       "17  CUS_0x100b                   NaN\n",
       "18  CUS_0x100b                   1.0\n",
       "19  CUS_0x100b                   1.0\n",
       "20  CUS_0x100b                   1.0\n",
       "21  CUS_0x100b                   1.0\n",
       "22  CUS_0x100b                   4.0\n",
       "23  CUS_0x100b                   4.0\n",
       "24  CUS_0x1011                   7.0\n",
       "25  CUS_0x1011                   7.0\n",
       "26  CUS_0x1011                   7.0\n",
       "27  CUS_0x1011                   7.0\n",
       "28  CUS_0x1011                   NaN\n",
       "29  CUS_0x1011                   7.0\n",
       "30  CUS_0x1011                   7.0\n",
       "31  CUS_0x1011                   7.0\n",
       "32  CUS_0x1015                   4.0\n",
       "33  CUS_0x1015                   4.0\n",
       "34  CUS_0x1015                   9.0\n",
       "35  CUS_0x1015                   9.0\n",
       "36  CUS_0x1015                   9.0\n",
       "37  CUS_0x1015                   9.0\n",
       "38  CUS_0x1015                   9.0\n",
       "39  CUS_0x1015                   9.0"
      ]
     },
     "execution_count": 1124,
     "metadata": {},
     "output_type": "execute_result"
    }
   ],
   "source": [
    "df[['Customer_ID', 'Num_Credit_Inquiries']].head(40)"
   ]
  },
  {
   "cell_type": "markdown",
   "id": "ae3e76e3",
   "metadata": {
    "papermill": {
     "duration": 0.108433,
     "end_time": "2024-09-04T13:21:19.314310",
     "exception": false,
     "start_time": "2024-09-04T13:21:19.205877",
     "status": "completed"
    },
    "tags": []
   },
   "source": [
    "This a type of data which is monotically increasing in nature and thus should increase or remain same as months go on. Lets check that."
   ]
  },
  {
   "cell_type": "code",
   "execution_count": 1125,
   "id": "2cbcd1ee",
   "metadata": {
    "execution": {
     "iopub.execute_input": "2024-09-04T13:21:19.535222Z",
     "iopub.status.busy": "2024-09-04T13:21:19.534814Z",
     "iopub.status.idle": "2024-09-04T13:21:22.819051Z",
     "shell.execute_reply": "2024-09-04T13:21:22.817875Z"
    },
    "papermill": {
     "duration": 3.397317,
     "end_time": "2024-09-04T13:21:22.821553",
     "exception": false,
     "start_time": "2024-09-04T13:21:19.424236",
     "status": "completed"
    },
    "tags": []
   },
   "outputs": [
    {
     "data": {
      "text/plain": [
       "Num_Credit_Inquiries\n",
       "0.0    59703\n",
       "3.0     1089\n",
       "4.0     1072\n",
       "2.0     1068\n",
       "1.0     1059\n",
       "5.0     1050\n",
       "Name: count, dtype: int64"
      ]
     },
     "execution_count": 1125,
     "metadata": {},
     "output_type": "execute_result"
    }
   ],
   "source": [
    "df.groupby('Customer_ID')['Num_Credit_Inquiries'].transform(pd.Series.diff).value_counts()"
   ]
  },
  {
   "cell_type": "markdown",
   "id": "456d39a1",
   "metadata": {
    "papermill": {
     "duration": 0.111476,
     "end_time": "2024-09-04T13:21:23.042047",
     "exception": false,
     "start_time": "2024-09-04T13:21:22.930571",
     "status": "completed"
    },
    "tags": []
   },
   "source": [
    "As expected it mostly either remains same or increases. In this case we can just use forward fill and backward fill to fill these nulls."
   ]
  },
  {
   "cell_type": "code",
   "execution_count": 1126,
   "id": "42024dfe",
   "metadata": {
    "execution": {
     "iopub.execute_input": "2024-09-04T13:21:23.263245Z",
     "iopub.status.busy": "2024-09-04T13:21:23.262829Z",
     "iopub.status.idle": "2024-09-04T13:21:27.568687Z",
     "shell.execute_reply": "2024-09-04T13:21:27.567530Z"
    },
    "papermill": {
     "duration": 4.419378,
     "end_time": "2024-09-04T13:21:27.571236",
     "exception": false,
     "start_time": "2024-09-04T13:21:23.151858",
     "status": "completed"
    },
    "tags": []
   },
   "outputs": [],
   "source": [
    "df['Num_Credit_Inquiries'] = df.groupby('Customer_ID')['Num_Credit_Inquiries'].transform(forward_backward_fill).astype(int)"
   ]
  },
  {
   "cell_type": "markdown",
   "id": "bf979748",
   "metadata": {
    "papermill": {
     "duration": 0.110882,
     "end_time": "2024-09-04T13:21:27.796529",
     "exception": false,
     "start_time": "2024-09-04T13:21:27.685647",
     "status": "completed"
    },
    "tags": []
   },
   "source": [
    "Lets do the check again."
   ]
  },
  {
   "cell_type": "code",
   "execution_count": 1127,
   "id": "059f6006",
   "metadata": {
    "execution": {
     "iopub.execute_input": "2024-09-04T13:21:28.020594Z",
     "iopub.status.busy": "2024-09-04T13:21:28.020187Z",
     "iopub.status.idle": "2024-09-04T13:21:30.745125Z",
     "shell.execute_reply": "2024-09-04T13:21:30.744056Z"
    },
    "papermill": {
     "duration": 2.840911,
     "end_time": "2024-09-04T13:21:30.747469",
     "exception": false,
     "start_time": "2024-09-04T13:21:27.906558",
     "status": "completed"
    },
    "tags": []
   },
   "outputs": [
    {
     "data": {
      "text/plain": [
       "Num_Credit_Inquiries\n",
       "0.0    64335\n",
       "3.0     1160\n",
       "4.0     1148\n",
       "2.0     1138\n",
       "1.0     1113\n",
       "5.0     1106\n",
       "Name: count, dtype: int64"
      ]
     },
     "execution_count": 1127,
     "metadata": {},
     "output_type": "execute_result"
    }
   ],
   "source": [
    "df.groupby('Customer_ID')['Num_Credit_Inquiries'].transform(pd.Series.diff).value_counts()"
   ]
  },
  {
   "cell_type": "markdown",
   "id": "cc02d2b8",
   "metadata": {
    "jp-MarkdownHeadingCollapsed": true,
    "papermill": {
     "duration": 0.110139,
     "end_time": "2024-09-04T13:21:30.968910",
     "exception": false,
     "start_time": "2024-09-04T13:21:30.858771",
     "status": "completed"
    },
    "tags": []
   },
   "source": [
    "#### 13. Credit Mix"
   ]
  },
  {
   "cell_type": "code",
   "execution_count": 1128,
   "id": "991d75d5",
   "metadata": {
    "execution": {
     "iopub.execute_input": "2024-09-04T13:21:31.200412Z",
     "iopub.status.busy": "2024-09-04T13:21:31.200003Z",
     "iopub.status.idle": "2024-09-04T13:21:31.423432Z",
     "shell.execute_reply": "2024-09-04T13:21:31.422405Z"
    },
    "papermill": {
     "duration": 0.343784,
     "end_time": "2024-09-04T13:21:31.425954",
     "exception": false,
     "start_time": "2024-09-04T13:21:31.082170",
     "status": "completed"
    },
    "tags": []
   },
   "outputs": [
    {
     "data": {
      "image/png": "[encoded data removed]",
      "text/plain": [
       "<Figure size 640x480 with 1 Axes>"
      ]
     },
     "metadata": {},
     "output_type": "display_data"
    }
   ],
   "source": [
    "credit_mix_count = df['Credit_Mix'].value_counts()\n",
    "sns.barplot(x = credit_mix_count.values, y = credit_mix_count.index, orient = 'h')\n",
    "plt.xlabel('Count')\n",
    "plt.ylabel('Credit Mix');"
   ]
  },
  {
   "cell_type": "code",
   "execution_count": 1129,
   "id": "64de134d",
   "metadata": {
    "execution": {
     "iopub.execute_input": "2024-09-04T13:21:31.649784Z",
     "iopub.status.busy": "2024-09-04T13:21:31.649355Z",
     "iopub.status.idle": "2024-09-04T13:21:31.661791Z",
     "shell.execute_reply": "2024-09-04T13:21:31.660603Z"
    },
    "papermill": {
     "duration": 0.127333,
     "end_time": "2024-09-04T13:21:31.664106",
     "exception": false,
     "start_time": "2024-09-04T13:21:31.536773",
     "status": "completed"
    },
    "tags": []
   },
   "outputs": [
    {
     "data": {
      "text/plain": [
       "np.int64(16149)"
      ]
     },
     "execution_count": 1129,
     "metadata": {},
     "output_type": "execute_result"
    }
   ],
   "source": [
    "df['Credit_Mix'].isnull().sum()"
   ]
  },
  {
   "cell_type": "markdown",
   "id": "42bdb060",
   "metadata": {
    "papermill": {
     "duration": 0.110363,
     "end_time": "2024-09-04T13:21:31.885007",
     "exception": false,
     "start_time": "2024-09-04T13:21:31.774644",
     "status": "completed"
    },
    "tags": []
   },
   "source": [
    "A lot of null values present. We have already seen that during the 8-months period the type of loans and number of loans remain same so its fair to assume credit mix will also remain same. Lets check that with the given data."
   ]
  },
  {
   "cell_type": "code",
   "execution_count": 1130,
   "id": "70255165",
   "metadata": {
    "execution": {
     "iopub.execute_input": "2024-09-04T13:21:32.109488Z",
     "iopub.status.busy": "2024-09-04T13:21:32.109098Z",
     "iopub.status.idle": "2024-09-04T13:21:32.144268Z",
     "shell.execute_reply": "2024-09-04T13:21:32.143118Z"
    },
    "papermill": {
     "duration": 0.150466,
     "end_time": "2024-09-04T13:21:32.146453",
     "exception": false,
     "start_time": "2024-09-04T13:21:31.995987",
     "status": "completed"
    },
    "tags": []
   },
   "outputs": [
    {
     "data": {
      "text/plain": [
       "Credit_Mix\n",
       "1    10000\n",
       "Name: count, dtype: int64"
      ]
     },
     "execution_count": 1130,
     "metadata": {},
     "output_type": "execute_result"
    }
   ],
   "source": [
    "df.groupby('Customer_ID')['Credit_Mix'].nunique().value_counts()"
   ]
  },
  {
   "cell_type": "markdown",
   "id": "0a790635",
   "metadata": {
    "papermill": {
     "duration": 0.111228,
     "end_time": "2024-09-04T13:21:32.368619",
     "exception": false,
     "start_time": "2024-09-04T13:21:32.257391",
     "status": "completed"
    },
    "tags": []
   },
   "source": [
    "We can observe that one customer has only one type of credit mix only, throughout the 8-months period apart from null values. We can just use forward fill and bacward fill to achieve the desired goal."
   ]
  },
  {
   "cell_type": "code",
   "execution_count": 1131,
   "id": "1b6f5b56",
   "metadata": {
    "execution": {
     "iopub.execute_input": "2024-09-04T13:21:32.590857Z",
     "iopub.status.busy": "2024-09-04T13:21:32.590411Z",
     "iopub.status.idle": "2024-09-04T13:21:38.550426Z",
     "shell.execute_reply": "2024-09-04T13:21:38.549260Z"
    },
    "papermill": {
     "duration": 6.074168,
     "end_time": "2024-09-04T13:21:38.553502",
     "exception": false,
     "start_time": "2024-09-04T13:21:32.479334",
     "status": "completed"
    },
    "tags": []
   },
   "outputs": [],
   "source": [
    "df['Credit_Mix'] = df.groupby('Customer_ID')['Credit_Mix'].transform(forward_backward_fill)"
   ]
  },
  {
   "cell_type": "code",
   "execution_count": 1132,
   "id": "19ef4f43",
   "metadata": {
    "execution": {
     "iopub.execute_input": "2024-09-04T13:21:38.787489Z",
     "iopub.status.busy": "2024-09-04T13:21:38.786989Z",
     "iopub.status.idle": "2024-09-04T13:21:38.804655Z",
     "shell.execute_reply": "2024-09-04T13:21:38.803553Z"
    },
    "papermill": {
     "duration": 0.133569,
     "end_time": "2024-09-04T13:21:38.807017",
     "exception": false,
     "start_time": "2024-09-04T13:21:38.673448",
     "status": "completed"
    },
    "tags": []
   },
   "outputs": [
    {
     "data": {
      "text/plain": [
       "np.int64(0)"
      ]
     },
     "execution_count": 1132,
     "metadata": {},
     "output_type": "execute_result"
    }
   ],
   "source": [
    "df['Credit_Mix'].isnull().sum()"
   ]
  },
  {
   "cell_type": "markdown",
   "id": "dd2ea084",
   "metadata": {
    "jp-MarkdownHeadingCollapsed": true,
    "papermill": {
     "duration": 0.117293,
     "end_time": "2024-09-04T13:21:39.095320",
     "exception": false,
     "start_time": "2024-09-04T13:21:38.978027",
     "status": "completed"
    },
    "tags": []
   },
   "source": [
    "#### 14. Outstanding debt"
   ]
  },
  {
   "cell_type": "code",
   "execution_count": 1133,
   "id": "a6ffe9f8",
   "metadata": {
    "execution": {
     "iopub.execute_input": "2024-09-04T13:21:39.328899Z",
     "iopub.status.busy": "2024-09-04T13:21:39.328067Z",
     "iopub.status.idle": "2024-09-04T13:21:55.227192Z",
     "shell.execute_reply": "2024-09-04T13:21:55.226198Z"
    },
    "papermill": {
     "duration": 16.020268,
     "end_time": "2024-09-04T13:21:55.229772",
     "exception": false,
     "start_time": "2024-09-04T13:21:39.209504",
     "status": "completed"
    },
    "tags": []
   },
   "outputs": [
    {
     "name": "stdout",
     "output_type": "stream",
     "text": [
      "Column description for Outstanding_Debt:\n",
      "\n",
      "count    80000.000000\n",
      "mean      1427.878089\n",
      "std       1156.913930\n",
      "min          0.540000\n",
      "25%        563.100000\n",
      "50%       1167.045000\n",
      "75%       1953.232500\n",
      "max       4998.070000\n",
      "Name: Outstanding_Debt, dtype: float64\n",
      "\n",
      "Number of null values: 0 \n",
      "\n",
      "\n",
      "\n",
      "\n",
      "Median standardization for Outstanding_Debt:\n",
      "\n",
      "count    80000.0\n",
      "mean         0.0\n",
      "std          0.0\n",
      "min          0.0\n",
      "25%          0.0\n",
      "50%          0.0\n",
      "75%          0.0\n",
      "max          0.0\n",
      "Name: Outstanding_Debt, dtype: float64\n",
      "\n",
      "Number of null values: 0 \n",
      "\n",
      "\n"
     ]
    }
   ],
   "source": [
    "summary_outstanding_debt = summarize_numerical_column_with_deviation(df, 'Outstanding_Debt', median_standardization_summary = True)"
   ]
  },
  {
   "cell_type": "markdown",
   "id": "c7ecdaad",
   "metadata": {
    "papermill": {
     "duration": 0.116134,
     "end_time": "2024-09-04T13:21:55.460927",
     "exception": false,
     "start_time": "2024-09-04T13:21:55.344793",
     "status": "completed"
    },
    "tags": []
   },
   "source": [
    "All the values in median standardization are coming out to be zero. Is the outstanding debt constant for each customer across months after ignoring nulls?"
   ]
  },
  {
   "cell_type": "code",
   "execution_count": 1134,
   "id": "3fa64160",
   "metadata": {
    "execution": {
     "iopub.execute_input": "2024-09-04T13:21:55.691992Z",
     "iopub.status.busy": "2024-09-04T13:21:55.691532Z",
     "iopub.status.idle": "2024-09-04T13:21:55.720327Z",
     "shell.execute_reply": "2024-09-04T13:21:55.719205Z"
    },
    "papermill": {
     "duration": 0.145246,
     "end_time": "2024-09-04T13:21:55.722740",
     "exception": false,
     "start_time": "2024-09-04T13:21:55.577494",
     "status": "completed"
    },
    "tags": []
   },
   "outputs": [
    {
     "data": {
      "text/plain": [
       "Outstanding_Debt\n",
       "1    10000\n",
       "Name: count, dtype: int64"
      ]
     },
     "execution_count": 1134,
     "metadata": {},
     "output_type": "execute_result"
    }
   ],
   "source": [
    "df.groupby('Customer_ID')['Outstanding_Debt'].nunique().value_counts()"
   ]
  },
  {
   "cell_type": "markdown",
   "id": "38dc90c1",
   "metadata": {
    "papermill": {
     "duration": 0.115185,
     "end_time": "2024-09-04T13:21:55.958983",
     "exception": false,
     "start_time": "2024-09-04T13:21:55.843798",
     "status": "completed"
    },
    "tags": []
   },
   "source": [
    "The column looks ok from the distribution perspective and there are no nulls present."
   ]
  },
  {
   "cell_type": "markdown",
   "id": "4c59abbb",
   "metadata": {
    "jp-MarkdownHeadingCollapsed": true,
    "papermill": {
     "duration": 0.11278,
     "end_time": "2024-09-04T13:21:56.184889",
     "exception": false,
     "start_time": "2024-09-04T13:21:56.072109",
     "status": "completed"
    },
    "tags": []
   },
   "source": [
    "#### 15. Credit Utilization ratio"
   ]
  },
  {
   "cell_type": "code",
   "execution_count": 1135,
   "id": "a82bb368",
   "metadata": {
    "execution": {
     "iopub.execute_input": "2024-09-04T13:21:56.415631Z",
     "iopub.status.busy": "2024-09-04T13:21:56.415203Z",
     "iopub.status.idle": "2024-09-04T13:22:11.669253Z",
     "shell.execute_reply": "2024-09-04T13:22:11.668176Z"
    },
    "papermill": {
     "duration": 15.373052,
     "end_time": "2024-09-04T13:22:11.671843",
     "exception": false,
     "start_time": "2024-09-04T13:21:56.298791",
     "status": "completed"
    },
    "tags": []
   },
   "outputs": [
    {
     "name": "stdout",
     "output_type": "stream",
     "text": [
      "Column description for Credit_Utilization_Ratio:\n",
      "\n",
      "count    80000.000000\n",
      "mean        32.303583\n",
      "std          5.120211\n",
      "min         20.000000\n",
      "25%         28.063496\n",
      "50%         32.343787\n",
      "75%         36.515261\n",
      "max         50.000000\n",
      "Name: Credit_Utilization_Ratio, dtype: float64\n",
      "\n",
      "Number of null values: 0 \n",
      "\n",
      "\n",
      "\n",
      "\n",
      "Median standardization for Credit_Utilization_Ratio:\n",
      "\n",
      "count    80000.000000\n",
      "mean        -0.010099\n",
      "std          1.807701\n",
      "min        -36.320704\n",
      "25%         -1.000333\n",
      "50%          0.000000\n",
      "75%          0.999622\n",
      "max         35.354918\n",
      "Name: Credit_Utilization_Ratio, dtype: float64\n",
      "\n",
      "Number of null values: 0 \n",
      "\n",
      "\n"
     ]
    }
   ],
   "source": [
    "summary_credit_utilization_ratio = summarize_numerical_column_with_deviation(df, 'Credit_Utilization_Ratio', median_standardization_summary = True)"
   ]
  },
  {
   "cell_type": "markdown",
   "id": "acd93c92",
   "metadata": {
    "papermill": {
     "duration": 0.115845,
     "end_time": "2024-09-04T13:22:11.901068",
     "exception": false,
     "start_time": "2024-09-04T13:22:11.785223",
     "status": "completed"
    },
    "tags": []
   },
   "source": [
    "Judging from both the graphs its hard to put a threshold on median standardization of credit utilization ratio without a domin expert and also, the distribution of the column as a whole looks decent enough to not touch it further."
   ]
  },
  {
   "cell_type": "markdown",
   "id": "b4635e85",
   "metadata": {
    "jp-MarkdownHeadingCollapsed": true,
    "papermill": {
     "duration": 0.117791,
     "end_time": "2024-09-04T13:22:12.132570",
     "exception": false,
     "start_time": "2024-09-04T13:22:12.014779",
     "status": "completed"
    },
    "tags": []
   },
   "source": [
    "#### 16. Credit History Age"
   ]
  },
  {
   "cell_type": "code",
   "execution_count": 1136,
   "id": "662247c7",
   "metadata": {
    "execution": {
     "iopub.execute_input": "2024-09-04T13:22:12.361806Z",
     "iopub.status.busy": "2024-09-04T13:22:12.360749Z",
     "iopub.status.idle": "2024-09-04T13:22:12.378687Z",
     "shell.execute_reply": "2024-09-04T13:22:12.377467Z"
    },
    "papermill": {
     "duration": 0.134944,
     "end_time": "2024-09-04T13:22:12.381511",
     "exception": false,
     "start_time": "2024-09-04T13:22:12.246567",
     "status": "completed"
    },
    "scrolled": true,
    "tags": []
   },
   "outputs": [
    {
     "data": {
      "text/html": [
       "<div>\n",
       "<style scoped>\n",
       "    .dataframe tbody tr th:only-of-type {\n",
       "        vertical-align: middle;\n",
       "    }\n",
       "\n",
       "    .dataframe tbody tr th {\n",
       "        vertical-align: top;\n",
       "    }\n",
       "\n",
       "    .dataframe thead th {\n",
       "        text-align: right;\n",
       "    }\n",
       "</style>\n",
       "<table border=\"1\" class=\"dataframe\">\n",
       "  <thead>\n",
       "    <tr style=\"text-align: right;\">\n",
       "      <th></th>\n",
       "      <th>Customer_ID</th>\n",
       "      <th>Credit_History_Age</th>\n",
       "    </tr>\n",
       "  </thead>\n",
       "  <tbody>\n",
       "    <tr>\n",
       "      <th>0</th>\n",
       "      <td>CUS_0x1000</td>\n",
       "      <td>10 Years and 2 Months</td>\n",
       "    </tr>\n",
       "    <tr>\n",
       "      <th>1</th>\n",
       "      <td>CUS_0x1000</td>\n",
       "      <td>10 Years and 3 Months</td>\n",
       "    </tr>\n",
       "    <tr>\n",
       "      <th>2</th>\n",
       "      <td>CUS_0x1000</td>\n",
       "      <td>10 Years and 4 Months</td>\n",
       "    </tr>\n",
       "    <tr>\n",
       "      <th>3</th>\n",
       "      <td>CUS_0x1000</td>\n",
       "      <td>10 Years and 5 Months</td>\n",
       "    </tr>\n",
       "    <tr>\n",
       "      <th>4</th>\n",
       "      <td>CUS_0x1000</td>\n",
       "      <td>10 Years and 6 Months</td>\n",
       "    </tr>\n",
       "    <tr>\n",
       "      <th>5</th>\n",
       "      <td>CUS_0x1000</td>\n",
       "      <td>10 Years and 7 Months</td>\n",
       "    </tr>\n",
       "    <tr>\n",
       "      <th>6</th>\n",
       "      <td>CUS_0x1000</td>\n",
       "      <td>10 Years and 8 Months</td>\n",
       "    </tr>\n",
       "    <tr>\n",
       "      <th>7</th>\n",
       "      <td>CUS_0x1000</td>\n",
       "      <td>10 Years and 9 Months</td>\n",
       "    </tr>\n",
       "    <tr>\n",
       "      <th>8</th>\n",
       "      <td>CUS_0x1009</td>\n",
       "      <td>30 Years and 5 Months</td>\n",
       "    </tr>\n",
       "    <tr>\n",
       "      <th>9</th>\n",
       "      <td>CUS_0x1009</td>\n",
       "      <td>30 Years and 6 Months</td>\n",
       "    </tr>\n",
       "    <tr>\n",
       "      <th>10</th>\n",
       "      <td>CUS_0x1009</td>\n",
       "      <td>30 Years and 7 Months</td>\n",
       "    </tr>\n",
       "    <tr>\n",
       "      <th>11</th>\n",
       "      <td>CUS_0x1009</td>\n",
       "      <td>NaN</td>\n",
       "    </tr>\n",
       "    <tr>\n",
       "      <th>12</th>\n",
       "      <td>CUS_0x1009</td>\n",
       "      <td>30 Years and 9 Months</td>\n",
       "    </tr>\n",
       "    <tr>\n",
       "      <th>13</th>\n",
       "      <td>CUS_0x1009</td>\n",
       "      <td>30 Years and 10 Months</td>\n",
       "    </tr>\n",
       "    <tr>\n",
       "      <th>14</th>\n",
       "      <td>CUS_0x1009</td>\n",
       "      <td>30 Years and 11 Months</td>\n",
       "    </tr>\n",
       "    <tr>\n",
       "      <th>15</th>\n",
       "      <td>CUS_0x1009</td>\n",
       "      <td>31 Years and 0 Months</td>\n",
       "    </tr>\n",
       "    <tr>\n",
       "      <th>16</th>\n",
       "      <td>CUS_0x100b</td>\n",
       "      <td>15 Years and 3 Months</td>\n",
       "    </tr>\n",
       "    <tr>\n",
       "      <th>17</th>\n",
       "      <td>CUS_0x100b</td>\n",
       "      <td>NaN</td>\n",
       "    </tr>\n",
       "    <tr>\n",
       "      <th>18</th>\n",
       "      <td>CUS_0x100b</td>\n",
       "      <td>15 Years and 5 Months</td>\n",
       "    </tr>\n",
       "    <tr>\n",
       "      <th>19</th>\n",
       "      <td>CUS_0x100b</td>\n",
       "      <td>15 Years and 6 Months</td>\n",
       "    </tr>\n",
       "    <tr>\n",
       "      <th>20</th>\n",
       "      <td>CUS_0x100b</td>\n",
       "      <td>15 Years and 7 Months</td>\n",
       "    </tr>\n",
       "    <tr>\n",
       "      <th>21</th>\n",
       "      <td>CUS_0x100b</td>\n",
       "      <td>15 Years and 8 Months</td>\n",
       "    </tr>\n",
       "    <tr>\n",
       "      <th>22</th>\n",
       "      <td>CUS_0x100b</td>\n",
       "      <td>15 Years and 9 Months</td>\n",
       "    </tr>\n",
       "    <tr>\n",
       "      <th>23</th>\n",
       "      <td>CUS_0x100b</td>\n",
       "      <td>15 Years and 10 Months</td>\n",
       "    </tr>\n",
       "    <tr>\n",
       "      <th>24</th>\n",
       "      <td>CUS_0x1011</td>\n",
       "      <td>15 Years and 3 Months</td>\n",
       "    </tr>\n",
       "    <tr>\n",
       "      <th>25</th>\n",
       "      <td>CUS_0x1011</td>\n",
       "      <td>15 Years and 4 Months</td>\n",
       "    </tr>\n",
       "    <tr>\n",
       "      <th>26</th>\n",
       "      <td>CUS_0x1011</td>\n",
       "      <td>15 Years and 5 Months</td>\n",
       "    </tr>\n",
       "    <tr>\n",
       "      <th>27</th>\n",
       "      <td>CUS_0x1011</td>\n",
       "      <td>15 Years and 6 Months</td>\n",
       "    </tr>\n",
       "    <tr>\n",
       "      <th>28</th>\n",
       "      <td>CUS_0x1011</td>\n",
       "      <td>15 Years and 7 Months</td>\n",
       "    </tr>\n",
       "    <tr>\n",
       "      <th>29</th>\n",
       "      <td>CUS_0x1011</td>\n",
       "      <td>15 Years and 8 Months</td>\n",
       "    </tr>\n",
       "    <tr>\n",
       "      <th>30</th>\n",
       "      <td>CUS_0x1011</td>\n",
       "      <td>15 Years and 9 Months</td>\n",
       "    </tr>\n",
       "    <tr>\n",
       "      <th>31</th>\n",
       "      <td>CUS_0x1011</td>\n",
       "      <td>15 Years and 10 Months</td>\n",
       "    </tr>\n",
       "    <tr>\n",
       "      <th>32</th>\n",
       "      <td>CUS_0x1015</td>\n",
       "      <td>20 Years and 10 Months</td>\n",
       "    </tr>\n",
       "    <tr>\n",
       "      <th>33</th>\n",
       "      <td>CUS_0x1015</td>\n",
       "      <td>NaN</td>\n",
       "    </tr>\n",
       "    <tr>\n",
       "      <th>34</th>\n",
       "      <td>CUS_0x1015</td>\n",
       "      <td>21 Years and 0 Months</td>\n",
       "    </tr>\n",
       "    <tr>\n",
       "      <th>35</th>\n",
       "      <td>CUS_0x1015</td>\n",
       "      <td>21 Years and 1 Months</td>\n",
       "    </tr>\n",
       "    <tr>\n",
       "      <th>36</th>\n",
       "      <td>CUS_0x1015</td>\n",
       "      <td>21 Years and 2 Months</td>\n",
       "    </tr>\n",
       "    <tr>\n",
       "      <th>37</th>\n",
       "      <td>CUS_0x1015</td>\n",
       "      <td>21 Years and 3 Months</td>\n",
       "    </tr>\n",
       "    <tr>\n",
       "      <th>38</th>\n",
       "      <td>CUS_0x1015</td>\n",
       "      <td>21 Years and 4 Months</td>\n",
       "    </tr>\n",
       "    <tr>\n",
       "      <th>39</th>\n",
       "      <td>CUS_0x1015</td>\n",
       "      <td>21 Years and 5 Months</td>\n",
       "    </tr>\n",
       "  </tbody>\n",
       "</table>\n",
       "</div>"
      ],
      "text/plain": [
       "   Customer_ID      Credit_History_Age\n",
       "0   CUS_0x1000   10 Years and 2 Months\n",
       "1   CUS_0x1000   10 Years and 3 Months\n",
       "2   CUS_0x1000   10 Years and 4 Months\n",
       "3   CUS_0x1000   10 Years and 5 Months\n",
       "4   CUS_0x1000   10 Years and 6 Months\n",
       "5   CUS_0x1000   10 Years and 7 Months\n",
       "6   CUS_0x1000   10 Years and 8 Months\n",
       "7   CUS_0x1000   10 Years and 9 Months\n",
       "8   CUS_0x1009   30 Years and 5 Months\n",
       "9   CUS_0x1009   30 Years and 6 Months\n",
       "10  CUS_0x1009   30 Years and 7 Months\n",
       "11  CUS_0x1009                     NaN\n",
       "12  CUS_0x1009   30 Years and 9 Months\n",
       "13  CUS_0x1009  30 Years and 10 Months\n",
       "14  CUS_0x1009  30 Years and 11 Months\n",
       "15  CUS_0x1009   31 Years and 0 Months\n",
       "16  CUS_0x100b   15 Years and 3 Months\n",
       "17  CUS_0x100b                     NaN\n",
       "18  CUS_0x100b   15 Years and 5 Months\n",
       "19  CUS_0x100b   15 Years and 6 Months\n",
       "20  CUS_0x100b   15 Years and 7 Months\n",
       "21  CUS_0x100b   15 Years and 8 Months\n",
       "22  CUS_0x100b   15 Years and 9 Months\n",
       "23  CUS_0x100b  15 Years and 10 Months\n",
       "24  CUS_0x1011   15 Years and 3 Months\n",
       "25  CUS_0x1011   15 Years and 4 Months\n",
       "26  CUS_0x1011   15 Years and 5 Months\n",
       "27  CUS_0x1011   15 Years and 6 Months\n",
       "28  CUS_0x1011   15 Years and 7 Months\n",
       "29  CUS_0x1011   15 Years and 8 Months\n",
       "30  CUS_0x1011   15 Years and 9 Months\n",
       "31  CUS_0x1011  15 Years and 10 Months\n",
       "32  CUS_0x1015  20 Years and 10 Months\n",
       "33  CUS_0x1015                     NaN\n",
       "34  CUS_0x1015   21 Years and 0 Months\n",
       "35  CUS_0x1015   21 Years and 1 Months\n",
       "36  CUS_0x1015   21 Years and 2 Months\n",
       "37  CUS_0x1015   21 Years and 3 Months\n",
       "38  CUS_0x1015   21 Years and 4 Months\n",
       "39  CUS_0x1015   21 Years and 5 Months"
      ]
     },
     "execution_count": 1136,
     "metadata": {},
     "output_type": "execute_result"
    }
   ],
   "source": [
    "df[['Customer_ID', 'Credit_History_Age']].head(40)"
   ]
  },
  {
   "cell_type": "code",
   "execution_count": 1137,
   "id": "bcba835f",
   "metadata": {
    "execution": {
     "iopub.execute_input": "2024-09-04T13:22:12.614638Z",
     "iopub.status.busy": "2024-09-04T13:22:12.613653Z",
     "iopub.status.idle": "2024-09-04T13:22:12.626262Z",
     "shell.execute_reply": "2024-09-04T13:22:12.625043Z"
    },
    "papermill": {
     "duration": 0.131014,
     "end_time": "2024-09-04T13:22:12.628543",
     "exception": false,
     "start_time": "2024-09-04T13:22:12.497529",
     "status": "completed"
    },
    "tags": []
   },
   "outputs": [
    {
     "data": {
      "text/plain": [
       "np.int64(7245)"
      ]
     },
     "execution_count": 1137,
     "metadata": {},
     "output_type": "execute_result"
    }
   ],
   "source": [
    "df['Credit_History_Age'].isnull().sum()"
   ]
  },
  {
   "cell_type": "markdown",
   "id": "d68f78ff",
   "metadata": {
    "papermill": {
     "duration": 0.118696,
     "end_time": "2024-09-04T13:22:12.862036",
     "exception": false,
     "start_time": "2024-09-04T13:22:12.743340",
     "status": "completed"
    },
    "tags": []
   },
   "source": [
    "There are 9030 null values. Looking at the data it is of the format - '{Year} Years and {Months} Months'. Using str functions of pandas series, we can extract these two data values i.e. year and months. We will then combine them in a single column as total months because both the year data and month data can be easily extracted from total months so there will be no loss of information and we will be able to reduce one feature from our dataset."
   ]
  },
  {
   "cell_type": "code",
   "execution_count": 1138,
   "id": "0f49b7c6",
   "metadata": {
    "execution": {
     "iopub.execute_input": "2024-09-04T13:22:13.155146Z",
     "iopub.status.busy": "2024-09-04T13:22:13.154752Z",
     "iopub.status.idle": "2024-09-04T13:22:13.514626Z",
     "shell.execute_reply": "2024-09-04T13:22:13.513560Z"
    },
    "papermill": {
     "duration": 0.540521,
     "end_time": "2024-09-04T13:22:13.517199",
     "exception": false,
     "start_time": "2024-09-04T13:22:12.976678",
     "status": "completed"
    },
    "tags": []
   },
   "outputs": [],
   "source": [
    "df[['Years', 'Months']] = df['Credit_History_Age'].str.extract('(?P<Years>\\d+) Years and (?P<Months>\\d+) Months').astype(float)"
   ]
  },
  {
   "cell_type": "code",
   "execution_count": 1139,
   "id": "c339842c",
   "metadata": {
    "execution": {
     "iopub.execute_input": "2024-09-04T13:22:13.750496Z",
     "iopub.status.busy": "2024-09-04T13:22:13.750104Z",
     "iopub.status.idle": "2024-09-04T13:22:13.778427Z",
     "shell.execute_reply": "2024-09-04T13:22:13.777138Z"
    },
    "papermill": {
     "duration": 0.147943,
     "end_time": "2024-09-04T13:22:13.781007",
     "exception": false,
     "start_time": "2024-09-04T13:22:13.633064",
     "status": "completed"
    },
    "scrolled": true,
    "tags": []
   },
   "outputs": [
    {
     "data": {
      "text/html": [
       "<div>\n",
       "<style scoped>\n",
       "    .dataframe tbody tr th:only-of-type {\n",
       "        vertical-align: middle;\n",
       "    }\n",
       "\n",
       "    .dataframe tbody tr th {\n",
       "        vertical-align: top;\n",
       "    }\n",
       "\n",
       "    .dataframe thead th {\n",
       "        text-align: right;\n",
       "    }\n",
       "</style>\n",
       "<table border=\"1\" class=\"dataframe\">\n",
       "  <thead>\n",
       "    <tr style=\"text-align: right;\">\n",
       "      <th></th>\n",
       "      <th>Years</th>\n",
       "      <th>Months</th>\n",
       "    </tr>\n",
       "  </thead>\n",
       "  <tbody>\n",
       "    <tr>\n",
       "      <th>count</th>\n",
       "      <td>72755.000000</td>\n",
       "      <td>72755.000000</td>\n",
       "    </tr>\n",
       "    <tr>\n",
       "      <th>mean</th>\n",
       "      <td>17.938657</td>\n",
       "      <td>5.592124</td>\n",
       "    </tr>\n",
       "    <tr>\n",
       "      <th>std</th>\n",
       "      <td>8.327991</td>\n",
       "      <td>3.451794</td>\n",
       "    </tr>\n",
       "    <tr>\n",
       "      <th>min</th>\n",
       "      <td>0.000000</td>\n",
       "      <td>0.000000</td>\n",
       "    </tr>\n",
       "    <tr>\n",
       "      <th>25%</th>\n",
       "      <td>12.000000</td>\n",
       "      <td>3.000000</td>\n",
       "    </tr>\n",
       "    <tr>\n",
       "      <th>50%</th>\n",
       "      <td>18.000000</td>\n",
       "      <td>5.000000</td>\n",
       "    </tr>\n",
       "    <tr>\n",
       "      <th>75%</th>\n",
       "      <td>25.000000</td>\n",
       "      <td>9.000000</td>\n",
       "    </tr>\n",
       "    <tr>\n",
       "      <th>max</th>\n",
       "      <td>33.000000</td>\n",
       "      <td>11.000000</td>\n",
       "    </tr>\n",
       "  </tbody>\n",
       "</table>\n",
       "</div>"
      ],
      "text/plain": [
       "              Years        Months\n",
       "count  72755.000000  72755.000000\n",
       "mean      17.938657      5.592124\n",
       "std        8.327991      3.451794\n",
       "min        0.000000      0.000000\n",
       "25%       12.000000      3.000000\n",
       "50%       18.000000      5.000000\n",
       "75%       25.000000      9.000000\n",
       "max       33.000000     11.000000"
      ]
     },
     "execution_count": 1139,
     "metadata": {},
     "output_type": "execute_result"
    }
   ],
   "source": [
    "df[['Years', 'Months']].describe()"
   ]
  },
  {
   "cell_type": "markdown",
   "id": "ac8be356",
   "metadata": {
    "papermill": {
     "duration": 0.115711,
     "end_time": "2024-09-04T13:22:14.015182",
     "exception": false,
     "start_time": "2024-09-04T13:22:13.899471",
     "status": "completed"
    },
    "tags": []
   },
   "source": [
    "The ranges of both years and months look ok. We can proceed forward to combining them."
   ]
  },
  {
   "cell_type": "code",
   "execution_count": 1140,
   "id": "56f01596",
   "metadata": {
    "execution": {
     "iopub.execute_input": "2024-09-04T13:22:14.250875Z",
     "iopub.status.busy": "2024-09-04T13:22:14.250423Z",
     "iopub.status.idle": "2024-09-04T13:22:14.257722Z",
     "shell.execute_reply": "2024-09-04T13:22:14.256532Z"
    },
    "papermill": {
     "duration": 0.128834,
     "end_time": "2024-09-04T13:22:14.260415",
     "exception": false,
     "start_time": "2024-09-04T13:22:14.131581",
     "status": "completed"
    },
    "tags": []
   },
   "outputs": [],
   "source": [
    "df['Credit_History_Age'] = df['Years'] * 12 + df['Months']"
   ]
  },
  {
   "cell_type": "code",
   "execution_count": 1141,
   "id": "a2ef7ff9",
   "metadata": {
    "execution": {
     "iopub.execute_input": "2024-09-04T13:22:14.498355Z",
     "iopub.status.busy": "2024-09-04T13:22:14.497542Z",
     "iopub.status.idle": "2024-09-04T13:22:14.551245Z",
     "shell.execute_reply": "2024-09-04T13:22:14.550074Z"
    },
    "papermill": {
     "duration": 0.176912,
     "end_time": "2024-09-04T13:22:14.553780",
     "exception": false,
     "start_time": "2024-09-04T13:22:14.376868",
     "status": "completed"
    },
    "tags": []
   },
   "outputs": [],
   "source": [
    "df.drop(columns = ['Years', 'Months'], inplace = True)"
   ]
  },
  {
   "cell_type": "markdown",
   "id": "a3a4d264",
   "metadata": {
    "papermill": {
     "duration": 0.11315,
     "end_time": "2024-09-04T13:22:14.780971",
     "exception": false,
     "start_time": "2024-09-04T13:22:14.667821",
     "status": "completed"
    },
    "tags": []
   },
   "source": [
    "Now, we need to handle the null values."
   ]
  },
  {
   "cell_type": "code",
   "execution_count": 1142,
   "id": "53a54e15",
   "metadata": {
    "execution": {
     "iopub.execute_input": "2024-09-04T13:22:15.015252Z",
     "iopub.status.busy": "2024-09-04T13:22:15.014858Z",
     "iopub.status.idle": "2024-09-04T13:22:15.023023Z",
     "shell.execute_reply": "2024-09-04T13:22:15.021906Z"
    },
    "papermill": {
     "duration": 0.126811,
     "end_time": "2024-09-04T13:22:15.025208",
     "exception": false,
     "start_time": "2024-09-04T13:22:14.898397",
     "status": "completed"
    },
    "tags": []
   },
   "outputs": [
    {
     "data": {
      "text/plain": [
       "np.int64(7245)"
      ]
     },
     "execution_count": 1142,
     "metadata": {},
     "output_type": "execute_result"
    }
   ],
   "source": [
    "df['Credit_History_Age'].isnull().sum()"
   ]
  },
  {
   "cell_type": "markdown",
   "id": "95917af1",
   "metadata": {
    "papermill": {
     "duration": 0.114453,
     "end_time": "2024-09-04T13:22:15.255815",
     "exception": false,
     "start_time": "2024-09-04T13:22:15.141362",
     "status": "completed"
    },
    "tags": []
   },
   "source": [
    "Credit history age is simply the numbr of months that the customer has been a customer and will just keep on increasing by one each month and thus, that logic can be used to fill the required data."
   ]
  },
  {
   "cell_type": "code",
   "execution_count": 1143,
   "id": "8881c06d",
   "metadata": {
    "execution": {
     "iopub.execute_input": "2024-09-04T13:22:15.489976Z",
     "iopub.status.busy": "2024-09-04T13:22:15.489546Z",
     "iopub.status.idle": "2024-09-04T13:22:18.441509Z",
     "shell.execute_reply": "2024-09-04T13:22:18.440434Z"
    },
    "papermill": {
     "duration": 3.072469,
     "end_time": "2024-09-04T13:22:18.444122",
     "exception": false,
     "start_time": "2024-09-04T13:22:15.371653",
     "status": "completed"
    },
    "tags": []
   },
   "outputs": [],
   "source": [
    "df['Credit_History_Age'] = df.groupby('Customer_ID')['Credit_History_Age'].transform(fill_month_history).astype(int)"
   ]
  },
  {
   "cell_type": "markdown",
   "id": "25c7607d",
   "metadata": {
    "jp-MarkdownHeadingCollapsed": true,
    "papermill": {
     "duration": 0.115271,
     "end_time": "2024-09-04T13:22:18.675468",
     "exception": false,
     "start_time": "2024-09-04T13:22:18.560197",
     "status": "completed"
    },
    "tags": []
   },
   "source": [
    "#### 17. Payment of minimum amount"
   ]
  },
  {
   "cell_type": "code",
   "execution_count": 1144,
   "id": "1fb49d65",
   "metadata": {
    "execution": {
     "iopub.execute_input": "2024-09-04T13:22:18.910454Z",
     "iopub.status.busy": "2024-09-04T13:22:18.910080Z",
     "iopub.status.idle": "2024-09-04T13:22:18.926173Z",
     "shell.execute_reply": "2024-09-04T13:22:18.925061Z"
    },
    "papermill": {
     "duration": 0.138671,
     "end_time": "2024-09-04T13:22:18.928561",
     "exception": false,
     "start_time": "2024-09-04T13:22:18.789890",
     "status": "completed"
    },
    "tags": []
   },
   "outputs": [
    {
     "data": {
      "text/plain": [
       "Payment_of_Min_Amount\n",
       "Yes    42041\n",
       "No     28350\n",
       "NM      9609\n",
       "Name: count, dtype: int64"
      ]
     },
     "execution_count": 1144,
     "metadata": {},
     "output_type": "execute_result"
    }
   ],
   "source": [
    "df['Payment_of_Min_Amount'].value_counts()"
   ]
  },
  {
   "cell_type": "markdown",
   "id": "3a74dd9a",
   "metadata": {
    "papermill": {
     "duration": 0.116662,
     "end_time": "2024-09-04T13:22:19.159897",
     "exception": false,
     "start_time": "2024-09-04T13:22:19.043235",
     "status": "completed"
    },
    "tags": []
   },
   "source": [
    "NM most probably means here that its not mentioned but in actual this is binary and it can contain either yes or no only. Lets see the data and figure out if we can replace it suitably with other values. First, lets check if each customer has same value for payment of minimum amount or it can vary across months."
   ]
  },
  {
   "cell_type": "code",
   "execution_count": 1145,
   "id": "530643bc",
   "metadata": {
    "execution": {
     "iopub.execute_input": "2024-09-04T13:22:19.396860Z",
     "iopub.status.busy": "2024-09-04T13:22:19.395595Z",
     "iopub.status.idle": "2024-09-04T13:22:19.429269Z",
     "shell.execute_reply": "2024-09-04T13:22:19.428165Z"
    },
    "papermill": {
     "duration": 0.155077,
     "end_time": "2024-09-04T13:22:19.431606",
     "exception": false,
     "start_time": "2024-09-04T13:22:19.276529",
     "status": "completed"
    },
    "tags": []
   },
   "outputs": [
    {
     "data": {
      "text/plain": [
       "Payment_of_Min_Amount\n",
       "2    6392\n",
       "1    3608\n",
       "Name: count, dtype: int64"
      ]
     },
     "execution_count": 1145,
     "metadata": {},
     "output_type": "execute_result"
    }
   ],
   "source": [
    "df.groupby(['Customer_ID'])['Payment_of_Min_Amount'].nunique().value_counts()"
   ]
  },
  {
   "cell_type": "markdown",
   "id": "7dc73577",
   "metadata": {
    "papermill": {
     "duration": 0.117041,
     "end_time": "2024-09-04T13:22:19.664625",
     "exception": false,
     "start_time": "2024-09-04T13:22:19.547584",
     "status": "completed"
    },
    "tags": []
   },
   "source": [
    "There can be two possibilities here: one by replacing NM with mode of yes and no i.e. a customer is more likely to repeat his general behaviour or we can do forward fill and backward fill which would mean that current months decision is dependent upon previous month. Lets try to observe which is more probable."
   ]
  },
  {
   "cell_type": "markdown",
   "id": "60577825",
   "metadata": {
    "papermill": {
     "duration": 0.119264,
     "end_time": "2024-09-04T13:22:19.900097",
     "exception": false,
     "start_time": "2024-09-04T13:22:19.780833",
     "status": "completed"
    },
    "tags": []
   },
   "source": [
    "First, we wil replace yes and no with 1 and 0 for sake of simplicity and NM with null."
   ]
  },
  {
   "cell_type": "code",
   "execution_count": 1146,
   "id": "b6afdd29",
   "metadata": {
    "execution": {
     "iopub.execute_input": "2024-09-04T13:22:20.135822Z",
     "iopub.status.busy": "2024-09-04T13:22:20.135401Z",
     "iopub.status.idle": "2024-09-04T13:22:20.151624Z",
     "shell.execute_reply": "2024-09-04T13:22:20.150414Z"
    },
    "papermill": {
     "duration": 0.138202,
     "end_time": "2024-09-04T13:22:20.154244",
     "exception": false,
     "start_time": "2024-09-04T13:22:20.016042",
     "status": "completed"
    },
    "tags": []
   },
   "outputs": [],
   "source": [
    "df['Payment_of_Min_Amount'] = df['Payment_of_Min_Amount'].map({'Yes': 1, 'No': 0, 'NM': np.nan})"
   ]
  },
  {
   "cell_type": "markdown",
   "id": "63d92735",
   "metadata": {
    "papermill": {
     "duration": 0.115234,
     "end_time": "2024-09-04T13:22:20.387837",
     "exception": false,
     "start_time": "2024-09-04T13:22:20.272603",
     "status": "completed"
    },
    "tags": []
   },
   "source": [
    "Lets take difference across periods and observe."
   ]
  },
  {
   "cell_type": "code",
   "execution_count": 1147,
   "id": "95797254",
   "metadata": {
    "execution": {
     "iopub.execute_input": "2024-09-04T13:22:20.621829Z",
     "iopub.status.busy": "2024-09-04T13:22:20.621406Z",
     "iopub.status.idle": "2024-09-04T13:22:23.182682Z",
     "shell.execute_reply": "2024-09-04T13:22:23.181529Z"
    },
    "papermill": {
     "duration": 2.681193,
     "end_time": "2024-09-04T13:22:23.185154",
     "exception": false,
     "start_time": "2024-09-04T13:22:20.503961",
     "status": "completed"
    },
    "tags": []
   },
   "outputs": [
    {
     "data": {
      "text/plain": [
       "Payment_of_Min_Amount\n",
       "0.0    54131\n",
       "Name: count, dtype: int64"
      ]
     },
     "execution_count": 1147,
     "metadata": {},
     "output_type": "execute_result"
    }
   ],
   "source": [
    "df.groupby('Customer_ID')['Payment_of_Min_Amount'].transform(pd.Series.diff).value_counts()"
   ]
  },
  {
   "cell_type": "markdown",
   "id": "0e6a8101",
   "metadata": {
    "papermill": {
     "duration": 0.120507,
     "end_time": "2024-09-04T13:22:23.424705",
     "exception": false,
     "start_time": "2024-09-04T13:22:23.304198",
     "status": "completed"
    },
    "tags": []
   },
   "source": [
    "This means either the value is same(with some nulls in between) throughout 8-months period for the customer or null occurs extactly at the transition from one value to another. So, if all values are same for a customer then we can fill the same otherwise null needs to be filled on transition and then we can fill with mode as the most probable option."
   ]
  },
  {
   "cell_type": "code",
   "execution_count": 1148,
   "id": "ad0a8a7a",
   "metadata": {
    "execution": {
     "iopub.execute_input": "2024-09-04T13:22:23.660796Z",
     "iopub.status.busy": "2024-09-04T13:22:23.660309Z",
     "iopub.status.idle": "2024-09-04T13:22:28.106012Z",
     "shell.execute_reply": "2024-09-04T13:22:28.104818Z"
    },
    "papermill": {
     "duration": 4.567525,
     "end_time": "2024-09-04T13:22:28.108590",
     "exception": false,
     "start_time": "2024-09-04T13:22:23.541065",
     "status": "completed"
    },
    "tags": []
   },
   "outputs": [],
   "source": [
    "df['Payment_of_Min_Amount'] = df.groupby('Customer_ID')['Payment_of_Min_Amount'].transform(lambda x: x.fillna(x.mode()[0]))"
   ]
  },
  {
   "cell_type": "code",
   "execution_count": 1149,
   "id": "0c23f477",
   "metadata": {
    "execution": {
     "iopub.execute_input": "2024-09-04T13:22:28.347675Z",
     "iopub.status.busy": "2024-09-04T13:22:28.347275Z",
     "iopub.status.idle": "2024-09-04T13:22:28.355276Z",
     "shell.execute_reply": "2024-09-04T13:22:28.354252Z"
    },
    "papermill": {
     "duration": 0.129706,
     "end_time": "2024-09-04T13:22:28.357581",
     "exception": false,
     "start_time": "2024-09-04T13:22:28.227875",
     "status": "completed"
    },
    "tags": []
   },
   "outputs": [
    {
     "data": {
      "text/plain": [
       "np.int64(0)"
      ]
     },
     "execution_count": 1149,
     "metadata": {},
     "output_type": "execute_result"
    }
   ],
   "source": [
    "df['Payment_of_Min_Amount'].isnull().sum()"
   ]
  },
  {
   "cell_type": "code",
   "execution_count": 1150,
   "id": "2c14ae25",
   "metadata": {
    "execution": {
     "iopub.execute_input": "2024-09-04T13:22:28.652593Z",
     "iopub.status.busy": "2024-09-04T13:22:28.652191Z",
     "iopub.status.idle": "2024-09-04T13:22:28.660715Z",
     "shell.execute_reply": "2024-09-04T13:22:28.659692Z"
    },
    "papermill": {
     "duration": 0.132301,
     "end_time": "2024-09-04T13:22:28.663097",
     "exception": false,
     "start_time": "2024-09-04T13:22:28.530796",
     "status": "completed"
    },
    "tags": []
   },
   "outputs": [],
   "source": [
    "df['Payment_of_Min_Amount'] = df['Payment_of_Min_Amount'].map({1: 'Yes', 0: 'No'})"
   ]
  },
  {
   "cell_type": "markdown",
   "id": "1cc9568e",
   "metadata": {
    "jp-MarkdownHeadingCollapsed": true,
    "papermill": {
     "duration": 0.118227,
     "end_time": "2024-09-04T13:22:28.900390",
     "exception": false,
     "start_time": "2024-09-04T13:22:28.782163",
     "status": "completed"
    },
    "tags": []
   },
   "source": [
    "#### 18. Total EMI per month"
   ]
  },
  {
   "cell_type": "code",
   "execution_count": 1151,
   "id": "83d1f947",
   "metadata": {
    "execution": {
     "iopub.execute_input": "2024-09-04T13:22:29.138400Z",
     "iopub.status.busy": "2024-09-04T13:22:29.137985Z",
     "iopub.status.idle": "2024-09-04T13:23:06.090048Z",
     "shell.execute_reply": "2024-09-04T13:23:06.088767Z"
    },
    "papermill": {
     "duration": 37.074748,
     "end_time": "2024-09-04T13:23:06.092676",
     "exception": false,
     "start_time": "2024-09-04T13:22:29.017928",
     "status": "completed"
    },
    "tags": []
   },
   "outputs": [
    {
     "name": "stdout",
     "output_type": "stream",
     "text": [
      "Column description for Total_EMI_per_month:\n",
      "\n",
      "count    80000.000000\n",
      "mean      1394.439185\n",
      "std       8280.100772\n",
      "min          0.000000\n",
      "25%         30.645027\n",
      "50%         69.318868\n",
      "75%        160.539300\n",
      "max      82256.000000\n",
      "Name: Total_EMI_per_month, dtype: float64\n",
      "\n",
      "Number of null values: 0 \n",
      "\n",
      "\n",
      "\n",
      "\n",
      "Median standardization for Total_EMI_per_month:\n",
      "\n",
      "count    80000.000000\n",
      "mean         1.586283\n",
      "std        193.086318\n",
      "min         -2.000000\n",
      "25%          0.000000\n",
      "50%          0.000000\n",
      "75%          0.000000\n",
      "max      42676.281086\n",
      "Name: Total_EMI_per_month, dtype: float64\n",
      "\n",
      "Number of null values: 0 \n",
      "\n",
      "\n"
     ]
    }
   ],
   "source": [
    "summary_total_emi_per_month = summarize_numerical_column_with_deviation(df, 'Total_EMI_per_month', median_standardization_summary = True)"
   ]
  },
  {
   "cell_type": "code",
   "execution_count": 1152,
   "id": "5bac429e",
   "metadata": {
    "execution": {
     "iopub.execute_input": "2024-09-04T13:23:06.329901Z",
     "iopub.status.busy": "2024-09-04T13:23:06.329464Z",
     "iopub.status.idle": "2024-09-04T13:23:06.337014Z",
     "shell.execute_reply": "2024-09-04T13:23:06.335864Z"
    },
    "papermill": {
     "duration": 0.129763,
     "end_time": "2024-09-04T13:23:06.339293",
     "exception": false,
     "start_time": "2024-09-04T13:23:06.209530",
     "status": "completed"
    },
    "tags": []
   },
   "outputs": [
    {
     "data": {
      "text/plain": [
       "{'Total_EMI_per_month': {'Min. value': np.float64(0.0),\n",
       "  'Outlier lower range': -164.19638214496305,\n",
       "  'Outlier upper range': 355.380709554532,\n",
       "  'Max. value': np.float64(82256.0)},\n",
       " 'Median standardization of Total_EMI_per_month': {'Min. value': np.float64(-2.0),\n",
       "  'Outlier lower range': 0.0,\n",
       "  'Outlier upper range': 0.0,\n",
       "  'Max. value': np.float64(42676.28108613688)},\n",
       " 'Max. MAD': np.float64(21539.882895841736)}"
      ]
     },
     "execution_count": 1152,
     "metadata": {},
     "output_type": "execute_result"
    }
   ],
   "source": [
    "summary_total_emi_per_month"
   ]
  },
  {
   "cell_type": "markdown",
   "id": "f74d674d",
   "metadata": {
    "papermill": {
     "duration": 0.117929,
     "end_time": "2024-09-04T13:23:06.575282",
     "exception": false,
     "start_time": "2024-09-04T13:23:06.457353",
     "status": "completed"
    },
    "tags": []
   },
   "source": [
    "Looking at the median standardization, few points look out of the ordinary where relative deviation is greater than 10000. Having such high deviation is obviously very unlikely, we will first discard these few points."
   ]
  },
  {
   "cell_type": "code",
   "execution_count": 1153,
   "id": "4b6af4ab",
   "metadata": {
    "execution": {
     "iopub.execute_input": "2024-09-04T13:23:06.811137Z",
     "iopub.status.busy": "2024-09-04T13:23:06.810751Z",
     "iopub.status.idle": "2024-09-04T13:23:22.402917Z",
     "shell.execute_reply": "2024-09-04T13:23:22.401733Z"
    },
    "papermill": {
     "duration": 15.71341,
     "end_time": "2024-09-04T13:23:22.405602",
     "exception": false,
     "start_time": "2024-09-04T13:23:06.692192",
     "status": "completed"
    },
    "tags": []
   },
   "outputs": [],
   "source": [
    "deviation_total_emi = df.groupby('Customer_ID')['Total_EMI_per_month'].transform(median_standardization, default_value = return_max_MAD(df, 'Total_EMI_per_month'))"
   ]
  },
  {
   "cell_type": "code",
   "execution_count": 1154,
   "id": "1873bc20",
   "metadata": {
    "execution": {
     "iopub.execute_input": "2024-09-04T13:23:22.641788Z",
     "iopub.status.busy": "2024-09-04T13:23:22.640961Z",
     "iopub.status.idle": "2024-09-04T13:23:22.648393Z",
     "shell.execute_reply": "2024-09-04T13:23:22.647473Z"
    },
    "papermill": {
     "duration": 0.12629,
     "end_time": "2024-09-04T13:23:22.650473",
     "exception": false,
     "start_time": "2024-09-04T13:23:22.524183",
     "status": "completed"
    },
    "tags": []
   },
   "outputs": [],
   "source": [
    "df['Total_EMI_per_month'][deviation_total_emi > 10000] = np.nan"
   ]
  },
  {
   "cell_type": "code",
   "execution_count": 1155,
   "id": "606bd0f9",
   "metadata": {
    "execution": {
     "iopub.execute_input": "2024-09-04T13:23:22.886081Z",
     "iopub.status.busy": "2024-09-04T13:23:22.885627Z",
     "iopub.status.idle": "2024-09-04T13:24:00.924491Z",
     "shell.execute_reply": "2024-09-04T13:24:00.923377Z"
    },
    "papermill": {
     "duration": 38.159116,
     "end_time": "2024-09-04T13:24:00.927035",
     "exception": false,
     "start_time": "2024-09-04T13:23:22.767919",
     "status": "completed"
    },
    "tags": []
   },
   "outputs": [
    {
     "name": "stdout",
     "output_type": "stream",
     "text": [
      "Column description for Total_EMI_per_month:\n",
      "\n",
      "count    79998.000000\n",
      "mean      1393.039261\n",
      "std       8275.386029\n",
      "min          0.000000\n",
      "25%         30.645027\n",
      "50%         69.318349\n",
      "75%        160.539300\n",
      "max      82256.000000\n",
      "Name: Total_EMI_per_month, dtype: float64\n",
      "\n",
      "Number of null values: 2 \n",
      "\n",
      "\n",
      "\n",
      "\n",
      "Median standardization for Total_EMI_per_month:\n",
      "\n",
      "count    79998.000000\n",
      "mean         0.641878\n",
      "std         31.675408\n",
      "min         -2.000000\n",
      "25%          0.000000\n",
      "50%          0.000000\n",
      "75%          0.000000\n",
      "max       4083.063565\n",
      "Name: Total_EMI_per_month, dtype: float64\n",
      "\n",
      "Number of null values: 2 \n",
      "\n",
      "\n"
     ]
    }
   ],
   "source": [
    "summary_total_emi_per_month = summarize_numerical_column_with_deviation(df, 'Total_EMI_per_month', median_standardization_summary = True)"
   ]
  },
  {
   "cell_type": "markdown",
   "id": "f8e06db9",
   "metadata": {
    "papermill": {
     "duration": 0.117654,
     "end_time": "2024-09-04T13:24:01.165215",
     "exception": false,
     "start_time": "2024-09-04T13:24:01.047561",
     "status": "completed"
    },
    "tags": []
   },
   "source": [
    "Its hard to quantify a threshold on median standardization without domain expertise and thats why we will use the whole column as a whole for further analysis."
   ]
  },
  {
   "cell_type": "markdown",
   "id": "a479e77d",
   "metadata": {
    "papermill": {
     "duration": 0.141293,
     "end_time": "2024-09-04T13:24:01.436056",
     "exception": false,
     "start_time": "2024-09-04T13:24:01.294763",
     "status": "completed"
    },
    "tags": []
   },
   "source": [
    "Using the whole column we will replace values more than upper range of outliers with null for now."
   ]
  },
  {
   "cell_type": "code",
   "execution_count": 1156,
   "id": "016fd788",
   "metadata": {
    "execution": {
     "iopub.execute_input": "2024-09-04T13:24:01.670896Z",
     "iopub.status.busy": "2024-09-04T13:24:01.670451Z",
     "iopub.status.idle": "2024-09-04T13:24:01.678102Z",
     "shell.execute_reply": "2024-09-04T13:24:01.677091Z"
    },
    "papermill": {
     "duration": 0.128077,
     "end_time": "2024-09-04T13:24:01.680641",
     "exception": false,
     "start_time": "2024-09-04T13:24:01.552564",
     "status": "completed"
    },
    "tags": []
   },
   "outputs": [],
   "source": [
    "df['Total_EMI_per_month'][(df['Total_EMI_per_month'] > summary_total_emi_per_month['Total_EMI_per_month']['Outlier upper range'])] = np.nan"
   ]
  },
  {
   "cell_type": "code",
   "execution_count": 1157,
   "id": "23563c98",
   "metadata": {
    "execution": {
     "iopub.execute_input": "2024-09-04T13:24:01.915709Z",
     "iopub.status.busy": "2024-09-04T13:24:01.914884Z",
     "iopub.status.idle": "2024-09-04T13:24:01.922535Z",
     "shell.execute_reply": "2024-09-04T13:24:01.921463Z"
    },
    "papermill": {
     "duration": 0.126877,
     "end_time": "2024-09-04T13:24:01.924735",
     "exception": false,
     "start_time": "2024-09-04T13:24:01.797858",
     "status": "completed"
    },
    "tags": []
   },
   "outputs": [
    {
     "data": {
      "text/plain": [
       "np.int64(5491)"
      ]
     },
     "execution_count": 1157,
     "metadata": {},
     "output_type": "execute_result"
    }
   ],
   "source": [
    "df['Total_EMI_per_month'].isnull().sum()"
   ]
  },
  {
   "cell_type": "markdown",
   "id": "cdf48c09",
   "metadata": {
    "papermill": {
     "duration": 0.117895,
     "end_time": "2024-09-04T13:24:02.161728",
     "exception": false,
     "start_time": "2024-09-04T13:24:02.043833",
     "status": "completed"
    },
    "tags": []
   },
   "source": [
    "There are 6795 null values now."
   ]
  },
  {
   "cell_type": "markdown",
   "id": "ece611db",
   "metadata": {
    "papermill": {
     "duration": 0.116444,
     "end_time": "2024-09-04T13:24:02.398211",
     "exception": false,
     "start_time": "2024-09-04T13:24:02.281767",
     "status": "completed"
    },
    "tags": []
   },
   "source": [
    "Lets check how many unique values of EMI exist per customer."
   ]
  },
  {
   "cell_type": "code",
   "execution_count": 1158,
   "id": "a76be10f",
   "metadata": {
    "execution": {
     "iopub.execute_input": "2024-09-04T13:24:02.636751Z",
     "iopub.status.busy": "2024-09-04T13:24:02.636307Z",
     "iopub.status.idle": "2024-09-04T13:24:02.665559Z",
     "shell.execute_reply": "2024-09-04T13:24:02.664508Z"
    },
    "papermill": {
     "duration": 0.152999,
     "end_time": "2024-09-04T13:24:02.667998",
     "exception": false,
     "start_time": "2024-09-04T13:24:02.514999",
     "status": "completed"
    },
    "tags": []
   },
   "outputs": [
    {
     "data": {
      "text/plain": [
       "Total_EMI_per_month\n",
       "1    9422\n",
       "2     330\n",
       "0     248\n",
       "Name: count, dtype: int64"
      ]
     },
     "execution_count": 1158,
     "metadata": {},
     "output_type": "execute_result"
    }
   ],
   "source": [
    "df.groupby('Customer_ID')['Total_EMI_per_month'].nunique().value_counts()"
   ]
  },
  {
   "cell_type": "markdown",
   "id": "432d64ff",
   "metadata": {
    "papermill": {
     "duration": 0.117086,
     "end_time": "2024-09-04T13:24:02.903464",
     "exception": false,
     "start_time": "2024-09-04T13:24:02.786378",
     "status": "completed"
    },
    "tags": []
   },
   "source": [
    "There are 297 customers which don't have any EMI data at all. This is around 2.3% of the data. What does this mean? That 8-months period emi data is missing now but earlier the whole column did not have any null values at all then how did full 8-month data disappear for 297 customers? Since we did outlier detection by considering whole column as our sample maybe some emi's are real but still too high compared to majority of data and thus, got removed in the process or they are all erroneous, which we will judge later. This is where median standardization should help us but we don't have any means to set an appropriate threshold. Lets try to look at these customers whose data got removed completely before correction and correct any high deviations."
   ]
  },
  {
   "cell_type": "code",
   "execution_count": 1159,
   "id": "cb2ac3ef",
   "metadata": {
    "execution": {
     "iopub.execute_input": "2024-09-04T13:24:03.140749Z",
     "iopub.status.busy": "2024-09-04T13:24:03.140337Z",
     "iopub.status.idle": "2024-09-04T13:24:20.102506Z",
     "shell.execute_reply": "2024-09-04T13:24:20.101384Z"
    },
    "papermill": {
     "duration": 17.083914,
     "end_time": "2024-09-04T13:24:20.105209",
     "exception": false,
     "start_time": "2024-09-04T13:24:03.021295",
     "status": "completed"
    },
    "tags": []
   },
   "outputs": [],
   "source": [
    "deviation_total_emi = df_copy.groupby('Customer_ID', group_keys = False)['Total_EMI_per_month'].transform(median_standardization, default_value = return_max_MAD(df_copy, 'Total_EMI_per_month'))"
   ]
  },
  {
   "cell_type": "code",
   "execution_count": 1160,
   "id": "db3bbe8d",
   "metadata": {
    "execution": {
     "iopub.execute_input": "2024-09-04T13:24:20.344871Z",
     "iopub.status.busy": "2024-09-04T13:24:20.344429Z",
     "iopub.status.idle": "2024-09-04T13:24:22.462523Z",
     "shell.execute_reply": "2024-09-04T13:24:22.461378Z"
    },
    "papermill": {
     "duration": 2.241247,
     "end_time": "2024-09-04T13:24:22.465049",
     "exception": false,
     "start_time": "2024-09-04T13:24:20.223802",
     "status": "completed"
    },
    "tags": []
   },
   "outputs": [],
   "source": [
    "temp = (deviation_total_emi[df.groupby('Customer_ID')['Total_EMI_per_month'].transform(pd.Series.nunique) == 0])"
   ]
  },
  {
   "cell_type": "code",
   "execution_count": 1161,
   "id": "0f8b5777",
   "metadata": {
    "execution": {
     "iopub.execute_input": "2024-09-04T13:24:22.701529Z",
     "iopub.status.busy": "2024-09-04T13:24:22.700532Z",
     "iopub.status.idle": "2024-09-04T13:24:22.916159Z",
     "shell.execute_reply": "2024-09-04T13:24:22.915032Z"
    },
    "papermill": {
     "duration": 0.337352,
     "end_time": "2024-09-04T13:24:22.918543",
     "exception": false,
     "start_time": "2024-09-04T13:24:22.581191",
     "status": "completed"
    },
    "tags": []
   },
   "outputs": [
    {
     "data": {
      "image/png": "[encoded data removed]",
      "text/plain": [
       "<Figure size 640x480 with 1 Axes>"
      ]
     },
     "metadata": {},
     "output_type": "display_data"
    }
   ],
   "source": [
    "sns.boxplot(temp.values, orient = 'h')\n",
    "plt.title('Median standardization of total EMI per month')\n",
    "plt.xlabel('Median standardization');"
   ]
  },
  {
   "cell_type": "markdown",
   "id": "87ee19cd",
   "metadata": {
    "papermill": {
     "duration": 0.119059,
     "end_time": "2024-09-04T13:24:23.155827",
     "exception": false,
     "start_time": "2024-09-04T13:24:23.036768",
     "status": "completed"
    },
    "tags": []
   },
   "source": [
    "Looking at this, only one value looks absurdly big. The rest of the median standardization's could even be considered ok for now."
   ]
  },
  {
   "cell_type": "code",
   "execution_count": 1162,
   "id": "406f36d4",
   "metadata": {
    "execution": {
     "iopub.execute_input": "2024-09-04T13:24:23.393587Z",
     "iopub.status.busy": "2024-09-04T13:24:23.393184Z",
     "iopub.status.idle": "2024-09-04T13:24:23.402206Z",
     "shell.execute_reply": "2024-09-04T13:24:23.400908Z"
    },
    "papermill": {
     "duration": 0.130745,
     "end_time": "2024-09-04T13:24:23.404595",
     "exception": false,
     "start_time": "2024-09-04T13:24:23.273850",
     "status": "completed"
    },
    "tags": []
   },
   "outputs": [
    {
     "data": {
      "text/plain": [
       "79370    137.282532\n",
       "Name: Total_EMI_per_month, dtype: float64"
      ]
     },
     "execution_count": 1162,
     "metadata": {},
     "output_type": "execute_result"
    }
   ],
   "source": [
    "temp[temp > 80]"
   ]
  },
  {
   "cell_type": "markdown",
   "id": "05d4eebf",
   "metadata": {
    "papermill": {
     "duration": 0.116146,
     "end_time": "2024-09-04T13:24:23.637130",
     "exception": false,
     "start_time": "2024-09-04T13:24:23.520984",
     "status": "completed"
    },
    "tags": []
   },
   "source": [
    "Lets convert this value to null and feed it back to the dataset."
   ]
  },
  {
   "cell_type": "code",
   "execution_count": 1163,
   "id": "2bc6564c",
   "metadata": {
    "execution": {
     "iopub.execute_input": "2024-09-04T13:24:24.120313Z",
     "iopub.status.busy": "2024-09-04T13:24:24.119738Z",
     "iopub.status.idle": "2024-09-04T13:24:40.003559Z",
     "shell.execute_reply": "2024-09-04T13:24:40.002310Z"
    },
    "papermill": {
     "duration": 16.007458,
     "end_time": "2024-09-04T13:24:40.006020",
     "exception": false,
     "start_time": "2024-09-04T13:24:23.998562",
     "status": "completed"
    },
    "tags": []
   },
   "outputs": [
    {
     "name": "stdout",
     "output_type": "stream",
     "text": [
      "Column description for Total_EMI_per_month:\n",
      "\n",
      "count    74509.000000\n",
      "mean        89.596613\n",
      "std         82.194196\n",
      "min          0.000000\n",
      "25%         28.239753\n",
      "50%         63.691848\n",
      "75%        131.616379\n",
      "max        355.352333\n",
      "Name: Total_EMI_per_month, dtype: float64\n",
      "\n",
      "Number of null values: 5491 \n",
      "\n",
      "\n",
      "\n",
      "\n",
      "Median standardization for Total_EMI_per_month:\n",
      "\n",
      "count    74509.000000\n",
      "mean         0.000358\n",
      "std          0.098864\n",
      "min         -2.067164\n",
      "25%          0.000000\n",
      "50%          0.000000\n",
      "75%          0.000000\n",
      "max          2.130177\n",
      "Name: Total_EMI_per_month, dtype: float64\n",
      "\n",
      "Number of null values: 5491 \n",
      "\n",
      "\n"
     ]
    },
    {
     "data": {
      "text/plain": [
       "{'Total_EMI_per_month': {'Min. value': np.float64(0.0),\n",
       "  'Outlier lower range': -126.82518420409671,\n",
       "  'Outlier upper range': 286.6813162733206,\n",
       "  'Max. value': np.float64(355.35233277597223)},\n",
       " 'Median standardization of Total_EMI_per_month': {'Min. value': np.float64(-2.06716384946219),\n",
       "  'Outlier lower range': 0.0,\n",
       "  'Outlier upper range': 0.0,\n",
       "  'Max. value': np.float64(2.130176515218631)},\n",
       " 'Max. MAD': np.float64(166.68646798280065)}"
      ]
     },
     "execution_count": 1163,
     "metadata": {},
     "output_type": "execute_result"
    }
   ],
   "source": [
    "summarize_numerical_column_with_deviation(df, 'Total_EMI_per_month', median_standardization_summary = True)"
   ]
  },
  {
   "cell_type": "markdown",
   "id": "f1e4ad3e",
   "metadata": {
    "papermill": {
     "duration": 0.118771,
     "end_time": "2024-09-04T13:24:40.248816",
     "exception": false,
     "start_time": "2024-09-04T13:24:40.130045",
     "status": "completed"
    },
    "tags": []
   },
   "source": [
    "Now the data looks more appropriate compared to before. There are still 4420 null values which need to be handled here."
   ]
  },
  {
   "cell_type": "markdown",
   "id": "272b334c",
   "metadata": {
    "papermill": {
     "duration": 0.119909,
     "end_time": "2024-09-04T13:24:40.488500",
     "exception": false,
     "start_time": "2024-09-04T13:24:40.368591",
     "status": "completed"
    },
    "tags": []
   },
   "source": [
    "The rest of the null values can be filled using forward and backward fill as the EMI's should be highly dependent upon previous month."
   ]
  },
  {
   "cell_type": "code",
   "execution_count": 1164,
   "id": "af0d0078",
   "metadata": {
    "execution": {
     "iopub.execute_input": "2024-09-04T13:24:40.728284Z",
     "iopub.status.busy": "2024-09-04T13:24:40.727889Z",
     "iopub.status.idle": "2024-09-04T13:24:44.931516Z",
     "shell.execute_reply": "2024-09-04T13:24:44.930604Z"
    },
    "papermill": {
     "duration": 4.326574,
     "end_time": "2024-09-04T13:24:44.934106",
     "exception": false,
     "start_time": "2024-09-04T13:24:40.607532",
     "status": "completed"
    },
    "tags": []
   },
   "outputs": [],
   "source": [
    "df['Total_EMI_per_month'] = df.groupby('Customer_ID')['Total_EMI_per_month'].transform(forward_backward_fill)"
   ]
  },
  {
   "cell_type": "code",
   "execution_count": 1165,
   "id": "b6c0feee",
   "metadata": {
    "execution": {
     "iopub.execute_input": "2024-09-04T13:24:45.177059Z",
     "iopub.status.busy": "2024-09-04T13:24:45.176626Z",
     "iopub.status.idle": "2024-09-04T13:24:45.184860Z",
     "shell.execute_reply": "2024-09-04T13:24:45.183746Z"
    },
    "papermill": {
     "duration": 0.133255,
     "end_time": "2024-09-04T13:24:45.187166",
     "exception": false,
     "start_time": "2024-09-04T13:24:45.053911",
     "status": "completed"
    },
    "tags": []
   },
   "outputs": [
    {
     "data": {
      "text/plain": [
       "np.int64(0)"
      ]
     },
     "execution_count": 1165,
     "metadata": {},
     "output_type": "execute_result"
    }
   ],
   "source": [
    "df['Total_EMI_per_month'].fillna(df['Total_EMI_per_month'].mean(), inplace=True)\n",
    "df['Total_EMI_per_month'].isnull().sum()"
   ]
  },
  {
   "cell_type": "markdown",
   "id": "e7c6a57f",
   "metadata": {
    "jp-MarkdownHeadingCollapsed": true,
    "papermill": {
     "duration": 0.12202,
     "end_time": "2024-09-04T13:24:45.427592",
     "exception": false,
     "start_time": "2024-09-04T13:24:45.305572",
     "status": "completed"
    },
    "tags": []
   },
   "source": [
    "#### 19. Amount Invested Monthly"
   ]
  },
  {
   "cell_type": "code",
   "execution_count": 1166,
   "id": "fce1f3a3",
   "metadata": {
    "execution": {
     "iopub.execute_input": "2024-09-04T13:24:45.669527Z",
     "iopub.status.busy": "2024-09-04T13:24:45.668543Z",
     "iopub.status.idle": "2024-09-04T13:25:49.515941Z",
     "shell.execute_reply": "2024-09-04T13:25:49.514606Z"
    },
    "papermill": {
     "duration": 64.088025,
     "end_time": "2024-09-04T13:25:49.635779",
     "exception": false,
     "start_time": "2024-09-04T13:24:45.547754",
     "status": "completed"
    },
    "tags": []
   },
   "outputs": [
    {
     "name": "stdout",
     "output_type": "stream",
     "text": [
      "Column description for Amount_invested_monthly:\n",
      "\n",
      "count    76414.000000\n",
      "mean       635.977325\n",
      "std       2040.632147\n",
      "min          0.000000\n",
      "25%         74.245943\n",
      "50%        135.760857\n",
      "75%        265.164233\n",
      "max      10000.000000\n",
      "Name: Amount_invested_monthly, dtype: float64\n",
      "\n",
      "Number of null values: 3586 \n",
      "\n",
      "\n",
      "\n",
      "\n",
      "Median standardization for Amount_invested_monthly:\n",
      "\n",
      "count    76414.000000\n",
      "mean         9.828240\n",
      "std         66.473928\n",
      "min        -55.134421\n",
      "25%         -0.940762\n",
      "50%          0.000000\n",
      "75%          1.158726\n",
      "max       3152.799634\n",
      "Name: Amount_invested_monthly, dtype: float64\n",
      "\n",
      "Number of null values: 3586 \n",
      "\n",
      "\n"
     ]
    }
   ],
   "source": [
    "summary_amount_invested_monthly = summarize_numerical_column_with_deviation(df, 'Amount_invested_monthly', median_standardization_summary = True)"
   ]
  },
  {
   "cell_type": "markdown",
   "id": "23068ead",
   "metadata": {
    "papermill": {
     "duration": 0.119204,
     "end_time": "2024-09-04T13:25:49.876503",
     "exception": false,
     "start_time": "2024-09-04T13:25:49.757299",
     "status": "completed"
    },
    "tags": []
   },
   "source": [
    "Some values in amount invested monthly are too extreme compared to the rest of the data and thus, can be removed considering them to be erroneous before we do further processing."
   ]
  },
  {
   "cell_type": "code",
   "execution_count": 1167,
   "id": "82d856da",
   "metadata": {
    "execution": {
     "iopub.execute_input": "2024-09-04T13:25:50.118677Z",
     "iopub.status.busy": "2024-09-04T13:25:50.118254Z",
     "iopub.status.idle": "2024-09-04T13:25:50.126196Z",
     "shell.execute_reply": "2024-09-04T13:25:50.125111Z"
    },
    "papermill": {
     "duration": 0.131227,
     "end_time": "2024-09-04T13:25:50.128519",
     "exception": false,
     "start_time": "2024-09-04T13:25:49.997292",
     "status": "completed"
    },
    "tags": []
   },
   "outputs": [],
   "source": [
    "df['Amount_invested_monthly'][df['Amount_invested_monthly'] > 8000] = np.nan"
   ]
  },
  {
   "cell_type": "markdown",
   "id": "96823885",
   "metadata": {
    "papermill": {
     "duration": 0.120685,
     "end_time": "2024-09-04T13:25:50.368963",
     "exception": false,
     "start_time": "2024-09-04T13:25:50.248278",
     "status": "completed"
    },
    "tags": []
   },
   "source": [
    "Lets check the distribution again."
   ]
  },
  {
   "cell_type": "code",
   "execution_count": 1168,
   "id": "5ffdbea4",
   "metadata": {
    "execution": {
     "iopub.execute_input": "2024-09-04T13:25:50.613713Z",
     "iopub.status.busy": "2024-09-04T13:25:50.613302Z",
     "iopub.status.idle": "2024-09-04T13:26:08.106456Z",
     "shell.execute_reply": "2024-09-04T13:26:08.105068Z"
    },
    "papermill": {
     "duration": 17.617325,
     "end_time": "2024-09-04T13:26:08.109050",
     "exception": false,
     "start_time": "2024-09-04T13:25:50.491725",
     "status": "completed"
    },
    "tags": []
   },
   "outputs": [
    {
     "name": "stdout",
     "output_type": "stream",
     "text": [
      "Column description for Amount_invested_monthly:\n",
      "\n",
      "count    72980.000000\n",
      "mean       195.362720\n",
      "std        199.994796\n",
      "min          0.000000\n",
      "25%         72.024760\n",
      "50%        128.811819\n",
      "75%        236.146929\n",
      "max       1977.326102\n",
      "Name: Amount_invested_monthly, dtype: float64\n",
      "\n",
      "Number of null values: 7020 \n",
      "\n",
      "\n",
      "\n",
      "\n",
      "Median standardization for Amount_invested_monthly:\n",
      "\n",
      "count    72980.000000\n",
      "mean         0.462445\n",
      "std          2.676647\n",
      "min        -55.134421\n",
      "25%         -0.962767\n",
      "50%          0.000000\n",
      "75%          1.110201\n",
      "max         97.916014\n",
      "Name: Amount_invested_monthly, dtype: float64\n",
      "\n",
      "Number of null values: 7020 \n",
      "\n",
      "\n"
     ]
    }
   ],
   "source": [
    "summary_amount_invested_monthly = summarize_numerical_column_with_deviation(df, 'Amount_invested_monthly', median_standardization_summary = True)"
   ]
  },
  {
   "cell_type": "markdown",
   "id": "c342206e",
   "metadata": {
    "papermill": {
     "duration": 0.123189,
     "end_time": "2024-09-04T13:26:08.360205",
     "exception": false,
     "start_time": "2024-09-04T13:26:08.237016",
     "status": "completed"
    },
    "tags": []
   },
   "source": [
    "Looks like power law distribution, hopefully these are not erroneous values. Lets leave these non-null values as it is for now. Null values still need to be handled."
   ]
  },
  {
   "cell_type": "code",
   "execution_count": 1169,
   "id": "4058dbe4",
   "metadata": {
    "execution": {
     "iopub.execute_input": "2024-09-04T13:26:08.612593Z",
     "iopub.status.busy": "2024-09-04T13:26:08.612201Z",
     "iopub.status.idle": "2024-09-04T13:26:11.014616Z",
     "shell.execute_reply": "2024-09-04T13:26:11.013585Z"
    },
    "papermill": {
     "duration": 2.528952,
     "end_time": "2024-09-04T13:26:11.016999",
     "exception": false,
     "start_time": "2024-09-04T13:26:08.488047",
     "status": "completed"
    },
    "tags": []
   },
   "outputs": [
    {
     "data": {
      "text/plain": [
       "Amount_invested_monthly\n",
       "8    38608\n",
       "7    28976\n",
       "6    10112\n",
       "5     1992\n",
       "4      208\n",
       "1       88\n",
       "3       16\n",
       "Name: count, dtype: int64"
      ]
     },
     "execution_count": 1169,
     "metadata": {},
     "output_type": "execute_result"
    }
   ],
   "source": [
    "df.groupby('Customer_ID')['Amount_invested_monthly'].transform(return_num_of_modes).value_counts()"
   ]
  },
  {
   "cell_type": "markdown",
   "id": "79599bc4",
   "metadata": {
    "papermill": {
     "duration": 0.130107,
     "end_time": "2024-09-04T13:26:11.273388",
     "exception": false,
     "start_time": "2024-09-04T13:26:11.143281",
     "status": "completed"
    },
    "tags": []
   },
   "source": [
    "Lets choose the median of values as a decent approximation for null values."
   ]
  },
  {
   "cell_type": "code",
   "execution_count": 1170,
   "id": "145b5add",
   "metadata": {
    "execution": {
     "iopub.execute_input": "2024-09-04T13:26:11.550793Z",
     "iopub.status.busy": "2024-09-04T13:26:11.550344Z",
     "iopub.status.idle": "2024-09-04T13:26:19.125002Z",
     "shell.execute_reply": "2024-09-04T13:26:19.123987Z"
    },
    "papermill": {
     "duration": 7.705582,
     "end_time": "2024-09-04T13:26:19.127410",
     "exception": false,
     "start_time": "2024-09-04T13:26:11.421828",
     "status": "completed"
    },
    "tags": []
   },
   "outputs": [],
   "source": [
    "df['Amount_invested_monthly'] = df.groupby('Customer_ID')['Amount_invested_monthly'].transform(lambda x: x.fillna(x.median()))"
   ]
  },
  {
   "cell_type": "markdown",
   "id": "4b261fec",
   "metadata": {
    "jp-MarkdownHeadingCollapsed": true,
    "papermill": {
     "duration": 0.12235,
     "end_time": "2024-09-04T13:26:19.373058",
     "exception": false,
     "start_time": "2024-09-04T13:26:19.250708",
     "status": "completed"
    },
    "tags": []
   },
   "source": [
    "#### 20. Payment Behaviour"
   ]
  },
  {
   "cell_type": "code",
   "execution_count": 1171,
   "id": "3501c854",
   "metadata": {
    "execution": {
     "iopub.execute_input": "2024-09-04T13:26:19.618800Z",
     "iopub.status.busy": "2024-09-04T13:26:19.618370Z",
     "iopub.status.idle": "2024-09-04T13:26:19.888961Z",
     "shell.execute_reply": "2024-09-04T13:26:19.887761Z"
    },
    "papermill": {
     "duration": 0.396064,
     "end_time": "2024-09-04T13:26:19.891255",
     "exception": false,
     "start_time": "2024-09-04T13:26:19.495191",
     "status": "completed"
    },
    "tags": []
   },
   "outputs": [
    {
     "data": {
      "image/png": "[encoded data removed]",
      "text/plain": [
       "<Figure size 640x480 with 1 Axes>"
      ]
     },
     "metadata": {},
     "output_type": "display_data"
    }
   ],
   "source": [
    "payment_behaviour_count = df['Payment_Behaviour'].value_counts()\n",
    "sns.barplot(x = payment_behaviour_count.values, y = payment_behaviour_count.index, orient = 'h')\n",
    "plt.xlabel('Count')\n",
    "plt.ylabel('Payment Behaviour');"
   ]
  },
  {
   "cell_type": "code",
   "execution_count": 1172,
   "id": "28751710",
   "metadata": {
    "execution": {
     "iopub.execute_input": "2024-09-04T13:26:20.142374Z",
     "iopub.status.busy": "2024-09-04T13:26:20.141984Z",
     "iopub.status.idle": "2024-09-04T13:26:20.153929Z",
     "shell.execute_reply": "2024-09-04T13:26:20.152879Z"
    },
    "papermill": {
     "duration": 0.138167,
     "end_time": "2024-09-04T13:26:20.156037",
     "exception": false,
     "start_time": "2024-09-04T13:26:20.017870",
     "status": "completed"
    },
    "tags": []
   },
   "outputs": [
    {
     "data": {
      "text/plain": [
       "np.int64(6139)"
      ]
     },
     "execution_count": 1172,
     "metadata": {},
     "output_type": "execute_result"
    }
   ],
   "source": [
    "df['Payment_Behaviour'].isnull().sum()"
   ]
  },
  {
   "cell_type": "markdown",
   "id": "70afd386",
   "metadata": {
    "papermill": {
     "duration": 0.124439,
     "end_time": "2024-09-04T13:26:20.403689",
     "exception": false,
     "start_time": "2024-09-04T13:26:20.279250",
     "status": "completed"
    },
    "tags": []
   },
   "source": [
    "7600 of null values present."
   ]
  },
  {
   "cell_type": "code",
   "execution_count": 1173,
   "id": "61c242cb",
   "metadata": {
    "execution": {
     "iopub.execute_input": "2024-09-04T13:26:20.653691Z",
     "iopub.status.busy": "2024-09-04T13:26:20.652582Z",
     "iopub.status.idle": "2024-09-04T13:26:20.689561Z",
     "shell.execute_reply": "2024-09-04T13:26:20.688394Z"
    },
    "papermill": {
     "duration": 0.16549,
     "end_time": "2024-09-04T13:26:20.692024",
     "exception": false,
     "start_time": "2024-09-04T13:26:20.526534",
     "status": "completed"
    },
    "tags": []
   },
   "outputs": [
    {
     "data": {
      "text/plain": [
       "Payment_Behaviour\n",
       "4    4171\n",
       "5    2586\n",
       "3    2372\n",
       "2     459\n",
       "6     393\n",
       "1      19\n",
       "Name: count, dtype: int64"
      ]
     },
     "execution_count": 1173,
     "metadata": {},
     "output_type": "execute_result"
    }
   ],
   "source": [
    "df.groupby('Customer_ID')['Payment_Behaviour'].nunique().value_counts()"
   ]
  },
  {
   "cell_type": "code",
   "execution_count": 1174,
   "id": "8bc7f9d6",
   "metadata": {
    "execution": {
     "iopub.execute_input": "2024-09-04T13:26:20.941686Z",
     "iopub.status.busy": "2024-09-04T13:26:20.940615Z",
     "iopub.status.idle": "2024-09-04T13:26:22.466264Z",
     "shell.execute_reply": "2024-09-04T13:26:22.465193Z"
    },
    "papermill": {
     "duration": 1.653037,
     "end_time": "2024-09-04T13:26:22.468637",
     "exception": false,
     "start_time": "2024-09-04T13:26:20.815600",
     "status": "completed"
    },
    "tags": []
   },
   "outputs": [
    {
     "data": {
      "text/plain": [
       "Payment_Behaviour\n",
       "1    7185\n",
       "2    1822\n",
       "3     885\n",
       "4      92\n",
       "5      11\n",
       "6       5\n",
       "Name: count, dtype: int64"
      ]
     },
     "execution_count": 1174,
     "metadata": {},
     "output_type": "execute_result"
    }
   ],
   "source": [
    "df.groupby('Customer_ID')['Payment_Behaviour'].agg(return_num_of_modes).value_counts()"
   ]
  },
  {
   "cell_type": "markdown",
   "id": "b54208d9",
   "metadata": {
    "papermill": {
     "duration": 0.123647,
     "end_time": "2024-09-04T13:26:22.716025",
     "exception": false,
     "start_time": "2024-09-04T13:26:22.592378",
     "status": "completed"
    },
    "tags": []
   },
   "source": [
    "The number of modes vary, if the number of mode is 1 then we can use that for imputation else forward fill and backward fill can be used."
   ]
  },
  {
   "cell_type": "code",
   "execution_count": 1175,
   "id": "9ea29bfb",
   "metadata": {
    "execution": {
     "iopub.execute_input": "2024-09-04T13:26:22.967787Z",
     "iopub.status.busy": "2024-09-04T13:26:22.966800Z",
     "iopub.status.idle": "2024-09-04T13:26:29.149935Z",
     "shell.execute_reply": "2024-09-04T13:26:29.148739Z"
    },
    "papermill": {
     "duration": 6.310987,
     "end_time": "2024-09-04T13:26:29.152559",
     "exception": false,
     "start_time": "2024-09-04T13:26:22.841572",
     "status": "completed"
    },
    "tags": []
   },
   "outputs": [],
   "source": [
    "df['Payment_Behaviour'] = df.groupby('Customer_ID')['Payment_Behaviour'].transform(lambda x: return_mode(x) if len(x.mode()) == 1 else forward_backward_fill(x))"
   ]
  },
  {
   "cell_type": "code",
   "execution_count": 1176,
   "id": "09bf77d1",
   "metadata": {
    "execution": {
     "iopub.execute_input": "2024-09-04T13:26:29.406838Z",
     "iopub.status.busy": "2024-09-04T13:26:29.405251Z",
     "iopub.status.idle": "2024-09-04T13:26:29.419265Z",
     "shell.execute_reply": "2024-09-04T13:26:29.418064Z"
    },
    "papermill": {
     "duration": 0.142436,
     "end_time": "2024-09-04T13:26:29.421573",
     "exception": false,
     "start_time": "2024-09-04T13:26:29.279137",
     "status": "completed"
    },
    "tags": []
   },
   "outputs": [
    {
     "data": {
      "text/plain": [
       "np.int64(0)"
      ]
     },
     "execution_count": 1176,
     "metadata": {},
     "output_type": "execute_result"
    }
   ],
   "source": [
    "df['Payment_Behaviour'].isnull().sum()"
   ]
  },
  {
   "cell_type": "markdown",
   "id": "3fd8cd90",
   "metadata": {
    "jp-MarkdownHeadingCollapsed": true,
    "papermill": {
     "duration": 0.12669,
     "end_time": "2024-09-04T13:26:29.671981",
     "exception": false,
     "start_time": "2024-09-04T13:26:29.545291",
     "status": "completed"
    },
    "tags": []
   },
   "source": [
    "#### 21. Monthly Balance"
   ]
  },
  {
   "cell_type": "code",
   "execution_count": 1177,
   "id": "af265de5",
   "metadata": {
    "execution": {
     "iopub.execute_input": "2024-09-04T13:26:29.925071Z",
     "iopub.status.busy": "2024-09-04T13:26:29.924643Z",
     "iopub.status.idle": "2024-09-04T13:26:45.284044Z",
     "shell.execute_reply": "2024-09-04T13:26:45.283078Z"
    },
    "papermill": {
     "duration": 15.490481,
     "end_time": "2024-09-04T13:26:45.286514",
     "exception": false,
     "start_time": "2024-09-04T13:26:29.796033",
     "status": "completed"
    },
    "tags": []
   },
   "outputs": [
    {
     "name": "stdout",
     "output_type": "stream",
     "text": [
      "Column description for Monthly_Balance:\n",
      "\n",
      "count    79031.000000\n",
      "mean       402.302726\n",
      "std        213.695307\n",
      "min          0.007760\n",
      "25%        270.154076\n",
      "50%        336.452745\n",
      "75%        469.685963\n",
      "max       1602.040519\n",
      "Name: Monthly_Balance, dtype: float64\n",
      "\n",
      "Number of null values: 969 \n",
      "\n",
      "\n",
      "\n",
      "\n",
      "Median standardization for Monthly_Balance:\n",
      "\n",
      "count    79031.000000\n",
      "mean        -0.470651\n",
      "std          2.485421\n",
      "min        -68.498024\n",
      "25%         -1.135687\n",
      "50%          0.000000\n",
      "75%          0.931241\n",
      "max         21.453890\n",
      "Name: Monthly_Balance, dtype: float64\n",
      "\n",
      "Number of null values: 969 \n",
      "\n",
      "\n"
     ]
    }
   ],
   "source": [
    "summary_monthly_balance = summarize_numerical_column_with_deviation(df, 'Monthly_Balance', median_standardization_summary = True)"
   ]
  },
  {
   "cell_type": "markdown",
   "id": "0b03de57",
   "metadata": {
    "papermill": {
     "duration": 0.130421,
     "end_time": "2024-09-04T13:26:45.546305",
     "exception": false,
     "start_time": "2024-09-04T13:26:45.415884",
     "status": "completed"
    },
    "tags": []
   },
   "source": [
    "There are 1209 null values. Looking at the column as a whole the distribution looks ok and considering the fact that we can't decide exactly on a threshold on median standardization without domain expertise. We will leave the non-null values as it for now."
   ]
  },
  {
   "cell_type": "code",
   "execution_count": 1178,
   "id": "0136128e",
   "metadata": {
    "execution": {
     "iopub.execute_input": "2024-09-04T13:26:45.803683Z",
     "iopub.status.busy": "2024-09-04T13:26:45.803252Z",
     "iopub.status.idle": "2024-09-04T13:26:45.839836Z",
     "shell.execute_reply": "2024-09-04T13:26:45.838746Z"
    },
    "papermill": {
     "duration": 0.168246,
     "end_time": "2024-09-04T13:26:45.842322",
     "exception": false,
     "start_time": "2024-09-04T13:26:45.674076",
     "status": "completed"
    },
    "tags": []
   },
   "outputs": [
    {
     "data": {
      "text/plain": [
       "Monthly_Balance\n",
       "8    9225\n",
       "7     621\n",
       "6     125\n",
       "5      19\n",
       "4       9\n",
       "3       1\n",
       "Name: count, dtype: int64"
      ]
     },
     "execution_count": 1178,
     "metadata": {},
     "output_type": "execute_result"
    }
   ],
   "source": [
    "df.groupby('Customer_ID')['Monthly_Balance'].nunique().value_counts()"
   ]
  },
  {
   "cell_type": "markdown",
   "id": "afa516c3",
   "metadata": {
    "papermill": {
     "duration": 0.128978,
     "end_time": "2024-09-04T13:26:46.099544",
     "exception": false,
     "start_time": "2024-09-04T13:26:45.970566",
     "status": "completed"
    },
    "tags": []
   },
   "source": [
    "Since there might be skewness within the data we can use median to fill the null values."
   ]
  },
  {
   "cell_type": "code",
   "execution_count": 1179,
   "id": "ddfaf579",
   "metadata": {
    "execution": {
     "iopub.execute_input": "2024-09-04T13:26:46.353875Z",
     "iopub.status.busy": "2024-09-04T13:26:46.353439Z",
     "iopub.status.idle": "2024-09-04T13:26:50.384082Z",
     "shell.execute_reply": "2024-09-04T13:26:50.383183Z"
    },
    "papermill": {
     "duration": 4.160913,
     "end_time": "2024-09-04T13:26:50.386762",
     "exception": false,
     "start_time": "2024-09-04T13:26:46.225849",
     "status": "completed"
    },
    "tags": []
   },
   "outputs": [],
   "source": [
    "df['Monthly_Balance'] = df.groupby('Customer_ID')['Monthly_Balance'].transform(lambda x: x.fillna(x.median()))"
   ]
  },
  {
   "cell_type": "markdown",
   "id": "827fdd94",
   "metadata": {
    "jp-MarkdownHeadingCollapsed": true,
    "papermill": {
     "duration": 0.12948,
     "end_time": "2024-09-04T13:26:50.643599",
     "exception": false,
     "start_time": "2024-09-04T13:26:50.514119",
     "status": "completed"
    },
    "tags": []
   },
   "source": [
    "### Deleting unnecessary columns"
   ]
  },
  {
   "cell_type": "code",
   "execution_count": 1180,
   "id": "6441daad",
   "metadata": {
    "execution": {
     "iopub.execute_input": "2024-09-04T13:26:50.895886Z",
     "iopub.status.busy": "2024-09-04T13:26:50.895049Z",
     "iopub.status.idle": "2024-09-04T13:26:50.902612Z",
     "shell.execute_reply": "2024-09-04T13:26:50.901529Z"
    },
    "papermill": {
     "duration": 0.137083,
     "end_time": "2024-09-04T13:26:50.904773",
     "exception": false,
     "start_time": "2024-09-04T13:26:50.767690",
     "status": "completed"
    },
    "tags": []
   },
   "outputs": [
    {
     "data": {
      "text/plain": [
       "Index(['Unnamed: 0', 'Customer_ID', 'Month', 'Age', 'Occupation',\n",
       "       'Annual_Income', 'Monthly_Inhand_Salary', 'Num_Bank_Accounts',\n",
       "       'Num_Credit_Card', 'Interest_Rate', 'Num_of_Loan',\n",
       "       'Delay_from_due_date', 'Num_of_Delayed_Payment', 'Changed_Credit_Limit',\n",
       "       'Num_Credit_Inquiries', 'Credit_Mix', 'Outstanding_Debt',\n",
       "       'Credit_Utilization_Ratio', 'Credit_History_Age',\n",
       "       'Payment_of_Min_Amount', 'Total_EMI_per_month',\n",
       "       'Amount_invested_monthly', 'Payment_Behaviour', 'Monthly_Balance',\n",
       "       'Credit_Score', 'Last_Loan_9', 'Last_Loan_8', 'Last_Loan_7',\n",
       "       'Last_Loan_6', 'Last_Loan_5', 'Last_Loan_4', 'Last_Loan_3',\n",
       "       'Last_Loan_2', 'Last_Loan_1'],\n",
       "      dtype='object')"
      ]
     },
     "execution_count": 1180,
     "metadata": {},
     "output_type": "execute_result"
    }
   ],
   "source": [
    "df.columns"
   ]
  },
  {
   "cell_type": "markdown",
   "id": "689039e6",
   "metadata": {
    "papermill": {
     "duration": 0.125498,
     "end_time": "2024-09-04T13:26:51.158000",
     "exception": false,
     "start_time": "2024-09-04T13:26:51.032502",
     "status": "completed"
    },
    "tags": []
   },
   "source": [
    "Month column is not needed anymore and can be dropped. We will keep customer id as it is for now so that it can be used later on when doing train-test splits."
   ]
  },
  {
   "cell_type": "markdown",
   "id": "47615646",
   "metadata": {
    "execution": {
     "iopub.execute_input": "2024-09-04T13:26:51.441622Z",
     "iopub.status.busy": "2024-09-04T13:26:51.441210Z",
     "iopub.status.idle": "2024-09-04T13:26:51.496241Z",
     "shell.execute_reply": "2024-09-04T13:26:51.495207Z"
    },
    "papermill": {
     "duration": 0.204952,
     "end_time": "2024-09-04T13:26:51.498759",
     "exception": false,
     "start_time": "2024-09-04T13:26:51.293807",
     "status": "completed"
    },
    "tags": []
   },
   "source": [
    "df.drop(columns = ['Month'], inplace = True)"
   ]
  },
  {
   "cell_type": "code",
   "execution_count": 1181,
   "id": "2cf10b0f",
   "metadata": {
    "execution": {
     "iopub.execute_input": "2024-09-04T13:26:51.756962Z",
     "iopub.status.busy": "2024-09-04T13:26:51.755615Z",
     "iopub.status.idle": "2024-09-04T13:26:51.858385Z",
     "shell.execute_reply": "2024-09-04T13:26:51.857275Z"
    },
    "papermill": {
     "duration": 0.235076,
     "end_time": "2024-09-04T13:26:51.860946",
     "exception": false,
     "start_time": "2024-09-04T13:26:51.625870",
     "status": "completed"
    },
    "tags": []
   },
   "outputs": [],
   "source": [
    "df = df.sample(frac = 1) #shuffle data"
   ]
  },
  {
   "cell_type": "markdown",
   "id": "548436cd",
   "metadata": {
    "jp-MarkdownHeadingCollapsed": true,
    "papermill": {
     "duration": 0.130047,
     "end_time": "2024-09-04T13:26:52.124051",
     "exception": false,
     "start_time": "2024-09-04T13:26:51.994004",
     "status": "completed"
    },
    "tags": []
   },
   "source": [
    "### Rearranging the columns"
   ]
  },
  {
   "cell_type": "code",
   "execution_count": 1182,
   "id": "d5179b6f",
   "metadata": {
    "execution": {
     "iopub.execute_input": "2024-09-04T13:26:52.387371Z",
     "iopub.status.busy": "2024-09-04T13:26:52.386969Z",
     "iopub.status.idle": "2024-09-04T13:26:52.394158Z",
     "shell.execute_reply": "2024-09-04T13:26:52.393099Z"
    },
    "papermill": {
     "duration": 0.14199,
     "end_time": "2024-09-04T13:26:52.396133",
     "exception": false,
     "start_time": "2024-09-04T13:26:52.254143",
     "status": "completed"
    },
    "tags": []
   },
   "outputs": [
    {
     "data": {
      "text/plain": [
       "Index(['Unnamed: 0', 'Customer_ID', 'Month', 'Age', 'Occupation',\n",
       "       'Annual_Income', 'Monthly_Inhand_Salary', 'Num_Bank_Accounts',\n",
       "       'Num_Credit_Card', 'Interest_Rate', 'Num_of_Loan',\n",
       "       'Delay_from_due_date', 'Num_of_Delayed_Payment', 'Changed_Credit_Limit',\n",
       "       'Num_Credit_Inquiries', 'Credit_Mix', 'Outstanding_Debt',\n",
       "       'Credit_Utilization_Ratio', 'Credit_History_Age',\n",
       "       'Payment_of_Min_Amount', 'Total_EMI_per_month',\n",
       "       'Amount_invested_monthly', 'Payment_Behaviour', 'Monthly_Balance',\n",
       "       'Credit_Score', 'Last_Loan_9', 'Last_Loan_8', 'Last_Loan_7',\n",
       "       'Last_Loan_6', 'Last_Loan_5', 'Last_Loan_4', 'Last_Loan_3',\n",
       "       'Last_Loan_2', 'Last_Loan_1'],\n",
       "      dtype='object')"
      ]
     },
     "execution_count": 1182,
     "metadata": {},
     "output_type": "execute_result"
    }
   ],
   "source": [
    "df.columns"
   ]
  },
  {
   "cell_type": "code",
   "execution_count": 1183,
   "id": "ca275e64",
   "metadata": {
    "execution": {
     "iopub.execute_input": "2024-09-04T13:26:52.654979Z",
     "iopub.status.busy": "2024-09-04T13:26:52.654549Z",
     "iopub.status.idle": "2024-09-04T13:26:52.721290Z",
     "shell.execute_reply": "2024-09-04T13:26:52.720358Z"
    },
    "papermill": {
     "duration": 0.199442,
     "end_time": "2024-09-04T13:26:52.723845",
     "exception": false,
     "start_time": "2024-09-04T13:26:52.524403",
     "status": "completed"
    },
    "tags": []
   },
   "outputs": [],
   "source": [
    "df = df.loc[:, ['Customer_ID', 'Age', 'Occupation', 'Annual_Income',\n",
    "       'Monthly_Inhand_Salary', 'Num_Bank_Accounts', 'Num_Credit_Card',\n",
    "       'Interest_Rate', 'Num_of_Loan', 'Delay_from_due_date',\n",
    "       'Num_of_Delayed_Payment', 'Changed_Credit_Limit',\n",
    "       'Num_Credit_Inquiries', 'Credit_Mix', 'Outstanding_Debt',\n",
    "       'Credit_Utilization_Ratio', 'Credit_History_Age',\n",
    "       'Payment_of_Min_Amount', 'Total_EMI_per_month',\n",
    "       'Amount_invested_monthly', 'Payment_Behaviour', 'Monthly_Balance', 'Last_Loan_9', 'Last_Loan_8', 'Last_Loan_7',\n",
    "       'Last_Loan_6', 'Last_Loan_5', 'Last_Loan_4', 'Last_Loan_3',\n",
    "       'Last_Loan_2', 'Last_Loan_1',\n",
    "       'Credit_Score']]"
   ]
  },
  {
   "cell_type": "markdown",
   "id": "be504df5",
   "metadata": {
    "jp-MarkdownHeadingCollapsed": true,
    "papermill": {
     "duration": 0.129811,
     "end_time": "2024-09-04T13:26:52.981788",
     "exception": false,
     "start_time": "2024-09-04T13:26:52.851977",
     "status": "completed"
    },
    "tags": []
   },
   "source": [
    "### Checking the columns"
   ]
  },
  {
   "cell_type": "code",
   "execution_count": 1184,
   "id": "aa723cf7",
   "metadata": {
    "execution": {
     "iopub.execute_input": "2024-09-04T13:26:53.242842Z",
     "iopub.status.busy": "2024-09-04T13:26:53.242397Z",
     "iopub.status.idle": "2024-09-04T13:26:53.418167Z",
     "shell.execute_reply": "2024-09-04T13:26:53.417009Z"
    },
    "papermill": {
     "duration": 0.309848,
     "end_time": "2024-09-04T13:26:53.420594",
     "exception": false,
     "start_time": "2024-09-04T13:26:53.110746",
     "status": "completed"
    },
    "tags": []
   },
   "outputs": [
    {
     "name": "stdout",
     "output_type": "stream",
     "text": [
      "<class 'pandas.core.frame.DataFrame'>\n",
      "Index: 80000 entries, 29210 to 53491\n",
      "Data columns (total 32 columns):\n",
      " #   Column                    Non-Null Count  Dtype  \n",
      "---  ------                    --------------  -----  \n",
      " 0   Customer_ID               80000 non-null  object \n",
      " 1   Age                       80000 non-null  int64  \n",
      " 2   Occupation                80000 non-null  object \n",
      " 3   Annual_Income             80000 non-null  float64\n",
      " 4   Monthly_Inhand_Salary     80000 non-null  float64\n",
      " 5   Num_Bank_Accounts         80000 non-null  int64  \n",
      " 6   Num_Credit_Card           80000 non-null  int64  \n",
      " 7   Interest_Rate             80000 non-null  float64\n",
      " 8   Num_of_Loan               80000 non-null  int64  \n",
      " 9   Delay_from_due_date       80000 non-null  int64  \n",
      " 10  Num_of_Delayed_Payment    80000 non-null  int64  \n",
      " 11  Changed_Credit_Limit      80000 non-null  float64\n",
      " 12  Num_Credit_Inquiries      80000 non-null  int64  \n",
      " 13  Credit_Mix                80000 non-null  object \n",
      " 14  Outstanding_Debt          80000 non-null  float64\n",
      " 15  Credit_Utilization_Ratio  80000 non-null  float64\n",
      " 16  Credit_History_Age        80000 non-null  int64  \n",
      " 17  Payment_of_Min_Amount     80000 non-null  object \n",
      " 18  Total_EMI_per_month       80000 non-null  float64\n",
      " 19  Amount_invested_monthly   80000 non-null  float64\n",
      " 20  Payment_Behaviour         80000 non-null  object \n",
      " 21  Monthly_Balance           80000 non-null  float64\n",
      " 22  Last_Loan_9               80000 non-null  object \n",
      " 23  Last_Loan_8               80000 non-null  object \n",
      " 24  Last_Loan_7               80000 non-null  object \n",
      " 25  Last_Loan_6               80000 non-null  object \n",
      " 26  Last_Loan_5               80000 non-null  object \n",
      " 27  Last_Loan_4               80000 non-null  object \n",
      " 28  Last_Loan_3               80000 non-null  object \n",
      " 29  Last_Loan_2               80000 non-null  object \n",
      " 30  Last_Loan_1               80000 non-null  object \n",
      " 31  Credit_Score              80000 non-null  object \n",
      "dtypes: float64(9), int64(8), object(15)\n",
      "memory usage: 20.1+ MB\n"
     ]
    }
   ],
   "source": [
    "df.info()"
   ]
  },
  {
   "cell_type": "code",
   "execution_count": 1185,
   "id": "4b834443",
   "metadata": {
    "execution": {
     "iopub.execute_input": "2024-09-04T13:26:53.680234Z",
     "iopub.status.busy": "2024-09-04T13:26:53.679803Z",
     "iopub.status.idle": "2024-09-04T13:26:53.851051Z",
     "shell.execute_reply": "2024-09-04T13:26:53.849951Z"
    },
    "papermill": {
     "duration": 0.302791,
     "end_time": "2024-09-04T13:26:53.853266",
     "exception": false,
     "start_time": "2024-09-04T13:26:53.550475",
     "status": "completed"
    },
    "tags": []
   },
   "outputs": [
    {
     "data": {
      "text/plain": [
       "Customer_ID                 0\n",
       "Age                         0\n",
       "Occupation                  0\n",
       "Annual_Income               0\n",
       "Monthly_Inhand_Salary       0\n",
       "Num_Bank_Accounts           0\n",
       "Num_Credit_Card             0\n",
       "Interest_Rate               0\n",
       "Num_of_Loan                 0\n",
       "Delay_from_due_date         0\n",
       "Num_of_Delayed_Payment      0\n",
       "Changed_Credit_Limit        0\n",
       "Num_Credit_Inquiries        0\n",
       "Credit_Mix                  0\n",
       "Outstanding_Debt            0\n",
       "Credit_Utilization_Ratio    0\n",
       "Credit_History_Age          0\n",
       "Payment_of_Min_Amount       0\n",
       "Total_EMI_per_month         0\n",
       "Amount_invested_monthly     0\n",
       "Payment_Behaviour           0\n",
       "Monthly_Balance             0\n",
       "Last_Loan_9                 0\n",
       "Last_Loan_8                 0\n",
       "Last_Loan_7                 0\n",
       "Last_Loan_6                 0\n",
       "Last_Loan_5                 0\n",
       "Last_Loan_4                 0\n",
       "Last_Loan_3                 0\n",
       "Last_Loan_2                 0\n",
       "Last_Loan_1                 0\n",
       "Credit_Score                0\n",
       "dtype: int64"
      ]
     },
     "execution_count": 1185,
     "metadata": {},
     "output_type": "execute_result"
    }
   ],
   "source": [
    "df.isnull().sum()"
   ]
  },
  {
   "cell_type": "code",
   "execution_count": 1186,
   "id": "ee70ca2c",
   "metadata": {
    "execution": {
     "iopub.execute_input": "2024-09-04T13:26:54.120784Z",
     "iopub.status.busy": "2024-09-04T13:26:54.120355Z",
     "iopub.status.idle": "2024-09-04T13:26:54.489588Z",
     "shell.execute_reply": "2024-09-04T13:26:54.488519Z"
    },
    "papermill": {
     "duration": 0.5057,
     "end_time": "2024-09-04T13:26:54.492063",
     "exception": false,
     "start_time": "2024-09-04T13:26:53.986363",
     "status": "completed"
    },
    "tags": []
   },
   "outputs": [],
   "source": [
    "# # Adjust tolerances\n",
    "# income_tolerance = 0.05  # 5%\n",
    "# credit_utilization_tolerance = 0.1  # 10%\n",
    "\n",
    "# # Recreate \"buckets\" for numeric columns with adjusted tolerances\n",
    "# df['Income_Range'] = (df['Annual_Income'] // (df['Annual_Income'].mean() * income_tolerance)).astype(int)\n",
    "\n",
    "# # Define a minimal subset for detecting duplicates\n",
    "# subset_columns = [\n",
    "#     'Customer_ID', \n",
    "#     'Income_Range', \n",
    "#     'Age', \n",
    "#     'Credit_Score'\n",
    "# ]\n",
    "\n",
    "# # Group by Customer_ID and detect duplicates within each group\n",
    "# df['is_duplicate'] = df.groupby('Customer_ID').apply(\n",
    "#     lambda group: group.duplicated(subset=subset_columns, keep='first')\n",
    "# ).reset_index(level=0, drop=True)\n",
    "\n",
    "# # Inspect rows marked as duplicates\n",
    "# removed_rows = df[df['is_duplicate']]\n",
    "# print(\"Removed Rows:\")\n",
    "# print(removed_rows)\n",
    "\n",
    "# # Drop duplicate records and reset index\n",
    "# df = df[~df['is_duplicate']].drop(columns=['is_duplicate', 'Income_Range'])\n",
    "# df.reset_index(drop=True, inplace=True)\n",
    "\n",
    "# # Check the class distribution after removing duplicates\n",
    "# print(\"Class Distribution After Removing Duplicates:\")\n",
    "# print(df['Credit_Score'].value_counts())\n",
    "\n",
    "# # Final DataFrame information\n",
    "# print(f\"Total Rows: {len(df)}\")\n",
    "# print(\"Top Rows:\")\n",
    "# print(df.head())\n",
    "# print(df.info())\n",
    "\n",
    "\n",
    "# df.duplicated().sum()"
   ]
  },
  {
   "cell_type": "code",
   "execution_count": 1187,
   "id": "06ad5aec",
   "metadata": {},
   "outputs": [
    {
     "data": {
      "text/html": [
       "<div>\n",
       "<style scoped>\n",
       "    .dataframe tbody tr th:only-of-type {\n",
       "        vertical-align: middle;\n",
       "    }\n",
       "\n",
       "    .dataframe tbody tr th {\n",
       "        vertical-align: top;\n",
       "    }\n",
       "\n",
       "    .dataframe thead th {\n",
       "        text-align: right;\n",
       "    }\n",
       "</style>\n",
       "<table border=\"1\" class=\"dataframe\">\n",
       "  <thead>\n",
       "    <tr style=\"text-align: right;\">\n",
       "      <th></th>\n",
       "      <th>Age</th>\n",
       "      <th>Annual_Income</th>\n",
       "      <th>Monthly_Inhand_Salary</th>\n",
       "      <th>Num_Bank_Accounts</th>\n",
       "      <th>Num_Credit_Card</th>\n",
       "      <th>Interest_Rate</th>\n",
       "      <th>Num_of_Loan</th>\n",
       "      <th>Delay_from_due_date</th>\n",
       "      <th>Num_of_Delayed_Payment</th>\n",
       "      <th>Changed_Credit_Limit</th>\n",
       "      <th>Num_Credit_Inquiries</th>\n",
       "      <th>Outstanding_Debt</th>\n",
       "      <th>Credit_Utilization_Ratio</th>\n",
       "      <th>Credit_History_Age</th>\n",
       "      <th>Total_EMI_per_month</th>\n",
       "      <th>Amount_invested_monthly</th>\n",
       "      <th>Monthly_Balance</th>\n",
       "    </tr>\n",
       "  </thead>\n",
       "  <tbody>\n",
       "    <tr>\n",
       "      <th>count</th>\n",
       "      <td>80000.000000</td>\n",
       "      <td>8.000000e+04</td>\n",
       "      <td>80000.000000</td>\n",
       "      <td>80000.000000</td>\n",
       "      <td>80000.000000</td>\n",
       "      <td>80000.000000</td>\n",
       "      <td>80000.000000</td>\n",
       "      <td>80000.000000</td>\n",
       "      <td>80000.000000</td>\n",
       "      <td>80000.000000</td>\n",
       "      <td>80000.000000</td>\n",
       "      <td>80000.000000</td>\n",
       "      <td>80000.000000</td>\n",
       "      <td>80000.000000</td>\n",
       "      <td>80000.000000</td>\n",
       "      <td>80000.000000</td>\n",
       "      <td>80000.000000</td>\n",
       "    </tr>\n",
       "    <tr>\n",
       "      <th>mean</th>\n",
       "      <td>33.365625</td>\n",
       "      <td>5.076891e+04</td>\n",
       "      <td>4196.339376</td>\n",
       "      <td>5.366462</td>\n",
       "      <td>5.541462</td>\n",
       "      <td>14.560100</td>\n",
       "      <td>3.552200</td>\n",
       "      <td>21.104625</td>\n",
       "      <td>13.333825</td>\n",
       "      <td>10.357267</td>\n",
       "      <td>5.785762</td>\n",
       "      <td>1427.878089</td>\n",
       "      <td>32.303583</td>\n",
       "      <td>220.953800</td>\n",
       "      <td>90.146455</td>\n",
       "      <td>193.440983</td>\n",
       "      <td>403.329099</td>\n",
       "    </tr>\n",
       "    <tr>\n",
       "      <th>std</th>\n",
       "      <td>10.749782</td>\n",
       "      <td>9.101956e+04</td>\n",
       "      <td>3193.986148</td>\n",
       "      <td>2.583602</td>\n",
       "      <td>2.062664</td>\n",
       "      <td>8.737674</td>\n",
       "      <td>2.444535</td>\n",
       "      <td>14.875335</td>\n",
       "      <td>6.266640</td>\n",
       "      <td>6.779613</td>\n",
       "      <td>3.864421</td>\n",
       "      <td>1156.913930</td>\n",
       "      <td>5.120211</td>\n",
       "      <td>99.772071</td>\n",
       "      <td>81.517920</td>\n",
       "      <td>195.158250</td>\n",
       "      <td>214.257315</td>\n",
       "    </tr>\n",
       "    <tr>\n",
       "      <th>min</th>\n",
       "      <td>14.000000</td>\n",
       "      <td>7.005930e+03</td>\n",
       "      <td>319.556250</td>\n",
       "      <td>0.000000</td>\n",
       "      <td>0.000000</td>\n",
       "      <td>1.000000</td>\n",
       "      <td>0.000000</td>\n",
       "      <td>-5.000000</td>\n",
       "      <td>0.000000</td>\n",
       "      <td>-6.490000</td>\n",
       "      <td>0.000000</td>\n",
       "      <td>0.540000</td>\n",
       "      <td>20.000000</td>\n",
       "      <td>1.000000</td>\n",
       "      <td>0.000000</td>\n",
       "      <td>0.000000</td>\n",
       "      <td>0.007760</td>\n",
       "    </tr>\n",
       "    <tr>\n",
       "      <th>25%</th>\n",
       "      <td>25.000000</td>\n",
       "      <td>1.928073e+04</td>\n",
       "      <td>1626.525000</td>\n",
       "      <td>3.000000</td>\n",
       "      <td>4.000000</td>\n",
       "      <td>7.000000</td>\n",
       "      <td>2.000000</td>\n",
       "      <td>10.000000</td>\n",
       "      <td>9.000000</td>\n",
       "      <td>5.290000</td>\n",
       "      <td>3.000000</td>\n",
       "      <td>563.100000</td>\n",
       "      <td>28.063496</td>\n",
       "      <td>144.000000</td>\n",
       "      <td>29.236416</td>\n",
       "      <td>73.421405</td>\n",
       "      <td>270.353013</td>\n",
       "    </tr>\n",
       "    <tr>\n",
       "      <th>50%</th>\n",
       "      <td>33.000000</td>\n",
       "      <td>3.682100e+04</td>\n",
       "      <td>3074.046250</td>\n",
       "      <td>6.000000</td>\n",
       "      <td>5.000000</td>\n",
       "      <td>13.000000</td>\n",
       "      <td>3.000000</td>\n",
       "      <td>18.000000</td>\n",
       "      <td>14.000000</td>\n",
       "      <td>9.360000</td>\n",
       "      <td>5.000000</td>\n",
       "      <td>1167.045000</td>\n",
       "      <td>32.343787</td>\n",
       "      <td>219.000000</td>\n",
       "      <td>65.972954</td>\n",
       "      <td>129.218620</td>\n",
       "      <td>337.025036</td>\n",
       "    </tr>\n",
       "    <tr>\n",
       "      <th>75%</th>\n",
       "      <td>42.000000</td>\n",
       "      <td>7.167600e+04</td>\n",
       "      <td>5957.715000</td>\n",
       "      <td>7.000000</td>\n",
       "      <td>7.000000</td>\n",
       "      <td>20.000000</td>\n",
       "      <td>5.000000</td>\n",
       "      <td>28.000000</td>\n",
       "      <td>18.000000</td>\n",
       "      <td>14.860000</td>\n",
       "      <td>9.000000</td>\n",
       "      <td>1953.232500</td>\n",
       "      <td>36.515261</td>\n",
       "      <td>302.000000</td>\n",
       "      <td>130.457752</td>\n",
       "      <td>233.556222</td>\n",
       "      <td>471.611204</td>\n",
       "    </tr>\n",
       "    <tr>\n",
       "      <th>max</th>\n",
       "      <td>56.000000</td>\n",
       "      <td>2.339320e+07</td>\n",
       "      <td>15204.633333</td>\n",
       "      <td>11.000000</td>\n",
       "      <td>11.000000</td>\n",
       "      <td>34.000000</td>\n",
       "      <td>9.000000</td>\n",
       "      <td>67.000000</td>\n",
       "      <td>28.000000</td>\n",
       "      <td>36.970000</td>\n",
       "      <td>17.000000</td>\n",
       "      <td>4998.070000</td>\n",
       "      <td>50.000000</td>\n",
       "      <td>404.000000</td>\n",
       "      <td>355.352333</td>\n",
       "      <td>1977.326102</td>\n",
       "      <td>1602.040519</td>\n",
       "    </tr>\n",
       "  </tbody>\n",
       "</table>\n",
       "</div>"
      ],
      "text/plain": [
       "                Age  Annual_Income  Monthly_Inhand_Salary  Num_Bank_Accounts  \\\n",
       "count  80000.000000   8.000000e+04           80000.000000       80000.000000   \n",
       "mean      33.365625   5.076891e+04            4196.339376           5.366462   \n",
       "std       10.749782   9.101956e+04            3193.986148           2.583602   \n",
       "min       14.000000   7.005930e+03             319.556250           0.000000   \n",
       "25%       25.000000   1.928073e+04            1626.525000           3.000000   \n",
       "50%       33.000000   3.682100e+04            3074.046250           6.000000   \n",
       "75%       42.000000   7.167600e+04            5957.715000           7.000000   \n",
       "max       56.000000   2.339320e+07           15204.633333          11.000000   \n",
       "\n",
       "       Num_Credit_Card  Interest_Rate   Num_of_Loan  Delay_from_due_date  \\\n",
       "count     80000.000000   80000.000000  80000.000000         80000.000000   \n",
       "mean          5.541462      14.560100      3.552200            21.104625   \n",
       "std           2.062664       8.737674      2.444535            14.875335   \n",
       "min           0.000000       1.000000      0.000000            -5.000000   \n",
       "25%           4.000000       7.000000      2.000000            10.000000   \n",
       "50%           5.000000      13.000000      3.000000            18.000000   \n",
       "75%           7.000000      20.000000      5.000000            28.000000   \n",
       "max          11.000000      34.000000      9.000000            67.000000   \n",
       "\n",
       "       Num_of_Delayed_Payment  Changed_Credit_Limit  Num_Credit_Inquiries  \\\n",
       "count            80000.000000          80000.000000          80000.000000   \n",
       "mean                13.333825             10.357267              5.785762   \n",
       "std                  6.266640              6.779613              3.864421   \n",
       "min                  0.000000             -6.490000              0.000000   \n",
       "25%                  9.000000              5.290000              3.000000   \n",
       "50%                 14.000000              9.360000              5.000000   \n",
       "75%                 18.000000             14.860000              9.000000   \n",
       "max                 28.000000             36.970000             17.000000   \n",
       "\n",
       "       Outstanding_Debt  Credit_Utilization_Ratio  Credit_History_Age  \\\n",
       "count      80000.000000              80000.000000        80000.000000   \n",
       "mean        1427.878089                 32.303583          220.953800   \n",
       "std         1156.913930                  5.120211           99.772071   \n",
       "min            0.540000                 20.000000            1.000000   \n",
       "25%          563.100000                 28.063496          144.000000   \n",
       "50%         1167.045000                 32.343787          219.000000   \n",
       "75%         1953.232500                 36.515261          302.000000   \n",
       "max         4998.070000                 50.000000          404.000000   \n",
       "\n",
       "       Total_EMI_per_month  Amount_invested_monthly  Monthly_Balance  \n",
       "count         80000.000000             80000.000000     80000.000000  \n",
       "mean             90.146455               193.440983       403.329099  \n",
       "std              81.517920               195.158250       214.257315  \n",
       "min               0.000000                 0.000000         0.007760  \n",
       "25%              29.236416                73.421405       270.353013  \n",
       "50%              65.972954               129.218620       337.025036  \n",
       "75%             130.457752               233.556222       471.611204  \n",
       "max             355.352333              1977.326102      1602.040519  "
      ]
     },
     "execution_count": 1187,
     "metadata": {},
     "output_type": "execute_result"
    }
   ],
   "source": [
    "df.describe()"
   ]
  },
  {
   "cell_type": "markdown",
   "id": "c53978b7",
   "metadata": {
    "jp-MarkdownHeadingCollapsed": true,
    "papermill": {
     "duration": 0.184969,
     "end_time": "2024-09-04T13:26:54.806537",
     "exception": false,
     "start_time": "2024-09-04T13:26:54.621568",
     "status": "completed"
    },
    "tags": []
   },
   "source": [
    "### Exporting the data"
   ]
  },
  {
   "cell_type": "code",
   "execution_count": null,
   "id": "40a458c3",
   "metadata": {
    "execution": {
     "iopub.execute_input": "2024-09-04T13:26:55.075090Z",
     "iopub.status.busy": "2024-09-04T13:26:55.074689Z",
     "iopub.status.idle": "2024-09-04T13:26:55.079671Z",
     "shell.execute_reply": "2024-09-04T13:26:55.078433Z"
    },
    "papermill": {
     "duration": 0.141961,
     "end_time": "2024-09-04T13:26:55.081913",
     "exception": false,
     "start_time": "2024-09-04T13:26:54.939952",
     "status": "completed"
    },
    "tags": []
   },
   "outputs": [],
   "source": [
    "df.to_csv('../data/Credit_score_cleaned_data.csv', index = False)"
   ]
  },
  {
   "cell_type": "markdown",
   "id": "ee4aaa06",
   "metadata": {
    "jp-MarkdownHeadingCollapsed": true,
    "papermill": {
     "duration": 0.132624,
     "end_time": "2024-09-04T13:26:55.345724",
     "exception": false,
     "start_time": "2024-09-04T13:26:55.213100",
     "status": "completed"
    },
    "tags": []
   },
   "source": [
    "## Conclusion:"
   ]
  },
  {
   "cell_type": "markdown",
   "id": "2fbc2256",
   "metadata": {
    "papermill": {
     "duration": 0.131177,
     "end_time": "2024-09-04T13:26:55.607753",
     "exception": false,
     "start_time": "2024-09-04T13:26:55.476576",
     "status": "completed"
    },
    "tags": []
   },
   "source": [
    "In this notebook, we were able to observe and accomplish following things:  \n",
    "- Using standard outlier detection techniques like IQR in conjuction with lesser used techniques like median standardization to perform deep dive on the columns by taking advantage of the inherent chronolgical structure of the data to make better educated guesses about how to clean the data and fill the missing values.\n",
    "- We used techniques like string based functions of pandas to detect unclean data and do feature engineering.\n",
    "- It was highlighted how domain expertise can help streamline the data cleaning process and where it might help us make better choices.\n",
    "- This notebook will be followed by a predictive modelling notebook which will contain EDA, feature engineering and tree based predictive modelling."
   ]
  }
 ],
 "metadata": {
  "kaggle": {
   "accelerator": "none",
   "dataSources": [
    {
     "datasetId": 5643459,
     "sourceId": 9317236,
     "sourceType": "datasetVersion"
    }
   ],
   "isGpuEnabled": false,
   "isInternetEnabled": true,
   "language": "python",
   "sourceType": "notebook"
  },
  "kernelspec": {
   "display_name": "Python 3",
   "language": "python",
   "name": "python3"
  },
  "language_info": {
   "codemirror_mode": {
    "name": "ipython",
    "version": 3
   },
   "file_extension": ".py",
   "mimetype": "text/x-python",
   "name": "python",
   "nbconvert_exporter": "python",
   "pygments_lexer": "ipython3",
   "version": "3.12.7"
  },
  "papermill": {
   "default_parameters": {},
   "duration": 955.287522,
   "end_time": "2024-09-04T13:26:56.570471",
   "environment_variables": {},
   "exception": null,
   "input_path": "__notebook__.ipynb",
   "output_path": "__notebook__.ipynb",
   "parameters": {},
   "start_time": "2024-09-04T13:11:01.282949",
   "version": "2.6.0"
  }
 },
 "nbformat": 4,
 "nbformat_minor": 5
}
